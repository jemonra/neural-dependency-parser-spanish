{
 "cells": [
  {
   "cell_type": "markdown",
   "metadata": {
    "id": "BHieaDgOHXFs"
   },
   "source": [
    "# Neural Transition-Based Parsing for Unlabeled Dependency Grammars in Spanish using the Arc-Eager Parsing Algorithm"
   ]
  },
  {
   "cell_type": "markdown",
   "metadata": {
    "id": "I9-3NRFQF61t"
   },
   "source": [
    "Natural Language Processing, University of Padua, 2022-23.\n",
    "\n",
    "Jesús Moncada Ramírez (2075280)."
   ]
  },
  {
   "cell_type": "markdown",
   "metadata": {
    "id": "-d_FDYUXD5Vu"
   },
   "source": [
    "## 1. Introduction"
   ]
  },
  {
   "cell_type": "markdown",
   "metadata": {
    "id": "uh7wn880EcPL"
   },
   "source": [
    "This project aims to use a **neural transition-based parser** to analyze unlabelled dependencies through dependency parsing.\n",
    "Specifically, we will explore the **arc-eager** parsing algorithm and its implementation using a static oracle.\n",
    "We have developed **two neural models**: (1) a baseline model utilizing a Bi-LSTM and (2) a more advanced model based on BERT.\n",
    "To train these models we have used a dependency treebank from the Universal Dependency project **in Spanish**, called [es/ancora](https://huggingface.co/datasets/PlanTL-GOB-ES/UD_Spanish-AnCora).\n",
    "\n",
    "Through this research, we aim to improve our understanding of dependency parsing and contribute to the advancement of Natural Language Processing techniques."
   ]
  },
  {
   "cell_type": "markdown",
   "metadata": {
    "id": "-HHWDGc7SFvs"
   },
   "source": [
    "First of all, let's install and import some libraries."
   ]
  },
  {
   "cell_type": "code",
   "execution_count": 1,
   "metadata": {
    "colab": {
     "base_uri": "https://localhost:8080/"
    },
    "executionInfo": {
     "elapsed": 28144,
     "status": "ok",
     "timestamp": 1687554427469,
     "user": {
      "displayName": "Jesús Moncada Ramírez",
      "userId": "03809042163319486653"
     },
     "user_tz": -120
    },
    "id": "cI5JVkrnXu83",
    "outputId": "8f84f819-d880-4af7-9afd-1f1342e33753"
   },
   "outputs": [
    {
     "name": "stdout",
     "output_type": "stream",
     "text": [
      "Looking in indexes: https://pypi.org/simple, https://us-python.pkg.dev/colab-wheels/public/simple/\n",
      "Requirement already satisfied: transformers in /usr/local/lib/python3.10/dist-packages (4.30.2)\n",
      "Requirement already satisfied: filelock in /usr/local/lib/python3.10/dist-packages (from transformers) (3.12.2)\n",
      "Requirement already satisfied: huggingface-hub<1.0,>=0.14.1 in /usr/local/lib/python3.10/dist-packages (from transformers) (0.15.1)\n",
      "Requirement already satisfied: numpy>=1.17 in /usr/local/lib/python3.10/dist-packages (from transformers) (1.22.4)\n",
      "Requirement already satisfied: packaging>=20.0 in /usr/local/lib/python3.10/dist-packages (from transformers) (23.1)\n",
      "Requirement already satisfied: pyyaml>=5.1 in /usr/local/lib/python3.10/dist-packages (from transformers) (6.0)\n",
      "Requirement already satisfied: regex!=2019.12.17 in /usr/local/lib/python3.10/dist-packages (from transformers) (2022.10.31)\n",
      "Requirement already satisfied: requests in /usr/local/lib/python3.10/dist-packages (from transformers) (2.27.1)\n",
      "Requirement already satisfied: tokenizers!=0.11.3,<0.14,>=0.11.1 in /usr/local/lib/python3.10/dist-packages (from transformers) (0.13.3)\n",
      "Requirement already satisfied: safetensors>=0.3.1 in /usr/local/lib/python3.10/dist-packages (from transformers) (0.3.1)\n",
      "Requirement already satisfied: tqdm>=4.27 in /usr/local/lib/python3.10/dist-packages (from transformers) (4.65.0)\n",
      "Requirement already satisfied: fsspec in /usr/local/lib/python3.10/dist-packages (from huggingface-hub<1.0,>=0.14.1->transformers) (2023.6.0)\n",
      "Requirement already satisfied: typing-extensions>=3.7.4.3 in /usr/local/lib/python3.10/dist-packages (from huggingface-hub<1.0,>=0.14.1->transformers) (4.6.3)\n",
      "Requirement already satisfied: urllib3<1.27,>=1.21.1 in /usr/local/lib/python3.10/dist-packages (from requests->transformers) (1.26.16)\n",
      "Requirement already satisfied: certifi>=2017.4.17 in /usr/local/lib/python3.10/dist-packages (from requests->transformers) (2023.5.7)\n",
      "Requirement already satisfied: charset-normalizer~=2.0.0 in /usr/local/lib/python3.10/dist-packages (from requests->transformers) (2.0.12)\n",
      "Requirement already satisfied: idna<4,>=2.5 in /usr/local/lib/python3.10/dist-packages (from requests->transformers) (3.4)\n",
      "Looking in indexes: https://pypi.org/simple, https://us-python.pkg.dev/colab-wheels/public/simple/\n",
      "Requirement already satisfied: datasets in /usr/local/lib/python3.10/dist-packages (2.13.1)\n",
      "Requirement already satisfied: numpy>=1.17 in /usr/local/lib/python3.10/dist-packages (from datasets) (1.22.4)\n",
      "Requirement already satisfied: pyarrow>=8.0.0 in /usr/local/lib/python3.10/dist-packages (from datasets) (9.0.0)\n",
      "Requirement already satisfied: dill<0.3.7,>=0.3.0 in /usr/local/lib/python3.10/dist-packages (from datasets) (0.3.6)\n",
      "Requirement already satisfied: pandas in /usr/local/lib/python3.10/dist-packages (from datasets) (1.5.3)\n",
      "Requirement already satisfied: requests>=2.19.0 in /usr/local/lib/python3.10/dist-packages (from datasets) (2.27.1)\n",
      "Requirement already satisfied: tqdm>=4.62.1 in /usr/local/lib/python3.10/dist-packages (from datasets) (4.65.0)\n",
      "Requirement already satisfied: xxhash in /usr/local/lib/python3.10/dist-packages (from datasets) (3.2.0)\n",
      "Requirement already satisfied: multiprocess in /usr/local/lib/python3.10/dist-packages (from datasets) (0.70.14)\n",
      "Requirement already satisfied: fsspec[http]>=2021.11.1 in /usr/local/lib/python3.10/dist-packages (from datasets) (2023.6.0)\n",
      "Requirement already satisfied: aiohttp in /usr/local/lib/python3.10/dist-packages (from datasets) (3.8.4)\n",
      "Requirement already satisfied: huggingface-hub<1.0.0,>=0.11.0 in /usr/local/lib/python3.10/dist-packages (from datasets) (0.15.1)\n",
      "Requirement already satisfied: packaging in /usr/local/lib/python3.10/dist-packages (from datasets) (23.1)\n",
      "Requirement already satisfied: pyyaml>=5.1 in /usr/local/lib/python3.10/dist-packages (from datasets) (6.0)\n",
      "Requirement already satisfied: attrs>=17.3.0 in /usr/local/lib/python3.10/dist-packages (from aiohttp->datasets) (23.1.0)\n",
      "Requirement already satisfied: charset-normalizer<4.0,>=2.0 in /usr/local/lib/python3.10/dist-packages (from aiohttp->datasets) (2.0.12)\n",
      "Requirement already satisfied: multidict<7.0,>=4.5 in /usr/local/lib/python3.10/dist-packages (from aiohttp->datasets) (6.0.4)\n",
      "Requirement already satisfied: async-timeout<5.0,>=4.0.0a3 in /usr/local/lib/python3.10/dist-packages (from aiohttp->datasets) (4.0.2)\n",
      "Requirement already satisfied: yarl<2.0,>=1.0 in /usr/local/lib/python3.10/dist-packages (from aiohttp->datasets) (1.9.2)\n",
      "Requirement already satisfied: frozenlist>=1.1.1 in /usr/local/lib/python3.10/dist-packages (from aiohttp->datasets) (1.3.3)\n",
      "Requirement already satisfied: aiosignal>=1.1.2 in /usr/local/lib/python3.10/dist-packages (from aiohttp->datasets) (1.3.1)\n",
      "Requirement already satisfied: filelock in /usr/local/lib/python3.10/dist-packages (from huggingface-hub<1.0.0,>=0.11.0->datasets) (3.12.2)\n",
      "Requirement already satisfied: typing-extensions>=3.7.4.3 in /usr/local/lib/python3.10/dist-packages (from huggingface-hub<1.0.0,>=0.11.0->datasets) (4.6.3)\n",
      "Requirement already satisfied: urllib3<1.27,>=1.21.1 in /usr/local/lib/python3.10/dist-packages (from requests>=2.19.0->datasets) (1.26.16)\n",
      "Requirement already satisfied: certifi>=2017.4.17 in /usr/local/lib/python3.10/dist-packages (from requests>=2.19.0->datasets) (2023.5.7)\n",
      "Requirement already satisfied: idna<4,>=2.5 in /usr/local/lib/python3.10/dist-packages (from requests>=2.19.0->datasets) (3.4)\n",
      "Requirement already satisfied: python-dateutil>=2.8.1 in /usr/local/lib/python3.10/dist-packages (from pandas->datasets) (2.8.2)\n",
      "Requirement already satisfied: pytz>=2020.1 in /usr/local/lib/python3.10/dist-packages (from pandas->datasets) (2022.7.1)\n",
      "Requirement already satisfied: six>=1.5 in /usr/local/lib/python3.10/dist-packages (from python-dateutil>=2.8.1->pandas->datasets) (1.16.0)\n",
      "Looking in indexes: https://pypi.org/simple, https://us-python.pkg.dev/colab-wheels/public/simple/\n",
      "Requirement already satisfied: conllu in /usr/local/lib/python3.10/dist-packages (4.5.3)\n"
     ]
    }
   ],
   "source": [
    "# INSTALL SECTION\n",
    "!pip install transformers # huggingface library for bert and bert tokenizers\n",
    "!pip install datasets     # huggingface library for datasets\n",
    "!pip install conllu       # aux library for processing CoNLL-U format"
   ]
  },
  {
   "cell_type": "code",
   "execution_count": 2,
   "metadata": {
    "executionInfo": {
     "elapsed": 5956,
     "status": "ok",
     "timestamp": 1687554433422,
     "user": {
      "displayName": "Jesús Moncada Ramírez",
      "userId": "03809042163319486653"
     },
     "user_tz": -120
    },
    "id": "hVCXNVd3GUur"
   },
   "outputs": [],
   "source": [
    "# IMPORT SECTION\n",
    "import os\n",
    "\n",
    "import numpy as np\n",
    "\n",
    "from functools import partial\n",
    "\n",
    "import torch\n",
    "import torch.nn as nn\n",
    "\n",
    "from datasets import load_dataset\n",
    "\n",
    "import matplotlib.pyplot as plt\n",
    "\n",
    "from tabulate import tabulate\n",
    "\n",
    "from tqdm.notebook import tqdm\n",
    "\n",
    "from transformers import BertModel, BertTokenizer, BertForMaskedLM\n",
    "\n",
    "import pickle"
   ]
  },
  {
   "cell_type": "markdown",
   "metadata": {
    "id": "m0pDrmlDrgko"
   },
   "source": [
    "We will also mount this Notebook in Google Drive to save/load our trained models. Comment the following cell if not running on Google Colab."
   ]
  },
  {
   "cell_type": "code",
   "execution_count": 3,
   "metadata": {
    "colab": {
     "base_uri": "https://localhost:8080/"
    },
    "executionInfo": {
     "elapsed": 3176,
     "status": "ok",
     "timestamp": 1687554436591,
     "user": {
      "displayName": "Jesús Moncada Ramírez",
      "userId": "03809042163319486653"
     },
     "user_tz": -120
    },
    "id": "WMF-mHBcrlnz",
    "outputId": "d85698c1-743e-438e-d8e0-3a74d93e9993"
   },
   "outputs": [
    {
     "name": "stdout",
     "output_type": "stream",
     "text": [
      "Drive already mounted at /content/drive; to attempt to forcibly remount, call drive.mount(\"/content/drive\", force_remount=True).\n"
     ]
    }
   ],
   "source": [
    "# IMPORTANT: comment if not running on Google Colab.\n",
    "from google.colab import drive\n",
    "drive_path = '/content/drive'\n",
    "drive.mount(drive_path)"
   ]
  },
  {
   "cell_type": "markdown",
   "metadata": {
    "id": "3Her3fOaEKMk"
   },
   "source": [
    "## 2. Dataset analysis"
   ]
  },
  {
   "cell_type": "markdown",
   "metadata": {
    "id": "VmoSsACEStW0"
   },
   "source": [
    "As specified in the project statement the dataset is a dependency treebank from the Universal Dependency project. We will manage it using the Hugging Face ``datasets`` library. Specifically, we will use the ``es_ancora`` subset, whose language is Spanish. More information [here](https://huggingface.co/datasets/universal_dependencies/viewer/es_ancora/train)."
   ]
  },
  {
   "cell_type": "code",
   "execution_count": 4,
   "metadata": {
    "colab": {
     "base_uri": "https://localhost:8080/",
     "height": 86,
     "referenced_widgets": [
      "62ccbe53befb46109468790505d3e29c",
      "0d8f1faf48584e5cb21d2c332eae82b6",
      "84ff0384d2ad46a3918faf09156bfb9e",
      "19d868a78f6c4fa9ba820fa95cebb364",
      "1a1affbf2eb440308124ebf50b03db73",
      "418de9de2dab412f8c74d2c6b26ba14c",
      "41fe42de38ba410c875130a114fc3389",
      "abd785d8792a4b4cb3925bb2f9e9ffcc",
      "73f124725758404fa4d8caf2a6b68e6f",
      "75f3d5742cf5456c9c1717d82873234d",
      "63dd55a4f6204c9da5e7acbd67811618"
     ]
    },
    "executionInfo": {
     "elapsed": 3789,
     "status": "ok",
     "timestamp": 1687554440379,
     "user": {
      "displayName": "Jesús Moncada Ramírez",
      "userId": "03809042163319486653"
     },
     "user_tz": -120
    },
    "id": "-H0LjiMmXR5c",
    "outputId": "9e962762-69f3-43f9-a997-31f2ecf1ce2c"
   },
   "outputs": [
    {
     "name": "stderr",
     "output_type": "stream",
     "text": [
      "WARNING:datasets.builder:Found cached dataset universal_dependencies (/root/.cache/huggingface/datasets/universal_dependencies/es_ancora/2.7.0/1ac001f0e8a0021f19388e810c94599f3ac13cc45d6b5b8c69f7847b2188bdf7)\n"
     ]
    },
    {
     "data": {
      "application/vnd.jupyter.widget-view+json": {
       "model_id": "62ccbe53befb46109468790505d3e29c",
       "version_major": 2,
       "version_minor": 0
      },
      "text/plain": [
       "  0%|          | 0/3 [00:00<?, ?it/s]"
      ]
     },
     "metadata": {},
     "output_type": "display_data"
    }
   ],
   "source": [
    "dataset_ori = load_dataset('universal_dependencies', 'es_ancora')"
   ]
  },
  {
   "cell_type": "markdown",
   "metadata": {
    "id": "IFxLua_SYcOd"
   },
   "source": [
    "Let's print some information about the dataset. For every split (train, validation, and test) we will plot the sentence length distribution. Furthermore, we will present some metrics such as the number of samples, and the maximum, minimum, and mean sentence length."
   ]
  },
  {
   "cell_type": "code",
   "execution_count": 5,
   "metadata": {
    "colab": {
     "base_uri": "https://localhost:8080/",
     "height": 476
    },
    "executionInfo": {
     "elapsed": 13181,
     "status": "ok",
     "timestamp": 1687554453550,
     "user": {
      "displayName": "Jesús Moncada Ramírez",
      "userId": "03809042163319486653"
     },
     "user_tz": -120
    },
    "id": "FJdek84DYe0S",
    "outputId": "8ce57032-c4c3-484b-e103-998b1073fbd0"
   },
   "outputs": [
    {
     "name": "stdout",
     "output_type": "stream",
     "text": [
      "╒══════════════════════╤═════════╤══════════════╤═════════╕\n",
      "│ Measure              │   train │   validation │    test │\n",
      "╞══════════════════════╪═════════╪══════════════╪═════════╡\n",
      "│ Number of instances  │   14305 │         1654 │    1721 │\n",
      "├──────────────────────┼─────────┼──────────────┼─────────┤\n",
      "│ Sentence length mean │  31.188 │      31.7479 │ 30.6804 │\n",
      "├──────────────────────┼─────────┼──────────────┼─────────┤\n",
      "│ Sentence length max  │     150 │          115 │     133 │\n",
      "├──────────────────────┼─────────┼──────────────┼─────────┤\n",
      "│ Sentence length min  │       1 │            2 │       2 │\n",
      "╘══════════════════════╧═════════╧══════════════╧═════════╛\n"
     ]
    },
    {
     "data": {
      "image/png": "[encoded data removed]",
      "text/plain": [
       "<Figure size 1500x500 with 3 Axes>"
      ]
     },
     "metadata": {},
     "output_type": "display_data"
    }
   ],
   "source": [
    "def dataset_statistics_by_splits(splits, dataset, show_plot=False):\n",
    "\n",
    "  if show_plot:\n",
    "    fig, axs = plt.subplots(1, 3, figsize=(15, 5))  # 1 row, 3 columns\n",
    "\n",
    "  row_headers = ['Measure'] + splits\n",
    "  row_number = ['Number of instances']\n",
    "  row_mean = ['Sentence length mean']\n",
    "  row_max = ['Sentence length max']\n",
    "  row_min = ['Sentence length min']\n",
    "\n",
    "  for i, split_name in enumerate(splits):\n",
    "    split_data = dataset[split_name]\n",
    "\n",
    "    # Basic info\n",
    "    row_number.append(len(split_data))\n",
    "\n",
    "    # Sentence length distribution\n",
    "    sentence_lengths = [len(example['tokens']) for example in split_data]\n",
    "\n",
    "    # Sentence length mean, max, min\n",
    "    row_mean.append(np.mean(sentence_lengths))\n",
    "    row_max.append(np.max(sentence_lengths))\n",
    "    row_min.append(np.min(sentence_lengths))\n",
    "\n",
    "    # Show sentence length distribution chart\n",
    "    if show_plot:\n",
    "      axs[i].hist(sentence_lengths, bins=min(50, len(sentence_lengths)))\n",
    "      axs[i].set_title(f'{split_name.upper()} split')\n",
    "      axs[i].set_xlabel('Sentence length')\n",
    "      axs[i].set_ylabel('Frequency')\n",
    "\n",
    "  # Show tab\n",
    "  tab_data = [row_number, row_mean, row_max, row_min]\n",
    "  print(tabulate(tab_data, row_headers, tablefmt=\"fancy_grid\", numalign=\"right\"))\n",
    "\n",
    "  # Show sentence length distribution chart\n",
    "  if show_plot:\n",
    "    fig.suptitle('Sentence Length Distribution for each Split')\n",
    "    plt.tight_layout()\n",
    "    plt.show()\n",
    "\n",
    "# Print statistics\n",
    "dataset_statistics_by_splits(['train', 'validation', 'test'], dataset_ori, show_plot=True)"
   ]
  },
  {
   "cell_type": "markdown",
   "metadata": {
    "id": "CXGe-7-UVEHT"
   },
   "source": [
    "Based on our observations, the average sentence length is approximately 30 words. However, there are also some exceptionally long sentences present. Initially, in the project's early stages, we implemented pre-processing measures to remove these lengthy sentences. Nevertheless, we later recognized that they did not pose any issues during training. As a result, we made the decision to retain them."
   ]
  },
  {
   "cell_type": "markdown",
   "metadata": {
    "id": "sNPCUzrPD_lj"
   },
   "source": [
    "## 3. Data set-up"
   ]
  },
  {
   "cell_type": "markdown",
   "metadata": {
    "id": "HcU4x7iTcKph"
   },
   "source": [
    "Once our treebank is functioning correctly, we can proceed to prepare the training, validation and test data for our models. To put it simply, we have obtained numerous dependency trees in Spanish, and now we need to organize this data in a suitable format for a transition-based dependency parser neural network. For this:\n",
    "1. We create a class called ``ArcEager`` to represent the arc-eager parser and another class called ``Oracle`` for the static oracle.\n",
    "2. We perform some data preprocessing steps, such as removing non-projective trees.\n",
    "3. We prepare the dataloaders to be used for training, evaluation, and testing."
   ]
  },
  {
   "cell_type": "markdown",
   "metadata": {
    "id": "8qEL2tHKbOKx"
   },
   "source": [
    "### 3.1. Parser"
   ]
  },
  {
   "cell_type": "markdown",
   "metadata": {
    "id": "4QfJEiWLxPAr"
   },
   "source": [
    "The arc-eager parser and oracle have been taken from the paper [A Dynamic Oracle for Arc-Eager Dependency Parsing](https://aclanthology.org/C12-1059/) from Yoav Goldberg and Joakim Nivre."
   ]
  },
  {
   "cell_type": "markdown",
   "metadata": {
    "id": "EZmLN3lnK84z"
   },
   "source": [
    "In the arc-eager parser, each configuration is a triple of the form $(\\sigma, \\beta, A)$. In our ``ArcEager`` Python class, a configuration is represented by the instance variables ``(stack, buffer, arcs)``.\n",
    "\n",
    "The Arc-Eager parser can perform three types of **actions** (transitions):\n",
    "\n",
    "* _LEFT-ARC_: $(\\sigma i, j \\beta, A) ⇒ (\\sigma, j \\beta, A \\cup(j→i))$. This is, add the arc $(j→i) = (\\beta_1→\\sigma_1)$ and pop the stack ($i = \\sigma_1$).\n",
    "\n",
    "* _RIGHT-ARC_: $(\\sigma i, j \\beta, A) ⇒ (\\sigma i j, \\beta, A \\cup(i→j))$. This is, add the arc $(i→j) = (\\sigma_1→\\beta_1)$ and push the first element of the buffer ($j = \\beta_1$) onto the stack.\n",
    "\n",
    "* _SHIFT_: $(\\sigma, i \\beta, A) ⇒ (\\sigma i , \\beta, A)$. This is, remove the first element of the buffer ($i = \\beta_1$) and push it onto the stack.\n",
    "\n",
    "* _REDUCE_: $(\\sigma i, \\beta, A) ⇒ (\\sigma, \\beta, A)$. This is, pop the top-most element from the stack ($i = \\sigma_1$).\n",
    "\n",
    "Let $w = w_0 w_1 \\cdots w_{n}$ be the input sentence, with $w_0$ the special symbol `<ROOT>`.\n",
    "\n",
    "Stack and buffer are implemented as lists of integers, where `j` represents the word $w_j$. Top-most stack token is at the right end of the list; first buffer token is at the left end of the list.\n",
    "\n",
    "Set $A$ is implemented as an array `arcs` of size $n+1$ such that if arc $(w_i \\rightarrow w_j)$ is in $A$ then `arcs[j]=i`, and if $w_j$ is still missing its head node in the tree under construction, then `arcs[j]=-1`. We always have `arcs[0]=-1`."
   ]
  },
  {
   "cell_type": "code",
   "execution_count": 6,
   "metadata": {
    "executionInfo": {
     "elapsed": 9,
     "status": "ok",
     "timestamp": 1687554453550,
     "user": {
      "displayName": "Jesús Moncada Ramírez",
      "userId": "03809042163319486653"
     },
     "user_tz": -120
    },
    "id": "dgxbM-geGqUC"
   },
   "outputs": [],
   "source": [
    "class ArcEager:\n",
    "  def __init__(self, sentence):\n",
    "    self.sentence = sentence\n",
    "    self.buffer = [i for i in range(len(self.sentence))]\n",
    "    self.stack = []\n",
    "    self.arcs = [-1 for _ in range(len(self.sentence))]\n",
    "\n",
    "    # Initial configuration: [0] [1 ... n] (<ROOT> in the stack)\n",
    "    self.shift()\n",
    "\n",
    "  def shift(self):\n",
    "    # pop buffer\n",
    "    b1 = self.buffer[0]\n",
    "    self.buffer = self.buffer[1:]\n",
    "\n",
    "    # push stack\n",
    "    self.stack.append(b1)\n",
    "\n",
    "  def reduce(self):\n",
    "    # pop stack\n",
    "    self.stack.pop()\n",
    "\n",
    "  def left_arc(self):\n",
    "    # pop stack\n",
    "    o1 = self.stack.pop()\n",
    "\n",
    "    # top buffer\n",
    "    b1 = self.buffer[0]\n",
    "\n",
    "    # arc\n",
    "    self.arcs[o1] = b1\n",
    "\n",
    "  def right_arc(self):\n",
    "    # top stack\n",
    "    o1 = self.stack[len(self.stack)-1]\n",
    "\n",
    "    # pop buffer\n",
    "    b1 = self.buffer[0]\n",
    "    self.buffer = self.buffer[1:]\n",
    "\n",
    "    # push stack\n",
    "    self.stack.append(b1)\n",
    "\n",
    "    # arc\n",
    "    self.arcs[b1] = o1\n",
    "\n",
    "  def is_tree_final(self):\n",
    "    # Terminal configuration: [...] [] (buffer empty)\n",
    "    return len(self.buffer) == 0\n",
    "\n",
    "  def get_5_configuration(self):\n",
    "    \"\"\"\n",
    "    Returns a parser configuration with only 5 tokens, the 3 top-most\n",
    "    stack elements and the first 2 buffer elements. (o3, o2, o1, b1, b2)\n",
    "\n",
    "    If some of the previous element is not present, it will be -1.\n",
    "    \"\"\"\n",
    "    if self.is_tree_final():\n",
    "      return [-1, -1, -1, -1, -1]\n",
    "\n",
    "    configuration = []\n",
    "    # Append THREE top-most stack elements\n",
    "    if len(self.stack) >= 3:\n",
    "      configuration.append(self.stack[-3])\n",
    "      configuration.append(self.stack[-2])\n",
    "      configuration.append(self.stack[-1])\n",
    "    elif len(self.stack) >= 2:\n",
    "      configuration.append(-1)\n",
    "      configuration.append(self.stack[-2])\n",
    "      configuration.append(self.stack[-1])\n",
    "    elif len(self.stack) == 1:\n",
    "      configuration.append(-1)\n",
    "      configuration.append(-1)\n",
    "      configuration.append(self.stack[-1])\n",
    "    else:\n",
    "      configuration.append(-1)\n",
    "      configuration.append(-1)\n",
    "      configuration.append(-1)\n",
    "    # Append frist TWO buffer element\n",
    "    if len(self.buffer) >= 2:\n",
    "      configuration.append(self.buffer[0])\n",
    "      configuration.append(self.buffer[1])\n",
    "    elif len(self.buffer) == 1:\n",
    "      configuration.append(self.buffer[0])\n",
    "      configuration.append(-1)\n",
    "    else:\n",
    "      configuration.append(-1)\n",
    "      configuration.append(-1)\n",
    "\n",
    "    return configuration\n",
    "\n",
    "  def print_configuration(self):\n",
    "    s = [self.sentence[i] for i in self.stack]\n",
    "    b = [self.sentence[i] for i in self.buffer]\n",
    "    print(s, b)\n",
    "    print(self.arcs)"
   ]
  },
  {
   "cell_type": "markdown",
   "metadata": {
    "id": "4qhacLQooRxf"
   },
   "source": [
    "Let's test the parser class."
   ]
  },
  {
   "cell_type": "code",
   "execution_count": 7,
   "metadata": {
    "colab": {
     "base_uri": "https://localhost:8080/"
    },
    "executionInfo": {
     "elapsed": 7,
     "status": "ok",
     "timestamp": 1687554453550,
     "user": {
      "displayName": "Jesús Moncada Ramírez",
      "userId": "03809042163319486653"
     },
     "user_tz": -120
    },
    "id": "N33EyAFtXelO",
    "outputId": "64f39808-a32e-4894-e163-90791bf24962"
   },
   "outputs": [
    {
     "name": "stdout",
     "output_type": "stream",
     "text": [
      "['<ROOT>'] ['He', 'wrote', 'her', 'a', 'letter', '.']\n",
      "[-1, -1, -1, -1, -1, -1, -1]\n"
     ]
    }
   ],
   "source": [
    "sentence = [\"<ROOT>\", \"He\", \"wrote\", \"her\", \"a\", \"letter\", \".\"]\n",
    "gold = [-1, 2, 0, 2, 5, 2, 2]\n",
    "\n",
    "parser = ArcEager(sentence)\n",
    "parser.print_configuration()"
   ]
  },
  {
   "cell_type": "markdown",
   "metadata": {
    "id": "f6JutJinyPNN"
   },
   "source": [
    "### 3.2. Oracle"
   ]
  },
  {
   "cell_type": "markdown",
   "metadata": {
    "id": "4c2err4abfu3"
   },
   "source": [
    "Transition-based parsing involves breaking down the parsing process into a series of transitions, which are selected by an oracle.\n",
    "The oracle receives a parser configuration as input and determines the appropriate transition operator to apply.\n",
    "In order to address spurious ambiguity, we assign preference to certain actions, resulting in canonical sequences. Within the arc-eager system, the only ambiguity present is the *SHIFT-REDUCE* ambiguity, which we resolve by giving preference to the *SHIFT* operation."
   ]
  },
  {
   "cell_type": "code",
   "execution_count": 8,
   "metadata": {
    "executionInfo": {
     "elapsed": 4,
     "status": "ok",
     "timestamp": 1687554453550,
     "user": {
      "displayName": "Jesús Moncada Ramírez",
      "userId": "03809042163319486653"
     },
     "user_tz": -120
    },
    "id": "iY7LEFyJbkGd"
   },
   "outputs": [],
   "source": [
    "class Oracle:\n",
    "  def __init__(self, parser, gold_tree):\n",
    "    self.parser = parser\n",
    "    self.gold = gold_tree\n",
    "\n",
    "  def is_left_arc_gold(self):\n",
    "    # buffer empty -> FALSE\n",
    "    if len(self.parser.buffer) == 0:\n",
    "      return False\n",
    "    # stack empty -> FALSE\n",
    "    if len(self.parser.stack) == 0:\n",
    "      return False\n",
    "\n",
    "    o1 = self.parser.stack[len(self.parser.stack)-1]\n",
    "    b1 = self.parser.buffer[0]\n",
    "\n",
    "    # Not in gold tree -> FALSE\n",
    "    if self.gold[o1] != b1:\n",
    "      return False\n",
    "\n",
    "    # (from preconditions) o1 = <ROOT> -> FALSE\n",
    "    if o1 == 0:\n",
    "      return False\n",
    "\n",
    "    # (from preconditions) o1 has already a head -> FALSE\n",
    "    if self.parser.arcs[o1] != -1:\n",
    "      return False\n",
    "\n",
    "    return True\n",
    "\n",
    "  def is_right_arc_gold(self):\n",
    "    # preference\n",
    "    if self.is_left_arc_gold():\n",
    "      return False\n",
    "\n",
    "    # buffer empty -> FALSE\n",
    "    if len(self.parser.buffer) == 0:\n",
    "      return False\n",
    "    # stack empty -> FALSE\n",
    "    if len(self.parser.stack) == 0:\n",
    "      return False\n",
    "\n",
    "    o1 = self.parser.stack[len(self.parser.stack)-1]\n",
    "    b1 = self.parser.buffer[0]\n",
    "\n",
    "    # Not in gold tree -> FALSE\n",
    "    if self.gold[b1] != o1:\n",
    "      return False\n",
    "\n",
    "    return True\n",
    "\n",
    "  def is_reduce_gold(self):\n",
    "    # preference\n",
    "    if self.is_left_arc_gold() or self.is_right_arc_gold():\n",
    "      return False\n",
    "\n",
    "    # buffer empty -> FALSE\n",
    "    if len(self.parser.buffer) == 0:\n",
    "      return False\n",
    "    # stack empty -> FALSE\n",
    "    if len(self.parser.stack) == 0:\n",
    "      return False\n",
    "\n",
    "    o1 = self.parser.stack[len(self.parser.stack)-1]\n",
    "    b1 = self.parser.buffer[0]\n",
    "\n",
    "    # (from preconditions) o1 does not have a head -> FALSE\n",
    "    if self.parser.arcs[o1] == -1:\n",
    "      return False\n",
    "\n",
    "    # (from algorithm)\n",
    "    for oi in self.parser.stack:\n",
    "      if oi < o1 and (self.gold[b1] == oi or self.gold[oi] == b1):\n",
    "        return True\n",
    "\n",
    "    return False\n",
    "\n",
    "  def is_shift_gold(self):\n",
    "    # preference\n",
    "    if self.is_left_arc_gold() or self.is_right_arc_gold() or self.is_reduce_gold():\n",
    "      return False\n",
    "\n",
    "    # buffer empty -> FALSE\n",
    "    if len(self.parser.buffer) == 0:\n",
    "      return False\n",
    "\n",
    "    return True\n",
    "\n",
    "  def print_options(self):\n",
    "    print(\"LA={0}; RA={1}; RE={2}; SH={3}\".format(int(self.is_left_arc_gold()), int(self.is_right_arc_gold()), int(self.is_reduce_gold()), int(self.is_shift_gold())))"
   ]
  },
  {
   "cell_type": "markdown",
   "metadata": {
    "id": "EwVf1gzooWBd"
   },
   "source": [
    "Let's test the oracle class."
   ]
  },
  {
   "cell_type": "code",
   "execution_count": 9,
   "metadata": {
    "colab": {
     "base_uri": "https://localhost:8080/"
    },
    "executionInfo": {
     "elapsed": 4,
     "status": "ok",
     "timestamp": 1687554453550,
     "user": {
      "displayName": "Jesús Moncada Ramírez",
      "userId": "03809042163319486653"
     },
     "user_tz": -120
    },
    "id": "GVc_wqxA9dhB",
    "outputId": "4c486649-a54c-4fef-a068-e6ee2ff62431"
   },
   "outputs": [
    {
     "name": "stdout",
     "output_type": "stream",
     "text": [
      "['<ROOT>'] ['He', 'began', 'to', 'write', 'again', '.']\n",
      "[-1, -1, -1, -1, -1, -1, -1]\n",
      "LA=0; RA=0; RE=0; SH=1\n",
      "LA=1; RA=0; RE=0; SH=0\n",
      "LA=0; RA=1; RE=0; SH=0\n",
      "LA=0; RA=0; RE=0; SH=1\n",
      "LA=1; RA=0; RE=0; SH=0\n",
      "LA=0; RA=1; RE=0; SH=0\n",
      "LA=0; RA=1; RE=0; SH=0\n",
      "LA=0; RA=0; RE=1; SH=0\n",
      "LA=0; RA=0; RE=1; SH=0\n",
      "LA=0; RA=1; RE=0; SH=0\n",
      "[-1, 2, 0, 4, 2, 4, 2]\n",
      "[-1, 2, 0, 4, 2, 4, 2]\n"
     ]
    }
   ],
   "source": [
    "sentence = [\"<ROOT>\", \"He\", \"began\", \"to\", \"write\", \"again\", \".\"]\n",
    "gold = [-1, 2, 0, 4, 2, 4, 2 ]\n",
    "\n",
    "parser = ArcEager(sentence)\n",
    "oracle = Oracle(parser, gold)\n",
    "\n",
    "parser.print_configuration()\n",
    "\n",
    "while not parser.is_tree_final():\n",
    "  oracle.print_options()\n",
    "  if oracle.is_left_arc_gold():\n",
    "    parser.left_arc()\n",
    "  elif oracle.is_right_arc_gold():\n",
    "    parser.right_arc()\n",
    "  elif oracle.is_reduce_gold():\n",
    "    parser.reduce()\n",
    "  elif oracle.is_shift_gold():\n",
    "    parser.shift()\n",
    "  else:\n",
    "    print('[ERROR] Any operation available.')\n",
    "\n",
    "print(parser.arcs)\n",
    "print(gold)"
   ]
  },
  {
   "cell_type": "markdown",
   "metadata": {
    "id": "yk3Afzfnhlb_"
   },
   "source": [
    "### 3.3. Dataset preprocessing"
   ]
  },
  {
   "cell_type": "markdown",
   "metadata": {
    "id": "_XTzhvgRxfLU"
   },
   "source": [
    "As commented, we will perform a straightforward preprocessing step to our treebank, removing **non-projective** trees.\n",
    "\n",
    "In a dependency tree, an arc from a head to a dependent is considered projective if there exists a path from the head to every word located between them in the sentence.\n",
    "A dependency tree is deemed projective if all its arcs adhere to this projectivity property."
   ]
  },
  {
   "cell_type": "code",
   "execution_count": 10,
   "metadata": {
    "colab": {
     "base_uri": "https://localhost:8080/",
     "height": 295,
     "referenced_widgets": [
      "58db7542d2fb498b8ab35e006229ec4f",
      "94d94c333e3349c1ba4cb1e008206005",
      "4337abe3e0f6408b90f2b8c413d515cc",
      "8afd49af089a47bf89fdaab8a265abc5",
      "fe23e6a5d19a4c9bb0767dc3c4454d6f",
      "b8f9727d127f407eae04b63932b6019d",
      "b6416911a4234fbc830be3a510b01e1e",
      "21f252677d33420a820ba03ec49ee6eb",
      "7ecc435bc0f04b708c30557d18d401b6",
      "248b9a92da8741a4ad6af88b8d1db9dc",
      "63106f4ab04541188eb02bb686ecd077"
     ]
    },
    "executionInfo": {
     "elapsed": 20389,
     "status": "ok",
     "timestamp": 1687554473937,
     "user": {
      "displayName": "Jesús Moncada Ramírez",
      "userId": "03809042163319486653"
     },
     "user_tz": -120
    },
    "id": "vnJRs6dZyaU-",
    "outputId": "fe25688c-e7d3-446c-a5ca-18f79ec2e07b"
   },
   "outputs": [
    {
     "name": "stderr",
     "output_type": "stream",
     "text": [
      "WARNING:datasets.builder:Found cached dataset universal_dependencies (/root/.cache/huggingface/datasets/universal_dependencies/es_ancora/2.7.0/1ac001f0e8a0021f19388e810c94599f3ac13cc45d6b5b8c69f7847b2188bdf7)\n"
     ]
    },
    {
     "data": {
      "application/vnd.jupyter.widget-view+json": {
       "model_id": "58db7542d2fb498b8ab35e006229ec4f",
       "version_major": 2,
       "version_minor": 0
      },
      "text/plain": [
       "  0%|          | 0/3 [00:00<?, ?it/s]"
      ]
     },
     "metadata": {},
     "output_type": "display_data"
    },
    {
     "name": "stderr",
     "output_type": "stream",
     "text": [
      "WARNING:datasets.arrow_dataset:Loading cached processed dataset at /root/.cache/huggingface/datasets/universal_dependencies/es_ancora/2.7.0/1ac001f0e8a0021f19388e810c94599f3ac13cc45d6b5b8c69f7847b2188bdf7/cache-ed623467434cab6f.arrow\n"
     ]
    },
    {
     "name": "stdout",
     "output_type": "stream",
     "text": [
      "╒══════════════════════╤═════════╤══════════════╤═════════╕\n",
      "│ Measure              │   train │   validation │    test │\n",
      "╞══════════════════════╪═════════╪══════════════╪═════════╡\n",
      "│ Number of instances  │   12321 │         1654 │    1721 │\n",
      "├──────────────────────┼─────────┼──────────────┼─────────┤\n",
      "│ Sentence length mean │ 29.8708 │      31.7479 │ 30.6804 │\n",
      "├──────────────────────┼─────────┼──────────────┼─────────┤\n",
      "│ Sentence length max  │     131 │          115 │     133 │\n",
      "├──────────────────────┼─────────┼──────────────┼─────────┤\n",
      "│ Sentence length min  │       1 │            2 │       2 │\n",
      "╘══════════════════════╧═════════╧══════════════╧═════════╛\n"
     ]
    }
   ],
   "source": [
    "# Processed dataset\n",
    "dataset_pro = load_dataset('universal_dependencies', 'es_ancora')\n",
    "\n",
    "def filter_projective_tree(example):\n",
    "\n",
    "  tree = [-1]\n",
    "  # IMPORTANT: We need this as we found entries with text 'None'\n",
    "  for head in example[\"head\"]:\n",
    "    if head == 'None':\n",
    "      tree.append(-1)\n",
    "    else:\n",
    "      tree.append(int(head))\n",
    "\n",
    "  for i in range(len(tree)):\n",
    "    if tree[i] == -1:\n",
    "      continue\n",
    "    left = min(i, tree[i])\n",
    "    right = max(i, tree[i])\n",
    "\n",
    "    for j in range(0, left):\n",
    "      if tree[j] > left and tree[j] < right:\n",
    "        return False\n",
    "    for j in range(left+1, right):\n",
    "      if tree[j] < left or tree[j] > right:\n",
    "        return False\n",
    "    for j in range(right+1, len(tree)):\n",
    "      if tree[j] > left and tree[j] < right:\n",
    "        return False\n",
    "\n",
    "  return True\n",
    "\n",
    "# Apply the filter (only to the training data)\n",
    "dataset_pro = {\n",
    "    'train': dataset_pro['train'].filter(filter_projective_tree),\n",
    "    'validation': dataset_pro['validation'],\n",
    "    'test': dataset_pro['test']}\n",
    "\n",
    "# Show some statistics\n",
    "dataset_statistics_by_splits(['train', 'validation', 'test'], dataset_pro)"
   ]
  },
  {
   "cell_type": "markdown",
   "metadata": {
    "id": "MLtjgHrc5lm1"
   },
   "source": [
    "### 3.4. Data set-up"
   ]
  },
  {
   "cell_type": "markdown",
   "metadata": {
    "id": "uhgN9ZXCzCPv"
   },
   "source": [
    "In this section, utilizing the processed dataset, we will generate the data that will be fed as input to our models. Subsequently, we will prepare the data and organize it into dataloaders for efficient handling during training or inference."
   ]
  },
  {
   "cell_type": "code",
   "execution_count": 11,
   "metadata": {
    "executionInfo": {
     "elapsed": 10,
     "status": "ok",
     "timestamp": 1687554473938,
     "user": {
      "displayName": "Jesús Moncada Ramírez",
      "userId": "03809042163319486653"
     },
     "user_tz": -120
    },
    "id": "Exh7RmxvUuWA"
   },
   "outputs": [],
   "source": [
    "# From now on we will represent parser actions with numbers.\n",
    "LEFT_ARC_N = 0\n",
    "RIGHT_ARC_N = 1\n",
    "REDUCE_N = 2\n",
    "SHIFT_N = 3"
   ]
  },
  {
   "cell_type": "markdown",
   "metadata": {
    "id": "W2-y6BAfx7Yo"
   },
   "source": [
    "For the baseline model, we need a dictionary of word/index pairs, a **embedding vocabulary**."
   ]
  },
  {
   "cell_type": "code",
   "execution_count": 12,
   "metadata": {
    "executionInfo": {
     "elapsed": 6887,
     "status": "ok",
     "timestamp": 1687554480816,
     "user": {
      "displayName": "Jesús Moncada Ramírez",
      "userId": "03809042163319486653"
     },
     "user_tz": -120
    },
    "id": "UUJCwqJ1x7y8"
   },
   "outputs": [],
   "source": [
    "class EmbeddingDictionary:\n",
    "\n",
    "  # Root representation\n",
    "  ROOT_L = \"<ROOT>\"\n",
    "  # Padding representation\n",
    "  PADDING_L = \"<pad>\"\n",
    "  # Unknown word representation (words that does not appear in our list)\n",
    "  UNKNOWN_L = \"<unk>\"\n",
    "\n",
    "  def __init__(self, dataset, threshold=3):\n",
    "    self.dic = {}  # dictionary of word counts\n",
    "    for sample in dataset:\n",
    "      for word in sample['tokens']:\n",
    "        if word in self.dic:\n",
    "          self.dic[word] += 1\n",
    "        else:\n",
    "          self.dic[word] = 1\n",
    "\n",
    "    self.map = {}  # dictionary of word/index pairs. This is our embedding list\n",
    "    self.map[self.PADDING_L] = 0\n",
    "    self.map[self.ROOT_L] = 1\n",
    "    self.map[self.UNKNOWN_L] = 2\n",
    "\n",
    "    next_indx = 3\n",
    "    for word in self.dic.keys():\n",
    "      if self.dic[word] >= threshold:\n",
    "        self.map[word] = next_indx\n",
    "        next_indx += 1\n",
    "\n",
    "  def get_embedding(self, word):\n",
    "    # Returns the embedding of a word.\n",
    "    if word in self.map:\n",
    "      return self.map[word]\n",
    "    else:\n",
    "      return self.get_unknown_embedding()\n",
    "\n",
    "  def length(self):\n",
    "    # Returns the length of the dictionary.\n",
    "    return len(self.map)\n",
    "\n",
    "  def get_root_embedding(self):\n",
    "    # Returns the embedding of the ROOT.\n",
    "    return self.map[self.ROOT_L]\n",
    "\n",
    "  def get_padding_embedding(self):\n",
    "    # Returns the embedding of a padding.\n",
    "    return self.map[self.PADDING_L]\n",
    "\n",
    "  def get_unknown_embedding(self):\n",
    "    # Returns the embedding of an unknown word.\n",
    "    return self.map[self.UNKNOWN_L]\n",
    "\n",
    "# Dictionary on the training set.\n",
    "emb_dictionary = EmbeddingDictionary(dataset_pro['train'], 3)"
   ]
  },
  {
   "cell_type": "markdown",
   "metadata": {
    "id": "xtFJ_Mz9zesE"
   },
   "source": [
    "We also need a function to process our data and create the **actual training samples**.\n",
    "For each sentence in the dataset, we use our oracle to compute the canonical action sequence leading to the gold tree.\n",
    "We then pair configurations and canonical actions.\n",
    "\n",
    "We cannot input whole configurations into our models, so we have decided to represent configurations with $(\\sigma_3, \\sigma_2, \\sigma_1, \\beta_1, \\beta_2)$, i.e., the three top-most elements in the stack and the two first elements of the buffer. In case any of the previous elements is not present (for example, in the initial configuration the stack only has one element, $\\sigma_2$ does not exist) it will be represented with a -1."
   ]
  },
  {
   "cell_type": "code",
   "execution_count": 13,
   "metadata": {
    "executionInfo": {
     "elapsed": 17,
     "status": "ok",
     "timestamp": 1687554480816,
     "user": {
      "displayName": "Jesús Moncada Ramírez",
      "userId": "03809042163319486653"
     },
     "user_tz": -120
    },
    "id": "LFUX8mIwzkNC"
   },
   "outputs": [],
   "source": [
    "def process_sample(sample, get_gold_path = False):\n",
    "\n",
    "  # Get tokens from original sentence. <ROOT> not included.\n",
    "  # (to return)\n",
    "  tokens = sample['tokens']\n",
    "\n",
    "  # Get sentence. The <ROOT> element is included.\n",
    "  sentence = [EmbeddingDictionary.ROOT_L] + sample[\"tokens\"]\n",
    "\n",
    "  # Get gold\n",
    "  # (to return)\n",
    "  gold = [-1]\n",
    "  # IMPORTANT: We need this as we found entries with text 'None'\n",
    "  for head in sample[\"head\"]:\n",
    "    if head == 'None':\n",
    "      gold.append(-1)\n",
    "    else:\n",
    "      gold.append(int(head))\n",
    "\n",
    "  # Embedding ids of sentence words.\n",
    "  # (to return)\n",
    "  enc_sentence = [emb_dictionary.get_embedding(word) for word in sentence]\n",
    "\n",
    "  # gold_path and gold_moves are parallel arrays whose elements refer to parsing steps\n",
    "  # (to return)\n",
    "  gold_path = []   # (sigma_2, sigma_1, beta_1) for a single step\n",
    "  # (to return)\n",
    "  gold_moves = []  # oracle (canonical) move\n",
    "\n",
    "  if get_gold_path:  # only for training\n",
    "    parser = ArcEager(sentence)\n",
    "    oracle = Oracle(parser, gold)\n",
    "\n",
    "    while not parser.is_tree_final():\n",
    "\n",
    "      # Get and save configuration\n",
    "      configuration = parser.get_5_configuration()\n",
    "      gold_path.append(configuration)\n",
    "\n",
    "      # Save gold move\n",
    "      if oracle.is_left_arc_gold():\n",
    "        parser.left_arc()\n",
    "        gold_moves.append(LEFT_ARC_N)\n",
    "      elif oracle.is_right_arc_gold():\n",
    "        parser.right_arc()\n",
    "        gold_moves.append(RIGHT_ARC_N)\n",
    "      elif oracle.is_reduce_gold():\n",
    "        parser.reduce()\n",
    "        gold_moves.append(REDUCE_N)\n",
    "      elif oracle.is_shift_gold():\n",
    "        parser.shift()\n",
    "        gold_moves.append(SHIFT_N)\n",
    "      else:\n",
    "        print('[ERROR] No oracle operation available')\n",
    "\n",
    "  return tokens, enc_sentence, gold_path, gold_moves, gold"
   ]
  },
  {
   "cell_type": "markdown",
   "metadata": {
    "id": "FlRGU-7a437O"
   },
   "source": [
    "Let's test the previous function."
   ]
  },
  {
   "cell_type": "code",
   "execution_count": 14,
   "metadata": {
    "colab": {
     "base_uri": "https://localhost:8080/"
    },
    "executionInfo": {
     "elapsed": 16,
     "status": "ok",
     "timestamp": 1687554480816,
     "user": {
      "displayName": "Jesús Moncada Ramírez",
      "userId": "03809042163319486653"
     },
     "user_tz": -120
    },
    "id": "sv1rBJFG4Vx7",
    "outputId": "689b5e96-50b1-4151-d916-51ff03b3778c"
   },
   "outputs": [
    {
     "name": "stdout",
     "output_type": "stream",
     "text": [
      "Example (train[0]): \n",
      "tokens: ['El', 'presidente', 'del', 'órgano', 'regulador', 'de', 'las', 'Telecomunicaciones', 'se', 'mostró', 'partidario', 'de', 'completar', 'esta', 'liberalización', 'de', 'las', 'telecomunicaciones', 'con', 'otras', 'medidas', 'que', 'incentiven', 'la', 'competencia', 'como', 'puede', 'ser', 'abrir', 'el', 'acceso', 'a', 'la', 'información', 'de', 'los', 'clientes', 'de', 'Telefónica', 'a', 'otros', 'operadores', '.']\n",
      "enc_sentence: [1, 3, 4, 5, 6, 7, 8, 9, 10, 11, 12, 13, 8, 14, 15, 16, 8, 9, 17, 18, 19, 20, 21, 2, 22, 23, 24, 25, 26, 27, 28, 29, 30, 22, 31, 8, 32, 33, 8, 34, 30, 35, 36, 37]\n",
      "gold_path: [[-1, -1, 0, 1, 2], [-1, 0, 1, 2, 3], [-1, -1, 0, 2, 3], [-1, 0, 2, 3, 4], [0, 2, 3, 4, 5], [-1, 0, 2, 4, 5], [0, 2, 4, 5, 6], [2, 4, 5, 6, 7], [4, 5, 6, 7, 8], [5, 6, 7, 8, 9], [4, 5, 6, 8, 9], [2, 4, 5, 8, 9], [0, 2, 4, 8, 9], [2, 4, 8, 9, 10], [4, 8, 9, 10, 11], [2, 4, 8, 10, 11], [0, 2, 4, 10, 11], [-1, 0, 2, 10, 11], [-1, -1, 0, 10, 11], [-1, 0, 10, 11, 12], [0, 10, 11, 12, 13], [10, 11, 12, 13, 14], [0, 10, 11, 13, 14], [10, 11, 13, 14, 15], [11, 13, 14, 15, 16], [10, 11, 13, 15, 16], [11, 13, 15, 16, 17], [13, 15, 16, 17, 18], [15, 16, 17, 18, 19], [13, 15, 16, 18, 19], [11, 13, 15, 18, 19], [13, 15, 18, 19, 20], [15, 18, 19, 20, 21], [18, 19, 20, 21, 22], [15, 18, 19, 21, 22], [13, 15, 18, 21, 22], [11, 13, 15, 21, 22], [10, 11, 13, 21, 22], [11, 13, 21, 22, 23], [13, 21, 22, 23, 24], [11, 13, 21, 23, 24], [13, 21, 23, 24, 25], [21, 23, 24, 25, 26], [13, 21, 23, 25, 26], [21, 23, 25, 26, 27], [23, 25, 26, 27, 28], [25, 26, 27, 28, 29], [23, 25, 26, 28, 29], [25, 26, 28, 29, 30], [23, 25, 26, 29, 30], [21, 23, 25, 29, 30], [13, 21, 23, 29, 30], [11, 13, 21, 29, 30], [13, 21, 29, 30, 31], [21, 29, 30, 31, 32], [13, 21, 29, 31, 32], [21, 29, 31, 32, 33], [29, 31, 32, 33, 34], [31, 32, 33, 34, 35], [29, 31, 32, 34, 35], [21, 29, 31, 34, 35], [29, 31, 34, 35, 36], [31, 34, 35, 36, 37], [34, 35, 36, 37, 38], [31, 34, 35, 37, 38], [29, 31, 34, 37, 38], [31, 34, 37, 38, 39], [34, 37, 38, 39, 40], [31, 34, 37, 39, 40], [34, 37, 39, 40, 41], [37, 39, 40, 41, 42], [39, 40, 41, 42, 43], [37, 39, 40, 42, 43], [34, 37, 39, 42, 43], [31, 34, 37, 42, 43], [29, 31, 34, 42, 43], [21, 29, 31, 42, 43], [13, 21, 29, 42, 43], [21, 29, 42, 43, -1], [13, 21, 29, 43, -1], [11, 13, 21, 43, -1], [10, 11, 13, 43, -1], [0, 10, 11, 43, -1], [-1, 0, 10, 43, -1]]\n",
      "gold_moves: [3, 0, 3, 3, 0, 1, 1, 3, 3, 0, 0, 2, 1, 3, 0, 2, 2, 0, 1, 1, 3, 0, 1, 3, 0, 1, 3, 3, 0, 0, 1, 3, 3, 0, 0, 2, 2, 1, 3, 0, 1, 3, 0, 1, 3, 1, 2, 1, 2, 0, 2, 2, 1, 3, 0, 1, 3, 3, 0, 0, 1, 3, 3, 0, 0, 1, 3, 0, 1, 3, 3, 0, 0, 2, 2, 2, 2, 1, 2, 2, 2, 2, 2, 1]\n",
      "gold: [-1, 2, 10, 4, 2, 4, 8, 8, 4, 10, 0, 10, 13, 11, 15, 13, 18, 18, 15, 21, 21, 13, 23, 21, 25, 23, 29, 26, 26, 21, 31, 29, 34, 34, 31, 37, 37, 34, 39, 37, 42, 42, 29, 10]\n"
     ]
    }
   ],
   "source": [
    "# Example\n",
    "print('Example (train[0]): ')\n",
    "tokens, enc_sentence, gold_path, gold_moves, gold = process_sample(dataset_pro['train'][0], get_gold_path=True)\n",
    "\n",
    "print(f'tokens: {tokens}')\n",
    "print(f'enc_sentence: {enc_sentence}')\n",
    "print(f'gold_path: {gold_path}')\n",
    "print(f'gold_moves: {gold_moves}')\n",
    "print(f'gold: {gold}')\n",
    "\n",
    "# for g_p, g_m in zip(gold_path, gold_moves):\n",
    "#  print(f'{g_p} --> {g_m}')"
   ]
  },
  {
   "cell_type": "markdown",
   "metadata": {
    "id": "sPnHKuJl46fj"
   },
   "source": [
    "We need a function to **batch** the data."
   ]
  },
  {
   "cell_type": "code",
   "execution_count": 15,
   "metadata": {
    "executionInfo": {
     "elapsed": 16,
     "status": "ok",
     "timestamp": 1687554480817,
     "user": {
      "displayName": "Jesús Moncada Ramírez",
      "userId": "03809042163319486653"
     },
     "user_tz": -120
    },
    "id": "4dfXSKPd49Je"
   },
   "outputs": [],
   "source": [
    "def prepare_batch(batch_data, get_gold_path=False):\n",
    "  data = [process_sample(s, get_gold_path=get_gold_path) for s in batch_data]\n",
    "\n",
    "  tokens = [s[0] for s in data]\n",
    "  sentences = [s[1] for s in data]\n",
    "  paths = [s[2] for s in data]\n",
    "  moves = [s[3] for s in data]\n",
    "  trees = [s[4] for s in data]\n",
    "  return tokens, sentences, paths, moves, trees"
   ]
  },
  {
   "cell_type": "markdown",
   "metadata": {
    "id": "RUSWNoi_5H4p"
   },
   "source": [
    "Finally we create the **data loaders** for train, validation, and test."
   ]
  },
  {
   "cell_type": "code",
   "execution_count": 16,
   "metadata": {
    "executionInfo": {
     "elapsed": 16,
     "status": "ok",
     "timestamp": 1687554480817,
     "user": {
      "displayName": "Jesús Moncada Ramírez",
      "userId": "03809042163319486653"
     },
     "user_tz": -120
    },
    "id": "thECAmTQ5Lnf"
   },
   "outputs": [],
   "source": [
    "BATCH_SIZE = 32\n",
    "\n",
    "train_dataloader = torch.utils.data.DataLoader(dataset_pro['train'], batch_size=BATCH_SIZE, shuffle=True, collate_fn=partial(prepare_batch, get_gold_path=True))\n",
    "dev_dataloader = torch.utils.data.DataLoader(dataset_pro['validation'], batch_size=BATCH_SIZE, shuffle=False, collate_fn=partial(prepare_batch))\n",
    "test_dataloader = torch.utils.data.DataLoader(dataset_pro['test'], batch_size=BATCH_SIZE, shuffle=False, collate_fn=partial(prepare_batch))"
   ]
  },
  {
   "cell_type": "markdown",
   "metadata": {
    "id": "_rjUaveeZ4x_"
   },
   "source": [
    "## 4. Models description"
   ]
  },
  {
   "cell_type": "markdown",
   "metadata": {
    "id": "u5XA5vTffmLm"
   },
   "source": [
    "First presenting both models, we need to introduce the class ``ParserStepTaker``, very important in the process of inference.\n",
    "It executes a parser **action** depending on the output prediction from our neural models. For this, the constructor receives a parser (to which apply the parser action) and a prediction (a list with four real numbers from 0 to 1, representing the probability of executing *LEFT-ARC*, *RIGHT-ARC*, *REDUCE*, and *SHIFT*). With this, it will execute (in the parser) the most probable action that can be performed. If it is not possible, then it will execute the second most probable action, and so on. We could say that it performs the **most probable, possible** action.\n",
    "\n",
    "Let's imagine that the predicted actions, from most probable to less probable, are: *LEFT-ARC*, *RIGHT-ARC*, *REDUCE*, and *SHIFT*; let's also suppose that our parser is in an initial configuration (only *ROOT* in the stack). It is not possible to perform the most-probable action (a *LEFT-ARC* would remove the root from the stack and we are at the beginning of the parsing), so we should execute the second most probable, which is *RIGHT-ARC*. An example of this is provided in a code cell below the class definition.\n"
   ]
  },
  {
   "cell_type": "code",
   "execution_count": 17,
   "metadata": {
    "executionInfo": {
     "elapsed": 16,
     "status": "ok",
     "timestamp": 1687554480817,
     "user": {
      "displayName": "Jesús Moncada Ramírez",
      "userId": "03809042163319486653"
     },
     "user_tz": -120
    },
    "id": "tq7Wty35vA_Q"
   },
   "outputs": [],
   "source": [
    "class ParserStepTaker:\n",
    "\n",
    "  def __init__(self, parser, moves, verbose=False):\n",
    "\n",
    "    self.parser = parser # parser to which execute actions\n",
    "    self.moves = moves # prediction output of our model\n",
    "    # Indices of moves ordered from most probable to less probable.\n",
    "    self.moves_order_idx = sorted(range(len(self.moves)),\n",
    "                                  key=lambda i: self.moves[i], reverse=True)\n",
    "    self.verbose = verbose\n",
    "\n",
    "  def execute_in_order(self):\n",
    "    \"\"\"\n",
    "    Execute the most probable, possible action.\n",
    "\n",
    "    The process will start checking if the most probable action can be\n",
    "    performed, if not, the second will be checked, and so on.\n",
    "    Once an action can be performed, it will perform it.\n",
    "    \"\"\"\n",
    "    for op in self.moves_order_idx:\n",
    "      if self.allowed(op):\n",
    "        if self.verbose:\n",
    "          print(f'Doing op={op}')\n",
    "        self.perform(op)\n",
    "        break\n",
    "      else:\n",
    "        if self.verbose:\n",
    "          print(f'Not allowed op={op}')\n",
    "\n",
    "  def allowed(self, op):\n",
    "    \"\"\"\n",
    "    Check if the operation op can be performed in self.parser.\n",
    "\n",
    "    All these preconditions have been taken from the paper \"A Dynamic Oracle for\n",
    "    Arc-Eager Dependency Parsing\" from Yoav Goldberg and Joakim Nivre.\n",
    "    \"\"\"\n",
    "\n",
    "    if op == LEFT_ARC_N:\n",
    "      # buffer empty -> FALSE\n",
    "      if len(self.parser.buffer) == 0:\n",
    "        return False\n",
    "      # stack empty -> FALSE\n",
    "      if len(self.parser.stack) == 0:\n",
    "        return False\n",
    "\n",
    "      o1 = self.parser.stack[len(self.parser.stack)-1]\n",
    "\n",
    "      # (from preconditions) o1 = <ROOT> -> FALSE\n",
    "      if o1 == 0:\n",
    "        return False\n",
    "      # (from preconditions) o1 has already a head -> FALSE\n",
    "      if self.parser.arcs[o1] != -1:\n",
    "        return False\n",
    "\n",
    "      return True\n",
    "    elif op == RIGHT_ARC_N:\n",
    "      # buffer empty -> FALSE\n",
    "      if len(self.parser.buffer) == 0:\n",
    "        return False\n",
    "      # stack empty -> FALSE\n",
    "      if len(self.parser.stack) == 0:\n",
    "        return False\n",
    "\n",
    "      return True\n",
    "    elif op == REDUCE_N:\n",
    "      # stack empty -> FALSE\n",
    "      if len(self.parser.stack) == 0:\n",
    "        return False\n",
    "\n",
    "      o1 = self.parser.stack[len(self.parser.stack)-1]\n",
    "\n",
    "      # (from preconditions) o1 does not have a head -> FALSE\n",
    "      if self.parser.arcs[o1] == -1:\n",
    "        return False\n",
    "\n",
    "      return True\n",
    "    elif op == SHIFT_N:\n",
    "      # buffer empty -> FALSE\n",
    "      if len(self.parser.buffer) == 0:\n",
    "        return False\n",
    "\n",
    "      return True\n",
    "    else:\n",
    "      print(f'[ERROR] Unknown move {op}')\n",
    "      return False\n",
    "\n",
    "  def perform(self, op):\n",
    "    \"\"\"\n",
    "    Perform operation op in self.parser.\n",
    "    \"\"\"\n",
    "\n",
    "    if op == LEFT_ARC_N:\n",
    "      self.parser.left_arc()\n",
    "    elif op == RIGHT_ARC_N:\n",
    "      self.parser.right_arc()\n",
    "    elif op == REDUCE_N:\n",
    "      self.parser.reduce()\n",
    "    elif op == SHIFT_N:\n",
    "      self.parser.shift()\n",
    "    else:\n",
    "      print(f'[ERROR] Unknown move {op}')"
   ]
  },
  {
   "cell_type": "markdown",
   "metadata": {
    "id": "S_k8HvDGFUOw"
   },
   "source": [
    "Let's test the class."
   ]
  },
  {
   "cell_type": "code",
   "execution_count": 18,
   "metadata": {
    "colab": {
     "base_uri": "https://localhost:8080/"
    },
    "executionInfo": {
     "elapsed": 16,
     "status": "ok",
     "timestamp": 1687554480817,
     "user": {
      "displayName": "Jesús Moncada Ramírez",
      "userId": "03809042163319486653"
     },
     "user_tz": -120
    },
    "id": "VtTQAJ_iFSb6",
    "outputId": "22f6d823-736e-47c5-fcf1-d00c38982cb0"
   },
   "outputs": [
    {
     "name": "stdout",
     "output_type": "stream",
     "text": [
      "['<ROOT>'] ['He', 'wrote', 'her', 'a', 'letter', '.']\n",
      "[-1, -1, -1, -1, -1, -1, -1]\n",
      "Trying to do LEFT-ARC...\n",
      "Not allowed op=0\n",
      "Doing op=1\n",
      "['<ROOT>', 'He'] ['wrote', 'her', 'a', 'letter', '.']\n",
      "[-1, 0, -1, -1, -1, -1, -1]\n"
     ]
    }
   ],
   "source": [
    "sentence = [\"<ROOT>\", \"He\", \"wrote\", \"her\", \"a\", \"letter\", \".\"]\n",
    "gold = [-1, 2, 0, 2, 5, 2, 2]\n",
    "\n",
    "parser = ArcEager(sentence)\n",
    "parser.print_configuration()\n",
    "\n",
    "print('Trying to do LEFT-ARC...')\n",
    "step_taker = ParserStepTaker(parser, [0.76, 0.7, 0.1, 0.01], verbose=True)\n",
    "step_taker.execute_in_order()\n",
    "parser.print_configuration()"
   ]
  },
  {
   "cell_type": "markdown",
   "metadata": {
    "id": "4A0_SSeZZ75N"
   },
   "source": [
    "### 4.1. Baseline model"
   ]
  },
  {
   "cell_type": "markdown",
   "metadata": {
    "id": "lLzgKagdcv24"
   },
   "source": [
    "#### Implementation decisions"
   ]
  },
  {
   "cell_type": "markdown",
   "metadata": {
    "id": "X95T2c54pFNE"
   },
   "source": [
    "Our baseline model consists of the following components:\n",
    "\n",
    "- <u>Embedding Layer</u>. Converts ids from the embedding vocabulary into continuous vector representations (``self.embeddings``). The size of the embedding vectors is set to 200 (``BASELINE_EMBEDDING_SIZE``).\n",
    "- <u>Bi-LSTM Layer</u>. Captures sequential dependencies in the input using a bidirectional LSTM layer (``self.lstm``). The LSTM has a hidden size of 200 (``BASELINE_LSTM_SIZE``) and a single layer (``BASELINE_LSTM_LAYERS``). Dropout regularization with a rate of 0.2 (``BASELINE_DROPOUT``) is applied between the LSTM layers.\n",
    "- <u>Feedforward Layers</u>. Two fully connected linear layers are used. The first layer (``self.w1``) takes the concatenated outputs of the forward and backward LSTMs (Bi-LSTM) and produces a hidden representation of size 200 (``BASELINE_MLP_SIZE``). An activation function (``self.activation``) is then applied. The second layer (``self.w2``) maps the hidden representation to the output space, producing a final prediction with a size of 4. The softmax function (``self.softmax``) is used to convert the output into probability scores for each class.\n",
    "- <u>Dropout Layer</u>. Dropout regularization with a rate of 0.2 (``BASELINE_DROPOUT``) is applied throughout the model using ``self.dropout``.\n",
    "\n",
    "Later on, the BaselineNet model will be trained for 20 epochs (``BASELINE_EPOCHS``) with a learning rate of 0.001 (``BASELINE_LR``)."
   ]
  },
  {
   "cell_type": "markdown",
   "metadata": {
    "id": "KD33iJOwdum2"
   },
   "source": [
    "#### Model description"
   ]
  },
  {
   "cell_type": "markdown",
   "metadata": {
    "id": "qP6c6q0Rdw1k"
   },
   "source": [
    "It is important to note that our baseline model has **different functions** for the forward pass and inference, unlike many others. Note also that, inside these functions, we will be always working with batches; instead of processing one sentence at a time, we will process 32 (``BATCH_SIZE``).\n",
    "\n",
    "In the **forward pass**, we receive a batch (list) of tokenized sentences, where each of these sentences is another list containing token ids (integer) from our embedding vocabulary (argument ``self.x``).\n",
    "We also receive a batch (list) of sentence configurations, where each element is another list with all the configurations that the oracle has made the parser go through (argument ``self.configurations``).\n",
    "A configuration itself is another list, containing the three topmost elements of the stack and the first two of the buffer.\n",
    "The actions performed by the oracle for each configuration are not received, they will be the labels with which we will train our network.\n",
    "\n",
    "At this point, we perform the following:\n",
    "1. Each of these ids is transformed into a real vector (an embedding) of size 200 (``BASELINE_EMBEDDING_SIZE``) using the embedding layer (layer ``self.embeddings``) and some dropout (layer ``self.dropout``).\n",
    "The dropout, in practice, will set some of the values to 0 randomly.\n",
    "2. Then, we apply the Bi-LSTM (function ``self.lstm_pass``) to these embeddings in order to introduce some information about the context. As we have set the LSTM size to 200 (``BASELINE_LSTM_SIZE``) and it is a Bi-LSTM, we will obtain other embeddings with length $2*200 = 400$ (variable ``self.h``). The novelty is that these embeddings include now, somehow, information about their context, i.e., the embeddings of nearby words.\n",
    "3. So far, we have transformed all our token ids into contextualized embeddings, but we still need to generate the input to our feedforward classifier. To do this, we use the function ``self.get_mlp_input``.\n",
    "Remember that each configuration is a 5-tuple where each element is the id of a token in the original sentence.\n",
    "Knowing this, what this function does is substitute this token id with the token corresponding embedding (generated by the Bi-LSTM).\n",
    "This transformation is saved into the variable ``self.mlp_input``.\n",
    "4. Finally, we apply our feedforward classifier (function ``self.mlp``), which will predict a batch (list) of sentence actions, where each element is a list of actions (one for each configuration), where each action is a 4-tuple containing the probability of executing a *LEFT-ARC*, *RIGHT-ARC*, *REDUCE*, and *SHIFT* in this order. This is the return value of the forward pass.\n",
    "\n",
    "When doing **inference** we only receive the batch (list) of tokenized sentences.\n",
    "At this point, we perform the following:\n",
    "1. Create an arc-eager parser for each sentence in the batch (variable ``self.parsers``).\n",
    "2. Perform steps 1. and 2. of the forward pass in order to obtain each token's contextualized embeddings.\n",
    "3. While not all the previous parsers represent a final tree (function ``self.parsed_all``), perform the following:\n",
    "  - Get the current configuration (of all the parsers, in a batch) (function ``self.get_configurations``).\n",
    "  - Prepare the feedforward classifier input with the batch of configurations (function ``self.get_mlp_input``). Note that, for each sentence, we only have one configuration instead of many, as in the forward pass.\n",
    "  - Execute the classifier and get the output (function ``self.mlp``).\n",
    "  - Execute, in every parser, the most probable possible action (function ``self.parse_step``).\n",
    "4. Finally, when all the parsers are final trees, return a batch (list) with all the generated trees (by all the parsers).\n",
    "\n",
    "More information about specific aspects can be found in the comments in the code."
   ]
  },
  {
   "cell_type": "code",
   "execution_count": 19,
   "metadata": {
    "executionInfo": {
     "elapsed": 15,
     "status": "ok",
     "timestamp": 1687554480818,
     "user": {
      "displayName": "Jesús Moncada Ramírez",
      "userId": "03809042163319486653"
     },
     "user_tz": -120
    },
    "id": "o8RHue61Z-jq"
   },
   "outputs": [],
   "source": [
    "BASELINE_EMBEDDING_SIZE = 200\n",
    "BASELINE_LSTM_SIZE = 200\n",
    "BASELINE_LSTM_LAYERS = 1\n",
    "BASELINE_MLP_SIZE = 200\n",
    "BASELINE_DROPOUT = 0.2\n",
    "BASELINE_EPOCHS = 20\n",
    "BASELINE_LR = 0.001"
   ]
  },
  {
   "cell_type": "code",
   "execution_count": 20,
   "metadata": {
    "executionInfo": {
     "elapsed": 15,
     "status": "ok",
     "timestamp": 1687554480818,
     "user": {
      "displayName": "Jesús Moncada Ramírez",
      "userId": "03809042163319486653"
     },
     "user_tz": -120
    },
    "id": "ceKnWNo3Z_tn"
   },
   "outputs": [],
   "source": [
    "class BaselineNet(nn.Module):\n",
    "\n",
    "  def __init__(self, device):\n",
    "    super(BaselineNet, self).__init__()\n",
    "    self.device = device\n",
    "\n",
    "    # Embedding layer\n",
    "    self.embeddings = nn.Embedding(emb_dictionary.length(), BASELINE_EMBEDDING_SIZE, padding_idx=emb_dictionary.get_padding_embedding())\n",
    "\n",
    "    # Bi-LSTM\n",
    "    self.lstm = nn.LSTM(BASELINE_EMBEDDING_SIZE, BASELINE_LSTM_SIZE, num_layers = BASELINE_LSTM_LAYERS, bidirectional=True, dropout=BASELINE_DROPOUT)\n",
    "\n",
    "    # Feedforward (classification)\n",
    "    self.w1 = torch.nn.Linear(2*5 * BASELINE_LSTM_SIZE, BASELINE_MLP_SIZE, bias=True)\n",
    "    self.activation = torch.nn.Tanh()\n",
    "    self.w2 = torch.nn.Linear(BASELINE_MLP_SIZE, 4, bias=True)\n",
    "    self.softmax = torch.nn.Softmax(dim=-1)\n",
    "\n",
    "    # Dropout\n",
    "    self.dropout = torch.nn.Dropout(BASELINE_DROPOUT)\n",
    "\n",
    "  def forward(self, x, configurations):\n",
    "\n",
    "    # Get embeddings.\n",
    "    x = [self.dropout(self.embeddings(torch.tensor(sent).to(self.device))) for sent in x]\n",
    "    #print()\n",
    "    #print(f'x.shape={len(x)} x num_words x {len(x[0][0])}')\n",
    "\n",
    "    # Run the Bi-LSTM.\n",
    "    h = self.lstm_pass(x)\n",
    "    #print(f'h.shape={h.shape}')\n",
    "\n",
    "    # Prepare the input for the feedforward.\n",
    "    mlp_input = self.get_mlp_input(configurations, h)\n",
    "    #print(f'mlp_input.shape={mlp_input.shape}')\n",
    "\n",
    "    # Run the feedforward and get the scores for each possible action.\n",
    "    out = self.mlp(mlp_input)\n",
    "    #print(f'out.shape={out.shape}')\n",
    "\n",
    "    return out\n",
    "\n",
    "  def lstm_pass(self, x):\n",
    "    \"\"\"\n",
    "    Perform a Bi-LSTM pass.\n",
    "    \"\"\"\n",
    "    x = torch.nn.utils.rnn.pack_sequence(x, enforce_sorted=False)\n",
    "    h, (h_0, c_0) = self.lstm(x)\n",
    "    h, h_sizes = torch.nn.utils.rnn.pad_packed_sequence(h)\n",
    "    # size h: (length_sentences, batch, output_hidden_units)\n",
    "    return h\n",
    "\n",
    "  def get_mlp_input(self, configurations, h):\n",
    "    \"\"\"\n",
    "    Prepare the input for the feedforward.\n",
    "\n",
    "    In each configuration, substitute each index (remember that configurations\n",
    "    contain the indexes of the sentence words) by their Bi-LSTM embedding.\n",
    "    \"\"\"\n",
    "    mlp_input = []\n",
    "\n",
    "    # Tensor in case the index = -1 (element not present).\n",
    "    zero_tensor = torch.zeros(2*BASELINE_LSTM_SIZE, requires_grad=False).to(self.device)\n",
    "\n",
    "    for i in range(len(configurations)):  # for sentence i in the batch\n",
    "        for j in configurations[i]:  # for each configuration j in the sentence\n",
    "            # Create a tensor concatenating all Bi-LSTM embeddings.\n",
    "            mlp_input.append(torch.cat([\n",
    "                zero_tensor if j[0] == -1 else h[j[0]][i],\n",
    "                zero_tensor if j[1] == -1 else h[j[1]][i],\n",
    "                zero_tensor if j[2] == -1 else h[j[2]][i],\n",
    "                zero_tensor if j[3] == -1 else h[j[3]][i],\n",
    "                zero_tensor if j[4] == -1 else h[j[4]][i]\n",
    "            ]))\n",
    "\n",
    "    # Stack all the embeddings -> feedforward input.\n",
    "    mlp_input = torch.stack(mlp_input).to(self.device)\n",
    "\n",
    "    return mlp_input\n",
    "\n",
    "  def mlp(self, x):\n",
    "    \"\"\"\n",
    "    Perform a feedforward pass.\n",
    "    \"\"\"\n",
    "\n",
    "    return self.softmax(self.w2(self.dropout(self.activation(self.w1(self.dropout(x))))))\n",
    "\n",
    "  def infere(self, x):\n",
    "    \"\"\"\n",
    "    Inference function.\n",
    "\n",
    "    We will use a function different than forward for inference. This function:\n",
    "    - Creates a parser for each sentence in the batch.\n",
    "    - Repeat until all the parsers are final trees:\n",
    "      - (For all parsers) obtain a model prediction.\n",
    "      - (For all parsers) perform the most probable possible action.\n",
    "    - Return all the arcs from the parsers.\n",
    "    \"\"\"\n",
    "    # Create all the parsers\n",
    "    parsers = [ArcEager(i) for i in x]\n",
    "\n",
    "    x = [self.embeddings(torch.tensor(i).to(self.device)) for i in x]\n",
    "\n",
    "    h = self.lstm_pass(x)\n",
    "\n",
    "    while not self.parsed_all(parsers):\n",
    "      # (For all parsers) get current configuration.\n",
    "      configurations = self.get_configurations(parsers)\n",
    "\n",
    "      # Prepare the input for the feedforward.\n",
    "      mlp_input = self.get_mlp_input(configurations, h)\n",
    "      mlp_out = self.mlp(mlp_input)\n",
    "\n",
    "      # (For all parsers) perform the most probable possible action.\n",
    "      self.parse_step(parsers, mlp_out)\n",
    "\n",
    "    # (For all parsers) return predicted dependency tree.\n",
    "    return [parser.arcs for parser in parsers]\n",
    "\n",
    "  def get_configurations(self, parsers):\n",
    "    \"\"\"\n",
    "    Get the configuration for every parser in parsers\n",
    "\n",
    "    Args:\n",
    "      parsers: list of ArcEager (parser) to get configurations.\n",
    "    \"\"\"\n",
    "    configurations = []\n",
    "\n",
    "    for parser in parsers:\n",
    "      conf = parser.get_5_configuration()\n",
    "      configurations.append([conf])\n",
    "\n",
    "    return configurations\n",
    "\n",
    "  def parsed_all(self, parsers):\n",
    "    \"\"\"\n",
    "    Return True if all the parsers are final trees; False otherwise.\n",
    "\n",
    "    Args:\n",
    "      parsers: list of ArcEager (parser) to check final trees.\n",
    "    \"\"\"\n",
    "\n",
    "    for parser in parsers:\n",
    "      if not parser.is_tree_final():\n",
    "        return False\n",
    "    return True\n",
    "\n",
    "  def parse_step(self, parsers, moves):\n",
    "    \"\"\"\n",
    "      Perform an action in all the parsers based on the model predictions.\n",
    "\n",
    "      This function will use ParserStepTaker to execute the most probable\n",
    "      possible action.\n",
    "\n",
    "      Args:\n",
    "        parsers: list of ArcEager (parser) to perform actions.\n",
    "        moves: list of list(4) with probability scores for every possible action.\n",
    "    \"\"\"\n",
    "    moves_argm = moves.argmax(-1)\n",
    "\n",
    "    for i in range(len(parsers)):\n",
    "      if parsers[i].is_tree_final():\n",
    "        continue\n",
    "      else:\n",
    "        step_taker = ParserStepTaker(parsers[i], moves[i])\n",
    "        step_taker.execute_in_order()"
   ]
  },
  {
   "cell_type": "markdown",
   "metadata": {
    "id": "kkFZEPdzzkUj"
   },
   "source": [
    "### 4.2. Bert-based model"
   ]
  },
  {
   "cell_type": "markdown",
   "metadata": {
    "id": "1AtymaE30opp"
   },
   "source": [
    "#### Pre-trained BERT and fine-tuning"
   ]
  },
  {
   "cell_type": "markdown",
   "metadata": {
    "id": "DvJlLkfDuzA9"
   },
   "source": [
    "For our BERT-based model, we have decided to use a pre-trained Spanish BERT backbone called [BETO](https://huggingface.co/dccuchile/bert-base-spanish-wwm-cased) (and its tokenizer). BETO is of a size similar to a BERT-base and was trained with the Whole Word Masking technique in a [big Spanish corpus](https://github.com/josecannete/spanish-corpora). In particular, we will use the *cased* version of it. We import it using the HuggingFace library, with the following lines:"
   ]
  },
  {
   "cell_type": "code",
   "execution_count": 21,
   "metadata": {
    "colab": {
     "base_uri": "https://localhost:8080/"
    },
    "executionInfo": {
     "elapsed": 2454,
     "status": "ok",
     "timestamp": 1687554483258,
     "user": {
      "displayName": "Jesús Moncada Ramírez",
      "userId": "03809042163319486653"
     },
     "user_tz": -120
    },
    "id": "mmCrcCnDDUAJ",
    "outputId": "bda7356e-1509-411a-b01d-5b98a6f44bda"
   },
   "outputs": [
    {
     "name": "stderr",
     "output_type": "stream",
     "text": [
      "Some weights of the model checkpoint at dccuchile/bert-base-spanish-wwm-cased were not used when initializing BertModel: ['cls.predictions.transform.LayerNorm.weight', 'cls.predictions.transform.LayerNorm.bias', 'cls.predictions.bias', 'cls.predictions.transform.dense.weight', 'cls.predictions.transform.dense.bias', 'cls.predictions.decoder.bias', 'cls.predictions.decoder.weight']\n",
      "- This IS expected if you are initializing BertModel from the checkpoint of a model trained on another task or with another architecture (e.g. initializing a BertForSequenceClassification model from a BertForPreTraining model).\n",
      "- This IS NOT expected if you are initializing BertModel from the checkpoint of a model that you expect to be exactly identical (initializing a BertForSequenceClassification model from a BertForSequenceClassification model).\n",
      "Some weights of BertModel were not initialized from the model checkpoint at dccuchile/bert-base-spanish-wwm-cased and are newly initialized: ['bert.pooler.dense.weight', 'bert.pooler.dense.bias']\n",
      "You should probably TRAIN this model on a down-stream task to be able to use it for predictions and inference.\n"
     ]
    },
    {
     "name": "stdout",
     "output_type": "stream",
     "text": [
      "BertModel(\n",
      "  (embeddings): BertEmbeddings(\n",
      "    (word_embeddings): Embedding(31002, 768, padding_idx=1)\n",
      "    (position_embeddings): Embedding(512, 768)\n",
      "    (token_type_embeddings): Embedding(2, 768)\n",
      "    (LayerNorm): LayerNorm((768,), eps=1e-12, elementwise_affine=True)\n",
      "    (dropout): Dropout(p=0.1, inplace=False)\n",
      "  )\n",
      "  (encoder): BertEncoder(\n",
      "    (layer): ModuleList(\n",
      "      (0-11): 12 x BertLayer(\n",
      "        (attention): BertAttention(\n",
      "          (self): BertSelfAttention(\n",
      "            (query): Linear(in_features=768, out_features=768, bias=True)\n",
      "            (key): Linear(in_features=768, out_features=768, bias=True)\n",
      "            (value): Linear(in_features=768, out_features=768, bias=True)\n",
      "            (dropout): Dropout(p=0.1, inplace=False)\n",
      "          )\n",
      "          (output): BertSelfOutput(\n",
      "            (dense): Linear(in_features=768, out_features=768, bias=True)\n",
      "            (LayerNorm): LayerNorm((768,), eps=1e-12, elementwise_affine=True)\n",
      "            (dropout): Dropout(p=0.1, inplace=False)\n",
      "          )\n",
      "        )\n",
      "        (intermediate): BertIntermediate(\n",
      "          (dense): Linear(in_features=768, out_features=3072, bias=True)\n",
      "          (intermediate_act_fn): GELUActivation()\n",
      "        )\n",
      "        (output): BertOutput(\n",
      "          (dense): Linear(in_features=3072, out_features=768, bias=True)\n",
      "          (LayerNorm): LayerNorm((768,), eps=1e-12, elementwise_affine=True)\n",
      "          (dropout): Dropout(p=0.1, inplace=False)\n",
      "        )\n",
      "      )\n",
      "    )\n",
      "  )\n",
      "  (pooler): BertPooler(\n",
      "    (dense): Linear(in_features=768, out_features=768, bias=True)\n",
      "    (activation): Tanh()\n",
      "  )\n",
      ")\n"
     ]
    }
   ],
   "source": [
    "bert = BertModel.from_pretrained(\"dccuchile/bert-base-spanish-wwm-cased\")\n",
    "print(bert)"
   ]
  },
  {
   "cell_type": "markdown",
   "metadata": {
    "id": "Wi_UZtMWw0uj"
   },
   "source": [
    "When importing the model we receive a warning. It turns out that BETO has been fine-tuned for a Masked Language Modeling task (if we wanted to take advantage of it for this task we should have imported it using ``BertForMaskedLM`` instead of ``BertModel``). This causes:\n",
    "- Some weights of the ``BertForMaskedLM`` have not been imported because they are specific for the Masked LM task, i.e., not needed in a ``BertModel`` (not really important for us).\n",
    "- Some weights of the ``BertModel`` have been newly initialized because they are not present in a ``BertForMaskedLM`` model.\n",
    "\n",
    "The last point is very important because it gives us some hints about how to perform fine-tuning. So let's do fine-tuning by training these weights, that have been initialized with default values and belong to the topmost layers of the transformers. As the warning says, these are: ``bert.pooler.dense.weight``, ``bert.pooler.dense.bias``.\n",
    "\n",
    "In fact, these two weight parameters are associated with the pooler layer, which is typically the last layer in the BERT model and is responsible for summarizing the contextualized representations of the input sequence into a fixed-size representation, often referred to as the \"pooled\" representation. This pooled representation is then used for downstream tasks."
   ]
  },
  {
   "cell_type": "markdown",
   "metadata": {
    "id": "a4b3gXGn0uiZ"
   },
   "source": [
    "#### Implementation decisions"
   ]
  },
  {
   "cell_type": "markdown",
   "metadata": {
    "id": "A-FQa47O0mhu"
   },
   "source": [
    "Our BERT-based model uses BERT as its backbone, and consists of the following components:\n",
    "- <u>BERT Tokenizer</u>. We are using the BERT tokenizer (``self.tokenizer``) from the pre-trained model BETO. The tokenizer converts input text into a sequence of tokens suitable for BERT.\n",
    "- <u>BERT Model</u>. As we have mentioned, the BERT model itself (``self.bert``) is initialized  from the pre-trained BETO. BERT generates contextualized representations of the input tokens.\n",
    "The hidden size of the last layer, the output embedding size, is saved into the variable ``self.bert_hidden_size`` for later use.\n",
    "All parameters of the BERT model except for ``pooler.dense.bias`` and ``pooler.dense.weight`` are frozen.\n",
    "This ensures that during training, only the parameters associated with the pooler layer are updated (fine-tuning), while the other BERT parameters remain fixed.\n",
    "- <u>Feedforward Layers</u>. Two fully connected linear layers are used. The first layer (``self.w1``) takes concatenated BERT embeddings (from a parser configuration) and produces an embedding of size 600 (``BERTBASED_MLP_SIZE``). An activation function (``self.activation``) is then applied. The second layer (``self.w2``) maps the hidden representation to the output space, producing a final prediction with a size of 4. The softmax function (``self.softmax``) is used to convert the output into probability scores for each class.\n",
    "- <u>Dropout Layer</u>: Dropout regularization with a rate of 0.2 (``BERTBASED_DROPOUT``) is applied throughout the model using ``self.dropout``.\n",
    "\n",
    "Later on, the BERT-based model will be trained for 20 epochs (``BERTBASED_EPOCHS``) with a learning rate of 0.001 (``BERTBASED_LR``)."
   ]
  },
  {
   "cell_type": "markdown",
   "metadata": {
    "id": "4MGPUXfoqBqP"
   },
   "source": [
    "#### Model description"
   ]
  },
  {
   "cell_type": "markdown",
   "metadata": {
    "id": "JpvyYJ52qEIj"
   },
   "source": [
    "As the baseline model, our BERT-based model has also two different functions for the forward pass and inference. The inputs and outputs will be batches too.\n",
    "\n",
    "In the **forward pass**, we receive a batch (list) of sentences, where each sentence is another list of tokens (argument ``self.tokens``).\n",
    "Note that here, unlike in the base model, we receive the text of the tokens, not their id.\n",
    "We also receive a batch (list) of sentence configurations, where each element is another list with all the configurations that the oracle has made the parser go through (argument ``self.configurations``).\n",
    "A configuration itself is another list, containing the three topmost elements of the stack and the first two of the buffer.\n",
    "The actions performed by the oracle for each configuration are not received, they will be the labels with which we will train our network.\n",
    "\n",
    "At this point, we perform the following:\n",
    "1. Tokenize the batch of sentence tokens using the BETO tokenizer (layer ``self.tokenizer``).\n",
    "BERT models require a specially prepared input.\n",
    "As the dataset provided the sentences as a list of words (already tokenized), we set the parameter ``is_split_into_words=True``.\n",
    "It is important to note that some words inputted to the tokenizer will be split into several subwords (subword tokenization).\n",
    "2. Apply the BERT model (layer ``self.bert``) to the tokenized input and get the BERT embeddings, that will be present in the BERT's last hidden layer. We have just got an embedding for every subword.\n",
    "3. As the tokenizing process may have divided words into subwords (for example \"hola\" into \"ho\", \"##la\"), we need to merge the subwords embeddings to get a single embedding for each word.\n",
    "For this, we have used token embedding averaging, i.e., set the average of all the subword embeddings as the final word embedding.\n",
    "To do this:\n",
    "  - First, we need to obtain the correspondences subword-word, i.e., the word to which several subwords belong (function ``self.batch_tokens_to_word_indices``).\n",
    "  - Then we can perform token embedding average (function ``self.token_embedding_averaging``).\n",
    "4. Once this is completed, we are ready to arrange our feedforward classifier input in the same way we did in the baseline model: substitute each word index in the configurations by its word embedding (function ``self.get_mlp_input``).\n",
    "5. Finally, we apply the feedforward classifier as in the baseline model (function ``self.mlp``).\n",
    "\n",
    "When doing **inference** we receive the batch (list) of sentences, where each sentence is another list of tokens (``self.tokens``), and the batch (list) of tokenized sentences, where each of these sentences is another list containing token ids (integer) from our embedding vocabulary (argument ``self.x``).\n",
    "Note that we won't use the token ids, but we need ``self.x`` to create the parsers.\n",
    "At this point, we perform the following:\n",
    "1. Create an arc-eager parser for each sentence in the batch (variable ``self.parsers``).\n",
    "2. Perform steps 1., 2., and 3. of the forward pass in order to obtain the BERT word embeddings.\n",
    "3. While not all the previous parsers represent a final tree (function ``self.parsed_all``), perform the following:\n",
    "  - Get their current configuration (of all the parsers, in a batch) (function ``self.get_configurations``).\n",
    "  - Prepare the feedforward classifier input with the batch of configurations (function ``self.get_mlp_input``). Note that, for each sentence, we only have one configuration instead of many as in the forward pass.\n",
    "  - Execute the classifier and get the output (function ``self.mlp``).\n",
    "  - Execute, in every parser, the most probable possible action (function ``self.parse_step``).\n",
    "4. Finally, when all the parsers are final trees, return a batch (list) with all generated trees (by all the parsers)."
   ]
  },
  {
   "cell_type": "markdown",
   "metadata": {
    "id": "J21S5Pu5yKNR"
   },
   "source": [
    "Some notes about the BERT-based model code:\n",
    "- We are inputting to the forward pass the tokens of the sentences, so they don't contain the *<ROOT>* token at the beginning. This is not a problem, because the BERT tokenizer will add at the beginning of the sentence the token *[CLS]*, whose embedding will be used as the *<ROOT>* embedding.\n",
    "- Besides token embedding averaging, we also tried to take just the first token (subword) embedding as the final word embedding (function ``self.token_embedding_first``). Both processes yielded very similar results, so we decided to maintain the former."
   ]
  },
  {
   "cell_type": "code",
   "execution_count": 22,
   "metadata": {
    "executionInfo": {
     "elapsed": 9,
     "status": "ok",
     "timestamp": 1687554483259,
     "user": {
      "displayName": "Jesús Moncada Ramírez",
      "userId": "03809042163319486653"
     },
     "user_tz": -120
    },
    "id": "T7ZpK8CBxo2V"
   },
   "outputs": [],
   "source": [
    "BERTBASED_MLP_SIZE = 600\n",
    "BERTBASED_DROPOUT = 0.2\n",
    "BERTBASED_EPOCHS = 20\n",
    "BERTBASED_LR = 0.001"
   ]
  },
  {
   "cell_type": "code",
   "execution_count": 23,
   "metadata": {
    "executionInfo": {
     "elapsed": 8,
     "status": "ok",
     "timestamp": 1687554483259,
     "user": {
      "displayName": "Jesús Moncada Ramírez",
      "userId": "03809042163319486653"
     },
     "user_tz": -120
    },
    "id": "5dcHwBEcqOm7"
   },
   "outputs": [],
   "source": [
    "class BertBasedNet(nn.Module):\n",
    "\n",
    "  def __init__(self, device):\n",
    "    super(BertBasedNet, self).__init__()\n",
    "    self.device = device\n",
    "\n",
    "    # BERT tokenizer\n",
    "    self.tokenizer = BertTokenizer.from_pretrained(\"dccuchile/bert-base-spanish-wwm-cased\")\n",
    "\n",
    "    # BERT model\n",
    "    self.bert = BertModel.from_pretrained(\"dccuchile/bert-base-spanish-wwm-cased\").to(device)\n",
    "    self.bert_hidden_size = self.bert.config.hidden_size\n",
    "\n",
    "    # Freeze all parameters except 'bert.pooler.dense.bias' and 'bert.pooler.dense.weight'\n",
    "    for name, param in self.bert.named_parameters():\n",
    "      if name not in ('pooler.dense.bias', 'pooler.dense.weight'):\n",
    "        param.requires_grad = False\n",
    "\n",
    "    # Feedforward\n",
    "    self.w1 = torch.nn.Linear(5 * self.bert_hidden_size, BERTBASED_MLP_SIZE, bias=True)\n",
    "    self.activation = torch.nn.Tanh()\n",
    "    self.w2 = torch.nn.Linear(BERTBASED_MLP_SIZE, 4, bias=True)\n",
    "    self.softmax = torch.nn.Softmax(dim=-1)\n",
    "\n",
    "    # Dropout\n",
    "    self.dropout = torch.nn.Dropout(BERTBASED_DROPOUT)\n",
    "\n",
    "  def forward(self, tokens, configurations):\n",
    "\n",
    "    # Tokenize all the sentences in a batch.\n",
    "    # When tokenizing, the special token [CLS] is added at the beginning to each\n",
    "    # sentence, we will consider it as the <ROOT> token.\n",
    "    sent_tokenized = self.tokenizer(tokens, padding=True,\n",
    "                                    is_split_into_words=True,\n",
    "                                    return_tensors='pt').to(self.device)\n",
    "    #print(f'sent_tokenized.shape={len(sent_tokenized[\"input_ids\"])} x {len(sent_tokenized[\"input_ids\"][0])}')\n",
    "\n",
    "    # Get BERT embeddings.\n",
    "    bert_out = self.bert(**sent_tokenized)\n",
    "    bert_emb = bert_out.last_hidden_state\n",
    "    #print(f'bert_emb.shape={bert_emb.shape}')\n",
    "\n",
    "    # Perform token embedding averaging.\n",
    "    token_to_word_corr = self.batch_tokens_to_word_indices(sent_tokenized)\n",
    "    bert_avg_emb = self.token_embedding_averaging(bert_emb, token_to_word_corr)\n",
    "    # bert_avg_emb = self.token_embedding_first(bert_emb, token_to_word_corr)\n",
    "    #print(f'bert_avg_emb.shape={bert_avg_emb.shape}')\n",
    "\n",
    "    # Prepare all the configurations using BERT embeddings. Prepare input for\n",
    "    # the feedforward.\n",
    "    mlp_input = self.get_mlp_input(configurations, bert_avg_emb)\n",
    "    #print(f'mlp_input.shape={mlp_input.shape}')\n",
    "\n",
    "    # Run the feedforward and get the scores for each possible action.\n",
    "    out = self.mlp(mlp_input)\n",
    "    #print(f'out.shape={out.shape}')\n",
    "\n",
    "    return out\n",
    "\n",
    "  def tokens_to_word_indices(self, tokens):\n",
    "    \"\"\"\n",
    "    Given a subword tokenization, returns a list where each element represents\n",
    "    a word.\n",
    "\n",
    "    Each element in this list is another list containing the indexes of the\n",
    "    subwords belonging to the corresponding word.\n",
    "\n",
    "    Example:\n",
    "      tokens = ['ho', '##la', 'mund', '##do']\n",
    "      returns [[0,1], [2,3]]\n",
    "    \"\"\"\n",
    "\n",
    "    all_corr = []\n",
    "    for i, token in enumerate(tokens):\n",
    "      if token == '[PAD]' or token == '[SEP]':\n",
    "        continue\n",
    "      elif token.startswith('##') and i == 0:\n",
    "        raise IndexError('First token cannot start with ##')\n",
    "      elif token.startswith(\"##\"):\n",
    "        all_corr[-1].append(i)\n",
    "      else:\n",
    "        all_corr.append([i])\n",
    "    return all_corr\n",
    "\n",
    "  def batch_tokens_to_word_indices(self, batch):\n",
    "    \"\"\"\n",
    "    Calls the tokens_to_word_indices function in batch.\n",
    "    \"\"\"\n",
    "\n",
    "    batch_corr = []\n",
    "    for sent_input_ids in batch['input_ids']:\n",
    "      batch_corr.append(self.tokens_to_word_indices(self.tokenizer.convert_ids_to_tokens(sent_input_ids)))\n",
    "    return batch_corr\n",
    "\n",
    "  def token_embedding_averaging(self, bert_embeddings, tokens_to_words):\n",
    "    \"\"\"\n",
    "    Given a list of BERT embeddings and a tokens-to-words correspondences,\n",
    "    creates a single embedding for every word by averaging its tokens'\n",
    "    embeddings.\n",
    "    \"\"\"\n",
    "\n",
    "    averaged_embeddings = []\n",
    "\n",
    "    for batch_idx, batch_correspondences in enumerate(tokens_to_words):\n",
    "        batch_embeddings = []\n",
    "        for indices in batch_correspondences:\n",
    "            # Get embeddings for the current indices in the batch\n",
    "            embeddings = bert_embeddings[batch_idx, indices, :]\n",
    "            # Calculate the mean along the embedding dimension\n",
    "            averaged_embedding = torch.mean(embeddings, dim=0)\n",
    "            batch_embeddings.append(averaged_embedding)\n",
    "\n",
    "        averaged_embeddings.append(batch_embeddings)\n",
    "\n",
    "    # Compute max sentence length in the batch (max number of embeddings)\n",
    "    max_sentence_length = max([len(batch) for batch in averaged_embeddings])\n",
    "\n",
    "    # Add zero tensors to have all batch to have the same # of embeddings\n",
    "    for batch in averaged_embeddings:\n",
    "      while(len(batch) < max_sentence_length):\n",
    "        batch.append(torch.zeros(self.bert_hidden_size, requires_grad=False).to(self.device))\n",
    "\n",
    "    # Return a tensor\n",
    "    averaged_embeddings = torch.stack([torch.stack(batch) for batch in averaged_embeddings])\n",
    "    return averaged_embeddings\n",
    "\n",
    "  def token_embedding_first(self, bert_embeddings, tokens_to_words):\n",
    "    \"\"\"\n",
    "    Given a list of BERT embeddings and a tokens-to-words correspondences,\n",
    "    creates a single embedding for every word by taking its first token\n",
    "    embedding.\n",
    "    \"\"\"\n",
    "\n",
    "    result_embeddings = []\n",
    "    for batch_idx, batch_correspondences in enumerate(tokens_to_words):\n",
    "        batch_embeddings = []\n",
    "        for indices in batch_correspondences:\n",
    "            # Get embeddings for the first index in the batch\n",
    "            embedding = bert_embeddings[batch_idx, indices[0], :]\n",
    "\n",
    "            batch_embeddings.append(embedding)\n",
    "\n",
    "        result_embeddings.append(batch_embeddings)\n",
    "\n",
    "    # Compute max sentence length in the batch (max number of embeddings)\n",
    "    max_sentence_length = max([len(batch) for batch in result_embeddings])\n",
    "\n",
    "    # Add zero tensors to have all batch to have the same # of embeddings\n",
    "    for batch in result_embeddings:\n",
    "      while(len(batch) < max_sentence_length):\n",
    "        batch.append(torch.zeros(self.bert_hidden_size, requires_grad=False).to(self.device))\n",
    "\n",
    "    # Return a tensor\n",
    "    result_embeddings = torch.stack([torch.stack(batch) for batch in result_embeddings])\n",
    "    return result_embeddings\n",
    "\n",
    "  def get_mlp_input(self, configurations, bert_emb):\n",
    "    \"\"\"\n",
    "    Prepare the input for the feedforward.\n",
    "\n",
    "    In each configuration, substitute each index (remember that configurations\n",
    "    contain the indexes of the sentence words) by their BERT embedding.\n",
    "    \"\"\"\n",
    "\n",
    "    mlp_input = []\n",
    "    zero_tensor = torch.zeros(self.bert_hidden_size, requires_grad=False).to(self.device)\n",
    "\n",
    "    for i in range(len(configurations)): # for each batch i\n",
    "      for j in configurations[i]:  # for each configuration j of a sentence\n",
    "            mlp_input.append(torch.cat([\n",
    "                zero_tensor if j[0] == -1 else bert_emb[i][j[0]],\n",
    "                zero_tensor if j[1] == -1 else bert_emb[i][j[1]],\n",
    "                zero_tensor if j[2] == -1 else bert_emb[i][j[2]],\n",
    "                zero_tensor if j[3] == -1 else bert_emb[i][j[3]],\n",
    "                zero_tensor if j[4] == -1 else bert_emb[i][j[4]]\n",
    "            ]))\n",
    "\n",
    "    mlp_input = torch.stack(mlp_input).to(self.device)\n",
    "    return mlp_input\n",
    "\n",
    "  def mlp(self, x):\n",
    "    \"\"\"\n",
    "    Perform a feedforward pass.\n",
    "    \"\"\"\n",
    "\n",
    "    return self.softmax(self.w2(self.dropout(self.activation(self.w1(self.dropout(x))))))\n",
    "\n",
    "  def infere(self, tokens, x):\n",
    "    \"\"\"\n",
    "    Inference function.\n",
    "\n",
    "    We will use a function different than forward for inference. This function:\n",
    "    - Creates a parser for each sentence in the batch.\n",
    "    - Repeat until all the parsers are final trees:\n",
    "      - (For all parsers) obtain a model prediction.\n",
    "      - (For all parsers) perform the most probable possible action.\n",
    "    - Return all the arcs from the parsers.\n",
    "    \"\"\"\n",
    "\n",
    "    parsers = [ArcEager(i) for i in x]\n",
    "\n",
    "    # Tokenize batch\n",
    "    sent_tokenized = self.tokenizer(tokens, padding=True, is_split_into_words=True, return_tensors='pt')\n",
    "    sent_tokenized = sent_tokenized.to(self.device)\n",
    "\n",
    "    # Get BERT embeddings\n",
    "    bert_out = self.bert(**sent_tokenized)\n",
    "    bert_emb = bert_out.last_hidden_state\n",
    "\n",
    "    # Perform token embedding averaging\n",
    "    token_to_word_corr = self.batch_tokens_to_word_indices(sent_tokenized)\n",
    "    bert_avg_emb = self.token_embedding_averaging(bert_emb, token_to_word_corr)\n",
    "\n",
    "    while not self.parsed_all(parsers):\n",
    "      # get the current configuration and score next moves\n",
    "      configurations = self.get_configurations(parsers)\n",
    "      mlp_input = self.get_mlp_input(configurations, bert_avg_emb)\n",
    "      mlp_out = self.mlp(mlp_input)\n",
    "      # take the next parsing step\n",
    "      self.parse_step(parsers, mlp_out)\n",
    "\n",
    "    # return the predicted dependency tree\n",
    "    return [parser.arcs for parser in parsers]\n",
    "\n",
    "  def get_configurations(self, parsers):\n",
    "    \"\"\"\n",
    "    Get the configuration for every parser in parsers\n",
    "\n",
    "    Args:\n",
    "      parsers: list of ArcEager (parser) to get configurations.\n",
    "    \"\"\"\n",
    "\n",
    "    configurations = []\n",
    "\n",
    "    for parser in parsers:\n",
    "      conf = parser.get_5_configuration()\n",
    "\n",
    "      configurations.append([conf])\n",
    "\n",
    "    return configurations\n",
    "\n",
    "  def parsed_all(self, parsers):\n",
    "    \"\"\"\n",
    "    Return True if all the parsers are final trees; False otherwise.\n",
    "\n",
    "    Args:\n",
    "      parsers: list of ArcEager (parser) to check final trees.\n",
    "    \"\"\"\n",
    "\n",
    "    for parser in parsers:\n",
    "      if not parser.is_tree_final():\n",
    "        return False\n",
    "    return True\n",
    "\n",
    "  def parse_step(self, parsers, moves):\n",
    "    \"\"\"\n",
    "      Perform an action in all the parsers based on the model predictions.\n",
    "\n",
    "      This function will use ParserStepTaker to execute the most probable\n",
    "      possible action.\n",
    "\n",
    "      Args:\n",
    "        parsers: list of ArcEager (parser) to perform actions.\n",
    "        moves: list of list(4) with probability scores for every possible action.\n",
    "    \"\"\"\n",
    "\n",
    "    for i in range(len(parsers)):\n",
    "      if parsers[i].is_tree_final():\n",
    "        continue\n",
    "      else:\n",
    "        step_taker = ParserStepTaker(parsers[i], moves[i])\n",
    "        step_taker.execute_in_order()"
   ]
  },
  {
   "cell_type": "markdown",
   "metadata": {
    "id": "xLZl6LKWzTw9"
   },
   "source": [
    "## 5. Training"
   ]
  },
  {
   "cell_type": "markdown",
   "metadata": {
    "id": "CEiFTmoxUYij"
   },
   "source": [
    "In this section, we will train both the baseline and BERT-based model. The number of training epochs has been set to 20 in both cases (``BASELINE_EPOCHS`` and ``BERTBASED_EPOCHS``). After training each epoch: (1) we save the model obtained, in case there is an error and the training loop stops, and (2) we compute the Unlabeled Attachment Score (UAS) in the validation data to get a measure of how learning is going. After training, we will plot the learning curves, i.e., the learning loss and validation UAS over epochs."
   ]
  },
  {
   "cell_type": "markdown",
   "metadata": {
    "id": "WhypwwnO1fDn"
   },
   "source": [
    "### 5.1. Baseline model"
   ]
  },
  {
   "cell_type": "markdown",
   "metadata": {
    "id": "q1NYjcLkUdgX"
   },
   "source": [
    "The following functions allow us to execute the training loop in the baseline model."
   ]
  },
  {
   "cell_type": "code",
   "execution_count": 24,
   "metadata": {
    "executionInfo": {
     "elapsed": 8,
     "status": "ok",
     "timestamp": 1687554483259,
     "user": {
      "displayName": "Jesús Moncada Ramírez",
      "userId": "03809042163319486653"
     },
     "user_tz": -120
    },
    "id": "nMX3ArznhqP0"
   },
   "outputs": [],
   "source": [
    "def baseline_train(model, dataloader, criterion, optimizer, device):\n",
    "  \"\"\"\n",
    "  Baseline model's training function.\n",
    "  \"\"\"\n",
    "\n",
    "  model.train()\n",
    "\n",
    "  # All the batch losses in the epoch.\n",
    "  losses = []\n",
    "\n",
    "  for batch in tqdm(dataloader, '\\tTraining epoch...', position=0, leave=True):\n",
    "\n",
    "    optimizer.zero_grad()\n",
    "    tokens, sentences, paths, moves, trees = batch # get a batch\n",
    "\n",
    "    out = model(sentences, paths) # get a prediction\n",
    "\n",
    "    labels = torch.tensor(sum(moves, [])).to(device) # flatten labels\n",
    "\n",
    "    # Compute and save loss.\n",
    "    loss = criterion(out, labels)\n",
    "    losses.append(loss.item())\n",
    "\n",
    "    # Backpropagation.\n",
    "    loss.backward()\n",
    "    optimizer.step()\n",
    "\n",
    "  return losses\n",
    "\n",
    "def evaluate(gold, preds):\n",
    "  \"\"\"\n",
    "  Compute UAS in a batch.\n",
    "  \"\"\"\n",
    "\n",
    "  total = 0\n",
    "  correct = 0\n",
    "\n",
    "  for g, p in zip(gold, preds): # for every sentence\n",
    "    for i in range(1,len(g)): # for every word\n",
    "      total += 1\n",
    "      if g[i] == p[i]:\n",
    "        correct += 1\n",
    "\n",
    "  return correct/total\n",
    "\n",
    "def baseline_test(model, dataloader):\n",
    "  \"\"\"\n",
    "  Baseline model's training function.\n",
    "  \"\"\"\n",
    "\n",
    "  model.eval()\n",
    "\n",
    "  gold = []\n",
    "  preds = []\n",
    "\n",
    "  for batch in tqdm(dataloader, '\\tTesting...', position=0, leave=True):\n",
    "\n",
    "    tokens, sentences, paths, moves, trees = batch # get a batch\n",
    "\n",
    "    with torch.no_grad():\n",
    "      pred = model.infere(sentences)\n",
    "\n",
    "      gold += trees\n",
    "      preds += pred\n",
    "\n",
    "  return evaluate(gold, preds)"
   ]
  },
  {
   "cell_type": "code",
   "execution_count": 25,
   "metadata": {
    "executionInfo": {
     "elapsed": 8,
     "status": "ok",
     "timestamp": 1687554483259,
     "user": {
      "displayName": "Jesús Moncada Ramírez",
      "userId": "03809042163319486653"
     },
     "user_tz": -120
    },
    "id": "NXhmUGvn9kxD"
   },
   "outputs": [],
   "source": [
    "# Path to save the model\n",
    "BASELINE_PATH = os.path.join(drive_path, 'MyDrive', 'ESTUDIOS', '2022-23',\n",
    "                             'NaturalLanguageProcessing', 'Project',\n",
    "                             'trained_models', 'baseline_conf5_lstm200_mlp200')\n",
    "\n",
    "# Create if it doesn't exist\n",
    "if not os.path.exists(BASELINE_PATH):\n",
    "  print(f'[INFO] Creating folder {BASELINE_PATH}.')\n",
    "  os.makedirs(BASELINE_PATH)"
   ]
  },
  {
   "cell_type": "code",
   "execution_count": null,
   "metadata": {
    "id": "b87v2d5q1iHx"
   },
   "outputs": [],
   "source": [
    "##########################################\n",
    "################ TRAINING ################\n",
    "##########################################\n",
    "# Select GPU device if possible\n",
    "device = torch.device(\"cuda\" if torch.cuda.is_available() else \"cpu\")\n",
    "print(\"Device:\", device)\n",
    "baseline_model = BaselineNet(device)\n",
    "baseline_model.to(device)\n",
    "\n",
    "criterion = nn.CrossEntropyLoss()\n",
    "optimizer = torch.optim.Adam(baseline_model.parameters(), lr=BASELINE_LR)\n",
    "\n",
    "all_avg_train_loss = [] # average training loss over epochs\n",
    "all_val_uas = [] # validation UAS over epochs\n",
    "\n",
    "for epoch in range(BASELINE_EPOCHS):\n",
    "  print(f'EPOCH {epoch}...')\n",
    "\n",
    "  # Train the epoch.\n",
    "  train_losses = baseline_train(baseline_model, train_dataloader, criterion, optimizer, device)\n",
    "\n",
    "  # Compute average (in the epoch) training loss.\n",
    "  avg_train_loss = np.mean(train_losses)\n",
    "  all_avg_train_loss.append(avg_train_loss)\n",
    "\n",
    "  # Compute validation UAS.\n",
    "  val_uas = baseline_test(baseline_model, dev_dataloader)\n",
    "  all_val_uas.append(val_uas)\n",
    "\n",
    "  # Report.\n",
    "  print(\"\\tEpoch results | avg_train_loss: {:5.3f} | dev_uas: {:5.3f} |\".format(avg_train_loss, val_uas))\n",
    "\n",
    "  # Save the model.\n",
    "  path_bas_mod = os.path.join(BASELINE_PATH, f'model{epoch:02d}.yml')\n",
    "  print(f'\\tSaving the model to {path_bas_mod}')\n",
    "  torch.save(baseline_model.state_dict(), path_bas_mod)\n",
    "\n",
    "# Save learning curves.\n",
    "path_bas_lc = os.path.join(BASELINE_PATH, 'curves.pkl')\n",
    "print(f'\\tSaving leaning curves to {path_bas_lc}')\n",
    "data = {\n",
    "    'avg_train_loss': all_avg_train_loss,\n",
    "    'val_uas': all_val_uas\n",
    "}\n",
    "with open(path_bas_lc, 'wb') as file:\n",
    "    pickle.dump(data, file)"
   ]
  },
  {
   "cell_type": "markdown",
   "metadata": {
    "id": "hIKl0pm0rGNo"
   },
   "source": [
    "Now, let's print the learning curves (training loss and validation UAS over epochs)."
   ]
  },
  {
   "cell_type": "code",
   "execution_count": 27,
   "metadata": {
    "colab": {
     "base_uri": "https://localhost:8080/",
     "height": 465
    },
    "executionInfo": {
     "elapsed": 8,
     "status": "ok",
     "timestamp": 1687554483260,
     "user": {
      "displayName": "Jesús Moncada Ramírez",
      "userId": "03809042163319486653"
     },
     "user_tz": -120
    },
    "id": "8EhGop7apspy",
    "outputId": "ea1048f3-70a3-4b16-a63e-5ce961050a63"
   },
   "outputs": [
    {
     "name": "stdout",
     "output_type": "stream",
     "text": [
      "[INFO] Learning curves retrieved correctly.\n"
     ]
    },
    {
     "data": {
      "image/png": "[encoded data removed]",
      "text/plain": [
       "<Figure size 1100x500 with 2 Axes>"
      ]
     },
     "metadata": {},
     "output_type": "display_data"
    }
   ],
   "source": [
    "def plot_curves(title, train_curve, val_curve):\n",
    "  \"\"\"\n",
    "  Plots the training loss and validation UAS over epochs.\n",
    "\n",
    "  Args:\n",
    "    title: title for the chart.\n",
    "    train_curve: average training loss over epochs.\n",
    "    val_curve: validation UAS over epochs.\n",
    "  \"\"\"\n",
    "\n",
    "  figure, axis = plt.subplots(1, 2, figsize=(11, 5))\n",
    "\n",
    "  axis[0].plot(train_curve)\n",
    "  axis[0].set_xlabel('Epochs')\n",
    "  axis[0].set_ylabel('Average Training Loss')\n",
    "  axis[0].set_title('Average Training Loss over Epochs')\n",
    "  axis[0].set_xticks(np.arange(20))\n",
    "\n",
    "  axis[1].plot(val_curve)\n",
    "  axis[1].set_xlabel('Epochs')\n",
    "  axis[1].set_ylabel('Validation UAS')\n",
    "  axis[1].set_title('Validation UAS over Epochs')\n",
    "  axis[1].set_xticks(np.arange(20))\n",
    "\n",
    "  figure.suptitle(title, fontsize=14)\n",
    "\n",
    "  plt.subplots_adjust(wspace=0.2)\n",
    "  plt.show()\n",
    "\n",
    "# Load the learning curves.\n",
    "path_bas_lc = os.path.join(BASELINE_PATH, 'curves.pkl')\n",
    "with open(path_bas_lc, 'rb') as file:\n",
    "    data = pickle.load(file)\n",
    "\n",
    "if isinstance(data, dict) and 'avg_train_loss' in data and 'val_uas' in data:\n",
    "    print('[INFO] Learning curves retrieved correctly.')\n",
    "    all_avg_train_loss = data['avg_train_loss']\n",
    "    all_val_uas = data['val_uas']\n",
    "else:\n",
    "    print('[ERROR] The pickle file does not contain the expected data structure.')\n",
    "\n",
    "# Plot the learning curves.\n",
    "plot_curves('Training Loss and Validation UAS for Baseline Model',\n",
    "            all_avg_train_loss, all_val_uas)"
   ]
  },
  {
   "cell_type": "markdown",
   "metadata": {
    "id": "cOcI4cFLuX8X"
   },
   "source": [
    "Now, let's load the best model in terms of validation UAS."
   ]
  },
  {
   "cell_type": "code",
   "execution_count": 28,
   "metadata": {
    "colab": {
     "base_uri": "https://localhost:8080/"
    },
    "executionInfo": {
     "elapsed": 2906,
     "status": "ok",
     "timestamp": 1687554486161,
     "user": {
      "displayName": "Jesús Moncada Ramírez",
      "userId": "03809042163319486653"
     },
     "user_tz": -120
    },
    "id": "axsyxFGNuhut",
    "outputId": "886884e0-97a3-4b03-9627-1891471a97b8"
   },
   "outputs": [
    {
     "name": "stdout",
     "output_type": "stream",
     "text": [
      "[INFO] Best baseline model has the index 19.\n",
      "[INFO] Loading from /content/drive/MyDrive/ESTUDIOS/2022-23/NaturalLanguageProcessing/Project/trained_models/baseline_conf5_lstm200_mlp200/model19.yml.\n"
     ]
    },
    {
     "name": "stderr",
     "output_type": "stream",
     "text": [
      "/usr/local/lib/python3.10/dist-packages/torch/nn/modules/rnn.py:71: UserWarning: dropout option adds dropout after all but last recurrent layer, so non-zero dropout expects num_layers greater than 1, but got dropout=0.2 and num_layers=1\n",
      "  warnings.warn(\"dropout option adds dropout after all but last \"\n"
     ]
    },
    {
     "data": {
      "text/plain": [
       "<All keys matched successfully>"
      ]
     },
     "execution_count": 28,
     "metadata": {},
     "output_type": "execute_result"
    }
   ],
   "source": [
    "# Get best model index\n",
    "best_baseline_index = np.argmax(all_val_uas)\n",
    "print(f'[INFO] Best baseline model has the index {best_baseline_index}.')\n",
    "\n",
    "# Get best model path\n",
    "path_bas_mod = os.path.join(BASELINE_PATH, f'model{best_baseline_index:02d}.yml')\n",
    "print(f'[INFO] Loading from {path_bas_mod}.')\n",
    "\n",
    "# Load the model\n",
    "device = torch.device(\"cuda\" if torch.cuda.is_available() else \"cpu\")\n",
    "best_baseline_model = BaselineNet(device)\n",
    "best_baseline_model.to(device)\n",
    "# Comment one depending on CPU or GPU.\n",
    "best_baseline_model.load_state_dict(torch.load(path_bas_mod))\n",
    "#best_baseline_model.load_state_dict(torch.load(path_bas_mod, map_location=torch.device('cpu')))"
   ]
  },
  {
   "cell_type": "markdown",
   "metadata": {
    "id": "hcktmQTK6GMU"
   },
   "source": [
    "### 5.2. Bert-based model"
   ]
  },
  {
   "cell_type": "markdown",
   "metadata": {
    "id": "pU_ZJefvbRPC"
   },
   "source": [
    "The following functions allow us to execute the training loop in the BERT-based model."
   ]
  },
  {
   "cell_type": "code",
   "execution_count": 29,
   "metadata": {
    "executionInfo": {
     "elapsed": 35,
     "status": "ok",
     "timestamp": 1687554486166,
     "user": {
      "displayName": "Jesús Moncada Ramírez",
      "userId": "03809042163319486653"
     },
     "user_tz": -120
    },
    "id": "rT2gBlZswEsc"
   },
   "outputs": [],
   "source": [
    "def bertbased_train(model, dataloader, criterion, optimizer, device):\n",
    "  \"\"\"\n",
    "  BERT-based model's training function.\n",
    "  \"\"\"\n",
    "\n",
    "  model.train()\n",
    "\n",
    "  # All the batch losses in the epoch.\n",
    "  losses = []\n",
    "\n",
    "  for batch in tqdm(dataloader, '\\tTraining epoch...', position=0, leave=True):\n",
    "\n",
    "    optimizer.zero_grad()\n",
    "    tokens, sentences, paths, moves, trees = batch # get a batch\n",
    "\n",
    "    out = model(tokens, paths) # get a prediction\n",
    "\n",
    "    labels = torch.tensor(sum(moves, [])).to(device) # flatten labels\n",
    "\n",
    "    # Compute and save loss.\n",
    "    loss = criterion(out, labels)\n",
    "    losses.append(loss.item())\n",
    "\n",
    "    # Backpropagation.\n",
    "    loss.backward()\n",
    "    optimizer.step()\n",
    "\n",
    "  return losses\n",
    "\n",
    "def bertbased_test(model, dataloader):\n",
    "  \"\"\"\n",
    "  BERT-based model's test function.\n",
    "  \"\"\"\n",
    "\n",
    "  model.eval()\n",
    "\n",
    "  gold = []\n",
    "  preds = []\n",
    "\n",
    "  for batch in tqdm(dataloader, '\\tTesting...', position=0, leave=True):\n",
    "\n",
    "    tokens, sentences, paths, moves, trees = batch # get a batch\n",
    "\n",
    "    with torch.no_grad():\n",
    "      pred = model.infere(tokens, sentences)\n",
    "\n",
    "      gold += trees\n",
    "      preds += pred\n",
    "\n",
    "  return evaluate(gold, preds)"
   ]
  },
  {
   "cell_type": "code",
   "execution_count": 30,
   "metadata": {
    "executionInfo": {
     "elapsed": 34,
     "status": "ok",
     "timestamp": 1687554486167,
     "user": {
      "displayName": "Jesús Moncada Ramírez",
      "userId": "03809042163319486653"
     },
     "user_tz": -120
    },
    "id": "fp9slvpA9ZYK"
   },
   "outputs": [],
   "source": [
    "# Path to save the model\n",
    "BERTBASED_PATH = os.path.join(drive_path, 'MyDrive', 'ESTUDIOS', '2022-23',\n",
    "                              'NaturalLanguageProcessing', 'Project',\n",
    "                              'trained_models', 'bertbased_conf5_mlp600_avg')\n",
    "\n",
    "# Create if it doesn't exist\n",
    "if not os.path.exists(BERTBASED_PATH):\n",
    "  print(f'[INFO] Creating folder {BERTBASED_PATH}.')\n",
    "  os.makedirs(BERTBASED_PATH)"
   ]
  },
  {
   "cell_type": "markdown",
   "metadata": {
    "id": "EnRj20yRcEGJ"
   },
   "source": [
    "If we applied the classical ``torch.save`` function to our model, we will obtain a 400 MB file, because we would be saving all the weights of our BERT backbone too. As we are only fine-tuning some weights in the topmost layers (the rest of the weights are taken from BETO), we will save only these. For this, we need a different function."
   ]
  },
  {
   "cell_type": "code",
   "execution_count": 31,
   "metadata": {
    "executionInfo": {
     "elapsed": 39,
     "status": "ok",
     "timestamp": 1687554486172,
     "user": {
      "displayName": "Jesús Moncada Ramírez",
      "userId": "03809042163319486653"
     },
     "user_tz": -120
    },
    "id": "8maNYY7oJ_9a"
   },
   "outputs": [],
   "source": [
    "def save_bertbased(model, path):\n",
    "  \"\"\"\n",
    "  Saves the BertBasedNet weights.\n",
    "\n",
    "  It avoids saving all the BERT backbone weights by only saving the weights of\n",
    "  the topmost layers that have been fine-tuned.\n",
    "\n",
    "  Args:\n",
    "    model: needs to be a BertBasedNet object.\n",
    "    path: path to save the model's weights.\n",
    "  \"\"\"\n",
    "\n",
    "  parameters_to_save = {}\n",
    "  for name, param in model.named_parameters():\n",
    "      if not name.startswith('bert.') or name in ('bert.pooler.dense.bias', 'bert.pooler.dense.weight'):\n",
    "          parameters_to_save[name] = param\n",
    "\n",
    "  torch.save(parameters_to_save, path)"
   ]
  },
  {
   "cell_type": "code",
   "execution_count": null,
   "metadata": {
    "id": "6geQATYN6JK3"
   },
   "outputs": [],
   "source": [
    "##########################################\n",
    "################ TRAINING ################\n",
    "##########################################\n",
    "# Select GPU device if possible.\n",
    "device = torch.device(\"cuda\" if torch.cuda.is_available() else \"cpu\")\n",
    "print(\"Device:\", device)\n",
    "bertbased_model = BertBasedNet(device)\n",
    "bertbased_model.to(device)\n",
    "\n",
    "criterion = nn.CrossEntropyLoss()\n",
    "optimizer = torch.optim.Adam(bertbased_model.parameters(), lr=BERTBASED_LR)\n",
    "\n",
    "all_avg_train_loss = [] # average training loss over epochs\n",
    "all_val_uas = [] # validation UAS over epochs\n",
    "\n",
    "for epoch in range(BERTBASED_EPOCHS):\n",
    "  print(f'EPOCH {epoch}...')\n",
    "\n",
    "  # Train the epoch.\n",
    "  train_losses = bertbased_train(bertbased_model, train_dataloader, criterion, optimizer, device)\n",
    "\n",
    "  # Compute average (in the epoch) training loss.\n",
    "  avg_train_loss = np.mean(train_losses)\n",
    "  all_avg_train_loss.append(avg_train_loss)\n",
    "\n",
    "  # Compute validation UAS.\n",
    "  val_uas = bertbased_test(bertbased_model, dev_dataloader)\n",
    "  all_val_uas.append(val_uas)\n",
    "\n",
    "  # Report\n",
    "  print(\"\\tEpoch results | avg_train_loss: {:5.3f} | dev_uas: {:5.3f} |\".format(avg_train_loss, val_uas))\n",
    "\n",
    "  # Save the model.\n",
    "  path_bert_mod = os.path.join(BERTBASED_PATH, f'model{epoch:02d}.yml')\n",
    "  print(f'\\tSaving the model to {path_bert_mod}')\n",
    "  save_bertbased(bertbased_model, path_bert_mod)\n",
    "\n",
    "# Save learning curves.\n",
    "path_bert_lc = os.path.join(BERTBASED_PATH, f'curves.pkl')\n",
    "print(f'\\tSaving leaning curves to {path_bert_lc}')\n",
    "data = {\n",
    "    'avg_train_loss': all_avg_train_loss,\n",
    "    'val_uas': all_val_uas\n",
    "}\n",
    "with open(path_bert_lc, 'wb') as file:\n",
    "    pickle.dump(data, file)"
   ]
  },
  {
   "cell_type": "markdown",
   "metadata": {
    "id": "koEOmKRBBUZJ"
   },
   "source": [
    "Now let's plot the training curves (training loss and validation UAS over epochs)."
   ]
  },
  {
   "cell_type": "code",
   "execution_count": 33,
   "metadata": {
    "colab": {
     "base_uri": "https://localhost:8080/",
     "height": 465
    },
    "executionInfo": {
     "elapsed": 33,
     "status": "ok",
     "timestamp": 1687554486172,
     "user": {
      "displayName": "Jesús Moncada Ramírez",
      "userId": "03809042163319486653"
     },
     "user_tz": -120
    },
    "id": "HJ18fgoiAV0h",
    "outputId": "30a8d7aa-341a-41d5-99c1-84bdd107aa6b"
   },
   "outputs": [
    {
     "name": "stdout",
     "output_type": "stream",
     "text": [
      "[INFO] Learning curves retrieved correctly.\n"
     ]
    },
    {
     "data": {
      "image/png": "[encoded data removed]",
      "text/plain": [
       "<Figure size 1100x500 with 2 Axes>"
      ]
     },
     "metadata": {},
     "output_type": "display_data"
    }
   ],
   "source": [
    "# Load the learning curves.\n",
    "path_bert_lc = os.path.join(BERTBASED_PATH, 'curves.pkl')\n",
    "with open(path_bert_lc, 'rb') as file:\n",
    "    data = pickle.load(file)\n",
    "\n",
    "if isinstance(data, dict) and 'avg_train_loss' in data and 'val_uas' in data:\n",
    "    print('[INFO] Learning curves retrieved correctly.')\n",
    "    all_avg_train_loss = data['avg_train_loss']\n",
    "    all_val_uas = data['val_uas']\n",
    "else:\n",
    "    print('[ERROR] The pickle file does not contain the expected data structure.')\n",
    "\n",
    "# Plot the learning curves.\n",
    "plot_curves('Training Loss and Validation UAS for Bert-based Model',\n",
    "            all_avg_train_loss, all_val_uas)"
   ]
  },
  {
   "cell_type": "markdown",
   "metadata": {
    "id": "PVuACHjKBup9"
   },
   "source": [
    "Now let's load the best model in terms of validation UAS."
   ]
  },
  {
   "cell_type": "code",
   "execution_count": 34,
   "metadata": {
    "colab": {
     "base_uri": "https://localhost:8080/"
    },
    "executionInfo": {
     "elapsed": 1841,
     "status": "ok",
     "timestamp": 1687554487984,
     "user": {
      "displayName": "Jesús Moncada Ramírez",
      "userId": "03809042163319486653"
     },
     "user_tz": -120
    },
    "id": "ruUsgriJByIB",
    "outputId": "dd146af7-961a-48c2-98b2-bd3b30ff140b"
   },
   "outputs": [
    {
     "name": "stdout",
     "output_type": "stream",
     "text": [
      "[INFO] Best baseline model has the index 19.\n",
      "[INFO] Loading from /content/drive/MyDrive/ESTUDIOS/2022-23/NaturalLanguageProcessing/Project/trained_models/bertbased_conf5_mlp600_avg/model19.yml.\n"
     ]
    },
    {
     "name": "stderr",
     "output_type": "stream",
     "text": [
      "Some weights of the model checkpoint at dccuchile/bert-base-spanish-wwm-cased were not used when initializing BertModel: ['cls.predictions.transform.LayerNorm.weight', 'cls.predictions.transform.LayerNorm.bias', 'cls.predictions.bias', 'cls.predictions.transform.dense.weight', 'cls.predictions.transform.dense.bias', 'cls.predictions.decoder.bias', 'cls.predictions.decoder.weight']\n",
      "- This IS expected if you are initializing BertModel from the checkpoint of a model trained on another task or with another architecture (e.g. initializing a BertForSequenceClassification model from a BertForPreTraining model).\n",
      "- This IS NOT expected if you are initializing BertModel from the checkpoint of a model that you expect to be exactly identical (initializing a BertForSequenceClassification model from a BertForSequenceClassification model).\n",
      "Some weights of BertModel were not initialized from the model checkpoint at dccuchile/bert-base-spanish-wwm-cased and are newly initialized: ['bert.pooler.dense.weight', 'bert.pooler.dense.bias']\n",
      "You should probably TRAIN this model on a down-stream task to be able to use it for predictions and inference.\n"
     ]
    },
    {
     "data": {
      "text/plain": [
       "_IncompatibleKeys(missing_keys=['bert.embeddings.position_ids', 'bert.embeddings.word_embeddings.weight', 'bert.embeddings.position_embeddings.weight', 'bert.embeddings.token_type_embeddings.weight', 'bert.embeddings.LayerNorm.weight', 'bert.embeddings.LayerNorm.bias', 'bert.encoder.layer.0.attention.self.query.weight', 'bert.encoder.layer.0.attention.self.query.bias', 'bert.encoder.layer.0.attention.self.key.weight', 'bert.encoder.layer.0.attention.self.key.bias', 'bert.encoder.layer.0.attention.self.value.weight', 'bert.encoder.layer.0.attention.self.value.bias', 'bert.encoder.layer.0.attention.output.dense.weight', 'bert.encoder.layer.0.attention.output.dense.bias', 'bert.encoder.layer.0.attention.output.LayerNorm.weight', 'bert.encoder.layer.0.attention.output.LayerNorm.bias', 'bert.encoder.layer.0.intermediate.dense.weight', 'bert.encoder.layer.0.intermediate.dense.bias', 'bert.encoder.layer.0.output.dense.weight', 'bert.encoder.layer.0.output.dense.bias', 'bert.encoder.layer.0.output.LayerNorm.weight', 'bert.encoder.layer.0.output.LayerNorm.bias', 'bert.encoder.layer.1.attention.self.query.weight', 'bert.encoder.layer.1.attention.self.query.bias', 'bert.encoder.layer.1.attention.self.key.weight', 'bert.encoder.layer.1.attention.self.key.bias', 'bert.encoder.layer.1.attention.self.value.weight', 'bert.encoder.layer.1.attention.self.value.bias', 'bert.encoder.layer.1.attention.output.dense.weight', 'bert.encoder.layer.1.attention.output.dense.bias', 'bert.encoder.layer.1.attention.output.LayerNorm.weight', 'bert.encoder.layer.1.attention.output.LayerNorm.bias', 'bert.encoder.layer.1.intermediate.dense.weight', 'bert.encoder.layer.1.intermediate.dense.bias', 'bert.encoder.layer.1.output.dense.weight', 'bert.encoder.layer.1.output.dense.bias', 'bert.encoder.layer.1.output.LayerNorm.weight', 'bert.encoder.layer.1.output.LayerNorm.bias', 'bert.encoder.layer.2.attention.self.query.weight', 'bert.encoder.layer.2.attention.self.query.bias', 'bert.encoder.layer.2.attention.self.key.weight', 'bert.encoder.layer.2.attention.self.key.bias', 'bert.encoder.layer.2.attention.self.value.weight', 'bert.encoder.layer.2.attention.self.value.bias', 'bert.encoder.layer.2.attention.output.dense.weight', 'bert.encoder.layer.2.attention.output.dense.bias', 'bert.encoder.layer.2.attention.output.LayerNorm.weight', 'bert.encoder.layer.2.attention.output.LayerNorm.bias', 'bert.encoder.layer.2.intermediate.dense.weight', 'bert.encoder.layer.2.intermediate.dense.bias', 'bert.encoder.layer.2.output.dense.weight', 'bert.encoder.layer.2.output.dense.bias', 'bert.encoder.layer.2.output.LayerNorm.weight', 'bert.encoder.layer.2.output.LayerNorm.bias', 'bert.encoder.layer.3.attention.self.query.weight', 'bert.encoder.layer.3.attention.self.query.bias', 'bert.encoder.layer.3.attention.self.key.weight', 'bert.encoder.layer.3.attention.self.key.bias', 'bert.encoder.layer.3.attention.self.value.weight', 'bert.encoder.layer.3.attention.self.value.bias', 'bert.encoder.layer.3.attention.output.dense.weight', 'bert.encoder.layer.3.attention.output.dense.bias', 'bert.encoder.layer.3.attention.output.LayerNorm.weight', 'bert.encoder.layer.3.attention.output.LayerNorm.bias', 'bert.encoder.layer.3.intermediate.dense.weight', 'bert.encoder.layer.3.intermediate.dense.bias', 'bert.encoder.layer.3.output.dense.weight', 'bert.encoder.layer.3.output.dense.bias', 'bert.encoder.layer.3.output.LayerNorm.weight', 'bert.encoder.layer.3.output.LayerNorm.bias', 'bert.encoder.layer.4.attention.self.query.weight', 'bert.encoder.layer.4.attention.self.query.bias', 'bert.encoder.layer.4.attention.self.key.weight', 'bert.encoder.layer.4.attention.self.key.bias', 'bert.encoder.layer.4.attention.self.value.weight', 'bert.encoder.layer.4.attention.self.value.bias', 'bert.encoder.layer.4.attention.output.dense.weight', 'bert.encoder.layer.4.attention.output.dense.bias', 'bert.encoder.layer.4.attention.output.LayerNorm.weight', 'bert.encoder.layer.4.attention.output.LayerNorm.bias', 'bert.encoder.layer.4.intermediate.dense.weight', 'bert.encoder.layer.4.intermediate.dense.bias', 'bert.encoder.layer.4.output.dense.weight', 'bert.encoder.layer.4.output.dense.bias', 'bert.encoder.layer.4.output.LayerNorm.weight', 'bert.encoder.layer.4.output.LayerNorm.bias', 'bert.encoder.layer.5.attention.self.query.weight', 'bert.encoder.layer.5.attention.self.query.bias', 'bert.encoder.layer.5.attention.self.key.weight', 'bert.encoder.layer.5.attention.self.key.bias', 'bert.encoder.layer.5.attention.self.value.weight', 'bert.encoder.layer.5.attention.self.value.bias', 'bert.encoder.layer.5.attention.output.dense.weight', 'bert.encoder.layer.5.attention.output.dense.bias', 'bert.encoder.layer.5.attention.output.LayerNorm.weight', 'bert.encoder.layer.5.attention.output.LayerNorm.bias', 'bert.encoder.layer.5.intermediate.dense.weight', 'bert.encoder.layer.5.intermediate.dense.bias', 'bert.encoder.layer.5.output.dense.weight', 'bert.encoder.layer.5.output.dense.bias', 'bert.encoder.layer.5.output.LayerNorm.weight', 'bert.encoder.layer.5.output.LayerNorm.bias', 'bert.encoder.layer.6.attention.self.query.weight', 'bert.encoder.layer.6.attention.self.query.bias', 'bert.encoder.layer.6.attention.self.key.weight', 'bert.encoder.layer.6.attention.self.key.bias', 'bert.encoder.layer.6.attention.self.value.weight', 'bert.encoder.layer.6.attention.self.value.bias', 'bert.encoder.layer.6.attention.output.dense.weight', 'bert.encoder.layer.6.attention.output.dense.bias', 'bert.encoder.layer.6.attention.output.LayerNorm.weight', 'bert.encoder.layer.6.attention.output.LayerNorm.bias', 'bert.encoder.layer.6.intermediate.dense.weight', 'bert.encoder.layer.6.intermediate.dense.bias', 'bert.encoder.layer.6.output.dense.weight', 'bert.encoder.layer.6.output.dense.bias', 'bert.encoder.layer.6.output.LayerNorm.weight', 'bert.encoder.layer.6.output.LayerNorm.bias', 'bert.encoder.layer.7.attention.self.query.weight', 'bert.encoder.layer.7.attention.self.query.bias', 'bert.encoder.layer.7.attention.self.key.weight', 'bert.encoder.layer.7.attention.self.key.bias', 'bert.encoder.layer.7.attention.self.value.weight', 'bert.encoder.layer.7.attention.self.value.bias', 'bert.encoder.layer.7.attention.output.dense.weight', 'bert.encoder.layer.7.attention.output.dense.bias', 'bert.encoder.layer.7.attention.output.LayerNorm.weight', 'bert.encoder.layer.7.attention.output.LayerNorm.bias', 'bert.encoder.layer.7.intermediate.dense.weight', 'bert.encoder.layer.7.intermediate.dense.bias', 'bert.encoder.layer.7.output.dense.weight', 'bert.encoder.layer.7.output.dense.bias', 'bert.encoder.layer.7.output.LayerNorm.weight', 'bert.encoder.layer.7.output.LayerNorm.bias', 'bert.encoder.layer.8.attention.self.query.weight', 'bert.encoder.layer.8.attention.self.query.bias', 'bert.encoder.layer.8.attention.self.key.weight', 'bert.encoder.layer.8.attention.self.key.bias', 'bert.encoder.layer.8.attention.self.value.weight', 'bert.encoder.layer.8.attention.self.value.bias', 'bert.encoder.layer.8.attention.output.dense.weight', 'bert.encoder.layer.8.attention.output.dense.bias', 'bert.encoder.layer.8.attention.output.LayerNorm.weight', 'bert.encoder.layer.8.attention.output.LayerNorm.bias', 'bert.encoder.layer.8.intermediate.dense.weight', 'bert.encoder.layer.8.intermediate.dense.bias', 'bert.encoder.layer.8.output.dense.weight', 'bert.encoder.layer.8.output.dense.bias', 'bert.encoder.layer.8.output.LayerNorm.weight', 'bert.encoder.layer.8.output.LayerNorm.bias', 'bert.encoder.layer.9.attention.self.query.weight', 'bert.encoder.layer.9.attention.self.query.bias', 'bert.encoder.layer.9.attention.self.key.weight', 'bert.encoder.layer.9.attention.self.key.bias', 'bert.encoder.layer.9.attention.self.value.weight', 'bert.encoder.layer.9.attention.self.value.bias', 'bert.encoder.layer.9.attention.output.dense.weight', 'bert.encoder.layer.9.attention.output.dense.bias', 'bert.encoder.layer.9.attention.output.LayerNorm.weight', 'bert.encoder.layer.9.attention.output.LayerNorm.bias', 'bert.encoder.layer.9.intermediate.dense.weight', 'bert.encoder.layer.9.intermediate.dense.bias', 'bert.encoder.layer.9.output.dense.weight', 'bert.encoder.layer.9.output.dense.bias', 'bert.encoder.layer.9.output.LayerNorm.weight', 'bert.encoder.layer.9.output.LayerNorm.bias', 'bert.encoder.layer.10.attention.self.query.weight', 'bert.encoder.layer.10.attention.self.query.bias', 'bert.encoder.layer.10.attention.self.key.weight', 'bert.encoder.layer.10.attention.self.key.bias', 'bert.encoder.layer.10.attention.self.value.weight', 'bert.encoder.layer.10.attention.self.value.bias', 'bert.encoder.layer.10.attention.output.dense.weight', 'bert.encoder.layer.10.attention.output.dense.bias', 'bert.encoder.layer.10.attention.output.LayerNorm.weight', 'bert.encoder.layer.10.attention.output.LayerNorm.bias', 'bert.encoder.layer.10.intermediate.dense.weight', 'bert.encoder.layer.10.intermediate.dense.bias', 'bert.encoder.layer.10.output.dense.weight', 'bert.encoder.layer.10.output.dense.bias', 'bert.encoder.layer.10.output.LayerNorm.weight', 'bert.encoder.layer.10.output.LayerNorm.bias', 'bert.encoder.layer.11.attention.self.query.weight', 'bert.encoder.layer.11.attention.self.query.bias', 'bert.encoder.layer.11.attention.self.key.weight', 'bert.encoder.layer.11.attention.self.key.bias', 'bert.encoder.layer.11.attention.self.value.weight', 'bert.encoder.layer.11.attention.self.value.bias', 'bert.encoder.layer.11.attention.output.dense.weight', 'bert.encoder.layer.11.attention.output.dense.bias', 'bert.encoder.layer.11.attention.output.LayerNorm.weight', 'bert.encoder.layer.11.attention.output.LayerNorm.bias', 'bert.encoder.layer.11.intermediate.dense.weight', 'bert.encoder.layer.11.intermediate.dense.bias', 'bert.encoder.layer.11.output.dense.weight', 'bert.encoder.layer.11.output.dense.bias', 'bert.encoder.layer.11.output.LayerNorm.weight', 'bert.encoder.layer.11.output.LayerNorm.bias'], unexpected_keys=[])"
      ]
     },
     "execution_count": 34,
     "metadata": {},
     "output_type": "execute_result"
    }
   ],
   "source": [
    "# Get best model index.\n",
    "bert_bertbased_index = np.argmax(all_val_uas)\n",
    "print(f'[INFO] Best baseline model has the index {bert_bertbased_index}.')\n",
    "\n",
    "# Get best model path.\n",
    "path_bert_mod = os.path.join(BERTBASED_PATH, f'model{bert_bertbased_index:02d}.yml')\n",
    "print(f'[INFO] Loading from {path_bert_mod}.')\n",
    "\n",
    "# Load the model.\n",
    "device = torch.device(\"cuda\" if torch.cuda.is_available() else \"cpu\")\n",
    "best_bertbased_model = BertBasedNet(device)\n",
    "best_bertbased_model.to(device)\n",
    "# IMPORTANT: the following line will print a large warning, as we are loading\n",
    "# only some BERT weights (the ones optimized by us)\n",
    "# Comment one depending on CPU or GPU.\n",
    "best_bertbased_model.load_state_dict(torch.load(path_bert_mod), strict=False)\n",
    "#best_bertbased_model.load_state_dict(torch.load(path_bert_mod, map_location=torch.device('cpu')), strict=False)"
   ]
  },
  {
   "cell_type": "markdown",
   "metadata": {
    "id": "_pfKZnKAeEHv"
   },
   "source": [
    "The previous cell outputs a large warning, that warns us that only some of the model weights have been loaded from the file, this is the expected behaviour. Remember we only saved the weights that were fine-tuned by us (those from the topmost layers), the rest will be already initialized in BETO."
   ]
  },
  {
   "cell_type": "markdown",
   "metadata": {
    "id": "kAp89DSQf1D5"
   },
   "source": [
    "Some notes about the training process of both models:\n",
    "- <u>Training time.</u> Using the Google Colab GPU acceleration, in both models each epoch takes approximately 3 minutes to train and 30 seconds to compute validation UAS. With 20 epochs, the whole training process takes about 70 minutes.\n",
    "- <u>Extensive experiments</u>. A lot of experiments have been performed before reaching the final implementation decisions. We tried with several hyperparameter in order to achieve better results in terms of validation UAS. For example, we tested with the number of MLP layers, the number of parser configurations in the instances of the training data, different pre-trained Spanish BERT models...\n",
    "- <u>Download the final models</u>. The final trained models can be found in a [Google Drive folder](https://drive.google.com/drive/folders/1gE7oKrTnzPiWqh-1f334A_3zHr5S3_fj?usp=sharing). Note that they contain all the different models over epochs and the learning curves.\n",
    "- <u>Catastrophic forgetting</u>. At a certain point in the development of the project, we were stuck because the performance of the BERT-based model was too poor. We tried then to train the whole BERT backbone instead of doing fine-tuning in the topmost layers. This resulted in catastrophic forgetting producing a validation UAS much worse than the first obtained. Obviously, we decided to discard this implementation decision and try other methods."
   ]
  },
  {
   "cell_type": "markdown",
   "metadata": {
    "id": "Hgz2nCyhaRQa"
   },
   "source": [
    "## 6. Evaluation"
   ]
  },
  {
   "cell_type": "markdown",
   "metadata": {
    "id": "m6MXo_URahfK"
   },
   "source": [
    "### 6.1. Comparison between models"
   ]
  },
  {
   "cell_type": "markdown",
   "metadata": {
    "id": "TM5ddClIam81"
   },
   "source": [
    "Once we have trained both models we are ready to evaluate them on the test set.\n",
    "\n",
    "In some way, we have already performed some evaluation with the validation UAS curves. In this regard, both models yield very similar results, which is an  **unexpected result** as we presumed that the BERT-based model was going to outperform the baseline one since the training.\n",
    "\n",
    "So, in order to get a definitive comparison between models, let's evaluate them on the test set."
   ]
  },
  {
   "cell_type": "code",
   "execution_count": 35,
   "metadata": {
    "colab": {
     "base_uri": "https://localhost:8080/",
     "height": 150,
     "referenced_widgets": [
      "76d623f732bd486e97f7b7e0fd474dd5",
      "7c2cacda78964239977b915814a82236",
      "807a6b901809441495617ece52bf597a",
      "250bff2676b74d71b7acd738a50930c1",
      "c9d303d004ea405c9e48f8d614bf5939",
      "e2f4bf1ed74e4ff5bff914dc8c4e118e",
      "2b67afecb5f543f9a8b9c655bf9c3796",
      "3f9ffcf2167844238e81bdafce2a7b17",
      "47f658635ea145db8448aa86691d2c37",
      "25878c2705d24efa8d31f45bd250a3d2",
      "bd9657a9f21e4b3780356d6540cbabe9",
      "edc04a03e30144e4a2031219abe96f46",
      "8f4b995c083b48bdb41db7bb88cd7785",
      "79b6883e18514c52ad5184867fc9b090",
      "4b727d8e51e545df969fd0b8e53c63e4",
      "9e7914866e9b44c7a7cc1ecead721592",
      "1b4de29de2b9483789c2dbee471f3ee1",
      "2b99e0a2293d4d8499e67a17f6f4db57",
      "56b36fb33f654bdd81cfe2e39fbeb003",
      "986922fccbe94120a84068c40204b1fa",
      "b38f714322d64d31b0c665dd6a4d9df0",
      "9987fa449bce41f9864bed7d225e590d"
     ]
    },
    "executionInfo": {
     "elapsed": 66689,
     "status": "ok",
     "timestamp": 1687554554669,
     "user": {
      "displayName": "Jesús Moncada Ramírez",
      "userId": "03809042163319486653"
     },
     "user_tz": -120
    },
    "id": "jpCN6la0ahBf",
    "outputId": "985c77b8-3a0a-4708-876a-88ed595c163c"
   },
   "outputs": [
    {
     "name": "stdout",
     "output_type": "stream",
     "text": [
      "BASELINE model:\n"
     ]
    },
    {
     "data": {
      "application/vnd.jupyter.widget-view+json": {
       "model_id": "76d623f732bd486e97f7b7e0fd474dd5",
       "version_major": 2,
       "version_minor": 0
      },
      "text/plain": [
       "\tTesting...:   0%|          | 0/54 [00:00<?, ?it/s]"
      ]
     },
     "metadata": {},
     "output_type": "display_data"
    },
    {
     "name": "stdout",
     "output_type": "stream",
     "text": [
      "\tTEST UAS = 0.7794170564951421\n",
      "BERT-BASED model:\n"
     ]
    },
    {
     "data": {
      "application/vnd.jupyter.widget-view+json": {
       "model_id": "edc04a03e30144e4a2031219abe96f46",
       "version_major": 2,
       "version_minor": 0
      },
      "text/plain": [
       "\tTesting...:   0%|          | 0/54 [00:00<?, ?it/s]"
      ]
     },
     "metadata": {},
     "output_type": "display_data"
    },
    {
     "name": "stdout",
     "output_type": "stream",
     "text": [
      "\tTEST UAS = 0.7868600973466412\n"
     ]
    }
   ],
   "source": [
    "print('BASELINE model:')\n",
    "baseline_test_uas = baseline_test(best_baseline_model, test_dataloader)\n",
    "print(f'\\tTEST UAS = {baseline_test_uas}')\n",
    "\n",
    "print('BERT-BASED model:')\n",
    "bertbased_test_uas = bertbased_test(best_bertbased_model, test_dataloader)\n",
    "print(f'\\tTEST UAS = {bertbased_test_uas}')"
   ]
  },
  {
   "cell_type": "markdown",
   "metadata": {
    "id": "W8E9oxclaTK-"
   },
   "source": [
    "On the test set, the BERT-based model slightly outperforms the baseline one (using Bi-LSTM).\n",
    "\n",
    "We justify the result with the following reasons:\n",
    "- The BERT model we have used is a transformer-based model that has been pretrained on a **massive amount of text data**. It has been shown to capture rich semantic and syntactic information from the text, making it a powerful language representation model. In contrast, Bi-LSTMs rely solely on the sequential information of the input, which may be limited.\n",
    "- BERT generates contextualized word representations by considering the **entire input sentence** rather than relying solely on the left and right context like Bi-LSTMs. This contextualization allows BERT to capture dependencies and relationships between words more effectively.\n",
    "- BERT utilizes **subword tokenization**, which can handle out-of-vocabulary (OOV) words and capture morphological information. Dependency parsing can benefit from this subword-level representation as it helps handle complex linguistic phenomena like word compounding, morphological variations, and rare words. Bi-LSTMs, which typically operate at the word level, may struggle to handle these phenomena effectively. In fact, in our baseline model, we have decided to substitute every word appearing less than 3 times in the dataset by the token *unk*. Especially in these cases, the BERT-based model can get a more rich embedding considering the token text.\n",
    "- BERT employs a **self-attention** mechanism that allows it to capture long-range dependencies and focus on relevant contextual information. This attention mechanism helps BERT understand the relationships between different words in a sentence, which is crucial for dependency parsing."
   ]
  },
  {
   "cell_type": "markdown",
   "metadata": {
    "id": "xyhZbsvz2w_U"
   },
   "source": [
    "### 6.2. Error analysis for the BERT-based model"
   ]
  },
  {
   "cell_type": "markdown",
   "metadata": {
    "id": "cqS-s2_lWa69"
   },
   "source": [
    "To perform some error analysis for the BERT-based model we will create a reduced version of the dataset containing sentences with no more than 15 words.\n",
    "The motivation behind limiting the sentences to a maximum of 15 words is to facilitate quick and efficient visualization.\n",
    "We will only use the test split, for which we will create a dataloader."
   ]
  },
  {
   "cell_type": "code",
   "execution_count": 36,
   "metadata": {
    "colab": {
     "base_uri": "https://localhost:8080/",
     "height": 329,
     "referenced_widgets": [
      "e847b5e98e8b450ab2869940db9a1033",
      "bbf623fea8d1410b80f0c534489cef77",
      "42f9ab27d9df44919bedbba673523908",
      "5d533bbce53e4ab6b32a54b33a5f573a",
      "e5e51f0ab16a45e0a8b0585b6f997c95",
      "1929f08394224af3b44cf031aa53dd0a",
      "6a1316da6d544ba9830244ea11c2f963",
      "64ddbd2e7c6d4064ae9c1befbc96273c",
      "dd9cfb00cab04423a9fe5631ac6b1d12",
      "7dd070c8acaf4b8d9d8d599b2a637b75",
      "5368b9f830db4a6d9eb21e5964f3e8be"
     ]
    },
    "executionInfo": {
     "elapsed": 5763,
     "status": "ok",
     "timestamp": 1687554560421,
     "user": {
      "displayName": "Jesús Moncada Ramírez",
      "userId": "03809042163319486653"
     },
     "user_tz": -120
    },
    "id": "_bA0Cn_IW_v7",
    "outputId": "48c78155-e4f1-45be-af2c-60229d979568"
   },
   "outputs": [
    {
     "name": "stderr",
     "output_type": "stream",
     "text": [
      "WARNING:datasets.builder:Found cached dataset universal_dependencies (/root/.cache/huggingface/datasets/universal_dependencies/es_ancora/2.7.0/1ac001f0e8a0021f19388e810c94599f3ac13cc45d6b5b8c69f7847b2188bdf7)\n"
     ]
    },
    {
     "data": {
      "application/vnd.jupyter.widget-view+json": {
       "model_id": "e847b5e98e8b450ab2869940db9a1033",
       "version_major": 2,
       "version_minor": 0
      },
      "text/plain": [
       "  0%|          | 0/3 [00:00<?, ?it/s]"
      ]
     },
     "metadata": {},
     "output_type": "display_data"
    },
    {
     "name": "stderr",
     "output_type": "stream",
     "text": [
      "WARNING:datasets.arrow_dataset:Loading cached processed dataset at /root/.cache/huggingface/datasets/universal_dependencies/es_ancora/2.7.0/1ac001f0e8a0021f19388e810c94599f3ac13cc45d6b5b8c69f7847b2188bdf7/cache-9a68964c97f538de.arrow\n",
      "WARNING:datasets.arrow_dataset:Loading cached processed dataset at /root/.cache/huggingface/datasets/universal_dependencies/es_ancora/2.7.0/1ac001f0e8a0021f19388e810c94599f3ac13cc45d6b5b8c69f7847b2188bdf7/cache-9e19b2560563644b.arrow\n",
      "WARNING:datasets.arrow_dataset:Loading cached processed dataset at /root/.cache/huggingface/datasets/universal_dependencies/es_ancora/2.7.0/1ac001f0e8a0021f19388e810c94599f3ac13cc45d6b5b8c69f7847b2188bdf7/cache-ecaaf1db40f670b8.arrow\n"
     ]
    },
    {
     "name": "stdout",
     "output_type": "stream",
     "text": [
      "╒══════════════════════╤═════════╤══════════════╤═════════╕\n",
      "│ Measure              │   train │   validation │    test │\n",
      "╞══════════════════════╪═════════╪══════════════╪═════════╡\n",
      "│ Number of instances  │    2722 │          299 │     388 │\n",
      "├──────────────────────┼─────────┼──────────────┼─────────┤\n",
      "│ Sentence length mean │ 9.94453 │      9.93311 │ 10.3299 │\n",
      "├──────────────────────┼─────────┼──────────────┼─────────┤\n",
      "│ Sentence length max  │      15 │           15 │      15 │\n",
      "├──────────────────────┼─────────┼──────────────┼─────────┤\n",
      "│ Sentence length min  │       1 │            2 │       2 │\n",
      "╘══════════════════════╧═════════╧══════════════╧═════════╛\n"
     ]
    }
   ],
   "source": [
    "# Reduced dataset\n",
    "dataset_red = load_dataset('universal_dependencies', 'es_ancora')\n",
    "\n",
    "def filter_sentence_length(example):\n",
    "  if len(example['tokens']) <= 15:\n",
    "    return True\n",
    "  else: return False\n",
    "\n",
    "# Apply the filter\n",
    "dataset_red = {\n",
    "    'train': dataset_pro['train'].filter(filter_sentence_length),\n",
    "    'validation': dataset_pro['validation'].filter(filter_sentence_length),\n",
    "    'test': dataset_pro['test'].filter(filter_sentence_length)}\n",
    "\n",
    "# Show some statistics\n",
    "dataset_statistics_by_splits(['train', 'validation', 'test'], dataset_red)\n",
    "\n",
    "# Create dataloader\n",
    "red_test_dataloader = torch.utils.data.DataLoader(dataset_red['test'], batch_size=BATCH_SIZE, shuffle=False, collate_fn=partial(prepare_batch))"
   ]
  },
  {
   "cell_type": "markdown",
   "metadata": {
    "id": "yUXWpYh4qSQU"
   },
   "source": [
    "Now, in order to get the predicted dependency trees (do inference), we need to develop a structure very similar to the one in the function ``bertbased_test``. We will save all the predicted dependency trees (variable ``predictions``) and all the predicted dependency trees that contain at least one error in  (``errors``).\n",
    "\n",
    "Here, we represent each prediction with a triple containing the gold tree, the predicted tree, and the tokens' text."
   ]
  },
  {
   "cell_type": "code",
   "execution_count": 37,
   "metadata": {
    "colab": {
     "base_uri": "https://localhost:8080/",
     "height": 49,
     "referenced_widgets": [
      "c43f6505feba40d48029e482a60b2048",
      "8c38f07691e94004b37cd2c2adfc112c",
      "7a34daca90cc435781f18fbb96181f3e",
      "6c0c4c9fdeb04e99a92b307641f01f6d",
      "cc4d123cb82f4ab9a409c2ea32df0934",
      "3bb207bfd8884a0da5370663cfd327a9",
      "dab9c571f4c84037925b89df5372a7d5",
      "6ea83d05d21f4747945fe5d645f05fb2",
      "4bed25b532f8418082f1ba2a4ed5e86b",
      "b590e80e750742aa941a7656ac4267d8",
      "6b23e6af22d94bba805156ad1278d68a"
     ]
    },
    "executionInfo": {
     "elapsed": 2710,
     "status": "ok",
     "timestamp": 1687554563126,
     "user": {
      "displayName": "Jesús Moncada Ramírez",
      "userId": "03809042163319486653"
     },
     "user_tz": -120
    },
    "id": "ni8rG8XBqRWy",
    "outputId": "de45d2ef-90b6-40d5-bde8-81767587a01c"
   },
   "outputs": [
    {
     "data": {
      "application/vnd.jupyter.widget-view+json": {
       "model_id": "c43f6505feba40d48029e482a60b2048",
       "version_major": 2,
       "version_minor": 0
      },
      "text/plain": [
       "\tTesting...:   0%|          | 0/13 [00:00<?, ?it/s]"
      ]
     },
     "metadata": {},
     "output_type": "display_data"
    }
   ],
   "source": [
    "best_bertbased_model.eval()\n",
    "\n",
    "predictions = [] # predicted trees\n",
    "errors = [] # erroneous predicted trees\n",
    "\n",
    "for batch in tqdm(red_test_dataloader, '\\tTesting...', position=0, leave=True):\n",
    "\n",
    "  b_token, b_sentence, b_configurations, b_actions, b_gold = batch # get a batch\n",
    "\n",
    "  with torch.no_grad():\n",
    "    # get predicted tree\n",
    "    b_output = best_bertbased_model.infere(b_token, b_sentence)\n",
    "\n",
    "    for gold, pred, token in zip(b_gold, b_output, b_token):\n",
    "      # save predicted tree\n",
    "      predictions.append((gold, pred, token))\n",
    "      if gold != pred:\n",
    "        # save erroneous predicted tree\n",
    "        errors.append((gold, pred, token))"
   ]
  },
  {
   "cell_type": "markdown",
   "metadata": {
    "id": "G8vFQLCe1Ayf"
   },
   "source": [
    "Now let's print the number of predicted trees, the number of incorrectly predicted trees (at least one error), and let's print all the erroneous trees."
   ]
  },
  {
   "cell_type": "code",
   "execution_count": 38,
   "metadata": {
    "colab": {
     "base_uri": "https://localhost:8080/"
    },
    "executionInfo": {
     "elapsed": 1222,
     "status": "ok",
     "timestamp": 1687554564345,
     "user": {
      "displayName": "Jesús Moncada Ramírez",
      "userId": "03809042163319486653"
     },
     "user_tz": -120
    },
    "id": "8n-zCTzW1Ib3",
    "outputId": "6b9807e7-932b-4ac2-df80-2b665caeaa3e"
   },
   "outputs": [
    {
     "name": "stdout",
     "output_type": "stream",
     "text": [
      "Number of predicted dependency trees: 388\n",
      "Number of erroneous dependency trees: 139\n",
      "#### ERROR 0 ####\n",
      "╒═════════╤════════╤════╤══════╤════╤════╤════════╤══════════╤═════╤════════════╤═══╤════════╤════╤═════╤════╤═══════════╤════╕\n",
      "│ TOKENS: │ <ROOT> │ La │ rata │ es │ un │ animal │ clasista │ por │ naturaleza │ , │ hasta  │ en │ eso │ es │ asquerosa │ .  │\n",
      "├─────────┼────────┼────┼──────┼────┼────┼────────┼──────────┼─────┼────────────┼───┼────────┼────┼─────┼────┼───────────┼────┤\n",
      "│ INDEX:  │ 0      │ 1  │ 2    │ 3  │ 4  │ 5      │ 6        │ 7   │ 8          │ 9 │ 10     │ 11 │ 12  │ 13 │ 14        │ 15 │\n",
      "├─────────┼────────┼────┼──────┼────┼────┼────────┼──────────┼─────┼────────────┼───┼────────┼────┼─────┼────┼───────────┼────┤\n",
      "│ GOLD:   │ -1     │ 2  │ 5    │ 5  │ 5  │ 0      │ 5        │ 8   │ 5          │ 5 │ 12     │ 12 │ 14  │ 14 │ 5         │ 5  │\n",
      "├─────────┼────────┼────┼──────┼────┼────┼────────┼──────────┼─────┼────────────┼───┼────────┼────┼─────┼────┼───────────┼────┤\n",
      "│ OUTPUT: │ -1     │ 2  │ 5    │ 5  │ 5  │ 0      │ 5        │ 8   │ 5          │ 5 │ ERR:11 │ 12 │ 14  │ 14 │ 5         │ 5  │\n",
      "╘═════════╧════════╧════╧══════╧════╧════╧════════╧══════════╧═════╧════════════╧═══╧════════╧════╧═════╧════╧═══════════╧════╛\n",
      "#### ERROR 1 ####\n",
      "╒═════════╤════════╤═════════╤════╤════╤═════════╤═══════╤════════╤═══╤════╤══════════╤══════╤════════╤════╕\n",
      "│ TOKENS: │ <ROOT> │ Pasaron │ de │ la │ condena │ a     │ muerte │ a │ la │ libertad │ bajo │ fianza │ .  │\n",
      "├─────────┼────────┼─────────┼────┼────┼─────────┼───────┼────────┼───┼────┼──────────┼──────┼────────┼────┤\n",
      "│ INDEX:  │ 0      │ 1       │ 2  │ 3  │ 4       │ 5     │ 6      │ 7 │ 8  │ 9        │ 10   │ 11     │ 12 │\n",
      "├─────────┼────────┼─────────┼────┼────┼─────────┼───────┼────────┼───┼────┼──────────┼──────┼────────┼────┤\n",
      "│ GOLD:   │ -1     │ 0       │ 4  │ 4  │ 1       │ 4     │ 5      │ 9 │ 9  │ 1        │ 11   │ 9      │ 1  │\n",
      "├─────────┼────────┼─────────┼────┼────┼─────────┼───────┼────────┼───┼────┼──────────┼──────┼────────┼────┤\n",
      "│ OUTPUT: │ -1     │ 0       │ 4  │ 4  │ 1       │ ERR:6 │ ERR:4  │ 9 │ 9  │ ERR:4    │ 11   │ 9      │ 1  │\n",
      "╘═════════╧════════╧═════════╧════╧════╧═════════╧═══════╧════════╧═══╧════╧══════════╧══════╧════════╧════╛\n",
      "#### ERROR 2 ####\n",
      "╒═════════╤════════╤════════╤════╤═════╤════╤═══════╤═══════╤═══════╤════╤════╤═══════════╤════╤══════╤═════════════╤════════╕\n",
      "│ TOKENS: │ <ROOT> │ Es     │ lo │ que │ ha │ hecho │ hasta │ ahora │ y  │ el │ resultado │ ha │ sido │ inmejorable │ .      │\n",
      "├─────────┼────────┼────────┼────┼─────┼────┼───────┼───────┼───────┼────┼────┼───────────┼────┼──────┼─────────────┼────────┤\n",
      "│ INDEX:  │ 0      │ 1      │ 2  │ 3   │ 4  │ 5     │ 6     │ 7     │ 8  │ 9  │ 10        │ 11 │ 12   │ 13          │ 14     │\n",
      "├─────────┼────────┼────────┼────┼─────┼────┼───────┼───────┼───────┼────┼────┼───────────┼────┼──────┼─────────────┼────────┤\n",
      "│ GOLD:   │ -1     │ 5      │ 5  │ 5   │ 5  │ 0     │ 7     │ 5     │ 13 │ 10 │ 13        │ 13 │ 13   │ 5           │ 5      │\n",
      "├─────────┼────────┼────────┼────┼─────┼────┼───────┼───────┼───────┼────┼────┼───────────┼────┼──────┼─────────────┼────────┤\n",
      "│ OUTPUT: │ -1     │ ERR:13 │ 5  │ 5   │ 5  │ ERR:1 │ 7     │ 5     │ 13 │ 10 │ 13        │ 13 │ 13   │ ERR:0       │ ERR:13 │\n",
      "╘═════════╧════════╧════════╧════╧═════╧════╧═══════╧═══════╧═══════╧════╧════╧═══════════╧════╧══════╧═════════════╧════════╛\n",
      "#### ERROR 3 ####\n",
      "╒═════════╤════════╤══════╤════╤════════╤═════════╤═══════╤═══════╤═══════╤════════╤════════╤════════╤══════════╤════╕\n",
      "│ TOKENS: │ <ROOT> │ Pero │ ha │ sabido │ hacerlo │ hacer │ lo    │ de    │ frente │ y      │ con    │ dignidad │ .  │\n",
      "├─────────┼────────┼──────┼────┼────────┼─────────┼───────┼───────┼───────┼────────┼────────┼────────┼──────────┼────┤\n",
      "│ INDEX:  │ 0      │ 1    │ 2  │ 3      │ 4       │ 5     │ 6     │ 7     │ 8      │ 9      │ 10     │ 11       │ 12 │\n",
      "├─────────┼────────┼──────┼────┼────────┼─────────┼───────┼───────┼───────┼────────┼────────┼────────┼──────────┼────┤\n",
      "│ GOLD:   │ -1     │ 3    │ 3  │ 0      │ -1      │ 3     │ 4     │ 7     │ 4      │ 10     │ 10     │ 7        │ 3  │\n",
      "├─────────┼────────┼──────┼────┼────────┼─────────┼───────┼───────┼───────┼────────┼────────┼────────┼──────────┼────┤\n",
      "│ OUTPUT: │ -1     │ 3    │ 3  │ 0      │ ERR:3   │ ERR:4 │ ERR:5 │ ERR:8 │ ERR:6  │ ERR:11 │ ERR:11 │ ERR:8    │ 3  │\n",
      "╘═════════╧════════╧══════╧════╧════════╧═════════╧═══════╧═══════╧═══════╧════════╧════════╧════════╧══════════╧════╛\n",
      "#### ERROR 4 ####\n",
      "╒═════════╤════════╤═════╤═════════════╤═════════════╤══════╤══════════╤════════╤═══════╤═══════╤═════╤════════╤═══════╤══════════╤════╕\n",
      "│ TOKENS: │ <ROOT> │ Esa │ experiencia │ valiosísima │ debe │ servirle │ servir │ le    │ para  │ dar │ más    │ pasos │ adelante │ .  │\n",
      "├─────────┼────────┼─────┼─────────────┼─────────────┼──────┼──────────┼────────┼───────┼───────┼─────┼────────┼───────┼──────────┼────┤\n",
      "│ INDEX:  │ 0      │ 1   │ 2           │ 3           │ 4    │ 5        │ 6      │ 7     │ 8     │ 9   │ 10     │ 11    │ 12       │ 13 │\n",
      "├─────────┼────────┼─────┼─────────────┼─────────────┼──────┼──────────┼────────┼───────┼───────┼─────┼────────┼───────┼──────────┼────┤\n",
      "│ GOLD:   │ -1     │ 2   │ 5           │ 2           │ 5    │ -1       │ 0      │ 5     │ 8     │ 5   │ 10     │ 8     │ 8        │ 5  │\n",
      "├─────────┼────────┼─────┼─────────────┼─────────────┼──────┼──────────┼────────┼───────┼───────┼─────┼────────┼───────┼──────────┼────┤\n",
      "│ OUTPUT: │ -1     │ 2   │ 5           │ 2           │ 5    │ ERR:0    │ ERR:5  │ ERR:6 │ ERR:9 │ 5   │ ERR:11 │ ERR:9 │ ERR:11   │ 5  │\n",
      "╘═════════╧════════╧═════╧═════════════╧═════════════╧══════╧══════════╧════════╧═══════╧═══════╧═════╧════════╧═══════╧══════════╧════╛\n",
      "#### ERROR 5 ####\n",
      "╒═════════╤════════╤════╤═════════╤════╤═══════╤═════╤═════╤═════════════╤═══════════╤════╤══════╤═══════╕\n",
      "│ TOKENS: │ <ROOT> │ El │ primero │ de │ éstos │ fue │ una │ motocicleta │ patentada │ en │ 1885 │ .     │\n",
      "├─────────┼────────┼────┼─────────┼────┼───────┼─────┼─────┼─────────────┼───────────┼────┼──────┼───────┤\n",
      "│ INDEX:  │ 0      │ 1  │ 2       │ 3  │ 4     │ 5   │ 6   │ 7           │ 8         │ 9  │   10 │ 11    │\n",
      "├─────────┼────────┼────┼─────────┼────┼───────┼─────┼─────┼─────────────┼───────────┼────┼──────┼───────┤\n",
      "│ GOLD:   │ -1     │ 2  │ 7       │ 4  │ 2     │ 7   │ 7   │ 0           │ 7         │ 10 │    8 │ 7     │\n",
      "├─────────┼────────┼────┼─────────┼────┼───────┼─────┼─────┼─────────────┼───────────┼────┼──────┼───────┤\n",
      "│ OUTPUT: │ -1     │ 2  │ ERR:-1  │ 4  │ 2     │ 7   │ 7   │ ERR:2       │ 7         │ 10 │    8 │ ERR:2 │\n",
      "╘═════════╧════════╧════╧═════════╧════╧═══════╧═════╧═════╧═════════════╧═══════════╧════╧══════╧═══════╛\n",
      "#### ERROR 6 ####\n",
      "╒═════════╤════════╤═════════╤═══════╤═══════╤═══════╤═════╤═══╕\n",
      "│ TOKENS: │ <ROOT> │ Daimler │ muere │ aquel │ mismo │ año │ . │\n",
      "├─────────┼────────┼─────────┼───────┼───────┼───────┼─────┼───┤\n",
      "│ INDEX:  │ 0      │ 1       │ 2     │ 3     │ 4     │ 5   │ 6 │\n",
      "├─────────┼────────┼─────────┼───────┼───────┼───────┼─────┼───┤\n",
      "│ GOLD:   │ -1     │ 2       │ 0     │ 5     │ 3     │ 2   │ 2 │\n",
      "├─────────┼────────┼─────────┼───────┼───────┼───────┼─────┼───┤\n",
      "│ OUTPUT: │ -1     │ 2       │ 0     │ 5     │ ERR:5 │ 2   │ 2 │\n",
      "╘═════════╧════════╧═════════╧═══════╧═══════╧═══════╧═════╧═══╛\n",
      "#### ERROR 7 ####\n",
      "╒═════════╤════════╤═══════╤═══════╤═══════╤═════╤═══════╤═══════╕\n",
      "│ TOKENS: │ <ROOT> │ -     │ Quién │ sabe  │ por │ qué   │ ?     │\n",
      "├─────────┼────────┼───────┼───────┼───────┼─────┼───────┼───────┤\n",
      "│ INDEX:  │ 0      │ 1     │ 2     │ 3     │ 4   │ 5     │ 6     │\n",
      "├─────────┼────────┼───────┼───────┼───────┼─────┼───────┼───────┤\n",
      "│ GOLD:   │ -1     │ 3     │ 3     │ 0     │ 5   │ 3     │ 3     │\n",
      "├─────────┼────────┼───────┼───────┼───────┼─────┼───────┼───────┤\n",
      "│ OUTPUT: │ -1     │ ERR:5 │ 3     │ ERR:5 │ 5   │ ERR:0 │ ERR:5 │\n",
      "╘═════════╧════════╧═══════╧═══════╧═══════╧═════╧═══════╧═══════╛\n",
      "#### ERROR 8 ####\n",
      "╒═════════╤════════╤════╤════╤═══════════╤════╤════════════╤═══╤═══════════╤════╤═════╤═══════╤════╤═══════════════╤═══════════╤════╕\n",
      "│ TOKENS: │ <ROOT> │ -  │ La │ capacidad │ de │ adaptación │ y │ camuflaje │ de │ los │ virus │ es │ prácticamente │ ilimitada │ .  │\n",
      "├─────────┼────────┼────┼────┼───────────┼────┼────────────┼───┼───────────┼────┼─────┼───────┼────┼───────────────┼───────────┼────┤\n",
      "│ INDEX:  │ 0      │ 1  │ 2  │ 3         │ 4  │ 5          │ 6 │ 7         │ 8  │ 9   │ 10    │ 11 │ 12            │ 13        │ 14 │\n",
      "├─────────┼────────┼────┼────┼───────────┼────┼────────────┼───┼───────────┼────┼─────┼───────┼────┼───────────────┼───────────┼────┤\n",
      "│ GOLD:   │ -1     │ 13 │ 3  │ 13        │ 5  │ 3          │ 7 │ 5         │ 10 │ 10  │ 5     │ 13 │ 13            │ 0         │ 13 │\n",
      "├─────────┼────────┼────┼────┼───────────┼────┼────────────┼───┼───────────┼────┼─────┼───────┼────┼───────────────┼───────────┼────┤\n",
      "│ OUTPUT: │ -1     │ 13 │ 3  │ 13        │ 5  │ 3          │ 7 │ 5         │ 10 │ 10  │ ERR:3 │ 13 │ 13            │ 0         │ 13 │\n",
      "╘═════════╧════════╧════╧════╧═══════════╧════╧════════════╧═══╧═══════════╧════╧═════╧═══════╧════╧═══════════════╧═══════════╧════╛\n",
      "#### ERROR 9 ####\n",
      "╒═════════╤════════╤═══════╤═══════╤════════╤═════╤════════╤════╤════════╤═════╤══════════╤══════╤═════╤═════════╤══════════╤════╕\n",
      "│ TOKENS: │ <ROOT> │ De    │ todas │ formas │ los │ duelos │ no │ fueron │ tan │ cruentos │ como │ hoy │ podamos │ imaginar │ .  │\n",
      "├─────────┼────────┼───────┼───────┼────────┼─────┼────────┼────┼────────┼─────┼──────────┼──────┼─────┼─────────┼──────────┼────┤\n",
      "│ INDEX:  │ 0      │ 1     │ 2     │ 3      │ 4   │ 5      │ 6  │ 7      │ 8   │ 9        │ 10   │ 11  │ 12      │ 13       │ 14 │\n",
      "├─────────┼────────┼───────┼───────┼────────┼─────┼────────┼────┼────────┼─────┼──────────┼──────┼─────┼─────────┼──────────┼────┤\n",
      "│ GOLD:   │ -1     │ 3     │ 3     │ 9      │ 5   │ 9      │ 9  │ 9      │ 9   │ 0        │ 13   │ 13  │ 13      │ 9        │ 9  │\n",
      "├─────────┼────────┼───────┼───────┼────────┼─────┼────────┼────┼────────┼─────┼──────────┼──────┼─────┼─────────┼──────────┼────┤\n",
      "│ OUTPUT: │ -1     │ ERR:9 │ ERR:1 │ ERR:1  │ 5   │ 9      │ 9  │ 9      │ 9   │ 0        │ 13   │ 13  │ 13      │ 9        │ 9  │\n",
      "╘═════════╧════════╧═══════╧═══════╧════════╧═════╧════════╧════╧════════╧═════╧══════════╧══════╧═════╧═════════╧══════════╧════╛\n",
      "#### ERROR 10 ####\n",
      "╒═════════╤════════╤════╤══════╤═════════╤═════════╤═══════╤════╤═══════════════╤═══╤═══════╤════╤════╤════╕\n",
      "│ TOKENS: │ <ROOT> │ En │ ello │ trabaja │ nuestro │ grupo │ de │ investigación │ ( │ fig.  │  6 │ )  │ .  │\n",
      "├─────────┼────────┼────┼──────┼─────────┼─────────┼───────┼────┼───────────────┼───┼───────┼────┼────┼────┤\n",
      "│ INDEX:  │ 0      │ 1  │ 2    │ 3       │ 4       │ 5     │ 6  │ 7             │ 8 │ 9     │ 10 │ 11 │ 12 │\n",
      "├─────────┼────────┼────┼──────┼─────────┼─────────┼───────┼────┼───────────────┼───┼───────┼────┼────┼────┤\n",
      "│ GOLD:   │ -1     │ 2  │ 3    │ 0       │ 5       │ 3     │ 7  │ 5             │ 9 │ 3     │  9 │ 9  │ 3  │\n",
      "├─────────┼────────┼────┼──────┼─────────┼─────────┼───────┼────┼───────────────┼───┼───────┼────┼────┼────┤\n",
      "│ OUTPUT: │ -1     │ 2  │ 3    │ 0       │ 5       │ 3     │ 7  │ 5             │ 9 │ ERR:5 │  9 │ 9  │ 3  │\n",
      "╘═════════╧════════╧════╧══════╧═════════╧═════════╧═══════╧════╧═══════════════╧═══╧═══════╧════╧════╧════╛\n",
      "#### ERROR 11 ####\n",
      "╒═════════╤════════╤═══════╤═══╤════╤═════╤═════════╤═══════╤═══════╤═══════╤═════════════╤════╕\n",
      "│ TOKENS: │ <ROOT> │ Junto │ a │ él │ han │ surgido │ otros │ no    │ menos │ importantes │ .  │\n",
      "├─────────┼────────┼───────┼───┼────┼─────┼─────────┼───────┼───────┼───────┼─────────────┼────┤\n",
      "│ INDEX:  │ 0      │ 1     │ 2 │ 3  │ 4   │ 5       │ 6     │ 7     │ 8     │ 9           │ 10 │\n",
      "├─────────┼────────┼───────┼───┼────┼─────┼─────────┼───────┼───────┼───────┼─────────────┼────┤\n",
      "│ GOLD:   │ -1     │ 3     │ 1 │ 5  │ 5   │ 0       │ 5     │ 8     │ 9     │ 6           │ 5  │\n",
      "├─────────┼────────┼───────┼───┼────┼─────┼─────────┼───────┼───────┼───────┼─────────────┼────┤\n",
      "│ OUTPUT: │ -1     │ 3     │ 1 │ 5  │ 5   │ 0       │ 5     │ ERR:9 │ 9     │ 6           │ 5  │\n",
      "╘═════════╧════════╧═══════╧═══╧════╧═════╧═════════╧═══════╧═══════╧═══════╧═════════════╧════╛\n",
      "#### ERROR 12 ####\n",
      "╒═════════╤════════╤═════╤═══════╤═══════╤══════╤═══╤════╤═════╤════╤═══════════╤════╕\n",
      "│ TOKENS: │ <ROOT> │ Por │ si    │ fuera │ poco │ , │ el │ bar │ es │ colectivo │ .  │\n",
      "├─────────┼────────┼─────┼───────┼───────┼──────┼───┼────┼─────┼────┼───────────┼────┤\n",
      "│ INDEX:  │ 0      │ 1   │ 2     │ 3     │ 4    │ 5 │ 6  │ 7   │ 8  │ 9         │ 10 │\n",
      "├─────────┼────────┼─────┼───────┼───────┼──────┼───┼────┼─────┼────┼───────────┼────┤\n",
      "│ GOLD:   │ -1     │ 4   │ 4     │ 4     │ 9    │ 4 │ 7  │ 9   │ 9  │ 0         │ 9  │\n",
      "├─────────┼────────┼─────┼───────┼───────┼──────┼───┼────┼─────┼────┼───────────┼────┤\n",
      "│ OUTPUT: │ -1     │ 4   │ ERR:3 │ 4     │ 9    │ 4 │ 7  │ 9   │ 9  │ 0         │ 9  │\n",
      "╘═════════╧════════╧═════╧═══════╧═══════╧══════╧═══╧════╧═════╧════╧═══════════╧════╛\n",
      "#### ERROR 13 ####\n",
      "╒═════════╤════════╤════╤═════╤═══════════╤═══╤════╤═══════════╤═══════╤════╤═══════════╤════╤═══════════════╤════╕\n",
      "│ TOKENS: │ <ROOT> │ No │ hay │ alharacas │ , │ ni │ fantasías │ ,     │ ni │ histerias │ ni │ romanticismos │ .  │\n",
      "├─────────┼────────┼────┼─────┼───────────┼───┼────┼───────────┼───────┼────┼───────────┼────┼───────────────┼────┤\n",
      "│ INDEX:  │ 0      │ 1  │ 2   │ 3         │ 4 │ 5  │ 6         │ 7     │ 8  │ 9         │ 10 │ 11            │ 12 │\n",
      "├─────────┼────────┼────┼─────┼───────────┼───┼────┼───────────┼───────┼────┼───────────┼────┼───────────────┼────┤\n",
      "│ GOLD:   │ -1     │ 2  │ 0   │ 2         │ 6 │ 6  │ 3         │ 6     │ 9  │ 3         │ 11 │ 3             │ 2  │\n",
      "├─────────┼────────┼────┼─────┼───────────┼───┼────┼───────────┼───────┼────┼───────────┼────┼───────────────┼────┤\n",
      "│ OUTPUT: │ -1     │ 2  │ 0   │ 2         │ 6 │ 6  │ 3         │ ERR:9 │ 9  │ 3         │ 11 │ 3             │ 2  │\n",
      "╘═════════╧════════╧════╧═════╧═══════════╧═══╧════╧═══════════╧═══════╧════╧═══════════╧════╧═══════════════╧════╛\n",
      "#### ERROR 14 ####\n",
      "╒═════════╤════════╤═══════╤═══════╤═════╤═════╤════════╤═══════════╤════════╤════════╤════╤═════╤═══════╤══════════╤══════════╤═══════╤════╕\n",
      "│ TOKENS: │ <ROOT> │ Todos │ saben │ que │ las │ luchas │ comienzan │ siendo │ suaves │ y  │ que │ puede │ terminar │ ardiendo │ Troya │ .  │\n",
      "├─────────┼────────┼───────┼───────┼─────┼─────┼────────┼───────────┼────────┼────────┼────┼─────┼───────┼──────────┼──────────┼───────┼────┤\n",
      "│ INDEX:  │ 0      │ 1     │ 2     │ 3   │ 4   │ 5      │ 6         │ 7      │ 8      │ 9  │ 10  │ 11    │ 12       │ 13       │ 14    │ 15 │\n",
      "├─────────┼────────┼───────┼───────┼─────┼─────┼────────┼───────────┼────────┼────────┼────┼─────┼───────┼──────────┼──────────┼───────┼────┤\n",
      "│ GOLD:   │ -1     │ 2     │ 0     │ 6   │ 5   │ 6      │ 2         │ 8      │ 6      │ 12 │ 12  │ 12    │ 6        │ 12       │ 12    │ 2  │\n",
      "├─────────┼────────┼───────┼───────┼─────┼─────┼────────┼───────────┼────────┼────────┼────┼─────┼───────┼──────────┼──────────┼───────┼────┤\n",
      "│ OUTPUT: │ -1     │ 2     │ 0     │ 6   │ 5   │ 6      │ 2         │ 8      │ 6      │ 12 │ 12  │ 12    │ 6        │ ERR:6    │ ERR:6 │ 2  │\n",
      "╘═════════╧════════╧═══════╧═══════╧═════╧═════╧════════╧═══════════╧════════╧════════╧════╧═════╧═══════╧══════════╧══════════╧═══════╧════╛\n",
      "#### ERROR 15 ####\n",
      "╒═════════╤════════╤════╤════════╤════╤════════════╤═══════╤═══════╤═══╕\n",
      "│ TOKENS: │ <ROOT> │ Ni │ plenos │ ni │ comisiones │ ni    │ nada  │ . │\n",
      "├─────────┼────────┼────┼────────┼────┼────────────┼───────┼───────┼───┤\n",
      "│ INDEX:  │ 0      │ 1  │ 2      │ 3  │ 4          │ 5     │ 6     │ 7 │\n",
      "├─────────┼────────┼────┼────────┼────┼────────────┼───────┼───────┼───┤\n",
      "│ GOLD:   │ -1     │ 2  │ 0      │ 4  │ 2          │ 4     │ 4     │ 2 │\n",
      "├─────────┼────────┼────┼────────┼────┼────────────┼───────┼───────┼───┤\n",
      "│ OUTPUT: │ -1     │ 2  │ 0      │ 4  │ 2          │ ERR:6 │ ERR:2 │ 2 │\n",
      "╘═════════╧════════╧════╧════════╧════╧════════════╧═══════╧═══════╧═══╛\n",
      "#### ERROR 16 ####\n",
      "╒═════════╤════════╤════╤═════╤════╤═══════════╤═════╤═══════════╤════╤════╤═════════╤═══════╕\n",
      "│ TOKENS: │ <ROOT> │ Lo │ que │ se │ deteriora │ con │ estrépito │ es │ la │ mayoría │ .     │\n",
      "├─────────┼────────┼────┼─────┼────┼───────────┼─────┼───────────┼────┼────┼─────────┼───────┤\n",
      "│ INDEX:  │ 0      │ 1  │ 2   │ 3  │ 4         │ 5   │ 6         │ 7  │ 8  │ 9       │ 10    │\n",
      "├─────────┼────────┼────┼─────┼────┼───────────┼─────┼───────────┼────┼────┼─────────┼───────┤\n",
      "│ GOLD:   │ -1     │ 4  │ 4   │ 4  │ 9         │ 6   │ 4         │ 9  │ 9  │ 0       │ 9     │\n",
      "├─────────┼────────┼────┼─────┼────┼───────────┼─────┼───────────┼────┼────┼─────────┼───────┤\n",
      "│ OUTPUT: │ -1     │ 4  │ 4   │ 4  │ ERR:0     │ 6   │ 4         │ 9  │ 9  │ ERR:4   │ ERR:4 │\n",
      "╘═════════╧════════╧════╧═════╧════╧═══════════╧═════╧═══════════╧════╧════╧═════════╧═══════╛\n",
      "#### ERROR 17 ####\n",
      "╒═════════╤════════╤════╤════════╤═════╤══════════╤════════╤═══════╤════════╤════════╤════════╤════════════╤════════╤════╕\n",
      "│ TOKENS: │ <ROOT> │ Su │ misión │ era │ llenarlo │ llenar │ lo    │ pero   │ no     │ lo     │ conseguían │ nunca  │ .  │\n",
      "├─────────┼────────┼────┼────────┼─────┼──────────┼────────┼───────┼────────┼────────┼────────┼────────────┼────────┼────┤\n",
      "│ INDEX:  │ 0      │ 1  │ 2      │ 3   │ 4        │ 5      │ 6     │ 7      │ 8      │ 9      │ 10         │ 11     │ 12 │\n",
      "├─────────┼────────┼────┼────────┼─────┼──────────┼────────┼───────┼────────┼────────┼────────┼────────────┼────────┼────┤\n",
      "│ GOLD:   │ -1     │ 2  │ 3      │ 0   │ -1       │ 3      │ 4     │ 9      │ 9      │ 9      │ 3          │ 9      │ 3  │\n",
      "├─────────┼────────┼────┼────────┼─────┼──────────┼────────┼───────┼────────┼────────┼────────┼────────────┼────────┼────┤\n",
      "│ OUTPUT: │ -1     │ 2  │ 3      │ 0   │ ERR:3    │ ERR:4  │ ERR:5 │ ERR:10 │ ERR:10 │ ERR:10 │ 3          │ ERR:10 │ 3  │\n",
      "╘═════════╧════════╧════╧════════╧═════╧══════════╧════════╧═══════╧════════╧════════╧════════╧════════════╧════════╧════╛\n",
      "#### ERROR 18 ####\n",
      "╒═════════╤════════╤════╤═══════╤════╤════════════╤═══╤═══════════╤═════════════╤═══╤═════════╤════╕\n",
      "│ TOKENS: │ <ROOT> │ Lo │ demás │ es │ existencia │ , │ simulacro │ transitorio │ y │ mudable │ .  │\n",
      "├─────────┼────────┼────┼───────┼────┼────────────┼───┼───────────┼─────────────┼───┼─────────┼────┤\n",
      "│ INDEX:  │ 0      │ 1  │ 2     │ 3  │ 4          │ 5 │ 6         │ 7           │ 8 │ 9       │ 10 │\n",
      "├─────────┼────────┼────┼───────┼────┼────────────┼───┼───────────┼─────────────┼───┼─────────┼────┤\n",
      "│ GOLD:   │ -1     │ 2  │ 4     │ 4  │ 0          │ 6 │ 4         │ 6           │ 9 │ 7       │ 4  │\n",
      "├─────────┼────────┼────┼───────┼────┼────────────┼───┼───────────┼─────────────┼───┼─────────┼────┤\n",
      "│ OUTPUT: │ -1     │ 2  │ 4     │ 4  │ 0          │ 6 │ 4         │ 6           │ 9 │ ERR:6   │ 4  │\n",
      "╘═════════╧════════╧════╧═══════╧════╧════════════╧═══╧═══════════╧═════════════╧═══╧═════════╧════╛\n",
      "#### ERROR 19 ####\n",
      "╒═════════╤════════╤════════╤══════╤═══════╤═══╤════╤══════════╤══════════╤═══════╤═════╤═════════╤═════╤═════╤═════════╤════╕\n",
      "│ TOKENS: │ <ROOT> │ Cuando │ ella │ llegó │ , │ la │ homicida │ sujetaba │ a     │ don │ Antonio │ por │ las │ solapas │ .  │\n",
      "├─────────┼────────┼────────┼──────┼───────┼───┼────┼──────────┼──────────┼───────┼─────┼─────────┼─────┼─────┼─────────┼────┤\n",
      "│ INDEX:  │ 0      │ 1      │ 2    │ 3     │ 4 │ 5  │ 6        │ 7        │ 8     │ 9   │ 10      │ 11  │ 12  │ 13      │ 14 │\n",
      "├─────────┼────────┼────────┼──────┼───────┼───┼────┼──────────┼──────────┼───────┼─────┼─────────┼─────┼─────┼─────────┼────┤\n",
      "│ GOLD:   │ -1     │ 3      │ 3    │ 7     │ 3 │ 6  │ 7        │ 0        │ 10    │ 7   │ 9       │ 13  │ 13  │ 7       │ 7  │\n",
      "├─────────┼────────┼────────┼──────┼───────┼───┼────┼──────────┼──────────┼───────┼─────┼─────────┼─────┼─────┼─────────┼────┤\n",
      "│ OUTPUT: │ -1     │ 3      │ 3    │ 7     │ 3 │ 6  │ 7        │ 0        │ ERR:9 │ 7   │ 9       │ 13  │ 13  │ 7       │ 7  │\n",
      "╘═════════╧════════╧════════╧══════╧═══════╧═══╧════╧══════════╧══════════╧═══════╧═════╧═════════╧═════╧═════╧═════════╧════╛\n",
      "#### ERROR 20 ####\n",
      "╒═════════╤════════╤═════╤═════════╤═══════════╤═══════════╤═════════╤═══════╤════╤════════╤════════╤════════╤═════════╤════════╤═══════════════╤════╕\n",
      "│ TOKENS: │ <ROOT> │ Don │ Antonio │ intentaba │ impedirse │ impedir │ se    │ lo │ ,      │ pero   │ sus    │ fuerzas │ eran   │ insuficientes │ .  │\n",
      "├─────────┼────────┼─────┼─────────┼───────────┼───────────┼─────────┼───────┼────┼────────┼────────┼────────┼─────────┼────────┼───────────────┼────┤\n",
      "│ INDEX:  │ 0      │ 1   │ 2       │ 3         │ 4         │ 5       │ 6     │ 7  │ 8      │ 9      │ 10     │ 11      │ 12     │ 13            │ 14 │\n",
      "├─────────┼────────┼─────┼─────────┼───────────┼───────────┼─────────┼───────┼────┼────────┼────────┼────────┼─────────┼────────┼───────────────┼────┤\n",
      "│ GOLD:   │ -1     │ 3   │ 1       │ 0         │ -1        │ 3       │ 4     │ 4  │ 12     │ 12     │ 10     │ 12      │ 12     │ 3             │ 3  │\n",
      "├─────────┼────────┼─────┼─────────┼───────────┼───────────┼─────────┼───────┼────┼────────┼────────┼────────┼─────────┼────────┼───────────────┼────┤\n",
      "│ OUTPUT: │ -1     │ 3   │ 1       │ 0         │ ERR:3     │ ERR:4   │ ERR:7 │ 4  │ ERR:13 │ ERR:13 │ ERR:11 │ ERR:13  │ ERR:13 │ 3             │ 3  │\n",
      "╘═════════╧════════╧═════╧═════════╧═══════════╧═══════════╧═════════╧═══════╧════╧════════╧════════╧════════╧═════════╧════════╧═══════════════╧════╛\n",
      "#### ERROR 21 ####\n",
      "╒═════════╤════════╤════╤═══════╤═══════╤════╤═══════╤════╤════════════╤═════╤═════╤════╤═══════╤═══════╤════╕\n",
      "│ TOKENS: │ <ROOT> │ La │ Bella │ cogió │ un │ cajón │ de │ frasquitos │ que │ aún │ no │ había │ roto  │ .  │\n",
      "├─────────┼────────┼────┼───────┼───────┼────┼───────┼────┼────────────┼─────┼─────┼────┼───────┼───────┼────┤\n",
      "│ INDEX:  │ 0      │ 1  │ 2     │ 3     │ 4  │ 5     │ 6  │ 7          │ 8   │ 9   │ 10 │ 11    │ 12    │ 13 │\n",
      "├─────────┼────────┼────┼───────┼───────┼────┼───────┼────┼────────────┼─────┼─────┼────┼───────┼───────┼────┤\n",
      "│ GOLD:   │ -1     │ 2  │ 3     │ 0     │ 5  │ 3     │ 7  │ 5          │ 12  │ 12  │ 12 │ 12    │ 7     │ 3  │\n",
      "├─────────┼────────┼────┼───────┼───────┼────┼───────┼────┼────────────┼─────┼─────┼────┼───────┼───────┼────┤\n",
      "│ OUTPUT: │ -1     │ 2  │ 3     │ 0     │ 5  │ 3     │ 7  │ 5          │ 12  │ 12  │ 12 │ 12    │ ERR:5 │ 3  │\n",
      "╘═════════╧════════╧════╧═══════╧═══════╧════╧═══════╧════╧════════════╧═════╧═════╧════╧═══════╧═══════╧════╛\n",
      "#### ERROR 22 ####\n",
      "╒═════════╤════════╤═══════╤═════╤═════════╤═══════╤═══════╤════╤═════════╤═══╤════╤════════╤═══════╤═══════╕\n",
      "│ TOKENS: │ <ROOT> │ Pero  │ los │ dientes │ no    │ ,     │ se │ repetía │ , │ la │ boca   │ no    │ .     │\n",
      "├─────────┼────────┼───────┼─────┼─────────┼───────┼───────┼────┼─────────┼───┼────┼────────┼───────┼───────┤\n",
      "│ INDEX:  │ 0      │ 1     │ 2   │ 3       │ 4     │ 5     │ 6  │ 7       │ 8 │ 9  │ 10     │ 11    │ 12    │\n",
      "├─────────┼────────┼───────┼─────┼─────────┼───────┼───────┼────┼─────────┼───┼────┼────────┼───────┼───────┤\n",
      "│ GOLD:   │ -1     │ 3     │ 3   │ 0       │ 3     │ 7     │ 7  │ 3       │ 7 │ 10 │ 3      │ 10    │ 3     │\n",
      "├─────────┼────────┼───────┼─────┼─────────┼───────┼───────┼────┼─────────┼───┼────┼────────┼───────┼───────┤\n",
      "│ OUTPUT: │ -1     │ ERR:7 │ 3   │ ERR:4   │ ERR:7 │ ERR:4 │ 7  │ ERR:0   │ 7 │ 10 │ ERR:11 │ ERR:7 │ ERR:7 │\n",
      "╘═════════╧════════╧═══════╧═════╧═════════╧═══════╧═══════╧════╧═════════╧═══╧════╧════════╧═══════╧═══════╛\n",
      "#### ERROR 23 ####\n",
      "╒═════════╤════════╤════╤════╤═══════╤════════════╤══════════╤═══════╤═══════╤═══════╤════════╤════════╤═══════════╤══════════╤════╕\n",
      "│ TOKENS: │ <ROOT> │ Él │ no │ podía │ permitirse │ permitir │ se    │ el    │ lujo  │ de     │ la     │ halitosis │ matutina │ .  │\n",
      "├─────────┼────────┼────┼────┼───────┼────────────┼──────────┼───────┼───────┼───────┼────────┼────────┼───────────┼──────────┼────┤\n",
      "│ INDEX:  │ 0      │ 1  │ 2  │ 3     │ 4          │ 5        │ 6     │ 7     │ 8     │ 9      │ 10     │ 11        │ 12       │ 13 │\n",
      "├─────────┼────────┼────┼────┼───────┼────────────┼──────────┼───────┼───────┼───────┼────────┼────────┼───────────┼──────────┼────┤\n",
      "│ GOLD:   │ -1     │ 4  │ 4  │ 4     │ -1         │ 0        │ 4     │ 7     │ 4     │ 10     │ 10     │ 7         │ 10       │ 4  │\n",
      "├─────────┼────────┼────┼────┼───────┼────────────┼──────────┼───────┼───────┼───────┼────────┼────────┼───────────┼──────────┼────┤\n",
      "│ OUTPUT: │ -1     │ 4  │ 4  │ 4     │ ERR:0      │ ERR:4    │ ERR:5 │ ERR:8 │ ERR:5 │ ERR:11 │ ERR:11 │ ERR:8     │ ERR:11   │ 4  │\n",
      "╘═════════╧════════╧════╧════╧═══════╧════════════╧══════════╧═══════╧═══════╧═══════╧════════╧════════╧═══════════╧══════════╧════╛\n",
      "#### ERROR 24 ####\n",
      "╒═════════╤════════╤════╤═════════╤════════╤═══════╤═══════╤══════╤═══════╤═══════╤════╤═══════╤════╕\n",
      "│ TOKENS: │ <ROOT> │ No │ habrían │ pasado │ más   │ de    │ seis │ meses │ desde │ su │ boda  │ .  │\n",
      "├─────────┼────────┼────┼─────────┼────────┼───────┼───────┼──────┼───────┼───────┼────┼───────┼────┤\n",
      "│ INDEX:  │ 0      │ 1  │ 2       │ 3      │ 4     │ 5     │ 6    │ 7     │ 8     │ 9  │ 10    │ 11 │\n",
      "├─────────┼────────┼────┼─────────┼────────┼───────┼───────┼──────┼───────┼───────┼────┼───────┼────┤\n",
      "│ GOLD:   │ -1     │ 3  │ 3       │ 0      │ 6     │ 4     │ 7    │ 3     │ 10    │ 10 │ 3     │ 3  │\n",
      "├─────────┼────────┼────┼─────────┼────────┼───────┼───────┼──────┼───────┼───────┼────┼───────┼────┤\n",
      "│ OUTPUT: │ -1     │ 3  │ 3       │ 0      │ ERR:7 │ ERR:7 │ 7    │ 3     │ 10    │ 10 │ ERR:7 │ 3  │\n",
      "╘═════════╧════════╧════╧═════════╧════════╧═══════╧═══════╧══════╧═══════╧═══════╧════╧═══════╧════╛\n",
      "#### ERROR 25 ####\n",
      "╒═════════╤════════╤════╤═══╤════════╤═══╤═══════╤════════╤════╤══════╤════╤═════════╕\n",
      "│ TOKENS: │ <ROOT> │ LA │ \" │ GACELA │ \" │ PEREC │ VUELVE │ EN │ CASA │ DE │ FREEMAN │\n",
      "├─────────┼────────┼────┼───┼────────┼───┼───────┼────────┼────┼──────┼────┼─────────┤\n",
      "│ INDEX:  │ 0      │ 1  │ 2 │ 3      │ 4 │ 5     │ 6      │ 7  │ 8    │ 9  │ 10      │\n",
      "├─────────┼────────┼────┼───┼────────┼───┼───────┼────────┼────┼──────┼────┼─────────┤\n",
      "│ GOLD:   │ -1     │ 3  │ 3 │ 6      │ 3 │ 3     │ 0      │ 8  │ 6    │ 10 │ 8       │\n",
      "├─────────┼────────┼────┼───┼────────┼───┼───────┼────────┼────┼──────┼────┼─────────┤\n",
      "│ OUTPUT: │ -1     │ 3  │ 3 │ 6      │ 3 │ ERR:6 │ 0      │ 8  │ 6    │ 10 │ ERR:6   │\n",
      "╘═════════╧════════╧════╧═══╧════════╧═══╧═══════╧════════╧════╧══════╧════╧═════════╛\n",
      "#### ERROR 26 ####\n",
      "╒═════════╤════════╤══════════╤═══╤═════════════╤══════════╤════╤═════════╤═══╤═══════════╤═════╤════╤═════╤═════════╤════════╤════╕\n",
      "│ TOKENS: │ <ROOT> │ Campeona │ y │ subcampeona │ olímpica │ en │ Atlanta │ , │ depararán │ uno │ de │ los │ grandes │ duelos │ .  │\n",
      "├─────────┼────────┼──────────┼───┼─────────────┼──────────┼────┼─────────┼───┼───────────┼─────┼────┼─────┼─────────┼────────┼────┤\n",
      "│ INDEX:  │ 0      │ 1        │ 2 │ 3           │ 4        │ 5  │ 6       │ 7 │ 8         │ 9   │ 10 │ 11  │ 12      │ 13     │ 14 │\n",
      "├─────────┼────────┼──────────┼───┼─────────────┼──────────┼────┼─────────┼───┼───────────┼─────┼────┼─────┼─────────┼────────┼────┤\n",
      "│ GOLD:   │ -1     │ 8        │ 3 │ 1           │ 1        │ 6  │ 1       │ 1 │ 0         │ 8   │ 13 │ 13  │ 13      │ 9      │ 8  │\n",
      "├─────────┼────────┼──────────┼───┼─────────────┼──────────┼────┼─────────┼───┼───────────┼─────┼────┼─────┼─────────┼────────┼────┤\n",
      "│ OUTPUT: │ -1     │ 8        │ 3 │ 1           │ ERR:3    │ 6  │ 1       │ 1 │ 0         │ 8   │ 13 │ 13  │ 13      │ 9      │ 8  │\n",
      "╘═════════╧════════╧══════════╧═══╧═════════════╧══════════╧════╧═════════╧═══╧═══════════╧═════╧════╧═════╧═════════╧════════╧════╛\n",
      "#### ERROR 27 ####\n",
      "╒═════════╤════════╤════╤═══════╤═════════╤══════╤═══════╤═════╤══════════════╤═════╤════════╤═══════╤════╤════╤════════╤════╕\n",
      "│ TOKENS: │ <ROOT> │ En │ estos │ últimos │ días │ ambas │ han │ representado │ las │ dos    │ caras │ de │ la │ moneda │ .  │\n",
      "├─────────┼────────┼────┼───────┼─────────┼──────┼───────┼─────┼──────────────┼─────┼────────┼───────┼────┼────┼────────┼────┤\n",
      "│ INDEX:  │ 0      │ 1  │ 2     │ 3       │ 4    │ 5     │ 6   │ 7            │ 8   │ 9      │ 10    │ 11 │ 12 │ 13     │ 14 │\n",
      "├─────────┼────────┼────┼───────┼─────────┼──────┼───────┼─────┼──────────────┼─────┼────────┼───────┼────┼────┼────────┼────┤\n",
      "│ GOLD:   │ -1     │ 4  │ 4     │ 4       │ 7    │ 7     │ 7   │ 0            │ 10  │ 8      │ 7     │ 13 │ 13 │ 10     │ 7  │\n",
      "├─────────┼────────┼────┼───────┼─────────┼──────┼───────┼─────┼──────────────┼─────┼────────┼───────┼────┼────┼────────┼────┤\n",
      "│ OUTPUT: │ -1     │ 4  │ 4     │ 4       │ 7    │ 7     │ 7   │ 0            │ 10  │ ERR:10 │ 7     │ 13 │ 13 │ 10     │ 7  │\n",
      "╘═════════╧════════╧════╧═══════╧═════════╧══════╧═══════╧═════╧══════════════╧═════╧════════╧═══════╧════╧════╧════════╧════╛\n",
      "#### ERROR 28 ####\n",
      "╒═════════╤════════╤═══════╤═══╤═════╤═══╤═══════╤═════╤═════════╤════╤════╤═══════╤════╤══════════╕\n",
      "│ TOKENS: │ <ROOT> │ JONES │ Y │ MAY │ , │ LUCHA │ SIN │ CUARTEL │ EN │ EL │ FOSO  │ DE │ LONGITUD │\n",
      "├─────────┼────────┼───────┼───┼─────┼───┼───────┼─────┼─────────┼────┼────┼───────┼────┼──────────┤\n",
      "│ INDEX:  │ 0      │ 1     │ 2 │ 3   │ 4 │ 5     │ 6   │ 7       │ 8  │ 9  │ 10    │ 11 │ 12       │\n",
      "├─────────┼────────┼───────┼───┼─────┼───┼───────┼─────┼─────────┼────┼────┼───────┼────┼──────────┤\n",
      "│ GOLD:   │ -1     │ 0     │ 3 │ 1   │ 1 │ 1     │ 7   │ 5       │ 10 │ 10 │ 5     │ 12 │ 10       │\n",
      "├─────────┼────────┼───────┼───┼─────┼───┼───────┼─────┼─────────┼────┼────┼───────┼────┼──────────┤\n",
      "│ OUTPUT: │ -1     │ 0     │ 3 │ 1   │ 1 │ 1     │ 7   │ 5       │ 10 │ 10 │ ERR:1 │ 12 │ ERR:1    │\n",
      "╘═════════╧════════╧═══════╧═══╧═════╧═══╧═══════╧═════╧═════════╧════╧════╧═══════╧════╧══════════╛\n",
      "#### ERROR 29 ####\n",
      "╒═════════╤════════╤═════════╤════╤════════╤════╤════╤════════╤════╤═══════════╕\n",
      "│ TOKENS: │ <ROOT> │ VORONIN │ AL │ ASALTO │ DE │ LA │ CORONA │ DE │ SOTOMAYOR │\n",
      "├─────────┼────────┼─────────┼────┼────────┼────┼────┼────────┼────┼───────────┤\n",
      "│ INDEX:  │ 0      │ 1       │ 2  │ 3      │ 4  │ 5  │ 6      │ 7  │ 8         │\n",
      "├─────────┼────────┼─────────┼────┼────────┼────┼────┼────────┼────┼───────────┤\n",
      "│ GOLD:   │ -1     │ 0       │ 3  │ 1      │ 6  │ 6  │ 3      │ 8  │ 6         │\n",
      "├─────────┼────────┼─────────┼────┼────────┼────┼────┼────────┼────┼───────────┤\n",
      "│ OUTPUT: │ -1     │ 0       │ 3  │ 1      │ 6  │ 6  │ 3      │ 8  │ ERR:1     │\n",
      "╘═════════╧════════╧═════════╧════╧════════╧════╧════╧════════╧════╧═══════════╛\n",
      "#### ERROR 30 ####\n",
      "╒═════════╤════════╤════╤═════════════╤═══╤════╤════╤══════╤═══╤═════╤═══════════════╤════╤═══════════╤════╤════════╤════╕\n",
      "│ TOKENS: │ <ROOT> │ El │ surafricano │ , │ de │ 28 │ años │ , │ fue │ semifinalista │ en │ Melbourne │ en │ 1992   │ .  │\n",
      "├─────────┼────────┼────┼─────────────┼───┼────┼────┼──────┼───┼─────┼───────────────┼────┼───────────┼────┼────────┼────┤\n",
      "│ INDEX:  │ 0      │ 1  │ 2           │ 3 │ 4  │  5 │ 6    │ 7 │ 8   │ 9             │ 10 │ 11        │ 12 │ 13     │ 14 │\n",
      "├─────────┼────────┼────┼─────────────┼───┼────┼────┼──────┼───┼─────┼───────────────┼────┼───────────┼────┼────────┼────┤\n",
      "│ GOLD:   │ -1     │ 2  │ 9           │ 6 │ 6  │  6 │ 2    │ 6 │ 9   │ 0             │ 11 │ 9         │ 13 │ 9      │ 9  │\n",
      "├─────────┼────────┼────┼─────────────┼───┼────┼────┼──────┼───┼─────┼───────────────┼────┼───────────┼────┼────────┼────┤\n",
      "│ OUTPUT: │ -1     │ 2  │ 9           │ 6 │ 6  │  6 │ 2    │ 6 │ 9   │ 0             │ 11 │ 9         │ 13 │ ERR:11 │ 9  │\n",
      "╘═════════╧════════╧════╧═════════════╧═══╧════╧════╧══════╧═══╧═════╧═══════════════╧════╧═══════════╧════╧════════╧════╛\n",
      "#### ERROR 31 ####\n",
      "╒═════════╤════════╤══════╤═══════╤═══════╤═══════╤════╤═══════╤════╤═════════╤═══╤══════════╤══════╤════════╤═════╤═════════╤════╕\n",
      "│ TOKENS: │ <ROOT> │ Unos │ meses │ antes │ ,     │ el │ 23    │ de │ febrero │ , │ falleció │ otra │ gloria │ del │ deporte │ .  │\n",
      "├─────────┼────────┼──────┼───────┼───────┼───────┼────┼───────┼────┼─────────┼───┼──────────┼──────┼────────┼─────┼─────────┼────┤\n",
      "│ INDEX:  │ 0      │ 1    │ 2     │ 3     │ 4     │ 5  │ 6     │ 7  │ 8       │ 9 │ 10       │ 11   │ 12     │ 13  │ 14      │ 15 │\n",
      "├─────────┼────────┼──────┼───────┼───────┼───────┼────┼───────┼────┼─────────┼───┼──────────┼──────┼────────┼─────┼─────────┼────┤\n",
      "│ GOLD:   │ -1     │ 2    │ 3     │ 10    │ 3     │ 6  │ 10    │ 8  │ 6       │ 6 │ 0        │ 12   │ 10     │ 14  │ 12      │ 10 │\n",
      "├─────────┼────────┼──────┼───────┼───────┼───────┼────┼───────┼────┼─────────┼───┼──────────┼──────┼────────┼─────┼─────────┼────┤\n",
      "│ OUTPUT: │ -1     │ 2    │ 3     │ 10    │ ERR:6 │ 6  │ ERR:3 │ 8  │ 6       │ 6 │ 0        │ 12   │ 10     │ 14  │ 12      │ 10 │\n",
      "╘═════════╧════════╧══════╧═══════╧═══════╧═══════╧════╧═══════╧════╧═════════╧═══╧══════════╧══════╧════════╧═════╧═════════╧════╛\n",
      "#### ERROR 32 ####\n",
      "╒═════════╤════════╤════════════╤═══╤═════════╤═══════╤════╤═══════════╤══════════╤═══╕\n",
      "│ TOKENS: │ <ROOT> │ Obviamente │ , │ también │ con   │ el │ combinado │ nacional │ . │\n",
      "├─────────┼────────┼────────────┼───┼─────────┼───────┼────┼───────────┼──────────┼───┤\n",
      "│ INDEX:  │ 0      │ 1          │ 2 │ 3       │ 4     │ 5  │ 6         │ 7        │ 8 │\n",
      "├─────────┼────────┼────────────┼───┼─────────┼───────┼────┼───────────┼──────────┼───┤\n",
      "│ GOLD:   │ -1     │ 0          │ 1 │ 1       │ 1     │ 6  │ 1         │ 6        │ 1 │\n",
      "├─────────┼────────┼────────────┼───┼─────────┼───────┼────┼───────────┼──────────┼───┤\n",
      "│ OUTPUT: │ -1     │ ERR:-1     │ 1 │ 1       │ ERR:6 │ 6  │ 1         │ 6        │ 1 │\n",
      "╘═════════╧════════╧════════════╧═══╧═════════╧═══════╧════╧═══════════╧══════════╧═══╛\n",
      "#### ERROR 33 ####\n",
      "╒═════════╤════════╤══════╤═════╤═══════╤═══════════╤═════════╤════╤══════╤═════════╤════╤════════╤════╕\n",
      "│ TOKENS: │ <ROOT> │ Tras │ dos │ paros │ cardiacos │ Morales │ no │ pudo │ superar │ el │ trance │ .  │\n",
      "├─────────┼────────┼──────┼─────┼───────┼───────────┼─────────┼────┼──────┼─────────┼────┼────────┼────┤\n",
      "│ INDEX:  │ 0      │ 1    │ 2   │ 3     │ 4         │ 5       │ 6  │ 7    │ 8       │ 9  │ 10     │ 11 │\n",
      "├─────────┼────────┼──────┼─────┼───────┼───────────┼─────────┼────┼──────┼─────────┼────┼────────┼────┤\n",
      "│ GOLD:   │ -1     │ 3    │ 3   │ 8     │ 3         │ 8       │ 8  │ 8    │ 0       │ 10 │ 8      │ 8  │\n",
      "├─────────┼────────┼──────┼─────┼───────┼───────────┼─────────┼────┼──────┼─────────┼────┼────────┼────┤\n",
      "│ OUTPUT: │ -1     │ 3    │ 3   │ 8     │ 3         │ ERR:3   │ 8  │ 8    │ 0       │ 10 │ 8      │ 8  │\n",
      "╘═════════╧════════╧══════╧═════╧═══════╧═══════════╧═════════╧════╧══════╧═════════╧════╧════════╧════╛\n",
      "#### ERROR 34 ####\n",
      "╒═════════╤════════╤════════╤════════╤═══╤═════════════╤═══╤═══════╤════╤════════╤════╤════╤════════╤════════════╤════╤════════╤════╕\n",
      "│ TOKENS: │ <ROOT> │ Daniel │ Lamata │ , │ parapléjico │ , │ logró │ el │ bronce │ en │ la │ prueba │ individual │ de │ espada │ .  │\n",
      "├─────────┼────────┼────────┼────────┼───┼─────────────┼───┼───────┼────┼────────┼────┼────┼────────┼────────────┼────┼────────┼────┤\n",
      "│ INDEX:  │ 0      │ 1      │ 2      │ 3 │ 4           │ 5 │ 6     │ 7  │ 8      │ 9  │ 10 │ 11     │ 12         │ 13 │ 14     │ 15 │\n",
      "├─────────┼────────┼────────┼────────┼───┼─────────────┼───┼───────┼────┼────────┼────┼────┼────────┼────────────┼────┼────────┼────┤\n",
      "│ GOLD:   │ -1     │ 6      │ 1      │ 4 │ 1           │ 4 │ 0     │ 8  │ 6      │ 11 │ 11 │ 6      │ 11         │ 14 │ 11     │ 6  │\n",
      "├─────────┼────────┼────────┼────────┼───┼─────────────┼───┼───────┼────┼────────┼────┼────┼────────┼────────────┼────┼────────┼────┤\n",
      "│ OUTPUT: │ -1     │ 6      │ 1      │ 4 │ 1           │ 4 │ 0     │ 8  │ 6      │ 11 │ 11 │ 6      │ 11         │ 14 │ ERR:12 │ 6  │\n",
      "╘═════════╧════════╧════════╧════════╧═══╧═════════════╧═══╧═══════╧════╧════════╧════╧════╧════════╧════════════╧════╧════════╧════╛\n",
      "#### ERROR 35 ####\n",
      "╒═════════╤════════╤═════╤════════════╤════╤══════╤═══════╤════════╤════════╤═══════╤═══════╤════╕\n",
      "│ TOKENS: │ <ROOT> │ Hoy │ descansaré │ en │ casa │ y     │ mañana │ estaré │ a     │ tope  │ .  │\n",
      "├─────────┼────────┼─────┼────────────┼────┼──────┼───────┼────────┼────────┼───────┼───────┼────┤\n",
      "│ INDEX:  │ 0      │ 1   │ 2          │ 3  │ 4    │ 5     │ 6      │ 7      │ 8     │ 9     │ 10 │\n",
      "├─────────┼────────┼─────┼────────────┼────┼──────┼───────┼────────┼────────┼───────┼───────┼────┤\n",
      "│ GOLD:   │ -1     │ 2   │ 0          │ 4  │ 2    │ 8     │ 8      │ 8      │ 2     │ 8     │ 2  │\n",
      "├─────────┼────────┼─────┼────────────┼────┼──────┼───────┼────────┼────────┼───────┼───────┼────┤\n",
      "│ OUTPUT: │ -1     │ 2   │ 0          │ 4  │ 2    │ ERR:7 │ ERR:7  │ ERR:2  │ ERR:9 │ ERR:7 │ 2  │\n",
      "╘═════════╧════════╧═════╧════════════╧════╧══════╧═══════╧════════╧════════╧═══════╧═══════╧════╛\n",
      "#### ERROR 36 ####\n",
      "╒═════════╤════════╤════╤════════╤════════╤═══════════╤════════╤════╤════════╤════════╤════════╤═══════╤════════╤════════╤════╕\n",
      "│ TOKENS: │ <ROOT> │ El │ propio │ Calero │ reconoció │ que    │ su │ equipo │ \"      │ la     │ sacó  │ barata │ \"      │ .  │\n",
      "├─────────┼────────┼────┼────────┼────────┼───────────┼────────┼────┼────────┼────────┼────────┼───────┼────────┼────────┼────┤\n",
      "│ INDEX:  │ 0      │ 1  │ 2      │ 3      │ 4         │ 5      │ 6  │ 7      │ 8      │ 9      │ 10    │ 11     │ 12     │ 13 │\n",
      "├─────────┼────────┼────┼────────┼────────┼───────────┼────────┼────┼────────┼────────┼────────┼───────┼────────┼────────┼────┤\n",
      "│ GOLD:   │ -1     │ 3  │ 3      │ 4      │ 0         │ 9      │ 7  │ 9      │ 9      │ 4      │ 11    │ 9      │ 9      │ 4  │\n",
      "├─────────┼────────┼────┼────────┼────────┼───────────┼────────┼────┼────────┼────────┼────────┼───────┼────────┼────────┼────┤\n",
      "│ OUTPUT: │ -1     │ 3  │ 3      │ 4      │ 0         │ ERR:10 │ 7  │ ERR:10 │ ERR:10 │ ERR:10 │ ERR:4 │ ERR:10 │ ERR:10 │ 4  │\n",
      "╘═════════╧════════╧════╧════════╧════════╧═══════════╧════════╧════╧════════╧════════╧════════╧═══════╧════════╧════════╧════╛\n",
      "#### ERROR 37 ####\n",
      "╒═════════╤════════╤════╤═══════╤═══════╤════════╤════════╤═══════╤════════╤═══════╤════════════╤═══════╤═══════╤═════════╤═══════╤════════╤════════╕\n",
      "│ TOKENS: │ <ROOT> │ La │ U.    │ pasó  │ por    │ encima │ y     │ Calero │ evitó │ catástrofe │ \"     │ ,     │ resumió │ el    │ diario │ .      │\n",
      "├─────────┼────────┼────┼───────┼───────┼────────┼────────┼───────┼────────┼───────┼────────────┼───────┼───────┼─────────┼───────┼────────┼────────┤\n",
      "│ INDEX:  │ 0      │ 1  │ 2     │ 3     │ 4      │ 5      │ 6     │ 7      │ 8     │ 9          │ 10    │ 11    │ 12      │ 13    │ 14     │ 15     │\n",
      "├─────────┼────────┼────┼───────┼───────┼────────┼────────┼───────┼────────┼───────┼────────────┼───────┼───────┼─────────┼───────┼────────┼────────┤\n",
      "│ GOLD:   │ -1     │ 2  │ 3     │ 12    │ 5      │ 3      │ 8     │ 8      │ 3     │ 8          │ 3     │ 3     │ 0       │ 14    │ 12     │ 12     │\n",
      "├─────────┼────────┼────┼───────┼───────┼────────┼────────┼───────┼────────┼───────┼────────────┼───────┼───────┼─────────┼───────┼────────┼────────┤\n",
      "│ OUTPUT: │ -1     │ 2  │ ERR:4 │ ERR:2 │ ERR:13 │ ERR:6  │ ERR:4 │ ERR:9  │ ERR:9 │ ERR:4      │ ERR:9 │ ERR:4 │ ERR:4   │ ERR:0 │ ERR:15 │ ERR:13 │\n",
      "╘═════════╧════════╧════╧═══════╧═══════╧════════╧════════╧═══════╧════════╧═══════╧════════════╧═══════╧═══════╧═════════╧═══════╧════════╧════════╛\n",
      "#### ERROR 38 ####\n",
      "╒═════════╤════════╤════╤══════════╤═══════╤════════╤═══════╕\n",
      "│ TOKENS: │ <ROOT> │ EL │ ATHLETIC │ SIGUE │ CUESTA │ ABAJO │\n",
      "├─────────┼────────┼────┼──────────┼───────┼────────┼───────┤\n",
      "│ INDEX:  │ 0      │ 1  │ 2        │ 3     │ 4      │ 5     │\n",
      "├─────────┼────────┼────┼──────────┼───────┼────────┼───────┤\n",
      "│ GOLD:   │ -1     │ 2  │ 3        │ 0     │ 3      │ 4     │\n",
      "├─────────┼────────┼────┼──────────┼───────┼────────┼───────┤\n",
      "│ OUTPUT: │ -1     │ 2  │ 3        │ 0     │ 3      │ ERR:3 │\n",
      "╘═════════╧════════╧════╧══════════╧═══════╧════════╧═══════╛\n",
      "#### ERROR 39 ####\n",
      "╒═════════╤════════╤═════════╤═════╤═══════╤══════╤════╤═══════╤═══╤═════╤═══════════════╤════╤═════╤════╕\n",
      "│ TOKENS: │ <ROOT> │ Osasuna │ fue │ quien │ puso │ el │ juego │ y │ las │ oportunidades │ de │ gol │ .  │\n",
      "├─────────┼────────┼─────────┼─────┼───────┼──────┼────┼───────┼───┼─────┼───────────────┼────┼─────┼────┤\n",
      "│ INDEX:  │ 0      │ 1       │ 2   │ 3     │ 4    │ 5  │ 6     │ 7 │ 8   │ 9             │ 10 │ 11  │ 12 │\n",
      "├─────────┼────────┼─────────┼─────┼───────┼──────┼────┼───────┼───┼─────┼───────────────┼────┼─────┼────┤\n",
      "│ GOLD:   │ -1     │ 2       │ 0   │ 4     │ 2    │ 6  │ 4     │ 9 │ 9   │ 6             │ 11 │ 9   │ 2  │\n",
      "├─────────┼────────┼─────────┼─────┼───────┼──────┼────┼───────┼───┼─────┼───────────────┼────┼─────┼────┤\n",
      "│ OUTPUT: │ -1     │ 2       │ 0   │ 4     │ 2    │ 6  │ 4     │ 9 │ 9   │ ERR:4         │ 11 │ 9   │ 2  │\n",
      "╘═════════╧════════╧═════════╧═════╧═══════╧══════╧════╧═══════╧═══╧═════╧═══════════════╧════╧═════╧════╛\n",
      "#### ERROR 40 ####\n",
      "╒═════════╤════════╤═══════╤════╤══════╤═══╤══════╤════════════╤════════════╤═══════╤═══════╤═══════════╤════╤═══════════╤═══════╕\n",
      "│ TOKENS: │ <ROOT> │ Basta │ un │ polo │ y │ unos │ pantalones │ deportivos │ para  │ ir    │ apropiado │ ,  │ señalaron │ .     │\n",
      "├─────────┼────────┼───────┼────┼──────┼───┼──────┼────────────┼────────────┼───────┼───────┼───────────┼────┼───────────┼───────┤\n",
      "│ INDEX:  │ 0      │ 1     │ 2  │ 3    │ 4 │ 5    │ 6          │ 7          │ 8     │ 9     │ 10        │ 11 │ 12        │ 13    │\n",
      "├─────────┼────────┼───────┼────┼──────┼───┼──────┼────────────┼────────────┼───────┼───────┼───────────┼────┼───────────┼───────┤\n",
      "│ GOLD:   │ -1     │ 12    │ 3  │ 1    │ 6 │ 6    │ 3          │ 6          │ 10    │ 10    │ 1         │ 1  │ 0         │ 12    │\n",
      "├─────────┼────────┼───────┼────┼──────┼───┼──────┼────────────┼────────────┼───────┼───────┼───────────┼────┼───────────┼───────┤\n",
      "│ OUTPUT: │ -1     │ ERR:0 │ 3  │ 1    │ 6 │ 6    │ 3          │ 6          │ ERR:9 │ ERR:1 │ ERR:9     │ 1  │ ERR:1     │ ERR:1 │\n",
      "╘═════════╧════════╧═══════╧════╧══════╧═══╧══════╧════════════╧════════════╧═══════╧═══════╧═══════════╧════╧═══════════╧═══════╛\n",
      "#### ERROR 41 ####\n",
      "╒═════════╤════════╤═════╤═════════╤════════════╤═══╤═════╤═══════╤═════╤══════════╤════╤════════╤════╕\n",
      "│ TOKENS: │ <ROOT> │ Los │ mejores │ seguidores │ : │ Los │ de    │ los │ partidos │ de │ dobles │ .  │\n",
      "├─────────┼────────┼─────┼─────────┼────────────┼───┼─────┼───────┼─────┼──────────┼────┼────────┼────┤\n",
      "│ INDEX:  │ 0      │ 1   │ 2       │ 3          │ 4 │ 5   │ 6     │ 7   │ 8        │ 9  │ 10     │ 11 │\n",
      "├─────────┼────────┼─────┼─────────┼────────────┼───┼─────┼───────┼─────┼──────────┼────┼────────┼────┤\n",
      "│ GOLD:   │ -1     │ 3   │ 3       │ 0          │ 5 │ 3   │ 5     │ 8   │ 5        │ 10 │ 8      │ 3  │\n",
      "├─────────┼────────┼─────┼─────────┼────────────┼───┼─────┼───────┼─────┼──────────┼────┼────────┼────┤\n",
      "│ OUTPUT: │ -1     │ 3   │ 3       │ 0          │ 5 │ 3   │ ERR:8 │ 8   │ 5        │ 10 │ 8      │ 3  │\n",
      "╘═════════╧════════╧═════╧═════════╧════════════╧═══╧═════╧═══════╧═════╧══════════╧════╧════════╧════╛\n",
      "#### ERROR 42 ####\n",
      "╒═════════╤════════╤════════════╤══════╤══════╤════╤═══════╤═══╕\n",
      "│ TOKENS: │ <ROOT> │ Kournikova │ tomó │ nota │ de │ todo  │ . │\n",
      "├─────────┼────────┼────────────┼──────┼──────┼────┼───────┼───┤\n",
      "│ INDEX:  │ 0      │ 1          │ 2    │ 3    │ 4  │ 5     │ 6 │\n",
      "├─────────┼────────┼────────────┼──────┼──────┼────┼───────┼───┤\n",
      "│ GOLD:   │ -1     │ 2          │ 0    │ 2    │ 5  │ 2     │ 2 │\n",
      "├─────────┼────────┼────────────┼──────┼──────┼────┼───────┼───┤\n",
      "│ OUTPUT: │ -1     │ 2          │ 0    │ 2    │ 5  │ ERR:3 │ 2 │\n",
      "╘═════════╧════════╧════════════╧══════╧══════╧════╧═══════╧═══╛\n",
      "#### ERROR 43 ####\n",
      "╒═════════╤════════╤════╤═══════╤═════════╤═══╤════════╤══════╤════╤═══════╤═══════╤═════════╤═══════╕\n",
      "│ TOKENS: │ <ROOT> │ El │ mejor │ pedigrí │ : │ Sin    │ duda │ el │ de    │ Pete  │ Sampras │ .     │\n",
      "├─────────┼────────┼────┼───────┼─────────┼───┼────────┼──────┼────┼───────┼───────┼─────────┼───────┤\n",
      "│ INDEX:  │ 0      │ 1  │ 2     │ 3       │ 4 │ 5      │ 6    │ 7  │ 8     │ 9     │ 10      │ 11    │\n",
      "├─────────┼────────┼────┼───────┼─────────┼───┼────────┼──────┼────┼───────┼───────┼─────────┼───────┤\n",
      "│ GOLD:   │ -1     │ 3  │ 3     │ 0       │ 5 │ 3      │ 5    │ 5  │ 5     │ 5     │ 9       │ 3     │\n",
      "├─────────┼────────┼────┼───────┼─────────┼───┼────────┼──────┼────┼───────┼───────┼─────────┼───────┤\n",
      "│ OUTPUT: │ -1     │ 3  │ 3     │ 0       │ 5 │ ERR:-1 │ 5    │ 5  │ ERR:9 │ ERR:7 │ 9       │ ERR:5 │\n",
      "╘═════════╧════════╧════╧═══════╧═════════╧═══╧════════╧══════╧════╧═══════╧═══════╧═════════╧═══════╛\n",
      "#### ERROR 44 ####\n",
      "╒═════════╤════════╤═══════╤═══════╤═══════╤═════╤═══════════╤══════════════╤═══════╤═══════════════╤═════╤═════╤════╕\n",
      "│ TOKENS: │ <ROOT> │ Un    │ total │ de    │ 341 │ delegados │ republicanos │ serán │ seleccionados │ ese │ día │ .  │\n",
      "├─────────┼────────┼───────┼───────┼───────┼─────┼───────────┼──────────────┼───────┼───────────────┼─────┼─────┼────┤\n",
      "│ INDEX:  │ 0      │ 1     │ 2     │ 3     │   4 │ 5         │ 6            │ 7     │ 8             │ 9   │ 10  │ 11 │\n",
      "├─────────┼────────┼───────┼───────┼───────┼─────┼───────────┼──────────────┼───────┼───────────────┼─────┼─────┼────┤\n",
      "│ GOLD:   │ -1     │ 4     │ 4     │ 4     │   5 │ 8         │ 5            │ 8     │ 0             │ 10  │ 8   │ 8  │\n",
      "├─────────┼────────┼───────┼───────┼───────┼─────┼───────────┼──────────────┼───────┼───────────────┼─────┼─────┼────┤\n",
      "│ OUTPUT: │ -1     │ ERR:2 │ ERR:8 │ ERR:5 │   5 │ ERR:2     │ 5            │ 8     │ 0             │ 10  │ 8   │ 8  │\n",
      "╘═════════╧════════╧═══════╧═══════╧═══════╧═════╧═══════════╧══════════════╧═══════╧═══════════════╧═════╧═════╧════╛\n",
      "#### ERROR 45 ####\n",
      "╒═════════╤════════╤════╤══════════╤═══════╤══════════╤═════════════╤════╤════╤══════╤═══╕\n",
      "│ TOKENS: │ <ROOT> │ Un │ centenar │ de    │ artistas │ participará │ en │ el │ acto │ . │\n",
      "├─────────┼────────┼────┼──────────┼───────┼──────────┼─────────────┼────┼────┼──────┼───┤\n",
      "│ INDEX:  │ 0      │ 1  │ 2        │ 3     │ 4        │ 5           │ 6  │ 7  │ 8    │ 9 │\n",
      "├─────────┼────────┼────┼──────────┼───────┼──────────┼─────────────┼────┼────┼──────┼───┤\n",
      "│ GOLD:   │ -1     │ 2  │ 4        │ 2     │ 5        │ 0           │ 8  │ 8  │ 5    │ 5 │\n",
      "├─────────┼────────┼────┼──────────┼───────┼──────────┼─────────────┼────┼────┼──────┼───┤\n",
      "│ OUTPUT: │ -1     │ 2  │ ERR:5    │ ERR:4 │ ERR:2    │ 0           │ 8  │ 8  │ 5    │ 5 │\n",
      "╘═════════╧════════╧════╧══════════╧═══════╧══════════╧═════════════╧════╧════╧══════╧═══╛\n",
      "#### ERROR 46 ####\n",
      "╒═════════╤════════╤══════╤═══════════╤═══════════╤═════╤═════════╤══════╤═══════╤════╤═════════════╤═══════════╤════╕\n",
      "│ TOKENS: │ <ROOT> │ Ello │ permitirá │ programar │ los │ cambios │ para │ las   │ 26 │ actuaciones │ previstas │ .  │\n",
      "├─────────┼────────┼──────┼───────────┼───────────┼─────┼─────────┼──────┼───────┼────┼─────────────┼───────────┼────┤\n",
      "│ INDEX:  │ 0      │ 1    │ 2         │ 3         │ 4   │ 5       │ 6    │ 7     │  8 │ 9           │ 10        │ 11 │\n",
      "├─────────┼────────┼──────┼───────────┼───────────┼─────┼─────────┼──────┼───────┼────┼─────────────┼───────────┼────┤\n",
      "│ GOLD:   │ -1     │ 2    │ 0         │ 2         │ 5   │ 3       │ 9    │ 8     │  9 │ 3           │ 9         │ 2  │\n",
      "├─────────┼────────┼──────┼───────────┼───────────┼─────┼─────────┼──────┼───────┼────┼─────────────┼───────────┼────┤\n",
      "│ OUTPUT: │ -1     │ 2    │ 0         │ 2         │ 5   │ 3       │ 9    │ ERR:9 │  9 │ 3           │ 9         │ 2  │\n",
      "╘═════════╧════════╧══════╧═══════════╧═══════════╧═════╧═════════╧══════╧═══════╧════╧═════════════╧═══════════╧════╛\n",
      "#### ERROR 47 ####\n",
      "╒═════════╤════════╤════╤════════╤═══════╤════╤═══════╤═══════╤════╤════╤════════════╤════╤═════╤═════════════════╤════╕\n",
      "│ TOKENS: │ <ROOT> │ Su │ pasado │ juega │ un │ papel │ vital │ en │ el │ desarrollo │ de │ los │ acontecimientos │ .  │\n",
      "├─────────┼────────┼────┼────────┼───────┼────┼───────┼───────┼────┼────┼────────────┼────┼─────┼─────────────────┼────┤\n",
      "│ INDEX:  │ 0      │ 1  │ 2      │ 3     │ 4  │ 5     │ 6     │ 7  │ 8  │ 9          │ 10 │ 11  │ 12              │ 13 │\n",
      "├─────────┼────────┼────┼────────┼───────┼────┼───────┼───────┼────┼────┼────────────┼────┼─────┼─────────────────┼────┤\n",
      "│ GOLD:   │ -1     │ 2  │ 3      │ 0     │ 5  │ 3     │ 5     │ 9  │ 9  │ 3          │ 12 │ 12  │ 9               │ 3  │\n",
      "├─────────┼────────┼────┼────────┼───────┼────┼───────┼───────┼────┼────┼────────────┼────┼─────┼─────────────────┼────┤\n",
      "│ OUTPUT: │ -1     │ 2  │ 3      │ 0     │ 5  │ 3     │ 5     │ 9  │ 9  │ ERR:5      │ 12 │ 12  │ 9               │ 3  │\n",
      "╘═════════╧════════╧════╧════════╧═══════╧════╧═══════╧═══════╧════╧════╧════════════╧════╧═════╧═════════════════╧════╛\n",
      "#### ERROR 48 ####\n",
      "╒═════════╤════════╤══════╤════╤═════╤═════╤══════════╤════╤═════════════╤═══════╤═══════╤════╤════╤════════════╤═════╤═══════╤════╕\n",
      "│ TOKENS: │ <ROOT> │ Hace │ un │ año │ los │ camiones │ te │ adelantaban │ a     │ 70    │ o  │ 80 │ kilómetros │ por │ hora  │ .  │\n",
      "├─────────┼────────┼──────┼────┼─────┼─────┼──────────┼────┼─────────────┼───────┼───────┼────┼────┼────────────┼─────┼───────┼────┤\n",
      "│ INDEX:  │ 0      │ 1    │ 2  │ 3   │ 4   │ 5        │ 6  │ 7           │ 8     │ 9     │ 10 │ 11 │ 12         │ 13  │ 14    │ 15 │\n",
      "├─────────┼────────┼──────┼────┼─────┼─────┼──────────┼────┼─────────────┼───────┼───────┼────┼────┼────────────┼─────┼───────┼────┤\n",
      "│ GOLD:   │ -1     │ 7    │ 3  │ 1   │ 5   │ 7        │ 7  │ 0           │ 12    │ 12    │ 11 │  9 │ 7          │ 14  │ 12    │ 7  │\n",
      "├─────────┼────────┼──────┼────┼─────┼─────┼──────────┼────┼─────────────┼───────┼───────┼────┼────┼────────────┼─────┼───────┼────┤\n",
      "│ OUTPUT: │ -1     │ 7    │ 3  │ 1   │ 5   │ 7        │ 7  │ 0           │ ERR:9 │ ERR:7 │ 11 │  9 │ ERR:9      │ 14  │ ERR:9 │ 7  │\n",
      "╘═════════╧════════╧══════╧════╧═════╧═════╧══════════╧════╧═════════════╧═══════╧═══════╧════╧════╧════════════╧═════╧═══════╧════╛\n",
      "#### ERROR 49 ####\n",
      "╒═════════╤════════╤════╤═══════╤═══════╤═══════╤════╤═══════╤═══════╤═════╤══════════╤════════════╤════╤════╤════════╤═══════════╤════╕\n",
      "│ TOKENS: │ <ROOT> │ Al │ menos │ ,     │ hace  │ un │ año   │ ,     │ los │ camiones │ circulaban │ en │ la │ misma  │ dirección │ .  │\n",
      "├─────────┼────────┼────┼───────┼───────┼───────┼────┼───────┼───────┼─────┼──────────┼────────────┼────┼────┼────────┼───────────┼────┤\n",
      "│ INDEX:  │ 0      │ 1  │ 2     │ 3     │ 4     │ 5  │ 6     │ 7     │ 8   │ 9        │ 10         │ 11 │ 12 │ 13     │ 14        │ 15 │\n",
      "├─────────┼────────┼────┼───────┼───────┼───────┼────┼───────┼───────┼─────┼──────────┼────────────┼────┼────┼────────┼───────────┼────┤\n",
      "│ GOLD:   │ -1     │ 10 │ 1     │ 4     │ 10    │ 6  │ 4     │ 6     │ 9   │ 10       │ 0          │ 14 │ 14 │ 12     │ 10        │ 10 │\n",
      "├─────────┼────────┼────┼───────┼───────┼───────┼────┼───────┼───────┼─────┼──────────┼────────────┼────┼────┼────────┼───────────┼────┤\n",
      "│ OUTPUT: │ -1     │ 10 │ 1     │ ERR:1 │ ERR:1 │ 6  │ ERR:1 │ ERR:1 │ 9   │ 10       │ 0          │ 14 │ 14 │ ERR:14 │ 10        │ 10 │\n",
      "╘═════════╧════════╧════╧═══════╧═══════╧═══════╧════╧═══════╧═══════╧═════╧══════════╧════════════╧════╧════╧════════╧═══════════╧════╛\n",
      "#### ERROR 50 ####\n",
      "╒═════════╤════════╤═════╤══════════╤═════╤════════════════╤══════╤══════════╤════╤════╤═══════╤════╕\n",
      "│ TOKENS: │ <ROOT> │ Hoy │ empiezan │ las │ bonificaciones │ para │ camiones │ en │ la │ A-2   │ .  │\n",
      "├─────────┼────────┼─────┼──────────┼─────┼────────────────┼──────┼──────────┼────┼────┼───────┼────┤\n",
      "│ INDEX:  │ 0      │ 1   │ 2        │ 3   │ 4              │ 5    │ 6        │ 7  │ 8  │ 9     │ 10 │\n",
      "├─────────┼────────┼─────┼──────────┼─────┼────────────────┼──────┼──────────┼────┼────┼───────┼────┤\n",
      "│ GOLD:   │ -1     │ 2   │ 0        │ 4   │ 2              │ 6    │ 4        │ 9  │ 9  │ 2     │ 2  │\n",
      "├─────────┼────────┼─────┼──────────┼─────┼────────────────┼──────┼──────────┼────┼────┼───────┼────┤\n",
      "│ OUTPUT: │ -1     │ 2   │ 0        │ 4   │ 2              │ 6    │ 4        │ 9  │ 9  │ ERR:4 │ 2  │\n",
      "╘═════════╧════════╧═════╧══════════╧═════╧════════════════╧══════╧══════════╧════╧════╧═══════╧════╛\n",
      "#### ERROR 51 ####\n",
      "╒═════════╤════════╤═══════╤════╤══════╤═════╤═══════╤═══════╤══════╤═════╤═════╤════╤═════════╤═══════╕\n",
      "│ TOKENS: │ <ROOT> │ Temer │ al │ Camp │ Nou │ es    │ temer │ algo │ más │ que │ al │ entorno │ .     │\n",
      "├─────────┼────────┼───────┼────┼──────┼─────┼───────┼───────┼──────┼─────┼─────┼────┼─────────┼───────┤\n",
      "│ INDEX:  │ 0      │ 1     │ 2  │ 3    │ 4   │ 5     │ 6     │ 7    │ 8   │ 9   │ 10 │ 11      │ 12    │\n",
      "├─────────┼────────┼───────┼────┼──────┼─────┼───────┼───────┼──────┼─────┼─────┼────┼─────────┼───────┤\n",
      "│ GOLD:   │ -1     │ 5     │ 3  │ 1    │ 3   │ 0     │ 5     │ 6    │ 7   │ 11  │ 11 │ 7       │ 5     │\n",
      "├─────────┼────────┼───────┼────┼──────┼─────┼───────┼───────┼──────┼─────┼─────┼────┼─────────┼───────┤\n",
      "│ OUTPUT: │ -1     │ ERR:6 │ 3  │ 1    │ 3   │ ERR:6 │ ERR:0 │ 6    │ 7   │ 11  │ 11 │ ERR:8   │ ERR:6 │\n",
      "╘═════════╧════════╧═══════╧════╧══════╧═════╧═══════╧═══════╧══════╧═════╧═════╧════╧═════════╧═══════╛\n",
      "#### ERROR 52 ####\n",
      "╒═════════╤════════╤══════╤════════════╤═══════╤══════════╤═══╕\n",
      "│ TOKENS: │ <ROOT> │ Está │ fidelizado │ ,     │ blindado │ . │\n",
      "├─────────┼────────┼──────┼────────────┼───────┼──────────┼───┤\n",
      "│ INDEX:  │ 0      │ 1    │ 2          │ 3     │ 4        │ 5 │\n",
      "├─────────┼────────┼──────┼────────────┼───────┼──────────┼───┤\n",
      "│ GOLD:   │ -1     │ 2    │ 0          │ 2     │ 2        │ 2 │\n",
      "├─────────┼────────┼──────┼────────────┼───────┼──────────┼───┤\n",
      "│ OUTPUT: │ -1     │ 2    │ 0          │ ERR:4 │ 2        │ 2 │\n",
      "╘═════════╧════════╧══════╧════════════╧═══════╧══════════╧═══╛\n",
      "#### ERROR 53 ####\n",
      "╒═════════╤════════╤════════╤═══╤═══════╤════╤═══════╤═════════╤═══════╤════╤════╤═══════╤════════╤════════╤════╤════════╤═══════╕\n",
      "│ TOKENS: │ <ROOT> │ Porque │ , │ digo  │ yo │ ,     │ Llorenç │ sigue │ en │ el │ Barça │ ,      │ ¿      │ no │ ?      │ .     │\n",
      "├─────────┼────────┼────────┼───┼───────┼────┼───────┼─────────┼───────┼────┼────┼───────┼────────┼────────┼────┼────────┼───────┤\n",
      "│ INDEX:  │ 0      │ 1      │ 2 │ 3     │ 4  │ 5     │ 6       │ 7     │ 8  │ 9  │ 10    │ 11     │ 12     │ 13 │ 14     │ 15    │\n",
      "├─────────┼────────┼────────┼───┼───────┼────┼───────┼─────────┼───────┼────┼────┼───────┼────────┼────────┼────┼────────┼───────┤\n",
      "│ GOLD:   │ -1     │ 3      │ 3 │ 0     │ 3  │ 7     │ 7       │ 3     │ 10 │ 10 │ 7     │ 7      │ 7      │ 7  │ 3      │ 3     │\n",
      "├─────────┼────────┼────────┼───┼───────┼────┼───────┼─────────┼───────┼────┼────┼───────┼────────┼────────┼────┼────────┼───────┤\n",
      "│ OUTPUT: │ -1     │ ERR:7  │ 3 │ ERR:7 │ 3  │ ERR:3 │ 7       │ ERR:0 │ 10 │ 10 │ 7     │ ERR:13 │ ERR:13 │ 7  │ ERR:13 │ ERR:7 │\n",
      "╘═════════╧════════╧════════╧═══╧═══════╧════╧═══════╧═════════╧═══════╧════╧════╧═══════╧════════╧════════╧════╧════════╧═══════╛\n",
      "#### ERROR 54 ####\n",
      "╒═════════╤════════╤════╤═════════╤════╤══════════╤════╤═══════╤══════════╤════╤══════════════╤══════════╤════╕\n",
      "│ TOKENS: │ <ROOT> │ EL │ ENCARGO │ La │ historia │ de │ estos │ plafones │ es │ genuinamente │ kafkiana │ .  │\n",
      "├─────────┼────────┼────┼─────────┼────┼──────────┼────┼───────┼──────────┼────┼──────────────┼──────────┼────┤\n",
      "│ INDEX:  │ 0      │ 1  │ 2       │ 3  │ 4        │ 5  │ 6     │ 7        │ 8  │ 9            │ 10       │ 11 │\n",
      "├─────────┼────────┼────┼─────────┼────┼──────────┼────┼───────┼──────────┼────┼──────────────┼──────────┼────┤\n",
      "│ GOLD:   │ -1     │ 2  │ 10      │ 4  │ 10       │ 7  │ 7     │ 4        │ 10 │ 10           │ 0        │ 10 │\n",
      "├─────────┼────────┼────┼─────────┼────┼──────────┼────┼───────┼──────────┼────┼──────────────┼──────────┼────┤\n",
      "│ OUTPUT: │ -1     │ 2  │ ERR:4   │ 4  │ 10       │ 7  │ 7     │ 4        │ 10 │ 10           │ 0        │ 10 │\n",
      "╘═════════╧════════╧════╧═════════╧════╧══════════╧════╧═══════╧══════════╧════╧══════════════╧══════════╧════╛\n",
      "#### ERROR 55 ####\n",
      "╒═════════╤════════╤════╤═════════╤══════╤═══════════╤═════════╤═════════╤════╤═══════════╤════╤═════════╤═════╤═══════╤════╕\n",
      "│ TOKENS: │ <ROOT> │ Al │ nutrido │ acto │ inaugural │ asistió │ incluso │ el │ comisario │ de │ policía │ del │ Raval │ .  │\n",
      "├─────────┼────────┼────┼─────────┼──────┼───────────┼─────────┼─────────┼────┼───────────┼────┼─────────┼─────┼───────┼────┤\n",
      "│ INDEX:  │ 0      │ 1  │ 2       │ 3    │ 4         │ 5       │ 6       │ 7  │ 8         │ 9  │ 10      │ 11  │ 12    │ 13 │\n",
      "├─────────┼────────┼────┼─────────┼──────┼───────────┼─────────┼─────────┼────┼───────────┼────┼─────────┼─────┼───────┼────┤\n",
      "│ GOLD:   │ -1     │ 3  │ 3       │ 5    │ 3         │ 0       │ 8       │ 8  │ 5         │ 10 │ 8       │ 12  │ 8     │ 5  │\n",
      "├─────────┼────────┼────┼─────────┼──────┼───────────┼─────────┼─────────┼────┼───────────┼────┼─────────┼─────┼───────┼────┤\n",
      "│ OUTPUT: │ -1     │ 3  │ 3       │ 5    │ 3         │ 0       │ ERR:5   │ 8  │ 5         │ 10 │ 8       │ 12  │ 8     │ 5  │\n",
      "╘═════════╧════════╧════╧═════════╧══════╧═══════════╧═════════╧═════════╧════╧═══════════╧════╧═════════╧═════╧═══════╧════╛\n",
      "#### ERROR 56 ####\n",
      "╒═════════╤════════╤═══════╤═══════╤════════════╤════════════╤═════════════╤════╤═══════╤════╤══════╤═════════╤════╤════╤════════════╤════╕\n",
      "│ TOKENS: │ <ROOT> │ Los   │ dos   │ inferiores │ resultaron │ destrozados │ un │ par   │ de │ años │ después │ de │ su │ colocación │ .  │\n",
      "├─────────┼────────┼───────┼───────┼────────────┼────────────┼─────────────┼────┼───────┼────┼──────┼─────────┼────┼────┼────────────┼────┤\n",
      "│ INDEX:  │ 0      │ 1     │ 2     │ 3          │ 4          │ 5           │ 6  │ 7     │ 8  │ 9    │ 10      │ 11 │ 12 │ 13         │ 14 │\n",
      "├─────────┼────────┼───────┼───────┼────────────┼────────────┼─────────────┼────┼───────┼────┼──────┼─────────┼────┼────┼────────────┼────┤\n",
      "│ GOLD:   │ -1     │ 3     │ 1     │ 4          │ 0          │ 4           │ 7  │ 10    │ 9  │ 7    │ 5       │ 13 │ 13 │ 10         │ 4  │\n",
      "├─────────┼────────┼───────┼───────┼────────────┼────────────┼─────────────┼────┼───────┼────┼──────┼─────────┼────┼────┼────────────┼────┤\n",
      "│ OUTPUT: │ -1     │ ERR:2 │ ERR:4 │ ERR:2      │ 0          │ 4           │ 7  │ ERR:5 │ 9  │ 7    │ ERR:4   │ 13 │ 13 │ 10         │ 4  │\n",
      "╘═════════╧════════╧═══════╧═══════╧════════════╧════════════╧═════════════╧════╧═══════╧════╧══════╧═════════╧════╧════╧════════════╧════╛\n",
      "#### ERROR 57 ####\n",
      "╒═════════╤════════╤═══╤════╤══════════╤═══════════╤═════╤═══════╤═══════╤═════╤════════╤════╤════╕\n",
      "│ TOKENS: │ <ROOT> │ \" │ No │ conseguí │ averiguar │ con │ quién │ tenía │ que │ hablar │ \"  │ .  │\n",
      "├─────────┼────────┼───┼────┼──────────┼───────────┼─────┼───────┼───────┼─────┼────────┼────┼────┤\n",
      "│ INDEX:  │ 0      │ 1 │ 2  │ 3        │ 4         │ 5   │ 6     │ 7     │ 8   │ 9      │ 10 │ 11 │\n",
      "├─────────┼────────┼───┼────┼──────────┼───────────┼─────┼───────┼───────┼─────┼────────┼────┼────┤\n",
      "│ GOLD:   │ -1     │ 3 │ 3  │ 0        │ 3         │ 6   │ 9     │ 4     │ 9   │ 7      │ 3  │ 3  │\n",
      "├─────────┼────────┼───┼────┼──────────┼───────────┼─────┼───────┼───────┼─────┼────────┼────┼────┤\n",
      "│ OUTPUT: │ -1     │ 3 │ 3  │ 0        │ 3         │ 6   │ 9     │ ERR:9 │ 9   │ ERR:4  │ 3  │ 3  │\n",
      "╘═════════╧════════╧═══╧════╧══════════╧═══════════╧═════╧═══════╧═══════╧═════╧════════╧════╧════╛\n",
      "#### ERROR 58 ####\n",
      "╒═════════╤════════╤═══════╤═════════╤════════╤════╤═════════╤═══╤═════════╤═══════╤═══════╤══════════╤════╕\n",
      "│ TOKENS: │ <ROOT> │ \"     │ Aquello │ fue    │ de │ Herodes │ a │ Pilatos │ \"     │ ,     │ recuerda │ .  │\n",
      "├─────────┼────────┼───────┼─────────┼────────┼────┼─────────┼───┼─────────┼───────┼───────┼──────────┼────┤\n",
      "│ INDEX:  │ 0      │ 1     │ 2       │ 3      │ 4  │ 5       │ 6 │ 7       │ 8     │ 9     │ 10       │ 11 │\n",
      "├─────────┼────────┼───────┼─────────┼────────┼────┼─────────┼───┼─────────┼───────┼───────┼──────────┼────┤\n",
      "│ GOLD:   │ -1     │ 5     │ 5       │ 5      │ 5  │ 10      │ 7 │ 5       │ 5     │ 5     │ 0        │ 10 │\n",
      "├─────────┼────────┼───────┼─────────┼────────┼────┼─────────┼───┼─────────┼───────┼───────┼──────────┼────┤\n",
      "│ OUTPUT: │ -1     │ ERR:3 │ ERR:3   │ ERR:10 │ 5  │ ERR:3   │ 7 │ 5       │ ERR:3 │ ERR:3 │ 0        │ 10 │\n",
      "╘═════════╧════════╧═══════╧═════════╧════════╧════╧═════════╧═══╧═════════╧═══════╧═══════╧══════════╧════╛\n",
      "#### ERROR 59 ####\n",
      "╒═════════╤════════╤═══════╤═════╤════════╤════════════════════╤════╤═════════╤═════╤════╤═══════╤════════════╤═════════╤════════╤════╕\n",
      "│ TOKENS: │ <ROOT> │ Ahora │ los │ ofrece │ desinteresadamente │ al │ comando │ por │ si │ desea │ reponerlos │ reponer │ los    │ .  │\n",
      "├─────────┼────────┼───────┼─────┼────────┼────────────────────┼────┼─────────┼─────┼────┼───────┼────────────┼─────────┼────────┼────┤\n",
      "│ INDEX:  │ 0      │ 1     │ 2   │ 3      │ 4                  │ 5  │ 6       │ 7   │ 8  │ 9     │ 10         │ 11      │ 12     │ 13 │\n",
      "├─────────┼────────┼───────┼─────┼────────┼────────────────────┼────┼─────────┼─────┼────┼───────┼────────────┼─────────┼────────┼────┤\n",
      "│ GOLD:   │ -1     │ 3     │ 3   │ 0      │ 3                  │ 6  │ 3       │ 9   │ 9  │ 3     │ -1         │ 9       │ 10     │ 3  │\n",
      "├─────────┼────────┼───────┼─────┼────────┼────────────────────┼────┼─────────┼─────┼────┼───────┼────────────┼─────────┼────────┼────┤\n",
      "│ OUTPUT: │ -1     │ 3     │ 3   │ 0      │ 3                  │ 6  │ 3       │ 9   │ 9  │ 3     │ ERR:9      │ 9       │ ERR:13 │ 3  │\n",
      "╘═════════╧════════╧═══════╧═════╧════════╧════════════════════╧════╧═════════╧═════╧════╧═══════╧════════════╧═════════╧════════╧════╛\n",
      "#### ERROR 60 ####\n",
      "╒═════════╤════════╤═════╤══════════════╤════════╤═══════╤══════════╤═══════╤═════════════╤═══╕\n",
      "│ TOKENS: │ <ROOT> │ Son │ trabajadores │ serios │ ,     │ honrados │ ,     │ imparciales │ . │\n",
      "├─────────┼────────┼─────┼──────────────┼────────┼───────┼──────────┼───────┼─────────────┼───┤\n",
      "│ INDEX:  │ 0      │ 1   │ 2            │ 3      │ 4     │ 5        │ 6     │ 7           │ 8 │\n",
      "├─────────┼────────┼─────┼──────────────┼────────┼───────┼──────────┼───────┼─────────────┼───┤\n",
      "│ GOLD:   │ -1     │ 2   │ 0            │ 2      │ 3     │ 3        │ 3     │ 3           │ 2 │\n",
      "├─────────┼────────┼─────┼──────────────┼────────┼───────┼──────────┼───────┼─────────────┼───┤\n",
      "│ OUTPUT: │ -1     │ 2   │ 0            │ 2      │ ERR:5 │ 3        │ ERR:7 │ 3           │ 2 │\n",
      "╘═════════╧════════╧═════╧══════════════╧════════╧═══════╧══════════╧═══════╧═════════════╧═══╛\n",
      "#### ERROR 61 ####\n",
      "╒═════════╤════════╤════════╤══════╤════╤══════════╤════╤════╤═════════╤═════════════╤═══════╤══════════╤════╤════╤═════════════╤═════════════╤════╕\n",
      "│ TOKENS: │ <ROOT> │ Llevan │ años │ al │ servicio │ de │ la │ empresa │ informativa │ dando │ muestras │ de │ su │ competencia │ profesional │ .  │\n",
      "├─────────┼────────┼────────┼──────┼────┼──────────┼────┼────┼─────────┼─────────────┼───────┼──────────┼────┼────┼─────────────┼─────────────┼────┤\n",
      "│ INDEX:  │ 0      │ 1      │ 2    │ 3  │ 4        │ 5  │ 6  │ 7       │ 8           │ 9     │ 10       │ 11 │ 12 │ 13          │ 14          │ 15 │\n",
      "├─────────┼────────┼────────┼──────┼────┼──────────┼────┼────┼─────────┼─────────────┼───────┼──────────┼────┼────┼─────────────┼─────────────┼────┤\n",
      "│ GOLD:   │ -1     │ 0      │ 1    │ 7  │ 3        │ 3  │ 7  │ 1       │ 7           │ 1     │ 9        │ 13 │ 13 │ 10          │ 13          │ 1  │\n",
      "├─────────┼────────┼────────┼──────┼────┼──────────┼────┼────┼─────────┼─────────────┼───────┼──────────┼────┼────┼─────────────┼─────────────┼────┤\n",
      "│ OUTPUT: │ -1     │ 0      │ 1    │ 7  │ 3        │ 3  │ 7  │ 1       │ ERR:9       │ 1     │ 9        │ 13 │ 13 │ 10          │ 13          │ 1  │\n",
      "╘═════════╧════════╧════════╧══════╧════╧══════════╧════╧════╧═════════╧═════════════╧═══════╧══════════╧════╧════╧═════════════╧═════════════╧════╛\n",
      "#### ERROR 62 ####\n",
      "╒═════════╤════════╤══════════╤═════╤════╤═════╤══════════╤═════════╤════╤════════╤═══╤════════╤════╤══════════════╤════╕\n",
      "│ TOKENS: │ <ROOT> │ Ocupamos │ uno │ de │ los │ primeros │ lugares │ en │ cuanto │ a │ número │ de │ desempleados │ .  │\n",
      "├─────────┼────────┼──────────┼─────┼────┼─────┼──────────┼─────────┼────┼────────┼───┼────────┼────┼──────────────┼────┤\n",
      "│ INDEX:  │ 0      │ 1        │ 2   │ 3  │ 4   │ 5        │ 6       │ 7  │ 8      │ 9 │ 10     │ 11 │ 12           │ 13 │\n",
      "├─────────┼────────┼──────────┼─────┼────┼─────┼──────────┼─────────┼────┼────────┼───┼────────┼────┼──────────────┼────┤\n",
      "│ GOLD:   │ -1     │ 0        │ 1   │ 6  │ 6   │ 6        │ 2       │ 10 │ 7      │ 7 │ 1      │ 12 │ 10           │ 1  │\n",
      "├─────────┼────────┼──────────┼─────┼────┼─────┼──────────┼─────────┼────┼────────┼───┼────────┼────┼──────────────┼────┤\n",
      "│ OUTPUT: │ -1     │ 0        │ 1   │ 6  │ 6   │ 6        │ 2       │ 10 │ 7      │ 7 │ ERR:6  │ 12 │ 10           │ 1  │\n",
      "╘═════════╧════════╧══════════╧═════╧════╧═════╧══════════╧═════════╧════╧════════╧═══╧════════╧════╧══════════════╧════╛\n",
      "#### ERROR 63 ####\n",
      "╒═════════╤════════╤════╤═══════╤══════════╤═══════╤════╤══════════╤═════════╤════╤═════╤═════════════╤══════════╤═══════╕\n",
      "│ TOKENS: │ <ROOT> │ La │ única │ solución │ es    │ la │ retirada │ israelí │ de │ los │ territorios │ ocupados │ .     │\n",
      "├─────────┼────────┼────┼───────┼──────────┼───────┼────┼──────────┼─────────┼────┼─────┼─────────────┼──────────┼───────┤\n",
      "│ INDEX:  │ 0      │ 1  │ 2     │ 3        │ 4     │ 5  │ 6        │ 7       │ 8  │ 9   │ 10          │ 11       │ 12    │\n",
      "├─────────┼────────┼────┼───────┼──────────┼───────┼────┼──────────┼─────────┼────┼─────┼─────────────┼──────────┼───────┤\n",
      "│ GOLD:   │ -1     │ 3  │ 3     │ 6        │ 6     │ 6  │ 0        │ 6       │ 10 │ 10  │ 6           │ 10       │ 6     │\n",
      "├─────────┼────────┼────┼───────┼──────────┼───────┼────┼──────────┼─────────┼────┼─────┼─────────────┼──────────┼───────┤\n",
      "│ OUTPUT: │ -1     │ 3  │ 3     │ ERR:4    │ ERR:0 │ 6  │ ERR:4    │ 6       │ 10 │ 10  │ 6           │ 10       │ ERR:4 │\n",
      "╘═════════╧════════╧════╧═══════╧══════════╧═══════╧════╧══════════╧═════════╧════╧═════╧═════════════╧══════════╧═══════╛\n",
      "#### ERROR 64 ####\n",
      "╒═════════╤════════╤══════════╤═════════╤═══╤═══════╤═══════╤═══════╤═══════════╤════╤════════════╤════╕\n",
      "│ TOKENS: │ <ROOT> │ Brindisi │ convoca │ a │ Eto'o │ para  │ el    │ encuentro │ de │ Valladolid │ .  │\n",
      "├─────────┼────────┼──────────┼─────────┼───┼───────┼───────┼───────┼───────────┼────┼────────────┼────┤\n",
      "│ INDEX:  │ 0      │ 1        │ 2       │ 3 │ 4     │ 5     │ 6     │ 7         │ 8  │ 9          │ 10 │\n",
      "├─────────┼────────┼──────────┼─────────┼───┼───────┼───────┼───────┼───────────┼────┼────────────┼────┤\n",
      "│ GOLD:   │ -1     │ 2        │ 0       │ 4 │ 2     │ 7     │ 7     │ 2         │ 9  │ 7          │ 2  │\n",
      "├─────────┼────────┼──────────┼─────────┼───┼───────┼───────┼───────┼───────────┼────┼────────────┼────┤\n",
      "│ OUTPUT: │ -1     │ 2        │ 0       │ 4 │ 2     │ ERR:6 │ ERR:4 │ ERR:9     │ 9  │ ERR:2      │ 2  │\n",
      "╘═════════╧════════╧══════════╧═════════╧═══╧═══════╧═══════╧═══════╧═══════════╧════╧════════════╧════╛\n",
      "#### ERROR 65 ####\n",
      "╒═════════╤════════╤════════╤════════╤════════╤════╤════╤════════╤═══════╤════════╤═══════╤════╤═════════╤═══════╤═════╤════════════════╤════════╕\n",
      "│ TOKENS: │ <ROOT> │ -      │ -      │ C.     │ F. │ M. │ Hoddle │ no    │ dimite │ por   │ su │ opinión │ sobre │ los │ discapacitados │ .      │\n",
      "├─────────┼────────┼────────┼────────┼────────┼────┼────┼────────┼───────┼────────┼───────┼────┼─────────┼───────┼─────┼────────────────┼────────┤\n",
      "│ INDEX:  │ 0      │ 1      │ 2      │ 3      │ 4  │ 5  │ 6      │ 7     │ 8      │ 9     │ 10 │ 11      │ 12    │ 13  │ 14             │ 15     │\n",
      "├─────────┼────────┼────────┼────────┼────────┼────┼────┼────────┼───────┼────────┼───────┼────┼─────────┼───────┼─────┼────────────────┼────────┤\n",
      "│ GOLD:   │ -1     │ 8      │ 8      │ 8      │ 3  │ 3  │ 3      │ 8     │ 0      │ 11    │ 11 │ 8       │ 14    │ 14  │ 11             │ 8      │\n",
      "├─────────┼────────┼────────┼────────┼────────┼────┼────┼────────┼───────┼────────┼───────┼────┼─────────┼───────┼─────┼────────────────┼────────┤\n",
      "│ OUTPUT: │ -1     │ ERR:11 │ ERR:11 │ ERR:11 │ 3  │ 3  │ 3      │ ERR:3 │ ERR:3  │ ERR:3 │ 11 │ ERR:0   │ 14    │ 14  │ 11             │ ERR:11 │\n",
      "╘═════════╧════════╧════════╧════════╧════════╧════╧════╧════════╧═══════╧════════╧═══════╧════╧═════════╧═══════╧═════╧════════════════╧════════╛\n",
      "#### ERROR 66 ####\n",
      "╒═════════╤════════╤════════╤═════════╤══════╤════╤═══════════╤════╤═════════════╤═══════════╤═══════╤════════╤════════╤════════╤════╕\n",
      "│ TOKENS: │ <ROOT> │ Hoddle │ anunció │ ayer │ su │ intención │ de │ querellarse │ querellar │ se    │ con    │ el     │ diario │ .  │\n",
      "├─────────┼────────┼────────┼─────────┼──────┼────┼───────────┼────┼─────────────┼───────────┼───────┼────────┼────────┼────────┼────┤\n",
      "│ INDEX:  │ 0      │ 1      │ 2       │ 3    │ 4  │ 5         │ 6  │ 7           │ 8         │ 9     │ 10     │ 11     │ 12     │ 13 │\n",
      "├─────────┼────────┼────────┼─────────┼──────┼────┼───────────┼────┼─────────────┼───────────┼───────┼────────┼────────┼────────┼────┤\n",
      "│ GOLD:   │ -1     │ 2      │ 0       │ 2    │ 5  │ 2         │ 7  │ -1          │ 5         │ 7     │ 11     │ 11     │ 7      │ 2  │\n",
      "├─────────┼────────┼────────┼─────────┼──────┼────┼───────────┼────┼─────────────┼───────────┼───────┼────────┼────────┼────────┼────┤\n",
      "│ OUTPUT: │ -1     │ 2      │ 0       │ 2    │ 5  │ 2         │ 7  │ ERR:5       │ ERR:7     │ ERR:8 │ ERR:12 │ ERR:12 │ ERR:8  │ 2  │\n",
      "╘═════════╧════════╧════════╧═════════╧══════╧════╧═══════════╧════╧═════════════╧═══════════╧═══════╧════════╧════════╧════════╧════╛\n",
      "#### ERROR 67 ####\n",
      "╒═════════╤════════╤════════╤══════╤═════════╤══════════╤════╤════════╤═══════╤═════╤════════╤═════╤════╤═════╤══════╤════════╤════╕\n",
      "│ TOKENS: │ <ROOT> │ Carlos │ Moyà │ seguirá │ ocupando │ la │ quinta │ plaza │ una │ semana │ más │ ,  │ con │ 3178 │ puntos │ .  │\n",
      "├─────────┼────────┼────────┼──────┼─────────┼──────────┼────┼────────┼───────┼─────┼────────┼─────┼────┼─────┼──────┼────────┼────┤\n",
      "│ INDEX:  │ 0      │ 1      │ 2    │ 3       │ 4        │ 5  │ 6      │ 7     │ 8   │ 9      │ 10  │ 11 │ 12  │   13 │ 14     │ 15 │\n",
      "├─────────┼────────┼────────┼──────┼─────────┼──────────┼────┼────────┼───────┼─────┼────────┼─────┼────┼─────┼──────┼────────┼────┤\n",
      "│ GOLD:   │ -1     │ 3      │ 1    │ 0       │ 3        │ 7  │ 7      │ 4     │ 9   │ 3      │ 9   │ 14 │ 14  │   14 │ 3      │ 3  │\n",
      "├─────────┼────────┼────────┼──────┼─────────┼──────────┼────┼────────┼───────┼─────┼────────┼─────┼────┼─────┼──────┼────────┼────┤\n",
      "│ OUTPUT: │ -1     │ 3      │ 1    │ 0       │ 3        │ 7  │ 7      │ 4     │ 9   │ ERR:4  │ 9   │ 14 │ 14  │   14 │ ERR:4  │ 3  │\n",
      "╘═════════╧════════╧════════╧══════╧═════════╧══════════╧════╧════════╧═══════╧═════╧════════╧═════╧════╧═════╧══════╧════════╧════╛\n",
      "#### ERROR 68 ####\n",
      "╒═════════╤════════╤════╤═════╤════╤════════╤═════╤══════════╤══════════════════╤═══╤══════════╤═════╤════════════════╤═══════════╤════╕\n",
      "│ TOKENS: │ <ROOT> │ El │ fin │ es │ evitar │ las │ barreras │ comunicacionales │ a │ personas │ con │ discapacidades │ auditivas │ .  │\n",
      "├─────────┼────────┼────┼─────┼────┼────────┼─────┼──────────┼──────────────────┼───┼──────────┼─────┼────────────────┼───────────┼────┤\n",
      "│ INDEX:  │ 0      │ 1  │ 2   │ 3  │ 4      │ 5   │ 6        │ 7                │ 8 │ 9        │ 10  │ 11             │ 12        │ 13 │\n",
      "├─────────┼────────┼────┼─────┼────┼────────┼─────┼──────────┼──────────────────┼───┼──────────┼─────┼────────────────┼───────────┼────┤\n",
      "│ GOLD:   │ -1     │ 2  │ 3   │ 0  │ 3      │ 6   │ 4        │ 6                │ 9 │ 4        │ 11  │ 9              │ 11        │ 3  │\n",
      "├─────────┼────────┼────┼─────┼────┼────────┼─────┼──────────┼──────────────────┼───┼──────────┼─────┼────────────────┼───────────┼────┤\n",
      "│ OUTPUT: │ -1     │ 2  │ 3   │ 0  │ 3      │ 6   │ 4        │ 6                │ 9 │ ERR:6    │ 11  │ 9              │ 11        │ 3  │\n",
      "╘═════════╧════════╧════╧═════╧════╧════════╧═════╧══════════╧══════════════════╧═══╧══════════╧═════╧════════════════╧═══════════╧════╛\n",
      "#### ERROR 69 ####\n",
      "╒═════════╤════════╤═══════╤═══════╤═══════╤══════════╤═════════════════╤═══════╕\n",
      "│ TOKENS: │ <ROOT> │ Casi  │ todo  │ quedó │ aplazado │ inexorablemente │ .     │\n",
      "├─────────┼────────┼───────┼───────┼───────┼──────────┼─────────────────┼───────┤\n",
      "│ INDEX:  │ 0      │ 1     │ 2     │ 3     │ 4        │ 5               │ 6     │\n",
      "├─────────┼────────┼───────┼───────┼───────┼──────────┼─────────────────┼───────┤\n",
      "│ GOLD:   │ -1     │ 2     │ 3     │ 0     │ 3        │ 4               │ 3     │\n",
      "├─────────┼────────┼───────┼───────┼───────┼──────────┼─────────────────┼───────┤\n",
      "│ OUTPUT: │ -1     │ ERR:4 │ ERR:4 │ ERR:4 │ ERR:0    │ 4               │ ERR:4 │\n",
      "╘═════════╧════════╧═══════╧═══════╧═══════╧══════════╧═════════════════╧═══════╛\n",
      "#### ERROR 70 ####\n",
      "╒═════════╤════════╤════╤══════╤══════════╤════╤════╤═══════╤═════════╤═════╤════╤═════════╤════╤════════════╤═══════════╤════╕\n",
      "│ TOKENS: │ <ROOT> │ La │ Liga │ española │ se │ ha │ visto │ agitada │ por │ un │ pequeño │ e  │ inesperado │ terremoto │ .  │\n",
      "├─────────┼────────┼────┼──────┼──────────┼────┼────┼───────┼─────────┼─────┼────┼─────────┼────┼────────────┼───────────┼────┤\n",
      "│ INDEX:  │ 0      │ 1  │ 2    │ 3        │ 4  │ 5  │ 6     │ 7       │ 8   │ 9  │ 10      │ 11 │ 12         │ 13        │ 14 │\n",
      "├─────────┼────────┼────┼──────┼──────────┼────┼────┼───────┼─────────┼─────┼────┼─────────┼────┼────────────┼───────────┼────┤\n",
      "│ GOLD:   │ -1     │ 2  │ 6    │ 2        │ 6  │ 6  │ 0     │ 6       │ 13  │ 13 │ 13      │ 12 │ 10         │ 7         │ 6  │\n",
      "├─────────┼────────┼────┼──────┼──────────┼────┼────┼───────┼─────────┼─────┼────┼─────────┼────┼────────────┼───────────┼────┤\n",
      "│ OUTPUT: │ -1     │ 2  │ 6    │ 2        │ 6  │ 6  │ 0     │ 6       │ 13  │ 13 │ ERR:11  │ 12 │ ERR:13     │ 7         │ 6  │\n",
      "╘═════════╧════════╧════╧══════╧══════════╧════╧════╧═══════╧═════════╧═════╧════╧═════════╧════╧════════════╧═══════════╧════╛\n",
      "#### ERROR 71 ####\n",
      "╒═════════╤════════╤════╤═════════╤════╤═══════╤═══════╤═══════╤════╤═════════════╤═══╕\n",
      "│ TOKENS: │ <ROOT> │ La │ actitud │ de │ estos │ clubs │ ahora │ es │ intolerable │ . │\n",
      "├─────────┼────────┼────┼─────────┼────┼───────┼───────┼───────┼────┼─────────────┼───┤\n",
      "│ INDEX:  │ 0      │ 1  │ 2       │ 3  │ 4     │ 5     │ 6     │ 7  │ 8           │ 9 │\n",
      "├─────────┼────────┼────┼─────────┼────┼───────┼───────┼───────┼────┼─────────────┼───┤\n",
      "│ GOLD:   │ -1     │ 2  │ 8       │ 5  │ 5     │ 2     │ 2     │ 8  │ 0           │ 8 │\n",
      "├─────────┼────────┼────┼─────────┼────┼───────┼───────┼───────┼────┼─────────────┼───┤\n",
      "│ OUTPUT: │ -1     │ 2  │ 8       │ 5  │ 5     │ 2     │ ERR:8 │ 8  │ 0           │ 8 │\n",
      "╘═════════╧════════╧════╧═════════╧════╧═══════╧═══════╧═══════╧════╧═════════════╧═══╛\n",
      "#### ERROR 72 ####\n",
      "╒═════════╤════════╤══════╤══════════╤═══════╤════╤═══════════╤═══════╤════╤═══╕\n",
      "│ TOKENS: │ <ROOT> │ FNAC │ Triangle │ Plaza │ de │ Catalunya │ ,     │ 19 │ . │\n",
      "├─────────┼────────┼──────┼──────────┼───────┼────┼───────────┼───────┼────┼───┤\n",
      "│ INDEX:  │ 0      │ 1    │ 2        │ 3     │ 4  │ 5         │ 6     │  7 │ 8 │\n",
      "├─────────┼────────┼──────┼──────────┼───────┼────┼───────────┼───────┼────┼───┤\n",
      "│ GOLD:   │ -1     │ 0    │ 1        │ 2     │ 5  │ 2         │ 7     │  1 │ 1 │\n",
      "├─────────┼────────┼──────┼──────────┼───────┼────┼───────────┼───────┼────┼───┤\n",
      "│ OUTPUT: │ -1     │ 0    │ 1        │ 2     │ 5  │ ERR:3     │ ERR:1 │  1 │ 1 │\n",
      "╘═════════╧════════╧══════╧══════════╧═══════╧════╧═══════════╧═══════╧════╧═══╛\n",
      "#### ERROR 73 ####\n",
      "╒═════════╤════════╤════════╤══════════╤══════════╤════════╤══════╤══════════╤════╤═══════╤═══════╤═══════╤════╕\n",
      "│ TOKENS: │ <ROOT> │ Centre │ Cultural │ Barradas │ Rambla │ Just │ Oliveras │ 56 │ ,     │ 22.00 │ horas │ .  │\n",
      "├─────────┼────────┼────────┼──────────┼──────────┼────────┼──────┼──────────┼────┼───────┼───────┼───────┼────┤\n",
      "│ INDEX:  │ 0      │ 1      │ 2        │ 3        │ 4      │ 5    │ 6        │  7 │ 8     │ 9     │ 10    │ 11 │\n",
      "├─────────┼────────┼────────┼──────────┼──────────┼────────┼──────┼──────────┼────┼───────┼───────┼───────┼────┤\n",
      "│ GOLD:   │ -1     │ 0      │ 1        │ 1        │ 1      │ 1    │ 1        │  1 │ 10    │ 10    │ 1     │ 1  │\n",
      "├─────────┼────────┼────────┼──────────┼──────────┼────────┼──────┼──────────┼────┼───────┼───────┼───────┼────┤\n",
      "│ OUTPUT: │ -1     │ 0      │ 1        │ 1        │ 1      │ 1    │ ERR:5    │  1 │ ERR:1 │ ERR:1 │ ERR:9 │ 1  │\n",
      "╘═════════╧════════╧════════╧══════════╧══════════╧════════╧══════╧══════════╧════╧═══════╧═══════╧═══════╧════╛\n",
      "#### ERROR 74 ####\n",
      "╒═════════╤════════╤═══════╤═══════╤═════════╤══════════╤═══════╤═══╤═══════╤═══╤════════╤════╤════╤═══════╤═══════╕\n",
      "│ TOKENS: │ <ROOT> │ La    │ Boîte │ Avenida │ Diagonal │ 477   │ , │ hoy   │ y │ mañana │ ,  │  0 │ horas │ .     │\n",
      "├─────────┼────────┼───────┼───────┼─────────┼──────────┼───────┼───┼───────┼───┼────────┼────┼────┼───────┼───────┤\n",
      "│ INDEX:  │ 0      │ 1     │ 2     │ 3       │ 4        │ 5     │ 6 │ 7     │ 8 │ 9      │ 10 │ 11 │ 12    │ 13    │\n",
      "├─────────┼────────┼───────┼───────┼─────────┼──────────┼───────┼───┼───────┼───┼────────┼────┼────┼───────┼───────┤\n",
      "│ GOLD:   │ -1     │ 2     │ 0     │ 2       │ 2        │ 2     │ 7 │ 2     │ 9 │ 7      │ 7  │ 12 │ 2     │ 2     │\n",
      "├─────────┼────────┼───────┼───────┼─────────┼──────────┼───────┼───┼───────┼───┼────────┼────┼────┼───────┼───────┤\n",
      "│ OUTPUT: │ -1     │ ERR:3 │ ERR:3 │ ERR:0   │ ERR:3    │ ERR:3 │ 7 │ ERR:3 │ 9 │ 7      │ 7  │ 12 │ ERR:7 │ ERR:3 │\n",
      "╘═════════╧════════╧═══════╧═══════╧═════════╧══════════╧═══════╧═══╧═══════╧═══╧════════╧════╧════╧═══════╧═══════╛\n",
      "#### ERROR 75 ####\n",
      "╒═════════╤════════╤════════╤══════════╤════════╤═══════╤═══════╤═════════╤══════════╤═══╕\n",
      "│ TOKENS: │ <ROOT> │ Parece │ gustarle │ gustar │ le    │ la    │ palabra │ racional │ . │\n",
      "├─────────┼────────┼────────┼──────────┼────────┼───────┼───────┼─────────┼──────────┼───┤\n",
      "│ INDEX:  │ 0      │ 1      │ 2        │ 3      │ 4     │ 5     │ 6       │ 7        │ 8 │\n",
      "├─────────┼────────┼────────┼──────────┼────────┼───────┼───────┼─────────┼──────────┼───┤\n",
      "│ GOLD:   │ -1     │ 0      │ -1       │ 1      │ 2     │ 5     │ 1       │ 5        │ 1 │\n",
      "├─────────┼────────┼────────┼──────────┼────────┼───────┼───────┼─────────┼──────────┼───┤\n",
      "│ OUTPUT: │ -1     │ 0      │ ERR:1    │ 1      │ ERR:1 │ ERR:6 │ 1       │ ERR:6    │ 1 │\n",
      "╘═════════╧════════╧════════╧══════════╧════════╧═══════╧═══════╧═════════╧══════════╧═══╛\n",
      "#### ERROR 76 ####\n",
      "╒═════════╤════════╤═════╤════════╤═══╤═════╤════╤══════╤═══╤═══════╤══════════╤════╕\n",
      "│ TOKENS: │ <ROOT> │ Que │ vuelan │ y │ que │ no │ caen │ , │ por   │ supuesto │ .  │\n",
      "├─────────┼────────┼─────┼────────┼───┼─────┼────┼──────┼───┼───────┼──────────┼────┤\n",
      "│ INDEX:  │ 0      │ 1   │ 2      │ 3 │ 4   │ 5  │ 6    │ 7 │ 8     │ 9        │ 10 │\n",
      "├─────────┼────────┼─────┼────────┼───┼─────┼────┼──────┼───┼───────┼──────────┼────┤\n",
      "│ GOLD:   │ -1     │ 2   │ 0      │ 6 │ 6   │ 6  │ 2    │ 8 │ 6     │ 8        │ 2  │\n",
      "├─────────┼────────┼─────┼────────┼───┼─────┼────┼──────┼───┼───────┼──────────┼────┤\n",
      "│ OUTPUT: │ -1     │ 2   │ 0      │ 6 │ 6   │ 6  │ 2    │ 8 │ ERR:2 │ 8        │ 2  │\n",
      "╘═════════╧════════╧═════╧════════╧═══╧═════╧════╧══════╧═══╧═══════╧══════════╧════╛\n",
      "#### ERROR 77 ####\n",
      "╒═════════╤════════╤═══════╤═══════╤══════╤═════════╤═══════╕\n",
      "│ TOKENS: │ <ROOT> │ -     │ -     │ Pero │ pequeño │ .     │\n",
      "├─────────┼────────┼───────┼───────┼──────┼─────────┼───────┤\n",
      "│ INDEX:  │ 0      │ 1     │ 2     │ 3    │ 4       │ 5     │\n",
      "├─────────┼────────┼───────┼───────┼──────┼─────────┼───────┤\n",
      "│ GOLD:   │ -1     │ 2     │ 0     │ 4    │ 2       │ 2     │\n",
      "├─────────┼────────┼───────┼───────┼──────┼─────────┼───────┤\n",
      "│ OUTPUT: │ -1     │ ERR:4 │ ERR:4 │ 4    │ ERR:0   │ ERR:4 │\n",
      "╘═════════╧════════╧═══════╧═══════╧══════╧═════════╧═══════╛\n",
      "#### ERROR 78 ####\n",
      "╒═════════╤════════╤═══════╤═══════╤═══╤═══════╤═════╤════╤════════════╤═══════╤══════════╤═══════╕\n",
      "│ TOKENS: │ <ROOT> │ -     │ -     │ Y │ los   │ que │ no │ entendemos │ ,     │ avioneta │ .     │\n",
      "├─────────┼────────┼───────┼───────┼───┼───────┼─────┼────┼────────────┼───────┼──────────┼───────┤\n",
      "│ INDEX:  │ 0      │ 1     │ 2     │ 3 │ 4     │ 5   │ 6  │ 7          │ 8     │ 9        │ 10    │\n",
      "├─────────┼────────┼───────┼───────┼───┼───────┼─────┼────┼────────────┼───────┼──────────┼───────┤\n",
      "│ GOLD:   │ -1     │ 2     │ 0     │ 7 │ 7     │ 7   │ 7  │ 2          │ 9     │ 7        │ 2     │\n",
      "├─────────┼────────┼───────┼───────┼───┼───────┼─────┼────┼────────────┼───────┼──────────┼───────┤\n",
      "│ OUTPUT: │ -1     │ ERR:7 │ ERR:7 │ 7 │ ERR:5 │ 7   │ 7  │ ERR:0      │ ERR:7 │ 7        │ ERR:7 │\n",
      "╘═════════╧════════╧═══════╧═══════╧═══╧═══════╧═════╧════╧════════════╧═══════╧══════════╧═══════╛\n",
      "#### ERROR 79 ####\n",
      "╒═════════╤════════╤═══════╤═══════╤══════╤═══════════╤════╤═══════╤═════════╤════╤════════════╤════╤═══════╤════════╤════════════╤═══════╕\n",
      "│ TOKENS: │ <ROOT> │ -     │ -     │ Nada │ sorprende │ en │ estos │ tiempos │ de │ elecciones │ ,  │ dicen │ muchos │ ciudadanos │ .     │\n",
      "├─────────┼────────┼───────┼───────┼──────┼───────────┼────┼───────┼─────────┼────┼────────────┼────┼───────┼────────┼────────────┼───────┤\n",
      "│ INDEX:  │ 0      │ 1     │ 2     │ 3    │ 4         │ 5  │ 6     │ 7       │ 8  │ 9          │ 10 │ 11    │ 12     │ 13         │ 14    │\n",
      "├─────────┼────────┼───────┼───────┼──────┼───────────┼────┼───────┼─────────┼────┼────────────┼────┼───────┼────────┼────────────┼───────┤\n",
      "│ GOLD:   │ -1     │ 11    │ 11    │ 4    │ 11        │ 7  │ 7     │ 4       │ 9  │ 7          │ 4  │ 0     │ 13     │ 11         │ 11    │\n",
      "├─────────┼────────┼───────┼───────┼──────┼───────────┼────┼───────┼─────────┼────┼────────────┼────┼───────┼────────┼────────────┼───────┤\n",
      "│ OUTPUT: │ -1     │ ERR:4 │ ERR:4 │ 4    │ ERR:0     │ 7  │ 7     │ 4       │ 9  │ 7          │ 4  │ ERR:4 │ 13     │ 11         │ ERR:4 │\n",
      "╘═════════╧════════╧═══════╧═══════╧══════╧═══════════╧════╧═══════╧═════════╧════╧════════════╧════╧═══════╧════════╧════════════╧═══════╛\n",
      "#### ERROR 80 ####\n",
      "╒═════════╤════════╤══════╤════╤══════════╤════════╤═══════════╤═════╤════╤═══════════╤════════╤════════╤════╤═════════╤═══════╕\n",
      "│ TOKENS: │ <ROOT> │ Aquí │ se │ pretende │ seguir │ ignorando │ que │ no │ retenemos │ más    │ de     │ un │ mensaje │ .     │\n",
      "├─────────┼────────┼──────┼────┼──────────┼────────┼───────────┼─────┼────┼───────────┼────────┼────────┼────┼─────────┼───────┤\n",
      "│ INDEX:  │ 0      │ 1    │ 2  │ 3        │ 4      │ 5         │ 6   │ 7  │ 8         │ 9      │ 10     │ 11 │ 12      │ 13    │\n",
      "├─────────┼────────┼──────┼────┼──────────┼────────┼───────────┼─────┼────┼───────────┼────────┼────────┼────┼─────────┼───────┤\n",
      "│ GOLD:   │ -1     │ 3    │ 3  │ 0        │ 3      │ 4         │ 8   │ 8  │ 5         │ 11     │ 11     │ 12 │ 8       │ 3     │\n",
      "├─────────┼────────┼──────┼────┼──────────┼────────┼───────────┼─────┼────┼───────────┼────────┼────────┼────┼─────────┼───────┤\n",
      "│ OUTPUT: │ -1     │ 3    │ 3  │ 0        │ 3      │ 4         │ 8   │ 8  │ 5         │ ERR:-1 │ ERR:12 │ 12 │ ERR:9   │ ERR:9 │\n",
      "╘═════════╧════════╧══════╧════╧══════════╧════════╧═══════════╧═════╧════╧═══════════╧════════╧════════╧════╧═════════╧═══════╛\n",
      "#### ERROR 81 ####\n",
      "╒═════════╤════════╤════════╤════════╤═════════╤═════╤════╤═════════╤════╤════╤══════╤══════════╤════════╕\n",
      "│ TOKENS: │ <ROOT> │ -      │ -      │ Supongo │ que │ el │ mensaje │ no │ es │ sólo │ palabras │ .      │\n",
      "├─────────┼────────┼────────┼────────┼─────────┼─────┼────┼─────────┼────┼────┼──────┼──────────┼────────┤\n",
      "│ INDEX:  │ 0      │ 1      │ 2      │ 3       │ 4   │ 5  │ 6       │ 7  │ 8  │ 9    │ 10       │ 11     │\n",
      "├─────────┼────────┼────────┼────────┼─────────┼─────┼────┼─────────┼────┼────┼──────┼──────────┼────────┤\n",
      "│ GOLD:   │ -1     │ 3      │ 3      │ 0       │ 10  │ 6  │ 10      │ 10 │ 10 │ 10   │ 3        │ 3      │\n",
      "├─────────┼────────┼────────┼────────┼─────────┼─────┼────┼─────────┼────┼────┼──────┼──────────┼────────┤\n",
      "│ OUTPUT: │ -1     │ ERR:10 │ ERR:10 │ ERR:10  │ 10  │ 6  │ 10      │ 10 │ 10 │ 10   │ ERR:0    │ ERR:10 │\n",
      "╘═════════╧════════╧════════╧════════╧═════════╧═════╧════╧═════════╧════╧════╧══════╧══════════╧════════╛\n",
      "#### ERROR 82 ####\n",
      "╒═════════╤════════╤═══════╤═══════╤═══════╤══════════╤════════╤═══════╤═══════╤══════════╤════════╤════════╤════════╤════════╤═════════╤════╕\n",
      "│ TOKENS: │ <ROOT> │ Hasta │ ahora │ podía │ hablarse │ hablar │ se    │ de    │ adhesión │ ,      │ por    │ parte  │ del    │ elector │ .  │\n",
      "├─────────┼────────┼───────┼───────┼───────┼──────────┼────────┼───────┼───────┼──────────┼────────┼────────┼────────┼────────┼─────────┼────┤\n",
      "│ INDEX:  │ 0      │ 1     │ 2     │ 3     │ 4        │ 5      │ 6     │ 7     │ 8        │ 9      │ 10     │ 11     │ 12     │ 13      │ 14 │\n",
      "├─────────┼────────┼───────┼───────┼───────┼──────────┼────────┼───────┼───────┼──────────┼────────┼────────┼────────┼────────┼─────────┼────┤\n",
      "│ GOLD:   │ -1     │ 2     │ 4     │ 4     │ -1       │ 0      │ 4     │ 7     │ 4        │ 12     │ 12     │ 9      │ 9      │ 4       │ 4  │\n",
      "├─────────┼────────┼───────┼───────┼───────┼──────────┼────────┼───────┼───────┼──────────┼────────┼────────┼────────┼────────┼─────────┼────┤\n",
      "│ OUTPUT: │ -1     │ 2     │ 4     │ 4     │ ERR:0    │ ERR:4  │ ERR:5 │ ERR:8 │ ERR:5    │ ERR:13 │ ERR:13 │ ERR:10 │ ERR:10 │ ERR:5   │ 4  │\n",
      "╘═════════╧════════╧═══════╧═══════╧═══════╧══════════╧════════╧═══════╧═══════╧══════════╧════════╧════════╧════════╧════════╧═════════╧════╛\n",
      "#### ERROR 83 ####\n",
      "╒═════════╤════════╤═══╤═══╤════╤══════╤═════╤════╤═════╤═══════╤════════╤═════════════╤═══════════╤════╕\n",
      "│ TOKENS: │ <ROOT> │ - │ - │ Yo │ creo │ que │ sí │ les │ temen │ ,      │ simplemente │ disimulan │ .  │\n",
      "├─────────┼────────┼───┼───┼────┼──────┼─────┼────┼─────┼───────┼────────┼─────────────┼───────────┼────┤\n",
      "│ INDEX:  │ 0      │ 1 │ 2 │ 3  │ 4    │ 5   │ 6  │ 7   │ 8     │ 9      │ 10          │ 11        │ 12 │\n",
      "├─────────┼────────┼───┼───┼────┼──────┼─────┼────┼─────┼───────┼────────┼─────────────┼───────────┼────┤\n",
      "│ GOLD:   │ -1     │ 4 │ 4 │ 4  │ 0    │ 8   │ 8  │ 8   │ 4     │ 4      │ 11          │ 4         │ 4  │\n",
      "├─────────┼────────┼───┼───┼────┼──────┼─────┼────┼─────┼───────┼────────┼─────────────┼───────────┼────┤\n",
      "│ OUTPUT: │ -1     │ 4 │ 4 │ 4  │ 0    │ 8   │ 8  │ 8   │ 4     │ ERR:11 │ 11          │ 4         │ 4  │\n",
      "╘═════════╧════════╧═══╧═══╧════╧══════╧═════╧════╧═════╧═══════╧════════╧═════════════╧═══════════╧════╛\n",
      "#### ERROR 84 ####\n",
      "╒═════════╤════════╤═══╤═══╤═══════╤═══════╤════════╤════════════╤═══╤═══════╤═══════╤═══════╤════╤════════════╤════╕\n",
      "│ TOKENS: │ <ROOT> │ - │ - │ Usted │ sigue │ siendo │ periodista │ y │ da    │ algún │ curso │ de │ periodismo │ .  │\n",
      "├─────────┼────────┼───┼───┼───────┼───────┼────────┼────────────┼───┼───────┼───────┼───────┼────┼────────────┼────┤\n",
      "│ INDEX:  │ 0      │ 1 │ 2 │ 3     │ 4     │ 5      │ 6          │ 7 │ 8     │ 9     │ 10    │ 11 │ 12         │ 13 │\n",
      "├─────────┼────────┼───┼───┼───────┼───────┼────────┼────────────┼───┼───────┼───────┼───────┼────┼────────────┼────┤\n",
      "│ GOLD:   │ -1     │ 4 │ 4 │ 4     │ 0     │ 6      │ 4          │ 8 │ 6     │ 10    │ 8     │ 12 │ 10         │ 4  │\n",
      "├─────────┼────────┼───┼───┼───────┼───────┼────────┼────────────┼───┼───────┼───────┼───────┼────┼────────────┼────┤\n",
      "│ OUTPUT: │ -1     │ 4 │ 4 │ 4     │ 0     │ 6      │ 4          │ 8 │ ERR:4 │ 10    │ 8     │ 12 │ 10         │ 4  │\n",
      "╘═════════╧════════╧═══╧═══╧═══════╧═══════╧════════╧════════════╧═══╧═══════╧═══════╧═══════╧════╧════════════╧════╛\n",
      "#### ERROR 85 ####\n",
      "╒═════════╤════════╤═══════╤═══════╤═══════╤════════╤═══════╕\n",
      "│ TOKENS: │ <ROOT> │ -     │ -     │ En    │ teoría │ .     │\n",
      "├─────────┼────────┼───────┼───────┼───────┼────────┼───────┤\n",
      "│ INDEX:  │ 0      │ 1     │ 2     │ 3     │ 4      │ 5     │\n",
      "├─────────┼────────┼───────┼───────┼───────┼────────┼───────┤\n",
      "│ GOLD:   │ -1     │ 3     │ 3     │ 0     │ 3      │ 3     │\n",
      "├─────────┼────────┼───────┼───────┼───────┼────────┼───────┤\n",
      "│ OUTPUT: │ -1     │ ERR:4 │ ERR:4 │ ERR:4 │ ERR:0  │ ERR:4 │\n",
      "╘═════════╧════════╧═══════╧═══════╧═══════╧════════╧═══════╛\n",
      "#### ERROR 86 ####\n",
      "╒═════════╤════════╤═══════╤═══════╤═══════╤════╤═══════╤════╤════╤══════════╤═══════╕\n",
      "│ TOKENS: │ <ROOT> │ -     │ -     │ Y     │ en │ mucha │ de │ la │ práctica │ .     │\n",
      "├─────────┼────────┼───────┼───────┼───────┼────┼───────┼────┼────┼──────────┼───────┤\n",
      "│ INDEX:  │ 0      │ 1     │ 2     │ 3     │ 4  │ 5     │ 6  │ 7  │ 8        │ 9     │\n",
      "├─────────┼────────┼───────┼───────┼───────┼────┼───────┼────┼────┼──────────┼───────┤\n",
      "│ GOLD:   │ -1     │ 2     │ 0     │ 5     │ 5  │ 2     │ 8  │ 8  │ 5        │ 2     │\n",
      "├─────────┼────────┼───────┼───────┼───────┼────┼───────┼────┼────┼──────────┼───────┤\n",
      "│ OUTPUT: │ -1     │ ERR:3 │ ERR:3 │ ERR:0 │ 5  │ ERR:3 │ 8  │ 8  │ 5        │ ERR:3 │\n",
      "╘═════════╧════════╧═══════╧═══════╧═══════╧════╧═══════╧════╧════╧══════════╧═══════╛\n",
      "#### ERROR 87 ####\n",
      "╒═════════╤════════╤═══╤═══╤════════╤═════╤═══════╤════╤═══╕\n",
      "│ TOKENS: │ <ROOT> │ - │ - │ Tal    │ vez │ ,     │ sí │ . │\n",
      "├─────────┼────────┼───┼───┼────────┼─────┼───────┼────┼───┤\n",
      "│ INDEX:  │ 0      │ 1 │ 2 │ 3      │ 4   │ 5     │ 6  │ 7 │\n",
      "├─────────┼────────┼───┼───┼────────┼─────┼───────┼────┼───┤\n",
      "│ GOLD:   │ -1     │ 3 │ 3 │ 0      │ 3   │ 6     │ 3  │ 3 │\n",
      "├─────────┼────────┼───┼───┼────────┼─────┼───────┼────┼───┤\n",
      "│ OUTPUT: │ -1     │ 3 │ 3 │ ERR:-1 │ 3   │ ERR:3 │ 3  │ 3 │\n",
      "╘═════════╧════════╧═══╧═══╧════════╧═════╧═══════╧════╧═══╛\n",
      "#### ERROR 88 ####\n",
      "╒═════════╤════════╤═══╤═══╤════╤════════╤═════════╤═══════╤═══════╤════════╤════════╤═════════════════╤════╕\n",
      "│ TOKENS: │ <ROOT> │ - │ - │ Me │ cuesta │ aceptar │ que   │ hayan │ tenido │ alguna │ responsabilidad │ .  │\n",
      "├─────────┼────────┼───┼───┼────┼────────┼─────────┼───────┼───────┼────────┼────────┼─────────────────┼────┤\n",
      "│ INDEX:  │ 0      │ 1 │ 2 │ 3  │ 4      │ 5       │ 6     │ 7     │ 8      │ 9      │ 10              │ 11 │\n",
      "├─────────┼────────┼───┼───┼────┼────────┼─────────┼───────┼───────┼────────┼────────┼─────────────────┼────┤\n",
      "│ GOLD:   │ -1     │ 4 │ 4 │ 4  │ 0      │ 4       │ 5     │ 5     │ 5      │ 10     │ 8               │ 4  │\n",
      "├─────────┼────────┼───┼───┼────┼────────┼─────────┼───────┼───────┼────────┼────────┼─────────────────┼────┤\n",
      "│ OUTPUT: │ -1     │ 4 │ 4 │ 4  │ 0      │ 4       │ ERR:8 │ ERR:8 │ 5      │ 10     │ 8               │ 4  │\n",
      "╘═════════╧════════╧═══╧═══╧════╧════════╧═════════╧═══════╧═══════╧════════╧════════╧═════════════════╧════╛\n",
      "#### ERROR 89 ####\n",
      "╒═════════╤════════╤══════╤════╤═══════╤══════════╤════╤═══════╤════════╤═════╕\n",
      "│ TOKENS: │ <ROOT> │ Tuve │ un │ sueño │ mientras │ el │ avión │ volaba │ ... │\n",
      "├─────────┼────────┼──────┼────┼───────┼──────────┼────┼───────┼────────┼─────┤\n",
      "│ INDEX:  │ 0      │ 1    │ 2  │ 3     │ 4        │ 5  │ 6     │ 7      │ 8   │\n",
      "├─────────┼────────┼──────┼────┼───────┼──────────┼────┼───────┼────────┼─────┤\n",
      "│ GOLD:   │ -1     │ 0    │ 3  │ 1     │ 7        │ 6  │ 7     │ 1      │ 1   │\n",
      "├─────────┼────────┼──────┼────┼───────┼──────────┼────┼───────┼────────┼─────┤\n",
      "│ OUTPUT: │ -1     │ 0    │ 3  │ 1     │ 7        │ 6  │ 7     │ ERR:3  │ 1   │\n",
      "╘═════════╧════════╧══════╧════╧═══════╧══════════╧════╧═══════╧════════╧═════╛\n",
      "#### ERROR 90 ####\n",
      "╒═════════╤════════╤═════╤════════╤═══════╤════╤═════════════╤═════╤══════════╤════╤════════╤══════════╤═════════╤═══════╤════════╤════╕\n",
      "│ TOKENS: │ <ROOT> │ Los │ sueños │ serán │ la │ culminación │ del │ esfuerzo │ de │ muchas │ personas │ durante │ mucho │ tiempo │ .  │\n",
      "├─────────┼────────┼─────┼────────┼───────┼────┼─────────────┼─────┼──────────┼────┼────────┼──────────┼─────────┼───────┼────────┼────┤\n",
      "│ INDEX:  │ 0      │ 1   │ 2      │ 3     │ 4  │ 5           │ 6   │ 7        │ 8  │ 9      │ 10       │ 11      │ 12    │ 13     │ 14 │\n",
      "├─────────┼────────┼─────┼────────┼───────┼────┼─────────────┼─────┼──────────┼────┼────────┼──────────┼─────────┼───────┼────────┼────┤\n",
      "│ GOLD:   │ -1     │ 2   │ 5      │ 5     │ 5  │ 0           │ 7   │ 5        │ 10 │ 10     │ 7        │ 13      │ 13    │ 5      │ 5  │\n",
      "├─────────┼────────┼─────┼────────┼───────┼────┼─────────────┼─────┼──────────┼────┼────────┼──────────┼─────────┼───────┼────────┼────┤\n",
      "│ OUTPUT: │ -1     │ 2   │ 5      │ 5     │ 5  │ 0           │ 7   │ 5        │ 10 │ 10     │ 7        │ 13      │ 13    │ ERR:10 │ 5  │\n",
      "╘═════════╧════════╧═════╧════════╧═══════╧════╧═════════════╧═════╧══════════╧════╧════════╧══════════╧═════════╧═══════╧════════╧════╛\n",
      "#### ERROR 91 ####\n",
      "╒═════════╤════════╤════╤════════════╤════╤════╤══════════════╤═══════╤════════════╤════╤════════╤════╤═════╤═══════════════╤════╤═══════╤════╕\n",
      "│ TOKENS: │ <ROOT> │ La │ ampliación │ de │ un │ asentamiento │ judío │ ensombrece │ el │ inicio │ de │ las │ negociaciones │ en │ Eilat │ .  │\n",
      "├─────────┼────────┼────┼────────────┼────┼────┼──────────────┼───────┼────────────┼────┼────────┼────┼─────┼───────────────┼────┼───────┼────┤\n",
      "│ INDEX:  │ 0      │ 1  │ 2          │ 3  │ 4  │ 5            │ 6     │ 7          │ 8  │ 9      │ 10 │ 11  │ 12            │ 13 │ 14    │ 15 │\n",
      "├─────────┼────────┼────┼────────────┼────┼────┼──────────────┼───────┼────────────┼────┼────────┼────┼─────┼───────────────┼────┼───────┼────┤\n",
      "│ GOLD:   │ -1     │ 2  │ 7          │ 5  │ 5  │ 2            │ 5     │ 0          │ 9  │ 7      │ 12 │ 12  │ 9             │ 14 │ 12    │ 7  │\n",
      "├─────────┼────────┼────┼────────────┼────┼────┼──────────────┼───────┼────────────┼────┼────────┼────┼─────┼───────────────┼────┼───────┼────┤\n",
      "│ OUTPUT: │ -1     │ 2  │ 7          │ 5  │ 5  │ 2            │ 5     │ 0          │ 9  │ 7      │ 12 │ 12  │ 9             │ 14 │ ERR:9 │ 7  │\n",
      "╘═════════╧════════╧════╧════════════╧════╧════╧══════════════╧═══════╧════════════╧════╧════════╧════╧═════╧═══════════════╧════╧═══════╧════╛\n",
      "#### ERROR 92 ####\n",
      "╒═════════╤════════╤═════════╤═══════╤═══════╤═════╤═══════╤═══╕\n",
      "│ TOKENS: │ <ROOT> │ Resopló │ ,     │ más   │ que │ habló │ . │\n",
      "├─────────┼────────┼─────────┼───────┼───────┼─────┼───────┼───┤\n",
      "│ INDEX:  │ 0      │ 1       │ 2     │ 3     │ 4   │ 5     │ 6 │\n",
      "├─────────┼────────┼─────────┼───────┼───────┼─────┼───────┼───┤\n",
      "│ GOLD:   │ -1     │ 0       │ 3     │ 1     │ 5   │ 3     │ 1 │\n",
      "├─────────┼────────┼─────────┼───────┼───────┼─────┼───────┼───┤\n",
      "│ OUTPUT: │ -1     │ 0       │ ERR:5 │ ERR:5 │ 5   │ ERR:1 │ 1 │\n",
      "╘═════════╧════════╧═════════╧═══════╧═══════╧═════╧═══════╧═══╛\n",
      "#### ERROR 93 ####\n",
      "╒═════════╤════════╤═════╤══════════╤═══════╤═══════╤═══════╤═════╤═══════════╤════╤═════╤═════╤═══════════╤════╕\n",
      "│ TOKENS: │ <ROOT> │ Las │ cárceles │ crean │ a     │ veces │ más │ problemas │ de │ los │ que │ resuelven │ .  │\n",
      "├─────────┼────────┼─────┼──────────┼───────┼───────┼───────┼─────┼───────────┼────┼─────┼─────┼───────────┼────┤\n",
      "│ INDEX:  │ 0      │ 1   │ 2        │ 3     │ 4     │ 5     │ 6   │ 7         │ 8  │ 9   │ 10  │ 11        │ 12 │\n",
      "├─────────┼────────┼─────┼──────────┼───────┼───────┼───────┼─────┼───────────┼────┼─────┼─────┼───────────┼────┤\n",
      "│ GOLD:   │ -1     │ 2   │ 3        │ 0     │ 3     │ 4     │ 7   │ 3         │ 11 │ 11  │ 11  │ 7         │ 3  │\n",
      "├─────────┼────────┼─────┼──────────┼───────┼───────┼───────┼─────┼───────────┼────┼─────┼─────┼───────────┼────┤\n",
      "│ OUTPUT: │ -1     │ 2   │ 3        │ 0     │ ERR:5 │ ERR:3 │ 7   │ 3         │ 11 │ 11  │ 11  │ 7         │ 3  │\n",
      "╘═════════╧════════╧═════╧══════════╧═══════╧═══════╧═══════╧═════╧═══════════╧════╧═════╧═════╧═══════════╧════╛\n",
      "#### ERROR 94 ####\n",
      "╒═════════╤════════╤═════╤════════╤═══════════╤═══════════╤══════════╤══════╤═══════╤═══════╤══════════╤══════╤══════════╤═════╤═════════╤════╕\n",
      "│ TOKENS: │ <ROOT> │ Los │ grupos │ satánicos │ españoles │ utilizan │ cada │ vez   │ más   │ Internet │ para │ difundir │ sus │ ideales │ .  │\n",
      "├─────────┼────────┼─────┼────────┼───────────┼───────────┼──────────┼──────┼───────┼───────┼──────────┼──────┼──────────┼─────┼─────────┼────┤\n",
      "│ INDEX:  │ 0      │ 1   │ 2      │ 3         │ 4         │ 5        │ 6    │ 7     │ 8     │ 9        │ 10   │ 11       │ 12  │ 13      │ 14 │\n",
      "├─────────┼────────┼─────┼────────┼───────────┼───────────┼──────────┼──────┼───────┼───────┼──────────┼──────┼──────────┼─────┼─────────┼────┤\n",
      "│ GOLD:   │ -1     │ 2   │ 5      │ 2         │ 2         │ 0        │ 7    │ 8     │ 5     │ 5        │ 11   │ 5        │ 13  │ 11      │ 5  │\n",
      "├─────────┼────────┼─────┼────────┼───────────┼───────────┼──────────┼──────┼───────┼───────┼──────────┼──────┼──────────┼─────┼─────────┼────┤\n",
      "│ OUTPUT: │ -1     │ 2   │ 5      │ 2         │ 2         │ 0        │ 7    │ ERR:5 │ ERR:7 │ 5        │ 11   │ 5        │ 13  │ 11      │ 5  │\n",
      "╘═════════╧════════╧═════╧════════╧═══════════╧═══════════╧══════════╧══════╧═══════╧═══════╧══════════╧══════╧══════════╧═════╧═════════╧════╛\n",
      "#### ERROR 95 ####\n",
      "╒═════════╤════════╤══════╤════╤═════╤════╤═════╤══════════╤═════╤════╤═══════╤════╤═════╤════╤══════╤══════════╤════╕\n",
      "│ TOKENS: │ <ROOT> │ Este │ es │ uno │ de │ los │ mensajes │ que │ se │ lee   │ en │ uno │ de │ esos │ tableros │ .  │\n",
      "├─────────┼────────┼──────┼────┼─────┼────┼─────┼──────────┼─────┼────┼───────┼────┼─────┼────┼──────┼──────────┼────┤\n",
      "│ INDEX:  │ 0      │ 1    │ 2  │ 3   │ 4  │ 5   │ 6        │ 7   │ 8  │ 9     │ 10 │ 11  │ 12 │ 13   │ 14       │ 15 │\n",
      "├─────────┼────────┼──────┼────┼─────┼────┼─────┼──────────┼─────┼────┼───────┼────┼─────┼────┼──────┼──────────┼────┤\n",
      "│ GOLD:   │ -1     │ 3    │ 3  │ 0   │ 6  │ 6   │ 3        │ 9   │ 9  │ 3     │ 11 │ 9   │ 14 │ 14   │ 11       │ 3  │\n",
      "├─────────┼────────┼──────┼────┼─────┼────┼─────┼──────────┼─────┼────┼───────┼────┼─────┼────┼──────┼──────────┼────┤\n",
      "│ OUTPUT: │ -1     │ 3    │ 3  │ 0   │ 6  │ 6   │ 3        │ 9   │ 9  │ ERR:6 │ 11 │ 9   │ 14 │ 14   │ 11       │ 3  │\n",
      "╘═════════╧════════╧══════╧════╧═════╧════╧═════╧══════════╧═════╧════╧═══════╧════╧═════╧════╧══════╧══════════╧════╛\n",
      "#### ERROR 96 ####\n",
      "╒═════════╤════════╤════╤════════╤════╤═══════╤═════════╤═══╤════════╤════╤═══════════╤════╤════╤═══════════╤════╤════════╤═══════╕\n",
      "│ TOKENS: │ <ROOT> │ Su │ título │ es │ Pulp  │ Fiction │ , │ órgano │ de │ expresión │ de │ La │ Hermandad │ de │ Satán  │ .     │\n",
      "├─────────┼────────┼────┼────────┼────┼───────┼─────────┼───┼────────┼────┼───────────┼────┼────┼───────────┼────┼────────┼───────┤\n",
      "│ INDEX:  │ 0      │ 1  │ 2      │ 3  │ 4     │ 5       │ 6 │ 7      │ 8  │ 9         │ 10 │ 11 │ 12        │ 13 │ 14     │ 15    │\n",
      "├─────────┼────────┼────┼────────┼────┼───────┼─────────┼───┼────────┼────┼───────────┼────┼────┼───────────┼────┼────────┼───────┤\n",
      "│ GOLD:   │ -1     │ 2  │ 4      │ 4  │ 0     │ 4       │ 7 │ 4      │ 9  │ 7         │ 12 │ 12 │ 7         │ 14 │ 11     │ 4     │\n",
      "├─────────┼────────┼────┼────────┼────┼───────┼─────────┼───┼────────┼────┼───────────┼────┼────┼───────────┼────┼────────┼───────┤\n",
      "│ OUTPUT: │ -1     │ 2  │ ERR:-1 │ 4  │ ERR:2 │ 4       │ 7 │ 4      │ 9  │ 7         │ 12 │ 12 │ 7         │ 14 │ ERR:12 │ ERR:2 │\n",
      "╘═════════╧════════╧════╧════════╧════╧═══════╧═════════╧═══╧════════╧════╧═══════════╧════╧════╧═══════════╧════╧════════╧═══════╛\n",
      "#### ERROR 97 ####\n",
      "╒═════════╤════════╤═══════╤═══════╤═══════╤═══════╤═══════╤═══════╤═══════╤═══════╤═══════╕\n",
      "│ TOKENS: │ <ROOT> │ -     │ -     │ ¡     │ Vaya  │ debut │ !     │ -     │ -     │ .     │\n",
      "├─────────┼────────┼───────┼───────┼───────┼───────┼───────┼───────┼───────┼───────┼───────┤\n",
      "│ INDEX:  │ 0      │ 1     │ 2     │ 3     │ 4     │ 5     │ 6     │ 7     │ 8     │ 9     │\n",
      "├─────────┼────────┼───────┼───────┼───────┼───────┼───────┼───────┼───────┼───────┼───────┤\n",
      "│ GOLD:   │ -1     │ 4     │ 4     │ 4     │ 0     │ 4     │ 4     │ 4     │ 4     │ 4     │\n",
      "├─────────┼────────┼───────┼───────┼───────┼───────┼───────┼───────┼───────┼───────┼───────┤\n",
      "│ OUTPUT: │ -1     │ ERR:5 │ ERR:5 │ ERR:5 │ ERR:5 │ ERR:0 │ ERR:5 │ ERR:5 │ ERR:5 │ ERR:5 │\n",
      "╘═════════╧════════╧═══════╧═══════╧═══════╧═══════╧═══════╧═══════╧═══════╧═══════╧═══════╛\n",
      "#### ERROR 98 ####\n",
      "╒═════════╤════════╤══════╤════╤══════════╤═══╤═════════════════╤═══╤═════╤═════╤══════════╤════╕\n",
      "│ TOKENS: │ <ROOT> │ Pero │ su │ difusión │ , │ lamentablemente │ , │ fue │ muy │ limitada │ .  │\n",
      "├─────────┼────────┼──────┼────┼──────────┼───┼─────────────────┼───┼─────┼─────┼──────────┼────┤\n",
      "│ INDEX:  │ 0      │ 1    │ 2  │ 3        │ 4 │ 5               │ 6 │ 7   │ 8   │ 9        │ 10 │\n",
      "├─────────┼────────┼──────┼────┼──────────┼───┼─────────────────┼───┼─────┼─────┼──────────┼────┤\n",
      "│ GOLD:   │ -1     │ 9    │ 3  │ 9        │ 5 │ 9               │ 5 │ 9   │ 9   │ 0        │ 9  │\n",
      "├─────────┼────────┼──────┼────┼──────────┼───┼─────────────────┼───┼─────┼─────┼──────────┼────┤\n",
      "│ OUTPUT: │ -1     │ 9    │ 3  │ 9        │ 5 │ ERR:3           │ 5 │ 9   │ 9   │ 0        │ 9  │\n",
      "╘═════════╧════════╧══════╧════╧══════════╧═══╧═════════════════╧═══╧═════╧═════╧══════════╧════╛\n",
      "#### ERROR 99 ####\n",
      "╒═════════╤════════╤═══╤═══╤═══╤══════╤═══════╤══════════╤═══╤═══╤═══╤════╕\n",
      "│ TOKENS: │ <ROOT> │ - │ - │ ¿ │ Cómo │ de    │ fascista │ ? │ - │ - │ .  │\n",
      "├─────────┼────────┼───┼───┼───┼──────┼───────┼──────────┼───┼───┼───┼────┤\n",
      "│ INDEX:  │ 0      │ 1 │ 2 │ 3 │ 4    │ 5     │ 6        │ 7 │ 8 │ 9 │ 10 │\n",
      "├─────────┼────────┼───┼───┼───┼──────┼───────┼──────────┼───┼───┼───┼────┤\n",
      "│ GOLD:   │ -1     │ 4 │ 4 │ 4 │ 0    │ 4     │ 4        │ 4 │ 4 │ 4 │ 4  │\n",
      "├─────────┼────────┼───┼───┼───┼──────┼───────┼──────────┼───┼───┼───┼────┤\n",
      "│ OUTPUT: │ -1     │ 4 │ 4 │ 4 │ 0    │ ERR:6 │ 4        │ 4 │ 4 │ 4 │ 4  │\n",
      "╘═════════╧════════╧═══╧═══╧═══╧══════╧═══════╧══════════╧═══╧═══╧═══╧════╛\n",
      "#### ERROR 100 ####\n",
      "╒═════════╤════════╤═══╤════════╤═══════╤════╤═══════╤═══════╤═════════╤═════════╤════════╤════════╤══════════╤════╤════╕\n",
      "│ TOKENS: │ <ROOT> │ ¡ │ Fíjese │ Fije  │ se │ en    │ la    │ lectura │ racista │ de     │ la     │ Sirenita │ !  │ .  │\n",
      "├─────────┼────────┼───┼────────┼───────┼────┼───────┼───────┼─────────┼─────────┼────────┼────────┼──────────┼────┼────┤\n",
      "│ INDEX:  │ 0      │ 1 │ 2      │ 3     │ 4  │ 5     │ 6     │ 7       │ 8       │ 9      │ 10     │ 11       │ 12 │ 13 │\n",
      "├─────────┼────────┼───┼────────┼───────┼────┼───────┼───────┼─────────┼─────────┼────────┼────────┼──────────┼────┼────┤\n",
      "│ GOLD:   │ -1     │ 2 │ -1     │ 0     │ 2  │ 6     │ 6     │ 2       │ 6       │ 10     │ 10     │ 6        │ 2  │ 2  │\n",
      "├─────────┼────────┼───┼────────┼───────┼────┼───────┼───────┼─────────┼─────────┼────────┼────────┼──────────┼────┼────┤\n",
      "│ OUTPUT: │ -1     │ 2 │ ERR:0  │ ERR:2 │ 2  │ ERR:7 │ ERR:7 │ 2       │ ERR:7   │ ERR:11 │ ERR:11 │ ERR:7    │ 2  │ 2  │\n",
      "╘═════════╧════════╧═══╧════════╧═══════╧════╧═══════╧═══════╧═════════╧═════════╧════════╧════════╧══════════╧════╧════╛\n",
      "#### ERROR 101 ####\n",
      "╒═════════╤════════╤═══════╤═══════╤══════╤═════╤═════════╤═══╕\n",
      "│ TOKENS: │ <ROOT> │ El    │ suyo  │ sale │ del │ armario │ . │\n",
      "├─────────┼────────┼───────┼───────┼──────┼─────┼─────────┼───┤\n",
      "│ INDEX:  │ 0      │ 1     │ 2     │ 3    │ 4   │ 5       │ 6 │\n",
      "├─────────┼────────┼───────┼───────┼──────┼─────┼─────────┼───┤\n",
      "│ GOLD:   │ -1     │ 3     │ 1     │ 0    │ 5   │ 3       │ 3 │\n",
      "├─────────┼────────┼───────┼───────┼──────┼─────┼─────────┼───┤\n",
      "│ OUTPUT: │ -1     │ ERR:2 │ ERR:3 │ 0    │ 5   │ 3       │ 3 │\n",
      "╘═════════╧════════╧═══════╧═══════╧══════╧═════╧═════════╧═══╛\n",
      "#### ERROR 102 ####\n",
      "╒═════════╤════════╤═══╤═══╤════╤════════╤═══════╤═════╤═════════╤═══╕\n",
      "│ TOKENS: │ <ROOT> │ - │ - │ No │ quería │ estar │ con │ mujeres │ . │\n",
      "├─────────┼────────┼───┼───┼────┼────────┼───────┼─────┼─────────┼───┤\n",
      "│ INDEX:  │ 0      │ 1 │ 2 │ 3  │ 4      │ 5     │ 6   │ 7       │ 8 │\n",
      "├─────────┼────────┼───┼───┼────┼────────┼───────┼─────┼─────────┼───┤\n",
      "│ GOLD:   │ -1     │ 4 │ 4 │ 4  │ 0      │ 7     │ 7   │ 4       │ 4 │\n",
      "├─────────┼────────┼───┼───┼────┼────────┼───────┼─────┼─────────┼───┤\n",
      "│ OUTPUT: │ -1     │ 4 │ 4 │ 4  │ 0      │ ERR:4 │ 7   │ ERR:5   │ 4 │\n",
      "╘═════════╧════════╧═══╧═══╧════╧════════╧═══════╧═════╧═════════╧═══╛\n",
      "#### ERROR 103 ####\n",
      "╒═════════╤════════╤═══╤═════╤═════════╤═════╤══════╤════════╤════════╤════╤════════╤════╤══════════╤═══════╕\n",
      "│ TOKENS: │ <ROOT> │ A │ los │ amantes │ del │ arte │ ,      │ porque │ el │ cuento │ es │ estético │ .     │\n",
      "├─────────┼────────┼───┼─────┼─────────┼─────┼──────┼────────┼────────┼────┼────────┼────┼──────────┼───────┤\n",
      "│ INDEX:  │ 0      │ 1 │ 2   │ 3       │ 4   │ 5    │ 6      │ 7      │ 8  │ 9      │ 10 │ 11       │ 12    │\n",
      "├─────────┼────────┼───┼─────┼─────────┼─────┼──────┼────────┼────────┼────┼────────┼────┼──────────┼───────┤\n",
      "│ GOLD:   │ -1     │ 3 │ 3   │ 11      │ 5   │ 3    │ 3      │ 11     │ 9  │ 11     │ 11 │ 0        │ 11    │\n",
      "├─────────┼────────┼───┼─────┼─────────┼─────┼──────┼────────┼────────┼────┼────────┼────┼──────────┼───────┤\n",
      "│ OUTPUT: │ -1     │ 3 │ 3   │ ERR:0   │ 5   │ 3    │ ERR:11 │ 11     │ 9  │ 11     │ 11 │ ERR:3    │ ERR:3 │\n",
      "╘═════════╧════════╧═══╧═════╧═════════╧═════╧══════╧════════╧════════╧════╧════════╧════╧══════════╧═══════╛\n",
      "#### ERROR 104 ####\n",
      "╒═════════╤════════╤═══════╤═════════╤═══════╤═════╤══════════════╤═══╤══════╤═════╤═══════════╤═══════════╤═══════╕\n",
      "│ TOKENS: │ <ROOT> │ E     │ incluso │ a     │ los │ inquisidores │ , │ para │ que │ disfruten │ sufriendo │ .     │\n",
      "├─────────┼────────┼───────┼─────────┼───────┼─────┼──────────────┼───┼──────┼─────┼───────────┼───────────┼───────┤\n",
      "│ INDEX:  │ 0      │ 1     │ 2       │ 3     │ 4   │ 5            │ 6 │ 7    │ 8   │ 9         │ 10        │ 11    │\n",
      "├─────────┼────────┼───────┼─────────┼───────┼─────┼──────────────┼───┼──────┼─────┼───────────┼───────────┼───────┤\n",
      "│ GOLD:   │ -1     │ 2     │ 0       │ 2     │ 5   │ 2            │ 9 │ 9    │ 9   │ 2         │ 9         │ 2     │\n",
      "├─────────┼────────┼───────┼─────────┼───────┼─────┼──────────────┼───┼──────┼─────┼───────────┼───────────┼───────┤\n",
      "│ OUTPUT: │ -1     │ ERR:5 │ ERR:5   │ ERR:5 │ 5   │ ERR:0        │ 9 │ 9    │ 9   │ ERR:5     │ 9         │ ERR:5 │\n",
      "╘═════════╧════════╧═══════╧═════════╧═══════╧═════╧══════════════╧═══╧══════╧═════╧═══════════╧═══════════╧═══════╛\n",
      "#### ERROR 105 ####\n",
      "╒═════════╤════════╤═══╤═════╤════╤══════════╤═════╤═════════╤═══╤═══╕\n",
      "│ TOKENS: │ <ROOT> │ ¡ │ Con │ el │ Gobierno │ que │ tenemos │ ! │ . │\n",
      "├─────────┼────────┼───┼─────┼────┼──────────┼─────┼─────────┼───┼───┤\n",
      "│ INDEX:  │ 0      │ 1 │ 2   │ 3  │ 4        │ 5   │ 6       │ 7 │ 8 │\n",
      "├─────────┼────────┼───┼─────┼────┼──────────┼─────┼─────────┼───┼───┤\n",
      "│ GOLD:   │ -1     │ 4 │ 4   │ 4  │ 0        │ 6   │ 4       │ 4 │ 4 │\n",
      "├─────────┼────────┼───┼─────┼────┼──────────┼─────┼─────────┼───┼───┤\n",
      "│ OUTPUT: │ -1     │ 4 │ 4   │ 4  │ ERR:-1   │ 6   │ 4       │ 4 │ 4 │\n",
      "╘═════════╧════════╧═══╧═════╧════╧══════════╧═════╧═════════╧═══╧═══╛\n",
      "#### ERROR 106 ####\n",
      "╒═════════╤════════╤═══════╤═══════╤═══╤═══════╤═══╤══════════╤═══════════╤═════════════╤════╤═════╤═══════╤═════╤═══════════╤═══════╕\n",
      "│ TOKENS: │ <ROOT> │ -     │ -     │ ( │ Ríe   │ ) │ Ciencias │ Políticas │ Anarquistas │ ,  │ que │ están │ muy │ olvidadas │ .     │\n",
      "├─────────┼────────┼───────┼───────┼───┼───────┼───┼──────────┼───────────┼─────────────┼────┼─────┼───────┼─────┼───────────┼───────┤\n",
      "│ INDEX:  │ 0      │ 1     │ 2     │ 3 │ 4     │ 5 │ 6        │ 7         │ 8           │ 9  │ 10  │ 11    │ 12  │ 13        │ 14    │\n",
      "├─────────┼────────┼───────┼───────┼───┼───────┼───┼──────────┼───────────┼─────────────┼────┼─────┼───────┼─────┼───────────┼───────┤\n",
      "│ GOLD:   │ -1     │ 6     │ 6     │ 4 │ 6     │ 4 │ 0        │ 6         │ 6           │ 13 │ 13  │ 13    │ 13  │ 6         │ 6     │\n",
      "├─────────┼────────┼───────┼───────┼───┼───────┼───┼──────────┼───────────┼─────────────┼────┼─────┼───────┼─────┼───────────┼───────┤\n",
      "│ OUTPUT: │ -1     │ ERR:4 │ ERR:4 │ 4 │ ERR:0 │ 4 │ ERR:4    │ 6         │ 6           │ 13 │ 13  │ 13    │ 13  │ 6         │ ERR:4 │\n",
      "╘═════════╧════════╧═══════╧═══════╧═══╧═══════╧═══╧══════════╧═══════════╧═════════════╧════╧═════╧═══════╧═════╧═══════════╧═══════╛\n",
      "#### ERROR 107 ####\n",
      "╒═════════╤════════╤═══════╤═══════╤═══════════╤════╤══════════╤════════╤═══════╤════╤════════════╤══════════╤════╕\n",
      "│ TOKENS: │ <ROOT> │ Algún │ día   │ publicaré │ La │ política │ humana │ según │ un │ terrorista │ cultural │ .  │\n",
      "├─────────┼────────┼───────┼───────┼───────────┼────┼──────────┼────────┼───────┼────┼────────────┼──────────┼────┤\n",
      "│ INDEX:  │ 0      │ 1     │ 2     │ 3         │ 4  │ 5        │ 6      │ 7     │ 8  │ 9          │ 10       │ 11 │\n",
      "├─────────┼────────┼───────┼───────┼───────────┼────┼──────────┼────────┼───────┼────┼────────────┼──────────┼────┤\n",
      "│ GOLD:   │ -1     │ 2     │ 3     │ 0         │ 5  │ 3        │ 5      │ 5     │ 9  │ 5          │ 5        │ 3  │\n",
      "├─────────┼────────┼───────┼───────┼───────────┼────┼──────────┼────────┼───────┼────┼────────────┼──────────┼────┤\n",
      "│ OUTPUT: │ -1     │ ERR:3 │ ERR:1 │ 0         │ 5  │ 3        │ 5      │ ERR:9 │ 9  │ 5          │ ERR:9    │ 3  │\n",
      "╘═════════╧════════╧═══════╧═══════╧═══════════╧════╧══════════╧════════╧═══════╧════╧════════════╧══════════╧════╛\n",
      "#### ERROR 108 ####\n",
      "╒═════════╤════════╤═══╤═══╤════╤═════════╤══════╤════╤═══════╤═══════════╤════╤══════╤══════╤════════╤════════╤════════╤════╕\n",
      "│ TOKENS: │ <ROOT> │ - │ - │ Su │ familia │ debe │ de │ estar │ escondida │ en │ Tora │ Bora │ ,      │ como   │ mínimo │ .  │\n",
      "├─────────┼────────┼───┼───┼────┼─────────┼──────┼────┼───────┼───────────┼────┼──────┼──────┼────────┼────────┼────────┼────┤\n",
      "│ INDEX:  │ 0      │ 1 │ 2 │ 3  │ 4       │ 5    │ 6  │ 7     │ 8         │ 9  │ 10   │ 11   │ 12     │ 13     │ 14     │ 15 │\n",
      "├─────────┼────────┼───┼───┼────┼─────────┼──────┼────┼───────┼───────────┼────┼──────┼──────┼────────┼────────┼────────┼────┤\n",
      "│ GOLD:   │ -1     │ 8 │ 8 │ 4  │ 8       │ 8    │ 8  │ 8     │ 0         │ 10 │ 8    │ 10   │ 13     │ 10     │ 13     │ 8  │\n",
      "├─────────┼────────┼───┼───┼────┼─────────┼──────┼────┼───────┼───────────┼────┼──────┼──────┼────────┼────────┼────────┼────┤\n",
      "│ OUTPUT: │ -1     │ 8 │ 8 │ 4  │ 8       │ 8    │ 8  │ 8     │ 0         │ 10 │ 8    │ 10   │ ERR:14 │ ERR:14 │ ERR:8  │ 8  │\n",
      "╘═════════╧════════╧═══╧═══╧════╧═════════╧══════╧════╧═══════╧═══════════╧════╧══════╧══════╧════════╧════════╧════════╧════╛\n",
      "#### ERROR 109 ####\n",
      "╒═════════╤════════╤════╤══════╤══════╤════╤═════════╤════════╤════╤═════╤════════════════╤══════╤════╤═══════╤════╤═══════╤════╕\n",
      "│ TOKENS: │ <ROOT> │ La │ Duma │ fija │ la │ primera │ vuelta │ de │ las │ presidenciales │ para │ el │ 4     │ de │ junio │ .  │\n",
      "├─────────┼────────┼────┼──────┼──────┼────┼─────────┼────────┼────┼─────┼────────────────┼──────┼────┼───────┼────┼───────┼────┤\n",
      "│ INDEX:  │ 0      │ 1  │ 2    │ 3    │ 4  │ 5       │ 6      │ 7  │ 8   │ 9              │ 10   │ 11 │ 12    │ 13 │ 14    │ 15 │\n",
      "├─────────┼────────┼────┼──────┼──────┼────┼─────────┼────────┼────┼─────┼────────────────┼──────┼────┼───────┼────┼───────┼────┤\n",
      "│ GOLD:   │ -1     │ 2  │ 3    │ 0    │ 6  │ 6       │ 3      │ 9  │ 9   │ 6              │ 12   │ 12 │ 3     │ 14 │ 12    │ 3  │\n",
      "├─────────┼────────┼────┼──────┼──────┼────┼─────────┼────────┼────┼─────┼────────────────┼──────┼────┼───────┼────┼───────┼────┤\n",
      "│ OUTPUT: │ -1     │ 2  │ 3    │ 0    │ 6  │ 6       │ 3      │ 9  │ 9   │ 6              │ 12   │ 12 │ ERR:6 │ 14 │ 12    │ 3  │\n",
      "╘═════════╧════════╧════╧══════╧══════╧════╧═════════╧════════╧════╧═════╧════════════════╧══════╧════╧═══════╧════╧═══════╧════╛\n",
      "#### ERROR 110 ####\n",
      "╒═════════╤════════╤═════╤═══════╤════════╤═══╤══════════════╤═══════╤═══════╤═══╤════════╤═══════╤════╕\n",
      "│ TOKENS: │ <ROOT> │ Una │ gripe │ obliga │ a │ hospitalizar │ de    │ nuevo │ a │ Vaclav │ Havel │ .  │\n",
      "├─────────┼────────┼─────┼───────┼────────┼───┼──────────────┼───────┼───────┼───┼────────┼───────┼────┤\n",
      "│ INDEX:  │ 0      │ 1   │ 2     │ 3      │ 4 │ 5            │ 6     │ 7     │ 8 │ 9      │ 10    │ 11 │\n",
      "├─────────┼────────┼─────┼───────┼────────┼───┼──────────────┼───────┼───────┼───┼────────┼───────┼────┤\n",
      "│ GOLD:   │ -1     │ 2   │ 3     │ 0      │ 5 │ 3            │ 5     │ 6     │ 9 │ 5      │ 9     │ 3  │\n",
      "├─────────┼────────┼─────┼───────┼────────┼───┼──────────────┼───────┼───────┼───┼────────┼───────┼────┤\n",
      "│ OUTPUT: │ -1     │ 2   │ 3     │ 0      │ 5 │ 3            │ ERR:9 │ 6     │ 9 │ 5      │ 9     │ 3  │\n",
      "╘═════════╧════════╧═════╧═══════╧════════╧═══╧══════════════╧═══════╧═══════╧═══╧════════╧═══════╧════╛\n",
      "#### ERROR 111 ####\n",
      "╒═════════╤════════╤═══════╤════════╤═══════════╤════╤════════╤═══╤═════╤════════╤════╤════╤═════════╤═════╤════════════╤════╤═══════╕\n",
      "│ TOKENS: │ <ROOT> │ Todo  │ lo     │ contrario │ de │ Rebeca │ , │ que │ augura │ :  │ \"  │ Pondrán │ más │ explosivos │ \"  │ .     │\n",
      "├─────────┼────────┼───────┼────────┼───────────┼────┼────────┼───┼─────┼────────┼────┼────┼─────────┼─────┼────────────┼────┼───────┤\n",
      "│ INDEX:  │ 0      │ 1     │ 2      │ 3         │ 4  │ 5      │ 6 │ 7   │ 8      │ 9  │ 10 │ 11      │ 12  │ 13         │ 14 │ 15    │\n",
      "├─────────┼────────┼───────┼────────┼───────────┼────┼────────┼───┼─────┼────────┼────┼────┼─────────┼─────┼────────────┼────┼───────┤\n",
      "│ GOLD:   │ -1     │ 0     │ 1      │ 1         │ 5  │ 1      │ 8 │ 8   │ 5      │ 11 │ 11 │ 8       │ 13  │ 11         │ 11 │ 1     │\n",
      "├─────────┼────────┼───────┼────────┼───────────┼────┼────────┼───┼─────┼────────┼────┼────┼─────────┼─────┼────────────┼────┼───────┤\n",
      "│ OUTPUT: │ -1     │ ERR:2 │ ERR:-1 │ ERR:2     │ 5  │ ERR:2  │ 8 │ 8   │ ERR:2  │ 11 │ 11 │ 8       │ 13  │ 11         │ 11 │ ERR:2 │\n",
      "╘═════════╧════════╧═══════╧════════╧═══════════╧════╧════════╧═══╧═════╧════════╧════╧════╧═════════╧═════╧════════════╧════╧═══════╛\n",
      "#### ERROR 112 ####\n",
      "╒═════════╤════════╤══════╤═══════╤═══════╤═════════╤═══════╤════╤════════════╤═══════╤════╤═════════╤════╕\n",
      "│ TOKENS: │ <ROOT> │ José │ María │ Aznar │ aseguró │ que   │ lo │ importante │ es    │ la │ empresa │ .  │\n",
      "├─────────┼────────┼──────┼───────┼───────┼─────────┼───────┼────┼────────────┼───────┼────┼─────────┼────┤\n",
      "│ INDEX:  │ 0      │ 1    │ 2     │ 3     │ 4       │ 5     │ 6  │ 7          │ 8     │ 9  │ 10      │ 11 │\n",
      "├─────────┼────────┼──────┼───────┼───────┼─────────┼───────┼────┼────────────┼───────┼────┼─────────┼────┤\n",
      "│ GOLD:   │ -1     │ 4    │ 1     │ 1     │ 0       │ 10    │ 7  │ 10         │ 10    │ 10 │ 4       │ 4  │\n",
      "├─────────┼────────┼──────┼───────┼───────┼─────────┼───────┼────┼────────────┼───────┼────┼─────────┼────┤\n",
      "│ OUTPUT: │ -1     │ 4    │ 1     │ 1     │ 0       │ ERR:8 │ 7  │ ERR:8      │ ERR:4 │ 10 │ ERR:8   │ 4  │\n",
      "╘═════════╧════════╧══════╧═══════╧═══════╧═════════╧═══════╧════╧════════════╧═══════╧════╧═════════╧════╛\n",
      "#### ERROR 113 ####\n",
      "╒═════════╤════════╤═══════════╤═══════╤═══╤════╤═══════╤════╤══════╤════╤════╤═══════╤════════╕\n",
      "│ TOKENS: │ <ROOT> │ Tarragona │ multa │ a │ 30 │ motos │ de │ agua │ en │ 10 │ días  │ .      │\n",
      "├─────────┼────────┼───────────┼───────┼───┼────┼───────┼────┼──────┼────┼────┼───────┼────────┤\n",
      "│ INDEX:  │ 0      │ 1         │ 2     │ 3 │  4 │ 5     │ 6  │ 7    │ 8  │  9 │ 10    │ 11     │\n",
      "├─────────┼────────┼───────────┼───────┼───┼────┼───────┼────┼──────┼────┼────┼───────┼────────┤\n",
      "│ GOLD:   │ -1     │ 2         │ 0     │ 5 │  5 │ 2     │ 7  │ 5    │ 10 │ 10 │ 2     │ 2      │\n",
      "├─────────┼────────┼───────────┼───────┼───┼────┼───────┼────┼──────┼────┼────┼───────┼────────┤\n",
      "│ OUTPUT: │ -1     │ ERR:10    │ ERR:1 │ 5 │  5 │ 2     │ 7  │ 5    │ 10 │ 10 │ ERR:0 │ ERR:10 │\n",
      "╘═════════╧════════╧═══════════╧═══════╧═══╧════╧═══════╧════╧══════╧════╧════╧═══════╧════════╛\n",
      "#### ERROR 114 ####\n",
      "╒═════════╤════════╤════╤═════════╤═══╤═══╤══════╤═══════╤═════╤══════════╤═══╤════╤══════════╤════╤═════╤═══════╤════╕\n",
      "│ TOKENS: │ <ROOT> │ El │ domingo │ 7 │ , │ poco │ antes │ del │ mediodía │ , │ se │ registró │ el │ más │ grave │ .  │\n",
      "├─────────┼────────┼────┼─────────┼───┼───┼──────┼───────┼─────┼──────────┼───┼────┼──────────┼────┼─────┼───────┼────┤\n",
      "│ INDEX:  │ 0      │ 1  │ 2       │ 3 │ 4 │ 5    │ 6     │ 7   │ 8        │ 9 │ 10 │ 11       │ 12 │ 13  │ 14    │ 15 │\n",
      "├─────────┼────────┼────┼─────────┼───┼───┼──────┼───────┼─────┼──────────┼───┼────┼──────────┼────┼─────┼───────┼────┤\n",
      "│ GOLD:   │ -1     │ 2  │ 11      │ 2 │ 6 │ 6    │ 11    │ 8   │ 6        │ 6 │ 11 │ 0        │ 14 │ 14  │ 11    │ 11 │\n",
      "├─────────┼────────┼────┼─────────┼───┼───┼──────┼───────┼─────┼──────────┼───┼────┼──────────┼────┼─────┼───────┼────┤\n",
      "│ OUTPUT: │ -1     │ 2  │ 11      │ 2 │ 6 │ 6    │ ERR:2 │ 8   │ 6        │ 6 │ 11 │ 0        │ 14 │ 14  │ 11    │ 11 │\n",
      "╘═════════╧════════╧════╧═════════╧═══╧═══╧══════╧═══════╧═════╧══════════╧═══╧════╧══════════╧════╧═════╧═══════╧════╛\n",
      "#### ERROR 115 ####\n",
      "╒═════════╤════════╤════╤════════╤════╤═══════╤════════════╤════════════╤═══╤════╤═══════════╤════╤═══════╤═══════╕\n",
      "│ TOKENS: │ <ROOT> │ EL │ CRIMEN │ DE │ ROCÍO │ WANNINKHOF │ CONMOCIONÓ │ A │ LA │ LOCALIDAD │ DE │ MIJAS │ .     │\n",
      "├─────────┼────────┼────┼────────┼────┼───────┼────────────┼────────────┼───┼────┼───────────┼────┼───────┼───────┤\n",
      "│ INDEX:  │ 0      │ 1  │ 2      │ 3  │ 4     │ 5          │ 6          │ 7 │ 8  │ 9         │ 10 │ 11    │ 12    │\n",
      "├─────────┼────────┼────┼────────┼────┼───────┼────────────┼────────────┼───┼────┼───────────┼────┼───────┼───────┤\n",
      "│ GOLD:   │ -1     │ 2  │ 6      │ 4  │ 2     │ 4          │ 0          │ 9 │ 9  │ 6         │ 11 │ 9     │ 6     │\n",
      "├─────────┼────────┼────┼────────┼────┼───────┼────────────┼────────────┼───┼────┼───────────┼────┼───────┼───────┤\n",
      "│ OUTPUT: │ -1     │ 2  │ ERR:0  │ 4  │ 2     │ 4          │ ERR:2      │ 9 │ 9  │ 6         │ 11 │ 9     │ ERR:2 │\n",
      "╘═════════╧════════╧════╧════════╧════╧═══════╧════════════╧════════════╧═══╧════╧═══════════╧════╧═══════╧═══════╛\n",
      "#### ERROR 116 ####\n",
      "╒═════════╤════════╤════╤═════════╤═══════════╤═════════╤══════════════╤════╤════╤═══════╤══════════╤═══════╤════════╤═════════╤════╕\n",
      "│ TOKENS: │ <ROOT> │ La │ familia │ reconoció │ algunas │ pertenencias │ de │ la │ joven │ halladas │ junto │ al     │ cadáver │ .  │\n",
      "├─────────┼────────┼────┼─────────┼───────────┼─────────┼──────────────┼────┼────┼───────┼──────────┼───────┼────────┼─────────┼────┤\n",
      "│ INDEX:  │ 0      │ 1  │ 2       │ 3         │ 4       │ 5            │ 6  │ 7  │ 8     │ 9        │ 10    │ 11     │ 12      │ 13 │\n",
      "├─────────┼────────┼────┼─────────┼───────────┼─────────┼──────────────┼────┼────┼───────┼──────────┼───────┼────────┼─────────┼────┤\n",
      "│ GOLD:   │ -1     │ 2  │ 3       │ 0         │ 5       │ 3            │ 8  │ 8  │ 5     │ 5        │ 12    │ 10     │ 9       │ 3  │\n",
      "├─────────┼────────┼────┼─────────┼───────────┼─────────┼──────────────┼────┼────┼───────┼──────────┼───────┼────────┼─────────┼────┤\n",
      "│ OUTPUT: │ -1     │ 2  │ 3       │ 0         │ 5       │ 3            │ 8  │ 8  │ 5     │ 5        │ 12    │ ERR:12 │ 9       │ 3  │\n",
      "╘═════════╧════════╧════╧═════════╧═══════════╧═════════╧══════════════╧════╧════╧═══════╧══════════╧═══════╧════════╧═════════╧════╛\n",
      "#### ERROR 117 ####\n",
      "╒═════════╤════════╤════╤═════════╤═════════╤════════╤════╤═════════╤═════╤═══════════════╤══════╤═════════╤═════╤════════╤════╕\n",
      "│ TOKENS: │ <ROOT> │ La │ empresa │ Atofina │ España │ ha │ abierto │ una │ investigación │ para │ aclarar │ los │ hechos │ .  │\n",
      "├─────────┼────────┼────┼─────────┼─────────┼────────┼────┼─────────┼─────┼───────────────┼──────┼─────────┼─────┼────────┼────┤\n",
      "│ INDEX:  │ 0      │ 1  │ 2       │ 3       │ 4      │ 5  │ 6       │ 7   │ 8             │ 9    │ 10      │ 11  │ 12     │ 13 │\n",
      "├─────────┼────────┼────┼─────────┼─────────┼────────┼────┼─────────┼─────┼───────────────┼──────┼─────────┼─────┼────────┼────┤\n",
      "│ GOLD:   │ -1     │ 2  │ 6       │ 2       │ 3      │ 6  │ 0       │ 8   │ 6             │ 10   │ 6       │ 12  │ 10     │ 6  │\n",
      "├─────────┼────────┼────┼─────────┼─────────┼────────┼────┼─────────┼─────┼───────────────┼──────┼─────────┼─────┼────────┼────┤\n",
      "│ OUTPUT: │ -1     │ 2  │ 6       │ 2       │ 3      │ 6  │ 0       │ 8   │ 6             │ 10   │ ERR:8   │ 12  │ 10     │ 6  │\n",
      "╘═════════╧════════╧════╧═════════╧═════════╧════════╧════╧═════════╧═════╧═══════════════╧══════╧═════════╧═════╧════════╧════╛\n",
      "#### ERROR 118 ####\n",
      "╒═════════╤════════╤══════╤══════╤══════╤═══════╤════╤═════════╤═══════╤══════╤════════╤════╤══════════════╤════╤═══════╤════╕\n",
      "│ TOKENS: │ <ROOT> │ Para │ ello │ hace │ falta │ un │ proceso │ lento │ pero │ seguro │ de │ convergencia │ y  │ unión │ .  │\n",
      "├─────────┼────────┼──────┼──────┼──────┼───────┼────┼─────────┼───────┼──────┼────────┼────┼──────────────┼────┼───────┼────┤\n",
      "│ INDEX:  │ 0      │ 1    │ 2    │ 3    │ 4     │ 5  │ 6       │ 7     │ 8    │ 9      │ 10 │ 11           │ 12 │ 13    │ 14 │\n",
      "├─────────┼────────┼──────┼──────┼──────┼───────┼────┼─────────┼───────┼──────┼────────┼────┼──────────────┼────┼───────┼────┤\n",
      "│ GOLD:   │ -1     │ 2    │ 3    │ 0    │ 3     │ 6  │ 3       │ 6     │ 9    │ 7      │ 11 │ 6            │ 13 │ 11    │ 3  │\n",
      "├─────────┼────────┼──────┼──────┼──────┼───────┼────┼─────────┼───────┼──────┼────────┼────┼──────────────┼────┼───────┼────┤\n",
      "│ OUTPUT: │ -1     │ 2    │ 3    │ 0    │ 3     │ 6  │ 3       │ 6     │ 9    │ 7      │ 11 │ ERR:7        │ 13 │ 11    │ 3  │\n",
      "╘═════════╧════════╧══════╧══════╧══════╧═══════╧════╧═════════╧═══════╧══════╧════════╧════╧══════════════╧════╧═══════╧════╛\n",
      "#### ERROR 119 ####\n",
      "╒═════════╤════════╤══════╤════╤═══════╤════╤═════╤═════════╤═════════╤═══╕\n",
      "│ TOKENS: │ <ROOT> │ Pero │ no │ de    │ la │ que │ algunos │ piensan │ . │\n",
      "├─────────┼────────┼──────┼────┼───────┼────┼─────┼─────────┼─────────┼───┤\n",
      "│ INDEX:  │ 0      │ 1    │ 2  │ 3     │ 4  │ 5   │ 6       │ 7       │ 8 │\n",
      "├─────────┼────────┼──────┼────┼───────┼────┼─────┼─────────┼─────────┼───┤\n",
      "│ GOLD:   │ -1     │ 2    │ 0  │ 2     │ 7  │ 7   │ 7       │ 2       │ 2 │\n",
      "├─────────┼────────┼──────┼────┼───────┼────┼─────┼─────────┼─────────┼───┤\n",
      "│ OUTPUT: │ -1     │ 2    │ 0  │ ERR:7 │ 7  │ 7   │ 7       │ 2       │ 2 │\n",
      "╘═════════╧════════╧══════╧════╧═══════╧════╧═════╧═════════╧═════════╧═══╛\n",
      "#### ERROR 120 ####\n",
      "╒═════════╤════════╤════╤════════════╤═════════╤════╤══════════╤═══════╤═══════╤═══════╤═══╕\n",
      "│ TOKENS: │ <ROOT> │ La │ Maquinista │ facturó │ 16 │ millones │ en    │ 6     │ meses │ . │\n",
      "├─────────┼────────┼────┼────────────┼─────────┼────┼──────────┼───────┼───────┼───────┼───┤\n",
      "│ INDEX:  │ 0      │ 1  │ 2          │ 3       │  4 │ 5        │ 6     │ 7     │ 8     │ 9 │\n",
      "├─────────┼────────┼────┼────────────┼─────────┼────┼──────────┼───────┼───────┼───────┼───┤\n",
      "│ GOLD:   │ -1     │ 2  │ 3          │ 0       │  5 │ 3        │ 8     │ 8     │ 3     │ 3 │\n",
      "├─────────┼────────┼────┼────────────┼─────────┼────┼──────────┼───────┼───────┼───────┼───┤\n",
      "│ OUTPUT: │ -1     │ 2  │ 3          │ 0       │  5 │ 3        │ ERR:7 │ ERR:5 │ 3     │ 3 │\n",
      "╘═════════╧════════╧════╧════════════╧═════════╧════╧══════════╧═══════╧═══════╧═══════╧═══╛\n",
      "#### ERROR 121 ####\n",
      "╒═════════╤════════╤══════╤══════════╤═════════╤═════╤════════════╤════╤═════╤═══════╤═══════╤════════╤════╕\n",
      "│ TOKENS: │ <ROOT> │ BBVA │ Portugal │ aumentó │ los │ beneficios │ el │ 91% │ en    │ el    │ 2000   │ .  │\n",
      "├─────────┼────────┼──────┼──────────┼─────────┼─────┼────────────┼────┼─────┼───────┼───────┼────────┼────┤\n",
      "│ INDEX:  │ 0      │ 1    │ 2        │ 3       │ 4   │ 5          │ 6  │ 7   │ 8     │ 9     │ 10     │ 11 │\n",
      "├─────────┼────────┼──────┼──────────┼─────────┼─────┼────────────┼────┼─────┼───────┼───────┼────────┼────┤\n",
      "│ GOLD:   │ -1     │ 3    │ 1        │ 0       │ 5   │ 3          │ 7  │ 3   │ 10    │ 10    │ 3      │ 3  │\n",
      "├─────────┼────────┼──────┼──────────┼─────────┼─────┼────────────┼────┼─────┼───────┼───────┼────────┼────┤\n",
      "│ OUTPUT: │ -1     │ 3    │ 1        │ 0       │ 5   │ 3          │ 7  │ 3   │ ERR:3 │ ERR:8 │ ERR:11 │ 3  │\n",
      "╘═════════╧════════╧══════╧══════════╧═════════╧═════╧════════════╧════╧═════╧═══════╧═══════╧════════╧════╛\n",
      "#### ERROR 122 ####\n",
      "╒═════════╤════════╤═══════╤═════════╤══════╤═══════╤══════════╤═══════╤════════╤═════╤═══╕\n",
      "│ TOKENS: │ <ROOT> │ Banco │ Urquijo │ ganó │ 4.103 │ millones │ el    │ pasado │ año │ . │\n",
      "├─────────┼────────┼───────┼─────────┼──────┼───────┼──────────┼───────┼────────┼─────┼───┤\n",
      "│ INDEX:  │ 0      │ 1     │ 2       │ 3    │ 4     │ 5        │ 6     │ 7      │ 8   │ 9 │\n",
      "├─────────┼────────┼───────┼─────────┼──────┼───────┼──────────┼───────┼────────┼─────┼───┤\n",
      "│ GOLD:   │ -1     │ 3     │ 1       │ 0    │ 5     │ 3        │ 8     │ 8      │ 3   │ 3 │\n",
      "├─────────┼────────┼───────┼─────────┼──────┼───────┼──────────┼───────┼────────┼─────┼───┤\n",
      "│ OUTPUT: │ -1     │ 3     │ 1       │ 0    │ 5     │ 3        │ ERR:7 │ ERR:5  │ 3   │ 3 │\n",
      "╘═════════╧════════╧═══════╧═════════╧══════╧═══════╧══════════╧═══════╧════════╧═════╧═══╛\n",
      "#### ERROR 123 ####\n",
      "╒═════════╤════════╤══════╤═══════╤════════╤════╤══════╤═════╤═════╤═══════╤══════════╤═══════╤═════╤══════════╤════╕\n",
      "│ TOKENS: │ <ROOT> │ Esta │ cifra │ supuso │ un │ alza │ del │ 18% │ con   │ respecto │ al    │ año │ anterior │ .  │\n",
      "├─────────┼────────┼──────┼───────┼────────┼────┼──────┼─────┼─────┼───────┼──────────┼───────┼─────┼──────────┼────┤\n",
      "│ INDEX:  │ 0      │ 1    │ 2     │ 3      │ 4  │ 5    │ 6   │ 7   │ 8     │ 9        │ 10    │ 11  │ 12       │ 13 │\n",
      "├─────────┼────────┼──────┼───────┼────────┼────┼──────┼─────┼─────┼───────┼──────────┼───────┼─────┼──────────┼────┤\n",
      "│ GOLD:   │ -1     │ 2    │ 3     │ 0      │ 5  │ 3    │ 7   │ 5   │ 11    │ 8        │ 8     │ 3   │ 11       │ 3  │\n",
      "├─────────┼────────┼──────┼───────┼────────┼────┼──────┼─────┼─────┼───────┼──────────┼───────┼─────┼──────────┼────┤\n",
      "│ OUTPUT: │ -1     │ 2    │ 3     │ 0      │ 5  │ 3    │ 7   │ 5   │ ERR:5 │ ERR:11   │ ERR:9 │ 3   │ 11       │ 3  │\n",
      "╘═════════╧════════╧══════╧═══════╧════════╧════╧══════╧═════╧═════╧═══════╧══════════╧═══════╧═════╧══════════╧════╛\n",
      "#### ERROR 124 ####\n",
      "╒═════════╤════════╤════╤═══════╤══════════╤═══════╤═══════╤════╤════╤════════════╤════╤════╤════════╤════╤════════╤═══════╕\n",
      "│ TOKENS: │ <ROOT> │ Un │ preso │ degüella │ a     │ otro  │ en │ la │ enfermería │ de │ la │ cárcel │ de │ Lleida │ .     │\n",
      "├─────────┼────────┼────┼───────┼──────────┼───────┼───────┼────┼────┼────────────┼────┼────┼────────┼────┼────────┼───────┤\n",
      "│ INDEX:  │ 0      │ 1  │ 2     │ 3        │ 4     │ 5     │ 6  │ 7  │ 8          │ 9  │ 10 │ 11     │ 12 │ 13     │ 14    │\n",
      "├─────────┼────────┼────┼───────┼──────────┼───────┼───────┼────┼────┼────────────┼────┼────┼────────┼────┼────────┼───────┤\n",
      "│ GOLD:   │ -1     │ 2  │ 3     │ 0        │ 5     │ 3     │ 8  │ 8  │ 3          │ 11 │ 11 │ 8      │ 13 │ 11     │ 3     │\n",
      "├─────────┼────────┼────┼───────┼──────────┼───────┼───────┼────┼────┼────────────┼────┼────┼────────┼────┼────────┼───────┤\n",
      "│ OUTPUT: │ -1     │ 2  │ ERR:0 │ ERR:4    │ ERR:2 │ ERR:2 │ 8  │ 8  │ ERR:2      │ 11 │ 11 │ 8      │ 13 │ 11     │ ERR:2 │\n",
      "╘═════════╧════════╧════╧═══════╧══════════╧═══════╧═══════╧════╧════╧════════════╧════╧════╧════════╧════╧════════╧═══════╛\n",
      "#### ERROR 125 ####\n",
      "╒═════════╤════════╤════╤═════════╤═══╤══════╤═══╤════╤══════════╤════╤═════╤═════════╤════╤═══════════╤════════════╤════╕\n",
      "│ TOKENS: │ <ROOT> │ La │ víctima │ , │ pese │ a │ la │ gravedad │ de │ las │ heridas │ ,  │ consiguió │ sobrevivir │ .  │\n",
      "├─────────┼────────┼────┼─────────┼───┼──────┼───┼────┼──────────┼────┼─────┼─────────┼────┼───────────┼────────────┼────┤\n",
      "│ INDEX:  │ 0      │ 1  │ 2       │ 3 │ 4    │ 5 │ 6  │ 7        │ 8  │ 9   │ 10      │ 11 │ 12        │ 13         │ 14 │\n",
      "├─────────┼────────┼────┼─────────┼───┼──────┼───┼────┼──────────┼────┼─────┼─────────┼────┼───────────┼────────────┼────┤\n",
      "│ GOLD:   │ -1     │ 2  │ 12      │ 7 │ 7    │ 4 │ 7  │ 12       │ 10 │ 10  │ 7       │ 7  │ 0         │ 12         │ 12 │\n",
      "├─────────┼────────┼────┼─────────┼───┼──────┼───┼────┼──────────┼────┼─────┼─────────┼────┼───────────┼────────────┼────┤\n",
      "│ OUTPUT: │ -1     │ 2  │ 12      │ 7 │ 7    │ 4 │ 7  │ ERR:2    │ 10 │ 10  │ 7       │ 7  │ 0         │ 12         │ 12 │\n",
      "╘═════════╧════════╧════╧═════════╧═══╧══════╧═══╧════╧══════════╧════╧═════╧═════════╧════╧═══════════╧════════════╧════╛\n",
      "#### ERROR 126 ####\n",
      "╒═════════╤════════╤═════════╤═════════╤═══════════╤════╤═════════════╤═══╤══════╤═══════╤══════════╤═════╤═════╤════════════════╤════╕\n",
      "│ TOKENS: │ <ROOT> │ Algunos │ sufrían │ principio │ de │ congelación │ , │ pero │ no    │ tuvieron │ que │ ser │ hospitalizados │ .  │\n",
      "├─────────┼────────┼─────────┼─────────┼───────────┼────┼─────────────┼───┼──────┼───────┼──────────┼─────┼─────┼────────────────┼────┤\n",
      "│ INDEX:  │ 0      │ 1       │ 2       │ 3         │ 4  │ 5           │ 6 │ 7    │ 8     │ 9        │ 10  │ 11  │ 12             │ 13 │\n",
      "├─────────┼────────┼─────────┼─────────┼───────────┼────┼─────────────┼───┼──────┼───────┼──────────┼─────┼─────┼────────────────┼────┤\n",
      "│ GOLD:   │ -1     │ 2       │ 0       │ 2         │ 5  │ 3           │ 9 │ 9    │ 12    │ 2        │ 12  │ 12  │ 9              │ 2  │\n",
      "├─────────┼────────┼─────────┼─────────┼───────────┼────┼─────────────┼───┼──────┼───────┼──────────┼─────┼─────┼────────────────┼────┤\n",
      "│ OUTPUT: │ -1     │ 2       │ 0       │ 2         │ 5  │ 3           │ 9 │ 9    │ ERR:9 │ 2        │ 12  │ 12  │ 9              │ 2  │\n",
      "╘═════════╧════════╧═════════╧═════════╧═══════════╧════╧═════════════╧═══╧══════╧═══════╧══════════╧═════╧═════╧════════════════╧════╛\n",
      "#### ERROR 127 ####\n",
      "╒═════════╤════════╤════╤════╤═══════╤════╤════════╤═════════╤═══╤══════════╤═════╤═════════╤═══════════╤═════════════╤════╕\n",
      "│ TOKENS: │ <ROOT> │ En │ la │ feria │ se │ podrán │ conocer │ y │ adquirir │ las │ últimas │ novedades │ editoriales │ .  │\n",
      "├─────────┼────────┼────┼────┼───────┼────┼────────┼─────────┼───┼──────────┼─────┼─────────┼───────────┼─────────────┼────┤\n",
      "│ INDEX:  │ 0      │ 1  │ 2  │ 3     │ 4  │ 5      │ 6       │ 7 │ 8        │ 9   │ 10      │ 11        │ 12          │ 13 │\n",
      "├─────────┼────────┼────┼────┼───────┼────┼────────┼─────────┼───┼──────────┼─────┼─────────┼───────────┼─────────────┼────┤\n",
      "│ GOLD:   │ -1     │ 3  │ 3  │ 6     │ 6  │ 6      │ 0       │ 8 │ 6        │ 11  │ 11      │ 6         │ 11          │ 6  │\n",
      "├─────────┼────────┼────┼────┼───────┼────┼────────┼─────────┼───┼──────────┼─────┼─────────┼───────────┼─────────────┼────┤\n",
      "│ OUTPUT: │ -1     │ 3  │ 3  │ 6     │ 6  │ 6      │ 0       │ 8 │ 6        │ 11  │ 11      │ ERR:8     │ 11          │ 6  │\n",
      "╘═════════╧════════╧════╧════╧═══════╧════╧════════╧═════════╧═══╧══════════╧═════╧═════════╧═══════════╧═════════════╧════╛\n",
      "#### ERROR 128 ####\n",
      "╒═════════╤════════╤═════╤═════════╤═══════════╤════════╤═════════╤═══════╤═══════╤════════╤════════╤════════╤═════════════════════════╤════╕\n",
      "│ TOKENS: │ <ROOT> │ Las │ visitas │ virtuales │ podrán │ hacerse │ hacer │ se    │ a      │ la     │ página │ www.cambrallibrecat.com │ .  │\n",
      "├─────────┼────────┼─────┼─────────┼───────────┼────────┼─────────┼───────┼───────┼────────┼────────┼────────┼─────────────────────────┼────┤\n",
      "│ INDEX:  │ 0      │ 1   │ 2       │ 3         │ 4      │ 5       │ 6     │ 7     │ 8      │ 9      │ 10     │ 11                      │ 12 │\n",
      "├─────────┼────────┼─────┼─────────┼───────────┼────────┼─────────┼───────┼───────┼────────┼────────┼────────┼─────────────────────────┼────┤\n",
      "│ GOLD:   │ -1     │ 2   │ 5       │ 2         │ 5      │ -1      │ 0     │ 5     │ 9      │ 9      │ 5      │ 9                       │ 5  │\n",
      "├─────────┼────────┼─────┼─────────┼───────────┼────────┼─────────┼───────┼───────┼────────┼────────┼────────┼─────────────────────────┼────┤\n",
      "│ OUTPUT: │ -1     │ 2   │ 5       │ 2         │ 5      │ ERR:0   │ ERR:5 │ ERR:6 │ ERR:10 │ ERR:10 │ 5      │ ERR:10                  │ 5  │\n",
      "╘═════════╧════════╧═════╧═════════╧═══════════╧════════╧═════════╧═══════╧═══════╧════════╧════════╧════════╧═════════════════════════╧════╛\n",
      "#### ERROR 129 ####\n",
      "╒═════════╤════════╤═══════╤═══════╤══════════╤═══════╤═════╤══════════════╤══════════╤═════════════════╤════╤════╤═══════════╤════╤═══════════╤════╕\n",
      "│ TOKENS: │ <ROOT> │ En    │ la    │ práctica │ ,     │ los │ trabajadores │ llegaron │ escalonadamente │ y  │ la │ operación │ se │ ralentizó │ .  │\n",
      "├─────────┼────────┼───────┼───────┼──────────┼───────┼─────┼──────────────┼──────────┼─────────────────┼────┼────┼───────────┼────┼───────────┼────┤\n",
      "│ INDEX:  │ 0      │ 1     │ 2     │ 3        │ 4     │ 5   │ 6            │ 7        │ 8               │ 9  │ 10 │ 11        │ 12 │ 13        │ 14 │\n",
      "├─────────┼────────┼───────┼───────┼──────────┼───────┼─────┼──────────────┼──────────┼─────────────────┼────┼────┼───────────┼────┼───────────┼────┤\n",
      "│ GOLD:   │ -1     │ 7     │ 1     │ 1        │ 1     │ 6   │ 7            │ 0        │ 7               │ 13 │ 11 │ 13        │ 13 │ 7         │ 7  │\n",
      "├─────────┼────────┼───────┼───────┼──────────┼───────┼─────┼──────────────┼──────────┼─────────────────┼────┼────┼───────────┼────┼───────────┼────┤\n",
      "│ OUTPUT: │ -1     │ ERR:3 │ ERR:3 │ ERR:7    │ ERR:3 │ 6   │ 7            │ 0        │ 7               │ 13 │ 11 │ 13        │ 13 │ 7         │ 7  │\n",
      "╘═════════╧════════╧═══════╧═══════╧══════════╧═══════╧═════╧══════════════╧══════════╧═════════════════╧════╧════╧═══════════╧════╧═══════════╧════╛\n",
      "#### ERROR 130 ####\n",
      "╒═════════╤════════╤═══════╤═══════╤════════╤═════════╤═══════╤════╤══════════════╤════════════╤════╤════╤══════╤════╕\n",
      "│ TOKENS: │ <ROOT> │ De    │ poco  │ habían │ servido │ los   │ 10 │ contenedores │ instalados │ en │ la │ zona │ .  │\n",
      "├─────────┼────────┼───────┼───────┼────────┼─────────┼───────┼────┼──────────────┼────────────┼────┼────┼──────┼────┤\n",
      "│ INDEX:  │ 0      │ 1     │ 2     │ 3      │ 4       │ 5     │  6 │ 7            │ 8          │ 9  │ 10 │ 11   │ 12 │\n",
      "├─────────┼────────┼───────┼───────┼────────┼─────────┼───────┼────┼──────────────┼────────────┼────┼────┼──────┼────┤\n",
      "│ GOLD:   │ -1     │ 2     │ 4     │ 4      │ 0       │ 6     │  7 │ 4            │ 7          │ 11 │ 11 │ 8    │ 4  │\n",
      "├─────────┼────────┼───────┼───────┼────────┼─────────┼───────┼────┼──────────────┼────────────┼────┼────┼──────┼────┤\n",
      "│ OUTPUT: │ -1     │ ERR:4 │ ERR:1 │ 4      │ 0       │ ERR:7 │  7 │ 4            │ 7          │ 11 │ 11 │ 8    │ 4  │\n",
      "╘═════════╧════════╧═══════╧═══════╧════════╧═════════╧═══════╧════╧══════════════╧════════════╧════╧════╧══════╧════╛\n",
      "#### ERROR 131 ####\n",
      "╒═════════╤════════╤═════════╤═══════╤═══════╤═══════╤═══════╤════════════╤═══════╤════════╤═════════╤═══════╕\n",
      "│ TOKENS: │ <ROOT> │ Moverse │ Mover │ se    │ por   │ un    │ aeropuerto │ ya    │ cuesta │ trabajo │ .     │\n",
      "├─────────┼────────┼─────────┼───────┼───────┼───────┼───────┼────────────┼───────┼────────┼─────────┼───────┤\n",
      "│ INDEX:  │ 0      │ 1       │ 2     │ 3     │ 4     │ 5     │ 6          │ 7     │ 8      │ 9       │ 10    │\n",
      "├─────────┼────────┼─────────┼───────┼───────┼───────┼───────┼────────────┼───────┼────────┼─────────┼───────┤\n",
      "│ GOLD:   │ -1     │ -1      │ 7     │ 1     │ 5     │ 5     │ 1          │ 7     │ 0      │ 7       │ 7     │\n",
      "├─────────┼────────┼─────────┼───────┼───────┼───────┼───────┼────────────┼───────┼────────┼─────────┼───────┤\n",
      "│ OUTPUT: │ -1     │ ERR:2   │ ERR:0 │ ERR:2 │ ERR:6 │ ERR:6 │ ERR:2      │ ERR:8 │ ERR:2  │ ERR:8   │ ERR:2 │\n",
      "╘═════════╧════════╧═════════╧═══════╧═══════╧═══════╧═══════╧════════════╧═══════╧════════╧═════════╧═══════╛\n",
      "#### ERROR 132 ####\n",
      "╒═════════╤════════╤═════╤════════════╤═════╤════════╤═══════╤═════╤═════════╤═══╤═══════════════╤════╕\n",
      "│ TOKENS: │ <ROOT> │ Las │ distancias │ son │ largas │ ;     │ las │ esperas │ , │ desesperantes │ .  │\n",
      "├─────────┼────────┼─────┼────────────┼─────┼────────┼───────┼─────┼─────────┼───┼───────────────┼────┤\n",
      "│ INDEX:  │ 0      │ 1   │ 2          │ 3   │ 4      │ 5     │ 6   │ 7       │ 8 │ 9             │ 10 │\n",
      "├─────────┼────────┼─────┼────────────┼─────┼────────┼───────┼─────┼─────────┼───┼───────────────┼────┤\n",
      "│ GOLD:   │ -1     │ 2   │ 4          │ 4   │ 0      │ 4     │ 7   │ 4       │ 9 │ 7             │ 4  │\n",
      "├─────────┼────────┼─────┼────────────┼─────┼────────┼───────┼─────┼─────────┼───┼───────────────┼────┤\n",
      "│ OUTPUT: │ -1     │ 2   │ 4          │ 4   │ 0      │ ERR:7 │ 7   │ 4       │ 9 │ ERR:4         │ 4  │\n",
      "╘═════════╧════════╧═════╧════════════╧═════╧════════╧═══════╧═════╧═════════╧═══╧═══════════════╧════╛\n",
      "#### ERROR 133 ####\n",
      "╒═════════╤════════╤═════╤═════╤════════╤═══════╤═══════╤═══════╤════╤══════════╤═══╤════╤════╤═══════╤════╕\n",
      "│ TOKENS: │ <ROOT> │ Hay │ que │ elegir │ al    │ azar  │ entre │ la │ terminal │ A │ o  │ la │ B     │ .  │\n",
      "├─────────┼────────┼─────┼─────┼────────┼───────┼───────┼───────┼────┼──────────┼───┼────┼────┼───────┼────┤\n",
      "│ INDEX:  │ 0      │ 1   │ 2   │ 3      │ 4     │ 5     │ 6     │ 7  │ 8        │ 9 │ 10 │ 11 │ 12    │ 13 │\n",
      "├─────────┼────────┼─────┼─────┼────────┼───────┼───────┼───────┼────┼──────────┼───┼────┼────┼───────┼────┤\n",
      "│ GOLD:   │ -1     │ 0   │ 3   │ 1      │ 3     │ 4     │ 8     │ 8  │ 3        │ 8 │ 12 │ 12 │ 8     │ 1  │\n",
      "├─────────┼────────┼─────┼─────┼────────┼───────┼───────┼───────┼────┼──────────┼───┼────┼────┼───────┼────┤\n",
      "│ OUTPUT: │ -1     │ 0   │ 3   │ 1      │ ERR:5 │ ERR:3 │ 8     │ 8  │ 3        │ 8 │ 12 │ 12 │ ERR:9 │ 1  │\n",
      "╘═════════╧════════╧═════╧═════╧════════╧═══════╧═══════╧═══════╧════╧══════════╧═══╧════╧════╧═══════╧════╛\n",
      "#### ERROR 134 ####\n",
      "╒═════════╤════════╤══════╤═══════╤═══════╤═════════╤═══════╤════╤══════════╤════╤═════╤════╤══════════╤════════╤═════════╤════╕\n",
      "│ TOKENS: │ <ROOT> │ Pues │ venga │ ,     │ andando │ hasta │ la │ correcta │ y  │ con │ el │ equipaje │ a      │ cuestas │ .  │\n",
      "├─────────┼────────┼──────┼───────┼───────┼─────────┼───────┼────┼──────────┼────┼─────┼────┼──────────┼────────┼─────────┼────┤\n",
      "│ INDEX:  │ 0      │ 1    │ 2     │ 3     │ 4       │ 5     │ 6  │ 7        │ 8  │ 9   │ 10 │ 11       │ 12     │ 13      │ 14 │\n",
      "├─────────┼────────┼──────┼───────┼───────┼─────────┼───────┼────┼──────────┼────┼─────┼────┼──────────┼────────┼─────────┼────┤\n",
      "│ GOLD:   │ -1     │ 2    │ 0     │ 2     │ 2       │ 7     │ 7  │ 4        │ 11 │ 11  │ 11 │ 4        │ 11     │ 12      │ 2  │\n",
      "├─────────┼────────┼──────┼───────┼───────┼─────────┼───────┼────┼──────────┼────┼─────┼────┼──────────┼────────┼─────────┼────┤\n",
      "│ OUTPUT: │ -1     │ 2    │ 0     │ ERR:4 │ 2       │ 7     │ 7  │ 4        │ 11 │ 11  │ 11 │ 4        │ ERR:13 │ ERR:4   │ 2  │\n",
      "╘═════════╧════════╧══════╧═══════╧═══════╧═════════╧═══════╧════╧══════════╧════╧═════╧════╧══════════╧════════╧═════════╧════╛\n",
      "#### ERROR 135 ####\n",
      "╒═════════╤════════╤═════╤═════╤══════════════╤════╤════════╤═══════╤═══════╤═══════╤══════════╤═══════╤════════╤════════╤════════╤═══════════════╤═══════╕\n",
      "│ TOKENS: │ <ROOT> │ Los │ 1.1 │ trabajadores │ de │ Alstom │ ,     │ en    │ Santa │ Perpètua │ de    │ Mogoda │ ,      │ están  │ decepcionados │ .     │\n",
      "├─────────┼────────┼─────┼─────┼──────────────┼────┼────────┼───────┼───────┼───────┼──────────┼───────┼────────┼────────┼────────┼───────────────┼───────┤\n",
      "│ INDEX:  │ 0      │ 1   │ 2   │ 3            │ 4  │ 5      │ 6     │ 7     │ 8     │ 9        │ 10    │ 11     │ 12     │ 13     │ 14            │ 15    │\n",
      "├─────────┼────────┼─────┼─────┼──────────────┼────┼────────┼───────┼───────┼───────┼──────────┼───────┼────────┼────────┼────────┼───────────────┼───────┤\n",
      "│ GOLD:   │ -1     │ 2   │ 3   │ 14           │ 5  │ 3      │ 8     │ 8     │ 5     │ 8        │ 11    │ 8      │ 8      │ 14     │ 0             │ 14    │\n",
      "├─────────┼────────┼─────┼─────┼──────────────┼────┼────────┼───────┼───────┼───────┼──────────┼───────┼────────┼────────┼────────┼───────────────┼───────┤\n",
      "│ OUTPUT: │ -1     │ 2   │ 3   │ ERR:-1       │ 5  │ 3      │ ERR:7 │ ERR:3 │ ERR:9 │ ERR:7    │ ERR:3 │ ERR:10 │ ERR:13 │ ERR:10 │ ERR:10        │ ERR:3 │\n",
      "╘═════════╧════════╧═════╧═════╧══════════════╧════╧════════╧═══════╧═══════╧═══════╧══════════╧═══════╧════════╧════════╧════════╧═══════════════╧═══════╛\n",
      "#### ERROR 136 ####\n",
      "╒═════════╤════════╤═══════╤═══════╤═══════╤═══╤══════╤══════╤═════╤══════════╤═══╕\n",
      "│ TOKENS: │ <ROOT> │ \"     │ Mejor │ tener │ a │ Figo │ aquí │ que │ enfrente │ . │\n",
      "├─────────┼────────┼───────┼───────┼───────┼───┼──────┼──────┼─────┼──────────┼───┤\n",
      "│ INDEX:  │ 0      │ 1     │ 2     │ 3     │ 4 │ 5    │ 6    │ 7   │ 8        │ 9 │\n",
      "├─────────┼────────┼───────┼───────┼───────┼───┼──────┼──────┼─────┼──────────┼───┤\n",
      "│ GOLD:   │ -1     │ 3     │ 3     │ 0     │ 5 │ 3    │ 3    │ 8   │ 3        │ 3 │\n",
      "├─────────┼────────┼───────┼───────┼───────┼───┼──────┼──────┼─────┼──────────┼───┤\n",
      "│ OUTPUT: │ -1     │ ERR:2 │ 3     │ 0     │ 5 │ 3    │ 3    │ 8   │ 3        │ 3 │\n",
      "╘═════════╧════════╧═══════╧═══════╧═══════╧═══╧══════╧══════╧═════╧══════════╧═══╛\n",
      "#### ERROR 137 ####\n",
      "╒═════════╤════════╤═══════╤═════════╤═════════╤═════╤════╤═════════╤════╤══════╤════╤════════════╤════════╤════════╤════╕\n",
      "│ TOKENS: │ <ROOT> │ Pedro │ Munitis │ admitió │ que │ el │ fichaje │ de │ Figo │ le │ sorprendió │ un     │ poco   │ .  │\n",
      "├─────────┼────────┼───────┼─────────┼─────────┼─────┼────┼─────────┼────┼──────┼────┼────────────┼────────┼────────┼────┤\n",
      "│ INDEX:  │ 0      │ 1     │ 2       │ 3       │ 4   │ 5  │ 6       │ 7  │ 8    │ 9  │ 10         │ 11     │ 12     │ 13 │\n",
      "├─────────┼────────┼───────┼─────────┼─────────┼─────┼────┼─────────┼────┼──────┼────┼────────────┼────────┼────────┼────┤\n",
      "│ GOLD:   │ -1     │ 3     │ 1       │ 0       │ 10  │ 6  │ 10      │ 8  │ 6    │ 10 │ 3          │ 10     │ 11     │ 3  │\n",
      "├─────────┼────────┼───────┼─────────┼─────────┼─────┼────┼─────────┼────┼──────┼────┼────────────┼────────┼────────┼────┤\n",
      "│ OUTPUT: │ -1     │ 3     │ 1       │ 0       │ 10  │ 6  │ 10      │ 8  │ 6    │ 10 │ 3          │ ERR:12 │ ERR:10 │ 3  │\n",
      "╘═════════╧════════╧═══════╧═════════╧═════════╧═════╧════╧═════════╧════╧══════╧════╧════════════╧════════╧════════╧════╛\n",
      "#### ERROR 138 ####\n",
      "╒═════════╤════════╤══════════════╤═════════╤═══════╤═════╤═════════════╤═══════╤═══════╤═════════╤═════╤═══════════╤═══════╕\n",
      "│ TOKENS: │ <ROOT> │ Gómez-Angulo │ también │ quiso │ ser │ contundente │ en    │ la    │ censura │ del │ esquiador │ .     │\n",
      "├─────────┼────────┼──────────────┼─────────┼───────┼─────┼─────────────┼───────┼───────┼─────────┼─────┼───────────┼───────┤\n",
      "│ INDEX:  │ 0      │ 1            │ 2       │ 3     │ 4   │ 5           │ 6     │ 7     │ 8       │ 9   │ 10        │ 11    │\n",
      "├─────────┼────────┼──────────────┼─────────┼───────┼─────┼─────────────┼───────┼───────┼─────────┼─────┼───────────┼───────┤\n",
      "│ GOLD:   │ -1     │ 3            │ 3       │ 0     │ 5   │ 3           │ 8     │ 8     │ 5       │ 10  │ 8         │ 3     │\n",
      "├─────────┼────────┼──────────────┼─────────┼───────┼─────┼─────────────┼───────┼───────┼─────────┼─────┼───────────┼───────┤\n",
      "│ OUTPUT: │ -1     │ ERR:5        │ ERR:1   │ ERR:1 │ 5   │ ERR:0       │ ERR:7 │ ERR:5 │ ERR:10  │ 10  │ ERR:7     │ ERR:5 │\n",
      "╘═════════╧════════╧══════════════╧═════════╧═══════╧═════╧═════════════╧═══════╧═══════╧═════════╧═════╧═══════════╧═══════╛\n"
     ]
    }
   ],
   "source": [
    "print(f'Number of predicted dependency trees: {len(predictions)}')\n",
    "print(f'Number of erroneous dependency trees: {len(errors)}')\n",
    "\n",
    "def print_erroneous_tree(index, e_gold, e_pred, e_token):\n",
    "  \"\"\"\n",
    "  Prints an erroneous dependency tree.\n",
    "\n",
    "  Args:\n",
    "    index: index of the tree in some data structure.\n",
    "    e_gold: gold tree.\n",
    "    e_pred: incorrectly predicted tree.\n",
    "    e_token: token's text of all the words in the tree.\n",
    "  \"\"\"\n",
    "  # Add 'ERR:' to the incorrect dependencies.\n",
    "  e_pred_str = []\n",
    "  for g, p in zip(e_gold, e_pred):\n",
    "    if (g != p):\n",
    "      e_pred_str.append('ERR:'+str(p))\n",
    "    else:\n",
    "      e_pred_str.append(str(p))\n",
    "\n",
    "  print(f'#### ERROR {index} ####')\n",
    "\n",
    "  # Create and show the table.\n",
    "  tab_data = [['TOKENS:', '<ROOT>'] + e_token,\n",
    "              ['INDEX:'] + [i for i in range(len(e_gold))],\n",
    "              ['GOLD:'] + e_gold,\n",
    "              ['OUTPUT:'] + e_pred_str]\n",
    "  print(tabulate(tab_data, tablefmt=\"fancy_grid\"))\n",
    "\n",
    "for i, (e_gold, e_pred, e_token) in enumerate(errors):\n",
    "  print_erroneous_tree(i, e_gold, e_pred, e_token)"
   ]
  },
  {
   "cell_type": "markdown",
   "metadata": {
    "id": "MgSYi1t02Eiy"
   },
   "source": [
    "In order to understand the errors is important to understand Spanish phrases. After a long analysis, we present the most common types of errors and some examples with English translations."
   ]
  },
  {
   "cell_type": "markdown",
   "metadata": {
    "id": "MFdMge2V2sNX"
   },
   "source": [
    "1. **Missing heads in the gold tree**.\n",
    "\n",
    "At the initial stages of the project, when pre-processing the data, we realized that, in the gold trees of our dataset, there were some words whose head was set to 'None'. We decided to substitute this 'None' with the number -1, meaning that the dataset doesn't specify a head for this element.\n",
    "\n",
    "For example, this happens in error number 3 (*But he has known how to do it from the front and with dignity*). The word *hacerlo* (*do it*) has the gold head -1, and our model assigns a label different from -1.\n",
    "Another example is error number 131 (*Moving through an airport already costs work*), where we also find a word with gold head -1, the word *moverse* (*move*) where our model fails again.\n",
    "Error number 128 (*Virtual visits can be made to the www.cambrallibrecat.com page*) is another example where the verb with gold head -1 is *hacerse*, which is decomposed into *hacer* and *se*.\n",
    "\n",
    "Thanks to this error analysis we discovered that the words having a 'None' head contain Spanish clitics (for example *hacer-lo* or *mover-se*). We also discovered that in these cases, the following two words are the previous word decomposed (for example the word *hacerlo* has as following words *hacer* and *lo*).\n",
    "\n",
    "In conclusion, our model has not been trained enough to detect this characteristic of the dataset. In a possible second version of the project, we could even consider eliminating this type of words from the sentences, maintaining only their decomposition present in the following words."
   ]
  },
  {
   "cell_type": "code",
   "execution_count": 39,
   "metadata": {
    "colab": {
     "base_uri": "https://localhost:8080/"
    },
    "executionInfo": {
     "elapsed": 35,
     "status": "ok",
     "timestamp": 1687554564345,
     "user": {
      "displayName": "Jesús Moncada Ramírez",
      "userId": "03809042163319486653"
     },
     "user_tz": -120
    },
    "id": "YdXDL1w02tet",
    "outputId": "6cba677e-aabc-4e51-f376-be2f2163ab8e"
   },
   "outputs": [
    {
     "name": "stdout",
     "output_type": "stream",
     "text": [
      "#### ERROR 3 ####\n",
      "╒═════════╤════════╤══════╤════╤════════╤═════════╤═══════╤═══════╤═══════╤════════╤════════╤════════╤══════════╤════╕\n",
      "│ TOKENS: │ <ROOT> │ Pero │ ha │ sabido │ hacerlo │ hacer │ lo    │ de    │ frente │ y      │ con    │ dignidad │ .  │\n",
      "├─────────┼────────┼──────┼────┼────────┼─────────┼───────┼───────┼───────┼────────┼────────┼────────┼──────────┼────┤\n",
      "│ INDEX:  │ 0      │ 1    │ 2  │ 3      │ 4       │ 5     │ 6     │ 7     │ 8      │ 9      │ 10     │ 11       │ 12 │\n",
      "├─────────┼────────┼──────┼────┼────────┼─────────┼───────┼───────┼───────┼────────┼────────┼────────┼──────────┼────┤\n",
      "│ GOLD:   │ -1     │ 3    │ 3  │ 0      │ -1      │ 3     │ 4     │ 7     │ 4      │ 10     │ 10     │ 7        │ 3  │\n",
      "├─────────┼────────┼──────┼────┼────────┼─────────┼───────┼───────┼───────┼────────┼────────┼────────┼──────────┼────┤\n",
      "│ OUTPUT: │ -1     │ 3    │ 3  │ 0      │ ERR:3   │ ERR:4 │ ERR:5 │ ERR:8 │ ERR:6  │ ERR:11 │ ERR:11 │ ERR:8    │ 3  │\n",
      "╘═════════╧════════╧══════╧════╧════════╧═════════╧═══════╧═══════╧═══════╧════════╧════════╧════════╧══════════╧════╛\n",
      "#### ERROR 131 ####\n",
      "╒═════════╤════════╤═════════╤═══════╤═══════╤═══════╤═══════╤════════════╤═══════╤════════╤═════════╤═══════╕\n",
      "│ TOKENS: │ <ROOT> │ Moverse │ Mover │ se    │ por   │ un    │ aeropuerto │ ya    │ cuesta │ trabajo │ .     │\n",
      "├─────────┼────────┼─────────┼───────┼───────┼───────┼───────┼────────────┼───────┼────────┼─────────┼───────┤\n",
      "│ INDEX:  │ 0      │ 1       │ 2     │ 3     │ 4     │ 5     │ 6          │ 7     │ 8      │ 9       │ 10    │\n",
      "├─────────┼────────┼─────────┼───────┼───────┼───────┼───────┼────────────┼───────┼────────┼─────────┼───────┤\n",
      "│ GOLD:   │ -1     │ -1      │ 7     │ 1     │ 5     │ 5     │ 1          │ 7     │ 0      │ 7       │ 7     │\n",
      "├─────────┼────────┼─────────┼───────┼───────┼───────┼───────┼────────────┼───────┼────────┼─────────┼───────┤\n",
      "│ OUTPUT: │ -1     │ ERR:2   │ ERR:0 │ ERR:2 │ ERR:6 │ ERR:6 │ ERR:2      │ ERR:8 │ ERR:2  │ ERR:8   │ ERR:2 │\n",
      "╘═════════╧════════╧═════════╧═══════╧═══════╧═══════╧═══════╧════════════╧═══════╧════════╧═════════╧═══════╛\n",
      "#### ERROR 128 ####\n",
      "╒═════════╤════════╤═════╤═════════╤═══════════╤════════╤═════════╤═══════╤═══════╤════════╤════════╤════════╤═════════════════════════╤════╕\n",
      "│ TOKENS: │ <ROOT> │ Las │ visitas │ virtuales │ podrán │ hacerse │ hacer │ se    │ a      │ la     │ página │ www.cambrallibrecat.com │ .  │\n",
      "├─────────┼────────┼─────┼─────────┼───────────┼────────┼─────────┼───────┼───────┼────────┼────────┼────────┼─────────────────────────┼────┤\n",
      "│ INDEX:  │ 0      │ 1   │ 2       │ 3         │ 4      │ 5       │ 6     │ 7     │ 8      │ 9      │ 10     │ 11                      │ 12 │\n",
      "├─────────┼────────┼─────┼─────────┼───────────┼────────┼─────────┼───────┼───────┼────────┼────────┼────────┼─────────────────────────┼────┤\n",
      "│ GOLD:   │ -1     │ 2   │ 5       │ 2         │ 5      │ -1      │ 0     │ 5     │ 9      │ 9      │ 5      │ 9                       │ 5  │\n",
      "├─────────┼────────┼─────┼─────────┼───────────┼────────┼─────────┼───────┼───────┼────────┼────────┼────────┼─────────────────────────┼────┤\n",
      "│ OUTPUT: │ -1     │ 2   │ 5       │ 2         │ 5      │ ERR:0   │ ERR:5 │ ERR:6 │ ERR:10 │ ERR:10 │ 5      │ ERR:10                  │ 5  │\n",
      "╘═════════╧════════╧═════╧═════════╧═══════════╧════════╧═════════╧═══════╧═══════╧════════╧════════╧════════╧═════════════════════════╧════╛\n"
     ]
    }
   ],
   "source": [
    "print_erroneous_tree(3, *errors[3])\n",
    "print_erroneous_tree(131, *errors[131])\n",
    "print_erroneous_tree(128, *errors[128])"
   ]
  },
  {
   "cell_type": "markdown",
   "metadata": {
    "id": "0VYs9L7o5Crd"
   },
   "source": [
    "2. **The first verb in the sentence is set as the root child, even if it is not the principal**.\n",
    "\n",
    "In dependency trees, the child of the *ROOT* element (the element having *ROOT* as father) is usually the principal verb of the sentence. In sentences where the principal verb doesn't appear the first, our model tends to set at the root child the first read verb, even if it is not the most important.\n",
    "\n",
    "An example of this is error number 40 (*All it takes is a polo shirt and sweatpants to be appropriate, they pointed out*). The verb *Basta* (that could be traduced as *all it takes*) is the first verb of the sentence, but not the principal one. Our model sets it as *ROOT* child, i.e., head 0 (error, it has gold head 12). However, the principal verb is *señalaron* (*they pointed out*), which is at the end; it should have head 0 but our models assigns 1."
   ]
  },
  {
   "cell_type": "code",
   "execution_count": 40,
   "metadata": {
    "colab": {
     "base_uri": "https://localhost:8080/"
    },
    "executionInfo": {
     "elapsed": 13,
     "status": "ok",
     "timestamp": 1687554564346,
     "user": {
      "displayName": "Jesús Moncada Ramírez",
      "userId": "03809042163319486653"
     },
     "user_tz": -120
    },
    "id": "1dhSoA5s5Jij",
    "outputId": "101af30c-19cc-4d9f-903f-2ebaa3c36d31"
   },
   "outputs": [
    {
     "name": "stdout",
     "output_type": "stream",
     "text": [
      "#### ERROR 40 ####\n",
      "╒═════════╤════════╤═══════╤════╤══════╤═══╤══════╤════════════╤════════════╤═══════╤═══════╤═══════════╤════╤═══════════╤═══════╕\n",
      "│ TOKENS: │ <ROOT> │ Basta │ un │ polo │ y │ unos │ pantalones │ deportivos │ para  │ ir    │ apropiado │ ,  │ señalaron │ .     │\n",
      "├─────────┼────────┼───────┼────┼──────┼───┼──────┼────────────┼────────────┼───────┼───────┼───────────┼────┼───────────┼───────┤\n",
      "│ INDEX:  │ 0      │ 1     │ 2  │ 3    │ 4 │ 5    │ 6          │ 7          │ 8     │ 9     │ 10        │ 11 │ 12        │ 13    │\n",
      "├─────────┼────────┼───────┼────┼──────┼───┼──────┼────────────┼────────────┼───────┼───────┼───────────┼────┼───────────┼───────┤\n",
      "│ GOLD:   │ -1     │ 12    │ 3  │ 1    │ 6 │ 6    │ 3          │ 6          │ 10    │ 10    │ 1         │ 1  │ 0         │ 12    │\n",
      "├─────────┼────────┼───────┼────┼──────┼───┼──────┼────────────┼────────────┼───────┼───────┼───────────┼────┼───────────┼───────┤\n",
      "│ OUTPUT: │ -1     │ ERR:0 │ 3  │ 1    │ 6 │ 6    │ 3          │ 6          │ ERR:9 │ ERR:1 │ ERR:9     │ 1  │ ERR:1     │ ERR:1 │\n",
      "╘═════════╧════════╧═══════╧════╧══════╧═══╧══════╧════════════╧════════════╧═══════╧═══════╧═══════════╧════╧═══════════╧═══════╛\n"
     ]
    }
   ],
   "source": [
    "print_erroneous_tree(40, *errors[40])"
   ]
  },
  {
   "cell_type": "markdown",
   "metadata": {
    "id": "fcsXKIXK4tUN"
   },
   "source": [
    "3. **Head of prepositions**.\n",
    "\n",
    "In the dependency trees from our dataset, the head of a preposition is normally associated with the nucleus of the noun phrase that follows it. Our model presents problems in doing this assignment.\n",
    "\n",
    "For example, in error number 121 (*BBVA Portugal increased profits by 91% in 2000*) the head of the preposition *en* (*in*) is set to the index 3, instead of being set to the index 10, that is the noun of the following noun phrase."
   ]
  },
  {
   "cell_type": "code",
   "execution_count": 41,
   "metadata": {
    "colab": {
     "base_uri": "https://localhost:8080/"
    },
    "executionInfo": {
     "elapsed": 11,
     "status": "ok",
     "timestamp": 1687554564346,
     "user": {
      "displayName": "Jesús Moncada Ramírez",
      "userId": "03809042163319486653"
     },
     "user_tz": -120
    },
    "id": "WsVnTaPZ_NtT",
    "outputId": "bcff0e13-00dd-4c52-d7b4-2edbc96a33ec"
   },
   "outputs": [
    {
     "name": "stdout",
     "output_type": "stream",
     "text": [
      "#### ERROR 121 ####\n",
      "╒═════════╤════════╤══════╤══════════╤═════════╤═════╤════════════╤════╤═════╤═══════╤═══════╤════════╤════╕\n",
      "│ TOKENS: │ <ROOT> │ BBVA │ Portugal │ aumentó │ los │ beneficios │ el │ 91% │ en    │ el    │ 2000   │ .  │\n",
      "├─────────┼────────┼──────┼──────────┼─────────┼─────┼────────────┼────┼─────┼───────┼───────┼────────┼────┤\n",
      "│ INDEX:  │ 0      │ 1    │ 2        │ 3       │ 4   │ 5          │ 6  │ 7   │ 8     │ 9     │ 10     │ 11 │\n",
      "├─────────┼────────┼──────┼──────────┼─────────┼─────┼────────────┼────┼─────┼───────┼───────┼────────┼────┤\n",
      "│ GOLD:   │ -1     │ 3    │ 1        │ 0       │ 5   │ 3          │ 7  │ 3   │ 10    │ 10    │ 3      │ 3  │\n",
      "├─────────┼────────┼──────┼──────────┼─────────┼─────┼────────────┼────┼─────┼───────┼───────┼────────┼────┤\n",
      "│ OUTPUT: │ -1     │ 3    │ 1        │ 0       │ 5   │ 3          │ 7  │ 3   │ ERR:3 │ ERR:8 │ ERR:11 │ 3  │\n",
      "╘═════════╧════════╧══════╧══════════╧═════════╧═════╧════════════╧════╧═════╧═══════╧═══════╧════════╧════╛\n"
     ]
    }
   ],
   "source": [
    "print_erroneous_tree(121, *errors[121])"
   ]
  },
  {
   "cell_type": "markdown",
   "metadata": {
    "id": "WRk3_UhYA0GU"
   },
   "source": [
    "4. **Setting the child of the root in copulas and non-copulas**.\n",
    "\n",
    "We have mentioned that in our dataset dependency trees, the child of the root is usually the principal verb of the sentence, but in reality, this only applies to copulas (or copula sentences). In copulas (that joins the subject of a sentence or clause to a subject complement), on the other hand, the child of root is usually the noun of the subject complement (that is usually a noun phrase).\n",
    "\n",
    "We have observed that our model has problems distinguishing between the two cases, and so, it has problems setting the root child to a verb or noun correctly.\n",
    "\n",
    "Error number 5 (*The first of these was a motorcycle patented in 1885*) is a copula because it incorporates the verb *ser* (*to be*), which appears in the conjugated form *fue* (*he/she/it was*). As we can observe, the root child should be the noun of the subject complement noun phrase, *motocicleta* (*motorcycle*). However, our model does not even predict a root child (no element with head 0).\n",
    "\n",
    "Error number 113 (*Tarragona fines 30 jet skis in 10 days*) is a non-copula as the principal verb is *multar* (*to fine*). The root child is set to the noun *dias* (*days*), instead of the principal verb *multa* (*fines*).\n",
    "In error number 115 (*THE CRIME OF ROCÍO WANNINKHOF SHOCKED THE TOWN OF MIJAS*), another non-copula, the root child is set to the noun *CRIMEN* (*crime*) instead of the verb *CONMOCIONÓ* (*shocked*)."
   ]
  },
  {
   "cell_type": "code",
   "execution_count": 42,
   "metadata": {
    "colab": {
     "base_uri": "https://localhost:8080/"
    },
    "executionInfo": {
     "elapsed": 9,
     "status": "ok",
     "timestamp": 1687554564346,
     "user": {
      "displayName": "Jesús Moncada Ramírez",
      "userId": "03809042163319486653"
     },
     "user_tz": -120
    },
    "id": "tjEKVxXZA83u",
    "outputId": "f42880a5-01cb-4ec1-c03a-b74d8f930e71"
   },
   "outputs": [
    {
     "name": "stdout",
     "output_type": "stream",
     "text": [
      "#### ERROR 5 ####\n",
      "╒═════════╤════════╤════╤═════════╤════╤═══════╤═════╤═════╤═════════════╤═══════════╤════╤══════╤═══════╕\n",
      "│ TOKENS: │ <ROOT> │ El │ primero │ de │ éstos │ fue │ una │ motocicleta │ patentada │ en │ 1885 │ .     │\n",
      "├─────────┼────────┼────┼─────────┼────┼───────┼─────┼─────┼─────────────┼───────────┼────┼──────┼───────┤\n",
      "│ INDEX:  │ 0      │ 1  │ 2       │ 3  │ 4     │ 5   │ 6   │ 7           │ 8         │ 9  │   10 │ 11    │\n",
      "├─────────┼────────┼────┼─────────┼────┼───────┼─────┼─────┼─────────────┼───────────┼────┼──────┼───────┤\n",
      "│ GOLD:   │ -1     │ 2  │ 7       │ 4  │ 2     │ 7   │ 7   │ 0           │ 7         │ 10 │    8 │ 7     │\n",
      "├─────────┼────────┼────┼─────────┼────┼───────┼─────┼─────┼─────────────┼───────────┼────┼──────┼───────┤\n",
      "│ OUTPUT: │ -1     │ 2  │ ERR:-1  │ 4  │ 2     │ 7   │ 7   │ ERR:2       │ 7         │ 10 │    8 │ ERR:2 │\n",
      "╘═════════╧════════╧════╧═════════╧════╧═══════╧═════╧═════╧═════════════╧═══════════╧════╧══════╧═══════╛\n",
      "#### ERROR 113 ####\n",
      "╒═════════╤════════╤═══════════╤═══════╤═══╤════╤═══════╤════╤══════╤════╤════╤═══════╤════════╕\n",
      "│ TOKENS: │ <ROOT> │ Tarragona │ multa │ a │ 30 │ motos │ de │ agua │ en │ 10 │ días  │ .      │\n",
      "├─────────┼────────┼───────────┼───────┼───┼────┼───────┼────┼──────┼────┼────┼───────┼────────┤\n",
      "│ INDEX:  │ 0      │ 1         │ 2     │ 3 │  4 │ 5     │ 6  │ 7    │ 8  │  9 │ 10    │ 11     │\n",
      "├─────────┼────────┼───────────┼───────┼───┼────┼───────┼────┼──────┼────┼────┼───────┼────────┤\n",
      "│ GOLD:   │ -1     │ 2         │ 0     │ 5 │  5 │ 2     │ 7  │ 5    │ 10 │ 10 │ 2     │ 2      │\n",
      "├─────────┼────────┼───────────┼───────┼───┼────┼───────┼────┼──────┼────┼────┼───────┼────────┤\n",
      "│ OUTPUT: │ -1     │ ERR:10    │ ERR:1 │ 5 │  5 │ 2     │ 7  │ 5    │ 10 │ 10 │ ERR:0 │ ERR:10 │\n",
      "╘═════════╧════════╧═══════════╧═══════╧═══╧════╧═══════╧════╧══════╧════╧════╧═══════╧════════╛\n",
      "#### ERROR 115 ####\n",
      "╒═════════╤════════╤════╤════════╤════╤═══════╤════════════╤════════════╤═══╤════╤═══════════╤════╤═══════╤═══════╕\n",
      "│ TOKENS: │ <ROOT> │ EL │ CRIMEN │ DE │ ROCÍO │ WANNINKHOF │ CONMOCIONÓ │ A │ LA │ LOCALIDAD │ DE │ MIJAS │ .     │\n",
      "├─────────┼────────┼────┼────────┼────┼───────┼────────────┼────────────┼───┼────┼───────────┼────┼───────┼───────┤\n",
      "│ INDEX:  │ 0      │ 1  │ 2      │ 3  │ 4     │ 5          │ 6          │ 7 │ 8  │ 9         │ 10 │ 11    │ 12    │\n",
      "├─────────┼────────┼────┼────────┼────┼───────┼────────────┼────────────┼───┼────┼───────────┼────┼───────┼───────┤\n",
      "│ GOLD:   │ -1     │ 2  │ 6      │ 4  │ 2     │ 4          │ 0          │ 9 │ 9  │ 6         │ 11 │ 9     │ 6     │\n",
      "├─────────┼────────┼────┼────────┼────┼───────┼────────────┼────────────┼───┼────┼───────────┼────┼───────┼───────┤\n",
      "│ OUTPUT: │ -1     │ 2  │ ERR:0  │ 4  │ 2     │ 4          │ ERR:2      │ 9 │ 9  │ 6         │ 11 │ 9     │ ERR:2 │\n",
      "╘═════════╧════════╧════╧════════╧════╧═══════╧════════════╧════════════╧═══╧════╧═══════════╧════╧═══════╧═══════╛\n"
     ]
    }
   ],
   "source": [
    "print_erroneous_tree(5, *errors[5])\n",
    "print_erroneous_tree(113, *errors[113])\n",
    "print_erroneous_tree(115, *errors[115])"
   ]
  },
  {
   "cell_type": "markdown",
   "metadata": {
    "id": "CtiIoR9BCLxx"
   },
   "source": [
    "5. **Not predicting a root child**.\n",
    "\n",
    "There are some cases, where our model predicts that there is no root child in the sentence, thus no word with head 0. This often happens in exclamatory or interrogative sentences.\n",
    "As we have mentioned, our training data contained sentences with words with head -1 in the training data.\n",
    "As we have commented, our model contained sentences with words with a -1 head in the training data.\n",
    "Here again, we observe a consequence of our model not having correctly learned what it means to have a word with head -1.\n",
    "\n",
    "In error number 105 (*With the government we have!*), the gold root child is the noun *Gobierno* (*government*), but our model does not predict any."
   ]
  },
  {
   "cell_type": "code",
   "execution_count": 43,
   "metadata": {
    "colab": {
     "base_uri": "https://localhost:8080/"
    },
    "executionInfo": {
     "elapsed": 8,
     "status": "ok",
     "timestamp": 1687554564346,
     "user": {
      "displayName": "Jesús Moncada Ramírez",
      "userId": "03809042163319486653"
     },
     "user_tz": -120
    },
    "id": "XvxaxYaJCNu7",
    "outputId": "9ecadd0d-b5a0-4bfd-d0c9-7249e2ae9c80"
   },
   "outputs": [
    {
     "name": "stdout",
     "output_type": "stream",
     "text": [
      "#### ERROR 105 ####\n",
      "╒═════════╤════════╤═══╤═════╤════╤══════════╤═════╤═════════╤═══╤═══╕\n",
      "│ TOKENS: │ <ROOT> │ ¡ │ Con │ el │ Gobierno │ que │ tenemos │ ! │ . │\n",
      "├─────────┼────────┼───┼─────┼────┼──────────┼─────┼─────────┼───┼───┤\n",
      "│ INDEX:  │ 0      │ 1 │ 2   │ 3  │ 4        │ 5   │ 6       │ 7 │ 8 │\n",
      "├─────────┼────────┼───┼─────┼────┼──────────┼─────┼─────────┼───┼───┤\n",
      "│ GOLD:   │ -1     │ 4 │ 4   │ 4  │ 0        │ 6   │ 4       │ 4 │ 4 │\n",
      "├─────────┼────────┼───┼─────┼────┼──────────┼─────┼─────────┼───┼───┤\n",
      "│ OUTPUT: │ -1     │ 4 │ 4   │ 4  │ ERR:-1   │ 6   │ 4       │ 4 │ 4 │\n",
      "╘═════════╧════════╧═══╧═════╧════╧══════════╧═════╧═════════╧═══╧═══╛\n"
     ]
    }
   ],
   "source": [
    "print_erroneous_tree(105, *errors[105])"
   ]
  },
  {
   "cell_type": "markdown",
   "metadata": {
    "id": "kdyUgBeGuKEx"
   },
   "source": [
    "6. **Sentences that include proper nouns are catastrophic**.\n",
    "\n",
    "We have observed that, in sentences where some proper nouns (especially than one) appear, our model tends to generate a catastrophic dependency tree.\n",
    "We consider catastrophic those trees having the majority of dependencies incorrect.\n",
    "\n",
    "Error number 135 (*The 1.1 Alstom workers in Santa Perpètua de Mogoda are disappointed*) contains some proper nouns: *Alstom*, *Santa Perpètua*, and *Mogoda*. It only generates 5/16 correct dependencies.\n",
    "\n",
    "Error number 138 (*Gómez-Angulo also wanted to be forceful in his censure of the skier*) contains one proper noun, *Gómez-Angulo*, and also offers a catastrophic result with 2/12 correct dependencies."
   ]
  },
  {
   "cell_type": "code",
   "execution_count": 44,
   "metadata": {
    "colab": {
     "base_uri": "https://localhost:8080/"
    },
    "executionInfo": {
     "elapsed": 6,
     "status": "ok",
     "timestamp": 1687554564346,
     "user": {
      "displayName": "Jesús Moncada Ramírez",
      "userId": "03809042163319486653"
     },
     "user_tz": -120
    },
    "id": "mluUsKbrt5xN",
    "outputId": "914720ae-3671-4004-ecf1-de2f5f5c3ace"
   },
   "outputs": [
    {
     "name": "stdout",
     "output_type": "stream",
     "text": [
      "#### ERROR 135 ####\n",
      "╒═════════╤════════╤═════╤═════╤══════════════╤════╤════════╤═══════╤═══════╤═══════╤══════════╤═══════╤════════╤════════╤════════╤═══════════════╤═══════╕\n",
      "│ TOKENS: │ <ROOT> │ Los │ 1.1 │ trabajadores │ de │ Alstom │ ,     │ en    │ Santa │ Perpètua │ de    │ Mogoda │ ,      │ están  │ decepcionados │ .     │\n",
      "├─────────┼────────┼─────┼─────┼──────────────┼────┼────────┼───────┼───────┼───────┼──────────┼───────┼────────┼────────┼────────┼───────────────┼───────┤\n",
      "│ INDEX:  │ 0      │ 1   │ 2   │ 3            │ 4  │ 5      │ 6     │ 7     │ 8     │ 9        │ 10    │ 11     │ 12     │ 13     │ 14            │ 15    │\n",
      "├─────────┼────────┼─────┼─────┼──────────────┼────┼────────┼───────┼───────┼───────┼──────────┼───────┼────────┼────────┼────────┼───────────────┼───────┤\n",
      "│ GOLD:   │ -1     │ 2   │ 3   │ 14           │ 5  │ 3      │ 8     │ 8     │ 5     │ 8        │ 11    │ 8      │ 8      │ 14     │ 0             │ 14    │\n",
      "├─────────┼────────┼─────┼─────┼──────────────┼────┼────────┼───────┼───────┼───────┼──────────┼───────┼────────┼────────┼────────┼───────────────┼───────┤\n",
      "│ OUTPUT: │ -1     │ 2   │ 3   │ ERR:-1       │ 5  │ 3      │ ERR:7 │ ERR:3 │ ERR:9 │ ERR:7    │ ERR:3 │ ERR:10 │ ERR:13 │ ERR:10 │ ERR:10        │ ERR:3 │\n",
      "╘═════════╧════════╧═════╧═════╧══════════════╧════╧════════╧═══════╧═══════╧═══════╧══════════╧═══════╧════════╧════════╧════════╧═══════════════╧═══════╛\n",
      "#### ERROR 138 ####\n",
      "╒═════════╤════════╤══════════════╤═════════╤═══════╤═════╤═════════════╤═══════╤═══════╤═════════╤═════╤═══════════╤═══════╕\n",
      "│ TOKENS: │ <ROOT> │ Gómez-Angulo │ también │ quiso │ ser │ contundente │ en    │ la    │ censura │ del │ esquiador │ .     │\n",
      "├─────────┼────────┼──────────────┼─────────┼───────┼─────┼─────────────┼───────┼───────┼─────────┼─────┼───────────┼───────┤\n",
      "│ INDEX:  │ 0      │ 1            │ 2       │ 3     │ 4   │ 5           │ 6     │ 7     │ 8       │ 9   │ 10        │ 11    │\n",
      "├─────────┼────────┼──────────────┼─────────┼───────┼─────┼─────────────┼───────┼───────┼─────────┼─────┼───────────┼───────┤\n",
      "│ GOLD:   │ -1     │ 3            │ 3       │ 0     │ 5   │ 3           │ 8     │ 8     │ 5       │ 10  │ 8         │ 3     │\n",
      "├─────────┼────────┼──────────────┼─────────┼───────┼─────┼─────────────┼───────┼───────┼─────────┼─────┼───────────┼───────┤\n",
      "│ OUTPUT: │ -1     │ ERR:5        │ ERR:1   │ ERR:1 │ 5   │ ERR:0       │ ERR:7 │ ERR:5 │ ERR:10  │ 10  │ ERR:7     │ ERR:5 │\n",
      "╘═════════╧════════╧══════════════╧═════════╧═══════╧═════╧═════════════╧═══════╧═══════╧═════════╧═════╧═══════════╧═══════╛\n"
     ]
    }
   ],
   "source": [
    "print_erroneous_tree(135, *errors[135])\n",
    "print_erroneous_tree(138, *errors[138])"
   ]
  },
  {
   "cell_type": "markdown",
   "metadata": {
    "id": "NMs-VK9RzPoh"
   },
   "source": [
    "7. **Loads of errors if the child of root is wrongly set**.\n",
    "\n",
    "Usually, punctuation symbols in sentences are children of the child of the root, i.e. they are children of the most important word in the sentence. This always happen with the period, for example. Therefore, if our model assigns an incorrect root's child, a lot of punctuation symbols will have an incorrect head assigned.\n",
    "\n",
    "A clear example of this is error 97 (*-- What a debut! --*), where the word *debut* is predicted as the root's child (error), and all the hyphens and exclamation marks' heads are thus wrongly set.\n",
    "\n",
    "This is not only true for punctuation marks. In error 124 (*A prisoner slits the throat of another in the infirmary of the Lleida prison*), incorrect assignment of the root's child entails that many other words, with head pointing to the former, are wrongly assigned too."
   ]
  },
  {
   "cell_type": "code",
   "execution_count": 45,
   "metadata": {
    "colab": {
     "base_uri": "https://localhost:8080/"
    },
    "executionInfo": {
     "elapsed": 5,
     "status": "ok",
     "timestamp": 1687554564346,
     "user": {
      "displayName": "Jesús Moncada Ramírez",
      "userId": "03809042163319486653"
     },
     "user_tz": -120
    },
    "id": "AxcKaBjuzhzm",
    "outputId": "0e8f4e97-ed78-495d-e4df-d49cd5027faa"
   },
   "outputs": [
    {
     "name": "stdout",
     "output_type": "stream",
     "text": [
      "#### ERROR 97 ####\n",
      "╒═════════╤════════╤═══════╤═══════╤═══════╤═══════╤═══════╤═══════╤═══════╤═══════╤═══════╕\n",
      "│ TOKENS: │ <ROOT> │ -     │ -     │ ¡     │ Vaya  │ debut │ !     │ -     │ -     │ .     │\n",
      "├─────────┼────────┼───────┼───────┼───────┼───────┼───────┼───────┼───────┼───────┼───────┤\n",
      "│ INDEX:  │ 0      │ 1     │ 2     │ 3     │ 4     │ 5     │ 6     │ 7     │ 8     │ 9     │\n",
      "├─────────┼────────┼───────┼───────┼───────┼───────┼───────┼───────┼───────┼───────┼───────┤\n",
      "│ GOLD:   │ -1     │ 4     │ 4     │ 4     │ 0     │ 4     │ 4     │ 4     │ 4     │ 4     │\n",
      "├─────────┼────────┼───────┼───────┼───────┼───────┼───────┼───────┼───────┼───────┼───────┤\n",
      "│ OUTPUT: │ -1     │ ERR:5 │ ERR:5 │ ERR:5 │ ERR:5 │ ERR:0 │ ERR:5 │ ERR:5 │ ERR:5 │ ERR:5 │\n",
      "╘═════════╧════════╧═══════╧═══════╧═══════╧═══════╧═══════╧═══════╧═══════╧═══════╧═══════╛\n",
      "#### ERROR 124 ####\n",
      "╒═════════╤════════╤════╤═══════╤══════════╤═══════╤═══════╤════╤════╤════════════╤════╤════╤════════╤════╤════════╤═══════╕\n",
      "│ TOKENS: │ <ROOT> │ Un │ preso │ degüella │ a     │ otro  │ en │ la │ enfermería │ de │ la │ cárcel │ de │ Lleida │ .     │\n",
      "├─────────┼────────┼────┼───────┼──────────┼───────┼───────┼────┼────┼────────────┼────┼────┼────────┼────┼────────┼───────┤\n",
      "│ INDEX:  │ 0      │ 1  │ 2     │ 3        │ 4     │ 5     │ 6  │ 7  │ 8          │ 9  │ 10 │ 11     │ 12 │ 13     │ 14    │\n",
      "├─────────┼────────┼────┼───────┼──────────┼───────┼───────┼────┼────┼────────────┼────┼────┼────────┼────┼────────┼───────┤\n",
      "│ GOLD:   │ -1     │ 2  │ 3     │ 0        │ 5     │ 3     │ 8  │ 8  │ 3          │ 11 │ 11 │ 8      │ 13 │ 11     │ 3     │\n",
      "├─────────┼────────┼────┼───────┼──────────┼───────┼───────┼────┼────┼────────────┼────┼────┼────────┼────┼────────┼───────┤\n",
      "│ OUTPUT: │ -1     │ 2  │ ERR:0 │ ERR:4    │ ERR:2 │ ERR:2 │ 8  │ 8  │ ERR:2      │ 11 │ 11 │ 8      │ 13 │ 11     │ ERR:2 │\n",
      "╘═════════╧════════╧════╧═══════╧══════════╧═══════╧═══════╧════╧════╧════════════╧════╧════╧════════╧════╧════════╧═══════╛\n"
     ]
    }
   ],
   "source": [
    "print_erroneous_tree(97, *errors[97])\n",
    "print_erroneous_tree(124, *errors[124])"
   ]
  },
  {
   "cell_type": "markdown",
   "metadata": {
    "id": "F71jOnS83E-4"
   },
   "source": [
    "## 7. Discussion of SotA"
   ]
  },
  {
   "cell_type": "markdown",
   "metadata": {
    "id": "ni6uQ7Py9MyB"
   },
   "source": [
    "Remember that the test UAS for our baseline model was 0.779, and for the BERT-based 0.786."
   ]
  },
  {
   "cell_type": "markdown",
   "metadata": {
    "id": "bEA_hxIm9JY4"
   },
   "source": [
    "#### Paper: Finding Dependency Parsing Limits over a Large Spanish Corpus"
   ]
  },
  {
   "cell_type": "markdown",
   "metadata": {
    "id": "GVo5g7Ru3Nw4"
   },
   "source": [
    "Initially, we were going to center the discussion of state-of-the-art dependency parsers for the Spanish Ancora corpus on the paper [Finding Dependency Parsing Limits over a Large Spanish Corpus](https://aclanthology.org/I13-1123.pdf) by Muntsa Padro, Miguel Ballesteros, Hector Martínez, and Bernd Bohnet. This word examined the performance of various parsers on extensive Spanish treebanks to determine the limitations of state-of-the-art parsers in 2013. Among others, they used the Tibidabo Treebank, which contains a set of sentences extracted from the Ancora corpus.\n",
    "\n",
    "Unfortunately, they are addressing labeled dependency parsing, so the used evaluation metric was Labeled Attachment Score (LAS). This doesn't allow us to make a direct comparison with our results. Anyway, their results were the following.\n",
    "\n",
    "<table>\n",
    "  <tr>\n",
    "    <th>Parser</th>\n",
    "    <th>IULA Test LAS (%)</th>\n",
    "    <th>Tibidabo LAS (%)</th>\n",
    "  </tr>\n",
    "  <tr>\n",
    "    <td>Malt</td>\n",
    "    <td>93.16</td>\n",
    "    <td>89.04</td>\n",
    "  </tr>\n",
    "  <tr>\n",
    "    <td>MST</td>\n",
    "    <td>92.72</td>\n",
    "    <td>89.36</td>\n",
    "  </tr>\n",
    "  <tr>\n",
    "    <td>Mate-T</td>\n",
    "    <td>94.47</td>\n",
    "    <td>91.05</td>\n",
    "  </tr>\n",
    "  <tr>\n",
    "    <td>Mate-C</td>\n",
    "    <td>94.70</td>\n",
    "    <td>91.43</td>\n",
    "  </tr>\n",
    "  <tr>\n",
    "    <td>Mate-G</td>\n",
    "    <td>94.49</td>\n",
    "    <td>91.26</td>\n",
    "  </tr>\n",
    "</table>\n",
    "\n",
    "We should focus on the *Tibidabo LAS* column. As we can see the best result is obtained with the parser *Mate-G* obtaining a LAS of 91.26, followed by *Mate-C* (91.43), and *Mate-T* (91.05).\n",
    "These are results significantly better than ours since the LAS score is usually lower than the UAS.\n",
    "\n",
    "Unlike us, they have not only used transition-based dependency parsers, *Mate-G* is a graph-based parser, *MateT* is a transition-based parser without graph-based re-scoring, and *Mate-C* is a transition-based parser with an enabled graph-based completion model. The diversity of their models, together with the use of a larger dataset for training justify their good performance."
   ]
  },
  {
   "cell_type": "markdown",
   "metadata": {
    "id": "lHiHjXB59nvk"
   },
   "source": [
    "After doing this analysis we realized that the dependency trees they were using to train their models were the Spanish Ancora ones, but not in the Universal Dependencies format.\n",
    "In fact, the paper [Universal Dependencies for the AnCora treebanks](http://journal.sepln.org/sepln/ojs/ojs/index.php/pln/article/view/5341) by Héctor Martínez Alonso and Daniel Zeman explains the conversion process of this treebank to the UD formalism.\n",
    "They conclude that the converted treebanks show an internal consistency comparable to other Spanish UD treebanks, so they have a high quality. An example of this conversion is in the following image."
   ]
  },
  {
   "cell_type": "markdown",
   "metadata": {
    "id": "4NiYSNlP_AsD"
   },
   "source": [
    "![image.png](data:image/png;base64,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)"
   ]
  },
  {
   "cell_type": "markdown",
   "metadata": {
    "id": "XikcgTtx_jhc"
   },
   "source": [
    "This fact led us to look for a leaderboard for the Universal Dependencies project."
   ]
  },
  {
   "cell_type": "markdown",
   "metadata": {
    "id": "pw9H_Bs0EUpp"
   },
   "source": [
    "### Dependency Parsing on Universal Dependencies"
   ]
  },
  {
   "cell_type": "markdown",
   "metadata": {
    "id": "s8u3SrQlALLH"
   },
   "source": [
    "The leaderboard for dependency parsing on the whole Universal Dependencies dataset can be found [here](https://paperswithcode.com/sota/dependency-parsing-on-universal-dependencies?metric=UAS) and is the following."
   ]
  },
  {
   "cell_type": "markdown",
   "metadata": {
    "id": "7CpVeMnJFaQS"
   },
   "source": [
    "![image.png](data:image/png;base64,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)"
   ]
  },
  {
   "cell_type": "markdown",
   "metadata": {
    "id": "9dao6xJLEZFA"
   },
   "source": [
    "Please note that the results presented here are obtained from models trained not only on the Spanish Ancora dataset but also on various other treebanks, including those in languages other than Spanish. Despite this variation, these results provide us with an approximate measure of the current state-of-the-art performance we are aiming to assess.\n",
    "\n",
    "At the time of writting, there are two models performing better in terms of UAS than our models: *UDPipe 2.0 + mBERT + FLAIR* (87.64), and *UDify* (85.69)."
   ]
  },
  {
   "cell_type": "markdown",
   "metadata": {
    "id": "P4LwuFDXBpci"
   },
   "source": [
    "### Conclusion"
   ]
  },
  {
   "cell_type": "markdown",
   "metadata": {
    "id": "FcG9mfVHCAuk"
   },
   "source": [
    "This state-of-the-art analysis suggests that neither of our models performs particularly poorly compared to other projects.\n",
    "\n",
    "In particular, between the two models developed, we would select the BERT-based model as the best, since it is the one that obtains the best results in the dataset test. The inclusion of BERT seems to have been a fundamental factor in capturing the context of words, an essential task for dependency parsing.\n",
    "\n",
    "Likewise, the analysis performed affirms that our models are not the best and therefore still have a lot of room for improvement. Some of these possible improvements to this project could be to train our BERT-based model with more training data, to consider using a different BERT backbone than BETO and to pay more attention to the preprocessing of the learning set."
   ]
  }
 ],
 "metadata": {
  "accelerator": "GPU",
  "colab": {
   "gpuType": "T4",
   "provenance": [],
   "toc_visible": true
  },
  "kernelspec": {
   "display_name": "Python 3",
   "name": "python3"
  },
  "language_info": {
   "name": "python"
  },
  "widgets": {
   "application/vnd.jupyter.widget-state+json": {
    "0d8f1faf48584e5cb21d2c332eae82b6": {
     "model_module": "@jupyter-widgets/controls",
     "model_module_version": "1.5.0",
     "model_name": "HTMLModel",
     "state": {
      "_dom_classes": [],
      "_model_module": "@jupyter-widgets/controls",
      "_model_module_version": "1.5.0",
      "_model_name": "HTMLModel",
      "_view_count": null,
      "_view_module": "@jupyter-widgets/controls",
      "_view_module_version": "1.5.0",
      "_view_name": "HTMLView",
      "description": "",
      "description_tooltip": null,
      "layout": "IPY_MODEL_418de9de2dab412f8c74d2c6b26ba14c",
      "placeholder": "​",
      "style": "IPY_MODEL_41fe42de38ba410c875130a114fc3389",
      "value": "100%"
     }
    },
    "1929f08394224af3b44cf031aa53dd0a": {
     "model_module": "@jupyter-widgets/base",
     "model_module_version": "1.2.0",
     "model_name": "LayoutModel",
     "state": {
      "_model_module": "@jupyter-widgets/base",
      "_model_module_version": "1.2.0",
      "_model_name": "LayoutModel",
      "_view_count": null,
      "_view_module": "@jupyter-widgets/base",
      "_view_module_version": "1.2.0",
      "_view_name": "LayoutView",
      "align_content": null,
      "align_items": null,
      "align_self": null,
      "border": null,
      "bottom": null,
      "display": null,
      "flex": null,
      "flex_flow": null,
      "grid_area": null,
      "grid_auto_columns": null,
      "grid_auto_flow": null,
      "grid_auto_rows": null,
      "grid_column": null,
      "grid_gap": null,
      "grid_row": null,
      "grid_template_areas": null,
      "grid_template_columns": null,
      "grid_template_rows": null,
      "height": null,
      "justify_content": null,
      "justify_items": null,
      "left": null,
      "margin": null,
      "max_height": null,
      "max_width": null,
      "min_height": null,
      "min_width": null,
      "object_fit": null,
      "object_position": null,
      "order": null,
      "overflow": null,
      "overflow_x": null,
      "overflow_y": null,
      "padding": null,
      "right": null,
      "top": null,
      "visibility": null,
      "width": null
     }
    },
    "19d868a78f6c4fa9ba820fa95cebb364": {
     "model_module": "@jupyter-widgets/controls",
     "model_module_version": "1.5.0",
     "model_name": "HTMLModel",
     "state": {
      "_dom_classes": [],
      "_model_module": "@jupyter-widgets/controls",
      "_model_module_version": "1.5.0",
      "_model_name": "HTMLModel",
      "_view_count": null,
      "_view_module": "@jupyter-widgets/controls",
      "_view_module_version": "1.5.0",
      "_view_name": "HTMLView",
      "description": "",
      "description_tooltip": null,
      "layout": "IPY_MODEL_75f3d5742cf5456c9c1717d82873234d",
      "placeholder": "​",
      "style": "IPY_MODEL_63dd55a4f6204c9da5e7acbd67811618",
      "value": " 3/3 [00:00&lt;00:00, 88.37it/s]"
     }
    },
    "1a1affbf2eb440308124ebf50b03db73": {
     "model_module": "@jupyter-widgets/base",
     "model_module_version": "1.2.0",
     "model_name": "LayoutModel",
     "state": {
      "_model_module": "@jupyter-widgets/base",
      "_model_module_version": "1.2.0",
      "_model_name": "LayoutModel",
      "_view_count": null,
      "_view_module": "@jupyter-widgets/base",
      "_view_module_version": "1.2.0",
      "_view_name": "LayoutView",
      "align_content": null,
      "align_items": null,
      "align_self": null,
      "border": null,
      "bottom": null,
      "display": null,
      "flex": null,
      "flex_flow": null,
      "grid_area": null,
      "grid_auto_columns": null,
      "grid_auto_flow": null,
      "grid_auto_rows": null,
      "grid_column": null,
      "grid_gap": null,
      "grid_row": null,
      "grid_template_areas": null,
      "grid_template_columns": null,
      "grid_template_rows": null,
      "height": null,
      "justify_content": null,
      "justify_items": null,
      "left": null,
      "margin": null,
      "max_height": null,
      "max_width": null,
      "min_height": null,
      "min_width": null,
      "object_fit": null,
      "object_position": null,
      "order": null,
      "overflow": null,
      "overflow_x": null,
      "overflow_y": null,
      "padding": null,
      "right": null,
      "top": null,
      "visibility": null,
      "width": null
     }
    },
    "1b4de29de2b9483789c2dbee471f3ee1": {
     "model_module": "@jupyter-widgets/base",
     "model_module_version": "1.2.0",
     "model_name": "LayoutModel",
     "state": {
      "_model_module": "@jupyter-widgets/base",
      "_model_module_version": "1.2.0",
      "_model_name": "LayoutModel",
      "_view_count": null,
      "_view_module": "@jupyter-widgets/base",
      "_view_module_version": "1.2.0",
      "_view_name": "LayoutView",
      "align_content": null,
      "align_items": null,
      "align_self": null,
      "border": null,
      "bottom": null,
      "display": null,
      "flex": null,
      "flex_flow": null,
      "grid_area": null,
      "grid_auto_columns": null,
      "grid_auto_flow": null,
      "grid_auto_rows": null,
      "grid_column": null,
      "grid_gap": null,
      "grid_row": null,
      "grid_template_areas": null,
      "grid_template_columns": null,
      "grid_template_rows": null,
      "height": null,
      "justify_content": null,
      "justify_items": null,
      "left": null,
      "margin": null,
      "max_height": null,
      "max_width": null,
      "min_height": null,
      "min_width": null,
      "object_fit": null,
      "object_position": null,
      "order": null,
      "overflow": null,
      "overflow_x": null,
      "overflow_y": null,
      "padding": null,
      "right": null,
      "top": null,
      "visibility": null,
      "width": null
     }
    },
    "21f252677d33420a820ba03ec49ee6eb": {
     "model_module": "@jupyter-widgets/base",
     "model_module_version": "1.2.0",
     "model_name": "LayoutModel",
     "state": {
      "_model_module": "@jupyter-widgets/base",
      "_model_module_version": "1.2.0",
      "_model_name": "LayoutModel",
      "_view_count": null,
      "_view_module": "@jupyter-widgets/base",
      "_view_module_version": "1.2.0",
      "_view_name": "LayoutView",
      "align_content": null,
      "align_items": null,
      "align_self": null,
      "border": null,
      "bottom": null,
      "display": null,
      "flex": null,
      "flex_flow": null,
      "grid_area": null,
      "grid_auto_columns": null,
      "grid_auto_flow": null,
      "grid_auto_rows": null,
      "grid_column": null,
      "grid_gap": null,
      "grid_row": null,
      "grid_template_areas": null,
      "grid_template_columns": null,
      "grid_template_rows": null,
      "height": null,
      "justify_content": null,
      "justify_items": null,
      "left": null,
      "margin": null,
      "max_height": null,
      "max_width": null,
      "min_height": null,
      "min_width": null,
      "object_fit": null,
      "object_position": null,
      "order": null,
      "overflow": null,
      "overflow_x": null,
      "overflow_y": null,
      "padding": null,
      "right": null,
      "top": null,
      "visibility": null,
      "width": null
     }
    },
    "248b9a92da8741a4ad6af88b8d1db9dc": {
     "model_module": "@jupyter-widgets/base",
     "model_module_version": "1.2.0",
     "model_name": "LayoutModel",
     "state": {
      "_model_module": "@jupyter-widgets/base",
      "_model_module_version": "1.2.0",
      "_model_name": "LayoutModel",
      "_view_count": null,
      "_view_module": "@jupyter-widgets/base",
      "_view_module_version": "1.2.0",
      "_view_name": "LayoutView",
      "align_content": null,
      "align_items": null,
      "align_self": null,
      "border": null,
      "bottom": null,
      "display": null,
      "flex": null,
      "flex_flow": null,
      "grid_area": null,
      "grid_auto_columns": null,
      "grid_auto_flow": null,
      "grid_auto_rows": null,
      "grid_column": null,
      "grid_gap": null,
      "grid_row": null,
      "grid_template_areas": null,
      "grid_template_columns": null,
      "grid_template_rows": null,
      "height": null,
      "justify_content": null,
      "justify_items": null,
      "left": null,
      "margin": null,
      "max_height": null,
      "max_width": null,
      "min_height": null,
      "min_width": null,
      "object_fit": null,
      "object_position": null,
      "order": null,
      "overflow": null,
      "overflow_x": null,
      "overflow_y": null,
      "padding": null,
      "right": null,
      "top": null,
      "visibility": null,
      "width": null
     }
    },
    "250bff2676b74d71b7acd738a50930c1": {
     "model_module": "@jupyter-widgets/controls",
     "model_module_version": "1.5.0",
     "model_name": "HTMLModel",
     "state": {
      "_dom_classes": [],
      "_model_module": "@jupyter-widgets/controls",
      "_model_module_version": "1.5.0",
      "_model_name": "HTMLModel",
      "_view_count": null,
      "_view_module": "@jupyter-widgets/controls",
      "_view_module_version": "1.5.0",
      "_view_name": "HTMLView",
      "description": "",
      "description_tooltip": null,
      "layout": "IPY_MODEL_25878c2705d24efa8d31f45bd250a3d2",
      "placeholder": "​",
      "style": "IPY_MODEL_bd9657a9f21e4b3780356d6540cbabe9",
      "value": " 54/54 [00:26&lt;00:00,  2.60it/s]"
     }
    },
    "25878c2705d24efa8d31f45bd250a3d2": {
     "model_module": "@jupyter-widgets/base",
     "model_module_version": "1.2.0",
     "model_name": "LayoutModel",
     "state": {
      "_model_module": "@jupyter-widgets/base",
      "_model_module_version": "1.2.0",
      "_model_name": "LayoutModel",
      "_view_count": null,
      "_view_module": "@jupyter-widgets/base",
      "_view_module_version": "1.2.0",
      "_view_name": "LayoutView",
      "align_content": null,
      "align_items": null,
      "align_self": null,
      "border": null,
      "bottom": null,
      "display": null,
      "flex": null,
      "flex_flow": null,
      "grid_area": null,
      "grid_auto_columns": null,
      "grid_auto_flow": null,
      "grid_auto_rows": null,
      "grid_column": null,
      "grid_gap": null,
      "grid_row": null,
      "grid_template_areas": null,
      "grid_template_columns": null,
      "grid_template_rows": null,
      "height": null,
      "justify_content": null,
      "justify_items": null,
      "left": null,
      "margin": null,
      "max_height": null,
      "max_width": null,
      "min_height": null,
      "min_width": null,
      "object_fit": null,
      "object_position": null,
      "order": null,
      "overflow": null,
      "overflow_x": null,
      "overflow_y": null,
      "padding": null,
      "right": null,
      "top": null,
      "visibility": null,
      "width": null
     }
    },
    "2b67afecb5f543f9a8b9c655bf9c3796": {
     "model_module": "@jupyter-widgets/controls",
     "model_module_version": "1.5.0",
     "model_name": "DescriptionStyleModel",
     "state": {
      "_model_module": "@jupyter-widgets/controls",
      "_model_module_version": "1.5.0",
      "_model_name": "DescriptionStyleModel",
      "_view_count": null,
      "_view_module": "@jupyter-widgets/base",
      "_view_module_version": "1.2.0",
      "_view_name": "StyleView",
      "description_width": ""
     }
    },
    "2b99e0a2293d4d8499e67a17f6f4db57": {
     "model_module": "@jupyter-widgets/controls",
     "model_module_version": "1.5.0",
     "model_name": "DescriptionStyleModel",
     "state": {
      "_model_module": "@jupyter-widgets/controls",
      "_model_module_version": "1.5.0",
      "_model_name": "DescriptionStyleModel",
      "_view_count": null,
      "_view_module": "@jupyter-widgets/base",
      "_view_module_version": "1.2.0",
      "_view_name": "StyleView",
      "description_width": ""
     }
    },
    "3bb207bfd8884a0da5370663cfd327a9": {
     "model_module": "@jupyter-widgets/base",
     "model_module_version": "1.2.0",
     "model_name": "LayoutModel",
     "state": {
      "_model_module": "@jupyter-widgets/base",
      "_model_module_version": "1.2.0",
      "_model_name": "LayoutModel",
      "_view_count": null,
      "_view_module": "@jupyter-widgets/base",
      "_view_module_version": "1.2.0",
      "_view_name": "LayoutView",
      "align_content": null,
      "align_items": null,
      "align_self": null,
      "border": null,
      "bottom": null,
      "display": null,
      "flex": null,
      "flex_flow": null,
      "grid_area": null,
      "grid_auto_columns": null,
      "grid_auto_flow": null,
      "grid_auto_rows": null,
      "grid_column": null,
      "grid_gap": null,
      "grid_row": null,
      "grid_template_areas": null,
      "grid_template_columns": null,
      "grid_template_rows": null,
      "height": null,
      "justify_content": null,
      "justify_items": null,
      "left": null,
      "margin": null,
      "max_height": null,
      "max_width": null,
      "min_height": null,
      "min_width": null,
      "object_fit": null,
      "object_position": null,
      "order": null,
      "overflow": null,
      "overflow_x": null,
      "overflow_y": null,
      "padding": null,
      "right": null,
      "top": null,
      "visibility": null,
      "width": null
     }
    },
    "3f9ffcf2167844238e81bdafce2a7b17": {
     "model_module": "@jupyter-widgets/base",
     "model_module_version": "1.2.0",
     "model_name": "LayoutModel",
     "state": {
      "_model_module": "@jupyter-widgets/base",
      "_model_module_version": "1.2.0",
      "_model_name": "LayoutModel",
      "_view_count": null,
      "_view_module": "@jupyter-widgets/base",
      "_view_module_version": "1.2.0",
      "_view_name": "LayoutView",
      "align_content": null,
      "align_items": null,
      "align_self": null,
      "border": null,
      "bottom": null,
      "display": null,
      "flex": null,
      "flex_flow": null,
      "grid_area": null,
      "grid_auto_columns": null,
      "grid_auto_flow": null,
      "grid_auto_rows": null,
      "grid_column": null,
      "grid_gap": null,
      "grid_row": null,
      "grid_template_areas": null,
      "grid_template_columns": null,
      "grid_template_rows": null,
      "height": null,
      "justify_content": null,
      "justify_items": null,
      "left": null,
      "margin": null,
      "max_height": null,
      "max_width": null,
      "min_height": null,
      "min_width": null,
      "object_fit": null,
      "object_position": null,
      "order": null,
      "overflow": null,
      "overflow_x": null,
      "overflow_y": null,
      "padding": null,
      "right": null,
      "top": null,
      "visibility": null,
      "width": null
     }
    },
    "418de9de2dab412f8c74d2c6b26ba14c": {
     "model_module": "@jupyter-widgets/base",
     "model_module_version": "1.2.0",
     "model_name": "LayoutModel",
     "state": {
      "_model_module": "@jupyter-widgets/base",
      "_model_module_version": "1.2.0",
      "_model_name": "LayoutModel",
      "_view_count": null,
      "_view_module": "@jupyter-widgets/base",
      "_view_module_version": "1.2.0",
      "_view_name": "LayoutView",
      "align_content": null,
      "align_items": null,
      "align_self": null,
      "border": null,
      "bottom": null,
      "display": null,
      "flex": null,
      "flex_flow": null,
      "grid_area": null,
      "grid_auto_columns": null,
      "grid_auto_flow": null,
      "grid_auto_rows": null,
      "grid_column": null,
      "grid_gap": null,
      "grid_row": null,
      "grid_template_areas": null,
      "grid_template_columns": null,
      "grid_template_rows": null,
      "height": null,
      "justify_content": null,
      "justify_items": null,
      "left": null,
      "margin": null,
      "max_height": null,
      "max_width": null,
      "min_height": null,
      "min_width": null,
      "object_fit": null,
      "object_position": null,
      "order": null,
      "overflow": null,
      "overflow_x": null,
      "overflow_y": null,
      "padding": null,
      "right": null,
      "top": null,
      "visibility": null,
      "width": null
     }
    },
    "41fe42de38ba410c875130a114fc3389": {
     "model_module": "@jupyter-widgets/controls",
     "model_module_version": "1.5.0",
     "model_name": "DescriptionStyleModel",
     "state": {
      "_model_module": "@jupyter-widgets/controls",
      "_model_module_version": "1.5.0",
      "_model_name": "DescriptionStyleModel",
      "_view_count": null,
      "_view_module": "@jupyter-widgets/base",
      "_view_module_version": "1.2.0",
      "_view_name": "StyleView",
      "description_width": ""
     }
    },
    "42f9ab27d9df44919bedbba673523908": {
     "model_module": "@jupyter-widgets/controls",
     "model_module_version": "1.5.0",
     "model_name": "FloatProgressModel",
     "state": {
      "_dom_classes": [],
      "_model_module": "@jupyter-widgets/controls",
      "_model_module_version": "1.5.0",
      "_model_name": "FloatProgressModel",
      "_view_count": null,
      "_view_module": "@jupyter-widgets/controls",
      "_view_module_version": "1.5.0",
      "_view_name": "ProgressView",
      "bar_style": "success",
      "description": "",
      "description_tooltip": null,
      "layout": "IPY_MODEL_64ddbd2e7c6d4064ae9c1befbc96273c",
      "max": 3,
      "min": 0,
      "orientation": "horizontal",
      "style": "IPY_MODEL_dd9cfb00cab04423a9fe5631ac6b1d12",
      "value": 3
     }
    },
    "4337abe3e0f6408b90f2b8c413d515cc": {
     "model_module": "@jupyter-widgets/controls",
     "model_module_version": "1.5.0",
     "model_name": "FloatProgressModel",
     "state": {
      "_dom_classes": [],
      "_model_module": "@jupyter-widgets/controls",
      "_model_module_version": "1.5.0",
      "_model_name": "FloatProgressModel",
      "_view_count": null,
      "_view_module": "@jupyter-widgets/controls",
      "_view_module_version": "1.5.0",
      "_view_name": "ProgressView",
      "bar_style": "success",
      "description": "",
      "description_tooltip": null,
      "layout": "IPY_MODEL_21f252677d33420a820ba03ec49ee6eb",
      "max": 3,
      "min": 0,
      "orientation": "horizontal",
      "style": "IPY_MODEL_7ecc435bc0f04b708c30557d18d401b6",
      "value": 3
     }
    },
    "47f658635ea145db8448aa86691d2c37": {
     "model_module": "@jupyter-widgets/controls",
     "model_module_version": "1.5.0",
     "model_name": "ProgressStyleModel",
     "state": {
      "_model_module": "@jupyter-widgets/controls",
      "_model_module_version": "1.5.0",
      "_model_name": "ProgressStyleModel",
      "_view_count": null,
      "_view_module": "@jupyter-widgets/base",
      "_view_module_version": "1.2.0",
      "_view_name": "StyleView",
      "bar_color": null,
      "description_width": ""
     }
    },
    "4b727d8e51e545df969fd0b8e53c63e4": {
     "model_module": "@jupyter-widgets/controls",
     "model_module_version": "1.5.0",
     "model_name": "HTMLModel",
     "state": {
      "_dom_classes": [],
      "_model_module": "@jupyter-widgets/controls",
      "_model_module_version": "1.5.0",
      "_model_name": "HTMLModel",
      "_view_count": null,
      "_view_module": "@jupyter-widgets/controls",
      "_view_module_version": "1.5.0",
      "_view_name": "HTMLView",
      "description": "",
      "description_tooltip": null,
      "layout": "IPY_MODEL_b38f714322d64d31b0c665dd6a4d9df0",
      "placeholder": "​",
      "style": "IPY_MODEL_9987fa449bce41f9864bed7d225e590d",
      "value": " 54/54 [00:40&lt;00:00,  1.47it/s]"
     }
    },
    "4bed25b532f8418082f1ba2a4ed5e86b": {
     "model_module": "@jupyter-widgets/controls",
     "model_module_version": "1.5.0",
     "model_name": "ProgressStyleModel",
     "state": {
      "_model_module": "@jupyter-widgets/controls",
      "_model_module_version": "1.5.0",
      "_model_name": "ProgressStyleModel",
      "_view_count": null,
      "_view_module": "@jupyter-widgets/base",
      "_view_module_version": "1.2.0",
      "_view_name": "StyleView",
      "bar_color": null,
      "description_width": ""
     }
    },
    "5368b9f830db4a6d9eb21e5964f3e8be": {
     "model_module": "@jupyter-widgets/controls",
     "model_module_version": "1.5.0",
     "model_name": "DescriptionStyleModel",
     "state": {
      "_model_module": "@jupyter-widgets/controls",
      "_model_module_version": "1.5.0",
      "_model_name": "DescriptionStyleModel",
      "_view_count": null,
      "_view_module": "@jupyter-widgets/base",
      "_view_module_version": "1.2.0",
      "_view_name": "StyleView",
      "description_width": ""
     }
    },
    "56b36fb33f654bdd81cfe2e39fbeb003": {
     "model_module": "@jupyter-widgets/base",
     "model_module_version": "1.2.0",
     "model_name": "LayoutModel",
     "state": {
      "_model_module": "@jupyter-widgets/base",
      "_model_module_version": "1.2.0",
      "_model_name": "LayoutModel",
      "_view_count": null,
      "_view_module": "@jupyter-widgets/base",
      "_view_module_version": "1.2.0",
      "_view_name": "LayoutView",
      "align_content": null,
      "align_items": null,
      "align_self": null,
      "border": null,
      "bottom": null,
      "display": null,
      "flex": null,
      "flex_flow": null,
      "grid_area": null,
      "grid_auto_columns": null,
      "grid_auto_flow": null,
      "grid_auto_rows": null,
      "grid_column": null,
      "grid_gap": null,
      "grid_row": null,
      "grid_template_areas": null,
      "grid_template_columns": null,
      "grid_template_rows": null,
      "height": null,
      "justify_content": null,
      "justify_items": null,
      "left": null,
      "margin": null,
      "max_height": null,
      "max_width": null,
      "min_height": null,
      "min_width": null,
      "object_fit": null,
      "object_position": null,
      "order": null,
      "overflow": null,
      "overflow_x": null,
      "overflow_y": null,
      "padding": null,
      "right": null,
      "top": null,
      "visibility": null,
      "width": null
     }
    },
    "58db7542d2fb498b8ab35e006229ec4f": {
     "model_module": "@jupyter-widgets/controls",
     "model_module_version": "1.5.0",
     "model_name": "HBoxModel",
     "state": {
      "_dom_classes": [],
      "_model_module": "@jupyter-widgets/controls",
      "_model_module_version": "1.5.0",
      "_model_name": "HBoxModel",
      "_view_count": null,
      "_view_module": "@jupyter-widgets/controls",
      "_view_module_version": "1.5.0",
      "_view_name": "HBoxView",
      "box_style": "",
      "children": [
       "IPY_MODEL_94d94c333e3349c1ba4cb1e008206005",
       "IPY_MODEL_4337abe3e0f6408b90f2b8c413d515cc",
       "IPY_MODEL_8afd49af089a47bf89fdaab8a265abc5"
      ],
      "layout": "IPY_MODEL_fe23e6a5d19a4c9bb0767dc3c4454d6f"
     }
    },
    "5d533bbce53e4ab6b32a54b33a5f573a": {
     "model_module": "@jupyter-widgets/controls",
     "model_module_version": "1.5.0",
     "model_name": "HTMLModel",
     "state": {
      "_dom_classes": [],
      "_model_module": "@jupyter-widgets/controls",
      "_model_module_version": "1.5.0",
      "_model_name": "HTMLModel",
      "_view_count": null,
      "_view_module": "@jupyter-widgets/controls",
      "_view_module_version": "1.5.0",
      "_view_name": "HTMLView",
      "description": "",
      "description_tooltip": null,
      "layout": "IPY_MODEL_7dd070c8acaf4b8d9d8d599b2a637b75",
      "placeholder": "​",
      "style": "IPY_MODEL_5368b9f830db4a6d9eb21e5964f3e8be",
      "value": " 3/3 [00:00&lt;00:00, 88.12it/s]"
     }
    },
    "62ccbe53befb46109468790505d3e29c": {
     "model_module": "@jupyter-widgets/controls",
     "model_module_version": "1.5.0",
     "model_name": "HBoxModel",
     "state": {
      "_dom_classes": [],
      "_model_module": "@jupyter-widgets/controls",
      "_model_module_version": "1.5.0",
      "_model_name": "HBoxModel",
      "_view_count": null,
      "_view_module": "@jupyter-widgets/controls",
      "_view_module_version": "1.5.0",
      "_view_name": "HBoxView",
      "box_style": "",
      "children": [
       "IPY_MODEL_0d8f1faf48584e5cb21d2c332eae82b6",
       "IPY_MODEL_84ff0384d2ad46a3918faf09156bfb9e",
       "IPY_MODEL_19d868a78f6c4fa9ba820fa95cebb364"
      ],
      "layout": "IPY_MODEL_1a1affbf2eb440308124ebf50b03db73"
     }
    },
    "63106f4ab04541188eb02bb686ecd077": {
     "model_module": "@jupyter-widgets/controls",
     "model_module_version": "1.5.0",
     "model_name": "DescriptionStyleModel",
     "state": {
      "_model_module": "@jupyter-widgets/controls",
      "_model_module_version": "1.5.0",
      "_model_name": "DescriptionStyleModel",
      "_view_count": null,
      "_view_module": "@jupyter-widgets/base",
      "_view_module_version": "1.2.0",
      "_view_name": "StyleView",
      "description_width": ""
     }
    },
    "63dd55a4f6204c9da5e7acbd67811618": {
     "model_module": "@jupyter-widgets/controls",
     "model_module_version": "1.5.0",
     "model_name": "DescriptionStyleModel",
     "state": {
      "_model_module": "@jupyter-widgets/controls",
      "_model_module_version": "1.5.0",
      "_model_name": "DescriptionStyleModel",
      "_view_count": null,
      "_view_module": "@jupyter-widgets/base",
      "_view_module_version": "1.2.0",
      "_view_name": "StyleView",
      "description_width": ""
     }
    },
    "64ddbd2e7c6d4064ae9c1befbc96273c": {
     "model_module": "@jupyter-widgets/base",
     "model_module_version": "1.2.0",
     "model_name": "LayoutModel",
     "state": {
      "_model_module": "@jupyter-widgets/base",
      "_model_module_version": "1.2.0",
      "_model_name": "LayoutModel",
      "_view_count": null,
      "_view_module": "@jupyter-widgets/base",
      "_view_module_version": "1.2.0",
      "_view_name": "LayoutView",
      "align_content": null,
      "align_items": null,
      "align_self": null,
      "border": null,
      "bottom": null,
      "display": null,
      "flex": null,
      "flex_flow": null,
      "grid_area": null,
      "grid_auto_columns": null,
      "grid_auto_flow": null,
      "grid_auto_rows": null,
      "grid_column": null,
      "grid_gap": null,
      "grid_row": null,
      "grid_template_areas": null,
      "grid_template_columns": null,
      "grid_template_rows": null,
      "height": null,
      "justify_content": null,
      "justify_items": null,
      "left": null,
      "margin": null,
      "max_height": null,
      "max_width": null,
      "min_height": null,
      "min_width": null,
      "object_fit": null,
      "object_position": null,
      "order": null,
      "overflow": null,
      "overflow_x": null,
      "overflow_y": null,
      "padding": null,
      "right": null,
      "top": null,
      "visibility": null,
      "width": null
     }
    },
    "6a1316da6d544ba9830244ea11c2f963": {
     "model_module": "@jupyter-widgets/controls",
     "model_module_version": "1.5.0",
     "model_name": "DescriptionStyleModel",
     "state": {
      "_model_module": "@jupyter-widgets/controls",
      "_model_module_version": "1.5.0",
      "_model_name": "DescriptionStyleModel",
      "_view_count": null,
      "_view_module": "@jupyter-widgets/base",
      "_view_module_version": "1.2.0",
      "_view_name": "StyleView",
      "description_width": ""
     }
    },
    "6b23e6af22d94bba805156ad1278d68a": {
     "model_module": "@jupyter-widgets/controls",
     "model_module_version": "1.5.0",
     "model_name": "DescriptionStyleModel",
     "state": {
      "_model_module": "@jupyter-widgets/controls",
      "_model_module_version": "1.5.0",
      "_model_name": "DescriptionStyleModel",
      "_view_count": null,
      "_view_module": "@jupyter-widgets/base",
      "_view_module_version": "1.2.0",
      "_view_name": "StyleView",
      "description_width": ""
     }
    },
    "6c0c4c9fdeb04e99a92b307641f01f6d": {
     "model_module": "@jupyter-widgets/controls",
     "model_module_version": "1.5.0",
     "model_name": "HTMLModel",
     "state": {
      "_dom_classes": [],
      "_model_module": "@jupyter-widgets/controls",
      "_model_module_version": "1.5.0",
      "_model_name": "HTMLModel",
      "_view_count": null,
      "_view_module": "@jupyter-widgets/controls",
      "_view_module_version": "1.5.0",
      "_view_name": "HTMLView",
      "description": "",
      "description_tooltip": null,
      "layout": "IPY_MODEL_b590e80e750742aa941a7656ac4267d8",
      "placeholder": "​",
      "style": "IPY_MODEL_6b23e6af22d94bba805156ad1278d68a",
      "value": " 13/13 [00:02&lt;00:00,  4.23it/s]"
     }
    },
    "6ea83d05d21f4747945fe5d645f05fb2": {
     "model_module": "@jupyter-widgets/base",
     "model_module_version": "1.2.0",
     "model_name": "LayoutModel",
     "state": {
      "_model_module": "@jupyter-widgets/base",
      "_model_module_version": "1.2.0",
      "_model_name": "LayoutModel",
      "_view_count": null,
      "_view_module": "@jupyter-widgets/base",
      "_view_module_version": "1.2.0",
      "_view_name": "LayoutView",
      "align_content": null,
      "align_items": null,
      "align_self": null,
      "border": null,
      "bottom": null,
      "display": null,
      "flex": null,
      "flex_flow": null,
      "grid_area": null,
      "grid_auto_columns": null,
      "grid_auto_flow": null,
      "grid_auto_rows": null,
      "grid_column": null,
      "grid_gap": null,
      "grid_row": null,
      "grid_template_areas": null,
      "grid_template_columns": null,
      "grid_template_rows": null,
      "height": null,
      "justify_content": null,
      "justify_items": null,
      "left": null,
      "margin": null,
      "max_height": null,
      "max_width": null,
      "min_height": null,
      "min_width": null,
      "object_fit": null,
      "object_position": null,
      "order": null,
      "overflow": null,
      "overflow_x": null,
      "overflow_y": null,
      "padding": null,
      "right": null,
      "top": null,
      "visibility": null,
      "width": null
     }
    },
    "73f124725758404fa4d8caf2a6b68e6f": {
     "model_module": "@jupyter-widgets/controls",
     "model_module_version": "1.5.0",
     "model_name": "ProgressStyleModel",
     "state": {
      "_model_module": "@jupyter-widgets/controls",
      "_model_module_version": "1.5.0",
      "_model_name": "ProgressStyleModel",
      "_view_count": null,
      "_view_module": "@jupyter-widgets/base",
      "_view_module_version": "1.2.0",
      "_view_name": "StyleView",
      "bar_color": null,
      "description_width": ""
     }
    },
    "75f3d5742cf5456c9c1717d82873234d": {
     "model_module": "@jupyter-widgets/base",
     "model_module_version": "1.2.0",
     "model_name": "LayoutModel",
     "state": {
      "_model_module": "@jupyter-widgets/base",
      "_model_module_version": "1.2.0",
      "_model_name": "LayoutModel",
      "_view_count": null,
      "_view_module": "@jupyter-widgets/base",
      "_view_module_version": "1.2.0",
      "_view_name": "LayoutView",
      "align_content": null,
      "align_items": null,
      "align_self": null,
      "border": null,
      "bottom": null,
      "display": null,
      "flex": null,
      "flex_flow": null,
      "grid_area": null,
      "grid_auto_columns": null,
      "grid_auto_flow": null,
      "grid_auto_rows": null,
      "grid_column": null,
      "grid_gap": null,
      "grid_row": null,
      "grid_template_areas": null,
      "grid_template_columns": null,
      "grid_template_rows": null,
      "height": null,
      "justify_content": null,
      "justify_items": null,
      "left": null,
      "margin": null,
      "max_height": null,
      "max_width": null,
      "min_height": null,
      "min_width": null,
      "object_fit": null,
      "object_position": null,
      "order": null,
      "overflow": null,
      "overflow_x": null,
      "overflow_y": null,
      "padding": null,
      "right": null,
      "top": null,
      "visibility": null,
      "width": null
     }
    },
    "76d623f732bd486e97f7b7e0fd474dd5": {
     "model_module": "@jupyter-widgets/controls",
     "model_module_version": "1.5.0",
     "model_name": "HBoxModel",
     "state": {
      "_dom_classes": [],
      "_model_module": "@jupyter-widgets/controls",
      "_model_module_version": "1.5.0",
      "_model_name": "HBoxModel",
      "_view_count": null,
      "_view_module": "@jupyter-widgets/controls",
      "_view_module_version": "1.5.0",
      "_view_name": "HBoxView",
      "box_style": "",
      "children": [
       "IPY_MODEL_7c2cacda78964239977b915814a82236",
       "IPY_MODEL_807a6b901809441495617ece52bf597a",
       "IPY_MODEL_250bff2676b74d71b7acd738a50930c1"
      ],
      "layout": "IPY_MODEL_c9d303d004ea405c9e48f8d614bf5939"
     }
    },
    "79b6883e18514c52ad5184867fc9b090": {
     "model_module": "@jupyter-widgets/controls",
     "model_module_version": "1.5.0",
     "model_name": "FloatProgressModel",
     "state": {
      "_dom_classes": [],
      "_model_module": "@jupyter-widgets/controls",
      "_model_module_version": "1.5.0",
      "_model_name": "FloatProgressModel",
      "_view_count": null,
      "_view_module": "@jupyter-widgets/controls",
      "_view_module_version": "1.5.0",
      "_view_name": "ProgressView",
      "bar_style": "success",
      "description": "",
      "description_tooltip": null,
      "layout": "IPY_MODEL_56b36fb33f654bdd81cfe2e39fbeb003",
      "max": 54,
      "min": 0,
      "orientation": "horizontal",
      "style": "IPY_MODEL_986922fccbe94120a84068c40204b1fa",
      "value": 54
     }
    },
    "7a34daca90cc435781f18fbb96181f3e": {
     "model_module": "@jupyter-widgets/controls",
     "model_module_version": "1.5.0",
     "model_name": "FloatProgressModel",
     "state": {
      "_dom_classes": [],
      "_model_module": "@jupyter-widgets/controls",
      "_model_module_version": "1.5.0",
      "_model_name": "FloatProgressModel",
      "_view_count": null,
      "_view_module": "@jupyter-widgets/controls",
      "_view_module_version": "1.5.0",
      "_view_name": "ProgressView",
      "bar_style": "success",
      "description": "",
      "description_tooltip": null,
      "layout": "IPY_MODEL_6ea83d05d21f4747945fe5d645f05fb2",
      "max": 13,
      "min": 0,
      "orientation": "horizontal",
      "style": "IPY_MODEL_4bed25b532f8418082f1ba2a4ed5e86b",
      "value": 13
     }
    },
    "7c2cacda78964239977b915814a82236": {
     "model_module": "@jupyter-widgets/controls",
     "model_module_version": "1.5.0",
     "model_name": "HTMLModel",
     "state": {
      "_dom_classes": [],
      "_model_module": "@jupyter-widgets/controls",
      "_model_module_version": "1.5.0",
      "_model_name": "HTMLModel",
      "_view_count": null,
      "_view_module": "@jupyter-widgets/controls",
      "_view_module_version": "1.5.0",
      "_view_name": "HTMLView",
      "description": "",
      "description_tooltip": null,
      "layout": "IPY_MODEL_e2f4bf1ed74e4ff5bff914dc8c4e118e",
      "placeholder": "​",
      "style": "IPY_MODEL_2b67afecb5f543f9a8b9c655bf9c3796",
      "value": "\tTesting...: 100%"
     }
    },
    "7dd070c8acaf4b8d9d8d599b2a637b75": {
     "model_module": "@jupyter-widgets/base",
     "model_module_version": "1.2.0",
     "model_name": "LayoutModel",
     "state": {
      "_model_module": "@jupyter-widgets/base",
      "_model_module_version": "1.2.0",
      "_model_name": "LayoutModel",
      "_view_count": null,
      "_view_module": "@jupyter-widgets/base",
      "_view_module_version": "1.2.0",
      "_view_name": "LayoutView",
      "align_content": null,
      "align_items": null,
      "align_self": null,
      "border": null,
      "bottom": null,
      "display": null,
      "flex": null,
      "flex_flow": null,
      "grid_area": null,
      "grid_auto_columns": null,
      "grid_auto_flow": null,
      "grid_auto_rows": null,
      "grid_column": null,
      "grid_gap": null,
      "grid_row": null,
      "grid_template_areas": null,
      "grid_template_columns": null,
      "grid_template_rows": null,
      "height": null,
      "justify_content": null,
      "justify_items": null,
      "left": null,
      "margin": null,
      "max_height": null,
      "max_width": null,
      "min_height": null,
      "min_width": null,
      "object_fit": null,
      "object_position": null,
      "order": null,
      "overflow": null,
      "overflow_x": null,
      "overflow_y": null,
      "padding": null,
      "right": null,
      "top": null,
      "visibility": null,
      "width": null
     }
    },
    "7ecc435bc0f04b708c30557d18d401b6": {
     "model_module": "@jupyter-widgets/controls",
     "model_module_version": "1.5.0",
     "model_name": "ProgressStyleModel",
     "state": {
      "_model_module": "@jupyter-widgets/controls",
      "_model_module_version": "1.5.0",
      "_model_name": "ProgressStyleModel",
      "_view_count": null,
      "_view_module": "@jupyter-widgets/base",
      "_view_module_version": "1.2.0",
      "_view_name": "StyleView",
      "bar_color": null,
      "description_width": ""
     }
    },
    "807a6b901809441495617ece52bf597a": {
     "model_module": "@jupyter-widgets/controls",
     "model_module_version": "1.5.0",
     "model_name": "FloatProgressModel",
     "state": {
      "_dom_classes": [],
      "_model_module": "@jupyter-widgets/controls",
      "_model_module_version": "1.5.0",
      "_model_name": "FloatProgressModel",
      "_view_count": null,
      "_view_module": "@jupyter-widgets/controls",
      "_view_module_version": "1.5.0",
      "_view_name": "ProgressView",
      "bar_style": "success",
      "description": "",
      "description_tooltip": null,
      "layout": "IPY_MODEL_3f9ffcf2167844238e81bdafce2a7b17",
      "max": 54,
      "min": 0,
      "orientation": "horizontal",
      "style": "IPY_MODEL_47f658635ea145db8448aa86691d2c37",
      "value": 54
     }
    },
    "84ff0384d2ad46a3918faf09156bfb9e": {
     "model_module": "@jupyter-widgets/controls",
     "model_module_version": "1.5.0",
     "model_name": "FloatProgressModel",
     "state": {
      "_dom_classes": [],
      "_model_module": "@jupyter-widgets/controls",
      "_model_module_version": "1.5.0",
      "_model_name": "FloatProgressModel",
      "_view_count": null,
      "_view_module": "@jupyter-widgets/controls",
      "_view_module_version": "1.5.0",
      "_view_name": "ProgressView",
      "bar_style": "success",
      "description": "",
      "description_tooltip": null,
      "layout": "IPY_MODEL_abd785d8792a4b4cb3925bb2f9e9ffcc",
      "max": 3,
      "min": 0,
      "orientation": "horizontal",
      "style": "IPY_MODEL_73f124725758404fa4d8caf2a6b68e6f",
      "value": 3
     }
    },
    "8afd49af089a47bf89fdaab8a265abc5": {
     "model_module": "@jupyter-widgets/controls",
     "model_module_version": "1.5.0",
     "model_name": "HTMLModel",
     "state": {
      "_dom_classes": [],
      "_model_module": "@jupyter-widgets/controls",
      "_model_module_version": "1.5.0",
      "_model_name": "HTMLModel",
      "_view_count": null,
      "_view_module": "@jupyter-widgets/controls",
      "_view_module_version": "1.5.0",
      "_view_name": "HTMLView",
      "description": "",
      "description_tooltip": null,
      "layout": "IPY_MODEL_248b9a92da8741a4ad6af88b8d1db9dc",
      "placeholder": "​",
      "style": "IPY_MODEL_63106f4ab04541188eb02bb686ecd077",
      "value": " 3/3 [00:00&lt;00:00, 59.69it/s]"
     }
    },
    "8c38f07691e94004b37cd2c2adfc112c": {
     "model_module": "@jupyter-widgets/controls",
     "model_module_version": "1.5.0",
     "model_name": "HTMLModel",
     "state": {
      "_dom_classes": [],
      "_model_module": "@jupyter-widgets/controls",
      "_model_module_version": "1.5.0",
      "_model_name": "HTMLModel",
      "_view_count": null,
      "_view_module": "@jupyter-widgets/controls",
      "_view_module_version": "1.5.0",
      "_view_name": "HTMLView",
      "description": "",
      "description_tooltip": null,
      "layout": "IPY_MODEL_3bb207bfd8884a0da5370663cfd327a9",
      "placeholder": "​",
      "style": "IPY_MODEL_dab9c571f4c84037925b89df5372a7d5",
      "value": "\tTesting...: 100%"
     }
    },
    "8f4b995c083b48bdb41db7bb88cd7785": {
     "model_module": "@jupyter-widgets/controls",
     "model_module_version": "1.5.0",
     "model_name": "HTMLModel",
     "state": {
      "_dom_classes": [],
      "_model_module": "@jupyter-widgets/controls",
      "_model_module_version": "1.5.0",
      "_model_name": "HTMLModel",
      "_view_count": null,
      "_view_module": "@jupyter-widgets/controls",
      "_view_module_version": "1.5.0",
      "_view_name": "HTMLView",
      "description": "",
      "description_tooltip": null,
      "layout": "IPY_MODEL_1b4de29de2b9483789c2dbee471f3ee1",
      "placeholder": "​",
      "style": "IPY_MODEL_2b99e0a2293d4d8499e67a17f6f4db57",
      "value": "\tTesting...: 100%"
     }
    },
    "94d94c333e3349c1ba4cb1e008206005": {
     "model_module": "@jupyter-widgets/controls",
     "model_module_version": "1.5.0",
     "model_name": "HTMLModel",
     "state": {
      "_dom_classes": [],
      "_model_module": "@jupyter-widgets/controls",
      "_model_module_version": "1.5.0",
      "_model_name": "HTMLModel",
      "_view_count": null,
      "_view_module": "@jupyter-widgets/controls",
      "_view_module_version": "1.5.0",
      "_view_name": "HTMLView",
      "description": "",
      "description_tooltip": null,
      "layout": "IPY_MODEL_b8f9727d127f407eae04b63932b6019d",
      "placeholder": "​",
      "style": "IPY_MODEL_b6416911a4234fbc830be3a510b01e1e",
      "value": "100%"
     }
    },
    "986922fccbe94120a84068c40204b1fa": {
     "model_module": "@jupyter-widgets/controls",
     "model_module_version": "1.5.0",
     "model_name": "ProgressStyleModel",
     "state": {
      "_model_module": "@jupyter-widgets/controls",
      "_model_module_version": "1.5.0",
      "_model_name": "ProgressStyleModel",
      "_view_count": null,
      "_view_module": "@jupyter-widgets/base",
      "_view_module_version": "1.2.0",
      "_view_name": "StyleView",
      "bar_color": null,
      "description_width": ""
     }
    },
    "9987fa449bce41f9864bed7d225e590d": {
     "model_module": "@jupyter-widgets/controls",
     "model_module_version": "1.5.0",
     "model_name": "DescriptionStyleModel",
     "state": {
      "_model_module": "@jupyter-widgets/controls",
      "_model_module_version": "1.5.0",
      "_model_name": "DescriptionStyleModel",
      "_view_count": null,
      "_view_module": "@jupyter-widgets/base",
      "_view_module_version": "1.2.0",
      "_view_name": "StyleView",
      "description_width": ""
     }
    },
    "9e7914866e9b44c7a7cc1ecead721592": {
     "model_module": "@jupyter-widgets/base",
     "model_module_version": "1.2.0",
     "model_name": "LayoutModel",
     "state": {
      "_model_module": "@jupyter-widgets/base",
      "_model_module_version": "1.2.0",
      "_model_name": "LayoutModel",
      "_view_count": null,
      "_view_module": "@jupyter-widgets/base",
      "_view_module_version": "1.2.0",
      "_view_name": "LayoutView",
      "align_content": null,
      "align_items": null,
      "align_self": null,
      "border": null,
      "bottom": null,
      "display": null,
      "flex": null,
      "flex_flow": null,
      "grid_area": null,
      "grid_auto_columns": null,
      "grid_auto_flow": null,
      "grid_auto_rows": null,
      "grid_column": null,
      "grid_gap": null,
      "grid_row": null,
      "grid_template_areas": null,
      "grid_template_columns": null,
      "grid_template_rows": null,
      "height": null,
      "justify_content": null,
      "justify_items": null,
      "left": null,
      "margin": null,
      "max_height": null,
      "max_width": null,
      "min_height": null,
      "min_width": null,
      "object_fit": null,
      "object_position": null,
      "order": null,
      "overflow": null,
      "overflow_x": null,
      "overflow_y": null,
      "padding": null,
      "right": null,
      "top": null,
      "visibility": null,
      "width": null
     }
    },
    "abd785d8792a4b4cb3925bb2f9e9ffcc": {
     "model_module": "@jupyter-widgets/base",
     "model_module_version": "1.2.0",
     "model_name": "LayoutModel",
     "state": {
      "_model_module": "@jupyter-widgets/base",
      "_model_module_version": "1.2.0",
      "_model_name": "LayoutModel",
      "_view_count": null,
      "_view_module": "@jupyter-widgets/base",
      "_view_module_version": "1.2.0",
      "_view_name": "LayoutView",
      "align_content": null,
      "align_items": null,
      "align_self": null,
      "border": null,
      "bottom": null,
      "display": null,
      "flex": null,
      "flex_flow": null,
      "grid_area": null,
      "grid_auto_columns": null,
      "grid_auto_flow": null,
      "grid_auto_rows": null,
      "grid_column": null,
      "grid_gap": null,
      "grid_row": null,
      "grid_template_areas": null,
      "grid_template_columns": null,
      "grid_template_rows": null,
      "height": null,
      "justify_content": null,
      "justify_items": null,
      "left": null,
      "margin": null,
      "max_height": null,
      "max_width": null,
      "min_height": null,
      "min_width": null,
      "object_fit": null,
      "object_position": null,
      "order": null,
      "overflow": null,
      "overflow_x": null,
      "overflow_y": null,
      "padding": null,
      "right": null,
      "top": null,
      "visibility": null,
      "width": null
     }
    },
    "b38f714322d64d31b0c665dd6a4d9df0": {
     "model_module": "@jupyter-widgets/base",
     "model_module_version": "1.2.0",
     "model_name": "LayoutModel",
     "state": {
      "_model_module": "@jupyter-widgets/base",
      "_model_module_version": "1.2.0",
      "_model_name": "LayoutModel",
      "_view_count": null,
      "_view_module": "@jupyter-widgets/base",
      "_view_module_version": "1.2.0",
      "_view_name": "LayoutView",
      "align_content": null,
      "align_items": null,
      "align_self": null,
      "border": null,
      "bottom": null,
      "display": null,
      "flex": null,
      "flex_flow": null,
      "grid_area": null,
      "grid_auto_columns": null,
      "grid_auto_flow": null,
      "grid_auto_rows": null,
      "grid_column": null,
      "grid_gap": null,
      "grid_row": null,
      "grid_template_areas": null,
      "grid_template_columns": null,
      "grid_template_rows": null,
      "height": null,
      "justify_content": null,
      "justify_items": null,
      "left": null,
      "margin": null,
      "max_height": null,
      "max_width": null,
      "min_height": null,
      "min_width": null,
      "object_fit": null,
      "object_position": null,
      "order": null,
      "overflow": null,
      "overflow_x": null,
      "overflow_y": null,
      "padding": null,
      "right": null,
      "top": null,
      "visibility": null,
      "width": null
     }
    },
    "b590e80e750742aa941a7656ac4267d8": {
     "model_module": "@jupyter-widgets/base",
     "model_module_version": "1.2.0",
     "model_name": "LayoutModel",
     "state": {
      "_model_module": "@jupyter-widgets/base",
      "_model_module_version": "1.2.0",
      "_model_name": "LayoutModel",
      "_view_count": null,
      "_view_module": "@jupyter-widgets/base",
      "_view_module_version": "1.2.0",
      "_view_name": "LayoutView",
      "align_content": null,
      "align_items": null,
      "align_self": null,
      "border": null,
      "bottom": null,
      "display": null,
      "flex": null,
      "flex_flow": null,
      "grid_area": null,
      "grid_auto_columns": null,
      "grid_auto_flow": null,
      "grid_auto_rows": null,
      "grid_column": null,
      "grid_gap": null,
      "grid_row": null,
      "grid_template_areas": null,
      "grid_template_columns": null,
      "grid_template_rows": null,
      "height": null,
      "justify_content": null,
      "justify_items": null,
      "left": null,
      "margin": null,
      "max_height": null,
      "max_width": null,
      "min_height": null,
      "min_width": null,
      "object_fit": null,
      "object_position": null,
      "order": null,
      "overflow": null,
      "overflow_x": null,
      "overflow_y": null,
      "padding": null,
      "right": null,
      "top": null,
      "visibility": null,
      "width": null
     }
    },
    "b6416911a4234fbc830be3a510b01e1e": {
     "model_module": "@jupyter-widgets/controls",
     "model_module_version": "1.5.0",
     "model_name": "DescriptionStyleModel",
     "state": {
      "_model_module": "@jupyter-widgets/controls",
      "_model_module_version": "1.5.0",
      "_model_name": "DescriptionStyleModel",
      "_view_count": null,
      "_view_module": "@jupyter-widgets/base",
      "_view_module_version": "1.2.0",
      "_view_name": "StyleView",
      "description_width": ""
     }
    },
    "b8f9727d127f407eae04b63932b6019d": {
     "model_module": "@jupyter-widgets/base",
     "model_module_version": "1.2.0",
     "model_name": "LayoutModel",
     "state": {
      "_model_module": "@jupyter-widgets/base",
      "_model_module_version": "1.2.0",
      "_model_name": "LayoutModel",
      "_view_count": null,
      "_view_module": "@jupyter-widgets/base",
      "_view_module_version": "1.2.0",
      "_view_name": "LayoutView",
      "align_content": null,
      "align_items": null,
      "align_self": null,
      "border": null,
      "bottom": null,
      "display": null,
      "flex": null,
      "flex_flow": null,
      "grid_area": null,
      "grid_auto_columns": null,
      "grid_auto_flow": null,
      "grid_auto_rows": null,
      "grid_column": null,
      "grid_gap": null,
      "grid_row": null,
      "grid_template_areas": null,
      "grid_template_columns": null,
      "grid_template_rows": null,
      "height": null,
      "justify_content": null,
      "justify_items": null,
      "left": null,
      "margin": null,
      "max_height": null,
      "max_width": null,
      "min_height": null,
      "min_width": null,
      "object_fit": null,
      "object_position": null,
      "order": null,
      "overflow": null,
      "overflow_x": null,
      "overflow_y": null,
      "padding": null,
      "right": null,
      "top": null,
      "visibility": null,
      "width": null
     }
    },
    "bbf623fea8d1410b80f0c534489cef77": {
     "model_module": "@jupyter-widgets/controls",
     "model_module_version": "1.5.0",
     "model_name": "HTMLModel",
     "state": {
      "_dom_classes": [],
      "_model_module": "@jupyter-widgets/controls",
      "_model_module_version": "1.5.0",
      "_model_name": "HTMLModel",
      "_view_count": null,
      "_view_module": "@jupyter-widgets/controls",
      "_view_module_version": "1.5.0",
      "_view_name": "HTMLView",
      "description": "",
      "description_tooltip": null,
      "layout": "IPY_MODEL_1929f08394224af3b44cf031aa53dd0a",
      "placeholder": "​",
      "style": "IPY_MODEL_6a1316da6d544ba9830244ea11c2f963",
      "value": "100%"
     }
    },
    "bd9657a9f21e4b3780356d6540cbabe9": {
     "model_module": "@jupyter-widgets/controls",
     "model_module_version": "1.5.0",
     "model_name": "DescriptionStyleModel",
     "state": {
      "_model_module": "@jupyter-widgets/controls",
      "_model_module_version": "1.5.0",
      "_model_name": "DescriptionStyleModel",
      "_view_count": null,
      "_view_module": "@jupyter-widgets/base",
      "_view_module_version": "1.2.0",
      "_view_name": "StyleView",
      "description_width": ""
     }
    },
    "c43f6505feba40d48029e482a60b2048": {
     "model_module": "@jupyter-widgets/controls",
     "model_module_version": "1.5.0",
     "model_name": "HBoxModel",
     "state": {
      "_dom_classes": [],
      "_model_module": "@jupyter-widgets/controls",
      "_model_module_version": "1.5.0",
      "_model_name": "HBoxModel",
      "_view_count": null,
      "_view_module": "@jupyter-widgets/controls",
      "_view_module_version": "1.5.0",
      "_view_name": "HBoxView",
      "box_style": "",
      "children": [
       "IPY_MODEL_8c38f07691e94004b37cd2c2adfc112c",
       "IPY_MODEL_7a34daca90cc435781f18fbb96181f3e",
       "IPY_MODEL_6c0c4c9fdeb04e99a92b307641f01f6d"
      ],
      "layout": "IPY_MODEL_cc4d123cb82f4ab9a409c2ea32df0934"
     }
    },
    "c9d303d004ea405c9e48f8d614bf5939": {
     "model_module": "@jupyter-widgets/base",
     "model_module_version": "1.2.0",
     "model_name": "LayoutModel",
     "state": {
      "_model_module": "@jupyter-widgets/base",
      "_model_module_version": "1.2.0",
      "_model_name": "LayoutModel",
      "_view_count": null,
      "_view_module": "@jupyter-widgets/base",
      "_view_module_version": "1.2.0",
      "_view_name": "LayoutView",
      "align_content": null,
      "align_items": null,
      "align_self": null,
      "border": null,
      "bottom": null,
      "display": null,
      "flex": null,
      "flex_flow": null,
      "grid_area": null,
      "grid_auto_columns": null,
      "grid_auto_flow": null,
      "grid_auto_rows": null,
      "grid_column": null,
      "grid_gap": null,
      "grid_row": null,
      "grid_template_areas": null,
      "grid_template_columns": null,
      "grid_template_rows": null,
      "height": null,
      "justify_content": null,
      "justify_items": null,
      "left": null,
      "margin": null,
      "max_height": null,
      "max_width": null,
      "min_height": null,
      "min_width": null,
      "object_fit": null,
      "object_position": null,
      "order": null,
      "overflow": null,
      "overflow_x": null,
      "overflow_y": null,
      "padding": null,
      "right": null,
      "top": null,
      "visibility": null,
      "width": null
     }
    },
    "cc4d123cb82f4ab9a409c2ea32df0934": {
     "model_module": "@jupyter-widgets/base",
     "model_module_version": "1.2.0",
     "model_name": "LayoutModel",
     "state": {
      "_model_module": "@jupyter-widgets/base",
      "_model_module_version": "1.2.0",
      "_model_name": "LayoutModel",
      "_view_count": null,
      "_view_module": "@jupyter-widgets/base",
      "_view_module_version": "1.2.0",
      "_view_name": "LayoutView",
      "align_content": null,
      "align_items": null,
      "align_self": null,
      "border": null,
      "bottom": null,
      "display": null,
      "flex": null,
      "flex_flow": null,
      "grid_area": null,
      "grid_auto_columns": null,
      "grid_auto_flow": null,
      "grid_auto_rows": null,
      "grid_column": null,
      "grid_gap": null,
      "grid_row": null,
      "grid_template_areas": null,
      "grid_template_columns": null,
      "grid_template_rows": null,
      "height": null,
      "justify_content": null,
      "justify_items": null,
      "left": null,
      "margin": null,
      "max_height": null,
      "max_width": null,
      "min_height": null,
      "min_width": null,
      "object_fit": null,
      "object_position": null,
      "order": null,
      "overflow": null,
      "overflow_x": null,
      "overflow_y": null,
      "padding": null,
      "right": null,
      "top": null,
      "visibility": null,
      "width": null
     }
    },
    "dab9c571f4c84037925b89df5372a7d5": {
     "model_module": "@jupyter-widgets/controls",
     "model_module_version": "1.5.0",
     "model_name": "DescriptionStyleModel",
     "state": {
      "_model_module": "@jupyter-widgets/controls",
      "_model_module_version": "1.5.0",
      "_model_name": "DescriptionStyleModel",
      "_view_count": null,
      "_view_module": "@jupyter-widgets/base",
      "_view_module_version": "1.2.0",
      "_view_name": "StyleView",
      "description_width": ""
     }
    },
    "dd9cfb00cab04423a9fe5631ac6b1d12": {
     "model_module": "@jupyter-widgets/controls",
     "model_module_version": "1.5.0",
     "model_name": "ProgressStyleModel",
     "state": {
      "_model_module": "@jupyter-widgets/controls",
      "_model_module_version": "1.5.0",
      "_model_name": "ProgressStyleModel",
      "_view_count": null,
      "_view_module": "@jupyter-widgets/base",
      "_view_module_version": "1.2.0",
      "_view_name": "StyleView",
      "bar_color": null,
      "description_width": ""
     }
    },
    "e2f4bf1ed74e4ff5bff914dc8c4e118e": {
     "model_module": "@jupyter-widgets/base",
     "model_module_version": "1.2.0",
     "model_name": "LayoutModel",
     "state": {
      "_model_module": "@jupyter-widgets/base",
      "_model_module_version": "1.2.0",
      "_model_name": "LayoutModel",
      "_view_count": null,
      "_view_module": "@jupyter-widgets/base",
      "_view_module_version": "1.2.0",
      "_view_name": "LayoutView",
      "align_content": null,
      "align_items": null,
      "align_self": null,
      "border": null,
      "bottom": null,
      "display": null,
      "flex": null,
      "flex_flow": null,
      "grid_area": null,
      "grid_auto_columns": null,
      "grid_auto_flow": null,
      "grid_auto_rows": null,
      "grid_column": null,
      "grid_gap": null,
      "grid_row": null,
      "grid_template_areas": null,
      "grid_template_columns": null,
      "grid_template_rows": null,
      "height": null,
      "justify_content": null,
      "justify_items": null,
      "left": null,
      "margin": null,
      "max_height": null,
      "max_width": null,
      "min_height": null,
      "min_width": null,
      "object_fit": null,
      "object_position": null,
      "order": null,
      "overflow": null,
      "overflow_x": null,
      "overflow_y": null,
      "padding": null,
      "right": null,
      "top": null,
      "visibility": null,
      "width": null
     }
    },
    "e5e51f0ab16a45e0a8b0585b6f997c95": {
     "model_module": "@jupyter-widgets/base",
     "model_module_version": "1.2.0",
     "model_name": "LayoutModel",
     "state": {
      "_model_module": "@jupyter-widgets/base",
      "_model_module_version": "1.2.0",
      "_model_name": "LayoutModel",
      "_view_count": null,
      "_view_module": "@jupyter-widgets/base",
      "_view_module_version": "1.2.0",
      "_view_name": "LayoutView",
      "align_content": null,
      "align_items": null,
      "align_self": null,
      "border": null,
      "bottom": null,
      "display": null,
      "flex": null,
      "flex_flow": null,
      "grid_area": null,
      "grid_auto_columns": null,
      "grid_auto_flow": null,
      "grid_auto_rows": null,
      "grid_column": null,
      "grid_gap": null,
      "grid_row": null,
      "grid_template_areas": null,
      "grid_template_columns": null,
      "grid_template_rows": null,
      "height": null,
      "justify_content": null,
      "justify_items": null,
      "left": null,
      "margin": null,
      "max_height": null,
      "max_width": null,
      "min_height": null,
      "min_width": null,
      "object_fit": null,
      "object_position": null,
      "order": null,
      "overflow": null,
      "overflow_x": null,
      "overflow_y": null,
      "padding": null,
      "right": null,
      "top": null,
      "visibility": null,
      "width": null
     }
    },
    "e847b5e98e8b450ab2869940db9a1033": {
     "model_module": "@jupyter-widgets/controls",
     "model_module_version": "1.5.0",
     "model_name": "HBoxModel",
     "state": {
      "_dom_classes": [],
      "_model_module": "@jupyter-widgets/controls",
      "_model_module_version": "1.5.0",
      "_model_name": "HBoxModel",
      "_view_count": null,
      "_view_module": "@jupyter-widgets/controls",
      "_view_module_version": "1.5.0",
      "_view_name": "HBoxView",
      "box_style": "",
      "children": [
       "IPY_MODEL_bbf623fea8d1410b80f0c534489cef77",
       "IPY_MODEL_42f9ab27d9df44919bedbba673523908",
       "IPY_MODEL_5d533bbce53e4ab6b32a54b33a5f573a"
      ],
      "layout": "IPY_MODEL_e5e51f0ab16a45e0a8b0585b6f997c95"
     }
    },
    "edc04a03e30144e4a2031219abe96f46": {
     "model_module": "@jupyter-widgets/controls",
     "model_module_version": "1.5.0",
     "model_name": "HBoxModel",
     "state": {
      "_dom_classes": [],
      "_model_module": "@jupyter-widgets/controls",
      "_model_module_version": "1.5.0",
      "_model_name": "HBoxModel",
      "_view_count": null,
      "_view_module": "@jupyter-widgets/controls",
      "_view_module_version": "1.5.0",
      "_view_name": "HBoxView",
      "box_style": "",
      "children": [
       "IPY_MODEL_8f4b995c083b48bdb41db7bb88cd7785",
       "IPY_MODEL_79b6883e18514c52ad5184867fc9b090",
       "IPY_MODEL_4b727d8e51e545df969fd0b8e53c63e4"
      ],
      "layout": "IPY_MODEL_9e7914866e9b44c7a7cc1ecead721592"
     }
    },
    "fe23e6a5d19a4c9bb0767dc3c4454d6f": {
     "model_module": "@jupyter-widgets/base",
     "model_module_version": "1.2.0",
     "model_name": "LayoutModel",
     "state": {
      "_model_module": "@jupyter-widgets/base",
      "_model_module_version": "1.2.0",
      "_model_name": "LayoutModel",
      "_view_count": null,
      "_view_module": "@jupyter-widgets/base",
      "_view_module_version": "1.2.0",
      "_view_name": "LayoutView",
      "align_content": null,
      "align_items": null,
      "align_self": null,
      "border": null,
      "bottom": null,
      "display": null,
      "flex": null,
      "flex_flow": null,
      "grid_area": null,
      "grid_auto_columns": null,
      "grid_auto_flow": null,
      "grid_auto_rows": null,
      "grid_column": null,
      "grid_gap": null,
      "grid_row": null,
      "grid_template_areas": null,
      "grid_template_columns": null,
      "grid_template_rows": null,
      "height": null,
      "justify_content": null,
      "justify_items": null,
      "left": null,
      "margin": null,
      "max_height": null,
      "max_width": null,
      "min_height": null,
      "min_width": null,
      "object_fit": null,
      "object_position": null,
      "order": null,
      "overflow": null,
      "overflow_x": null,
      "overflow_y": null,
      "padding": null,
      "right": null,
      "top": null,
      "visibility": null,
      "width": null
     }
    }
   }
  }
 },
 "nbformat": 4,
 "nbformat_minor": 0
}
